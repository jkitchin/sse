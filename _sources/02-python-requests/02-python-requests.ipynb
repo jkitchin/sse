{
 "cells": [
  {
   "cell_type": "markdown",
   "id": "4e829d7c-5e59-410e-97a7-314b9ee0379f",
   "metadata": {},
   "source": [
    "# Python and REST APIs\n",
    "\n",
    "Python can be used instead of `curl` for accessing REST APIs. The most useful library for this is [requests](https://requests.readthedocs.io/en/latest/). When combined with the `json` library in Python, we can easily write small programs, and wrap them into command-line utilities.\n",
    "\n",
    "We simply import the `requests` library, and use it to retrieve data. The OpenAlex API returns json data, and the request library makes it easy to access that in the form of a Python dictionary. Here is a short example.\n",
    "\n"
   ]
  },
  {
   "cell_type": "code",
   "execution_count": 1,
   "id": "0f1719a3-7397-44b7-9015-3666e626921c",
   "metadata": {},
   "outputs": [
    {
     "data": {
      "text/plain": [
       "{'meta': {'count': 4, 'db_response_time_ms': 29, 'page': 1, 'per_page': 25},\n",
       " 'results': [{'id': 'https://openalex.org/I74973139',\n",
       "   'ror': 'https://ror.org/05x2bcf33',\n",
       "   'display_name': 'Carnegie Mellon University',\n",
       "   'relevance_score': 211218.61,\n",
       "   'country_code': 'US',\n",
       "   'type': 'education',\n",
       "   'homepage_url': 'http://www.cmu.edu/index.shtml',\n",
       "   'image_url': 'https://upload.wikimedia.org/wikipedia/commons/1/1d/Www.wikipedia.org_screenshot_2018.png',\n",
       "   'image_thumbnail_url': 'https://upload.wikimedia.org/wikipedia/commons/thumb/1/1d/Www.wikipedia.org_screenshot_2018.png/76px-Www.wikipedia.org_screenshot_2018.png',\n",
       "   'display_name_acronyms': ['CMU'],\n",
       "   'display_name_alternatives': [],\n",
       "   'repositories': [{'id': 'https://openalex.org/S4306400668',\n",
       "     'display_name': 'Research Showcase @ Carnegie Mellon University (Carnegie Mellon University)',\n",
       "     'host_organization': 'https://openalex.org/I74973139',\n",
       "     'host_organization_name': 'Carnegie Mellon University',\n",
       "     'host_organization_lineage': ['https://openalex.org/I74973139']}],\n",
       "   'works_count': 111876,\n",
       "   'cited_by_count': 4533093,\n",
       "   'summary_stats': {'2yr_mean_citedness': 3.471146472392638,\n",
       "    'h_index': 696,\n",
       "    'i10_index': 51070},\n",
       "   'ids': {'openalex': 'https://openalex.org/I74973139',\n",
       "    'ror': 'https://ror.org/05x2bcf33',\n",
       "    'mag': '74973139',\n",
       "    'grid': 'grid.147455.6',\n",
       "    'wikipedia': 'https://en.wikipedia.org/wiki/Web%20server%20directory%20index',\n",
       "    'wikidata': 'https://www.wikidata.org/wiki/Q2712836'},\n",
       "   'geo': {'city': 'Pittsburgh',\n",
       "    'geonames_city_id': '5206379',\n",
       "    'region': 'Pennsylvania',\n",
       "    'country_code': 'US',\n",
       "    'country': 'United States',\n",
       "    'latitude': 40.44332,\n",
       "    'longitude': -79.94358},\n",
       "   'international': {'display_name': {'ar': 'فهرس دليل خادم الويب',\n",
       "     'cs': 'Index',\n",
       "     'de': 'Webserver Verzeichnis Index',\n",
       "     'el': 'Ευρετήριο καταλόγου εξυπηρετητή ιστού',\n",
       "     'en': 'webserver directory index',\n",
       "     'en-ca': 'Web server directory index',\n",
       "     'en-gb': 'Web server directory index',\n",
       "     'es': 'Índice de un servidor web',\n",
       "     'fi': 'Index.html',\n",
       "     'fr': 'index de répertoire de serveur Web',\n",
       "     'it': 'index',\n",
       "     'lv': 'Web servera direktoriju indekss',\n",
       "     'pl': 'Index',\n",
       "     'pt': 'Index.html',\n",
       "     'pt-br': 'Index.html',\n",
       "     'ru': 'Index.htm',\n",
       "     'tr': 'Web sunucusu dizin indeksi',\n",
       "     'uk': 'Індекс директорії веб-сервера',\n",
       "     'zh': '網頁伺服器目錄索引',\n",
       "     'zh-cn': '网页服务器目录索引',\n",
       "     'zh-hans': '网页服务器目录索引',\n",
       "     'zh-hant': '網頁服務器目錄索引'}},\n",
       "   'associated_institutions': [{'id': 'https://openalex.org/I4210130200',\n",
       "     'ror': 'https://ror.org/02f33m021',\n",
       "     'display_name': 'Carnegie Mellon University Africa',\n",
       "     'country_code': 'RW',\n",
       "     'type': 'education',\n",
       "     'relationship': 'child'},\n",
       "    {'id': 'https://openalex.org/I4210091826',\n",
       "     'ror': 'https://ror.org/00ds41r10',\n",
       "     'display_name': 'Carnegie Mellon University Australia',\n",
       "     'country_code': 'AU',\n",
       "     'type': 'education',\n",
       "     'relationship': 'child'},\n",
       "    {'id': 'https://openalex.org/I4210089979',\n",
       "     'ror': 'https://ror.org/00az5dt38',\n",
       "     'display_name': 'Carnegie Mellon University Qatar',\n",
       "     'country_code': 'QA',\n",
       "     'type': 'education',\n",
       "     'relationship': 'child'},\n",
       "    {'id': 'https://openalex.org/I4210086114',\n",
       "     'ror': 'https://ror.org/00jfeg660',\n",
       "     'display_name': 'Center for the Neural Basis of Cognition',\n",
       "     'country_code': 'US',\n",
       "     'type': 'facility',\n",
       "     'relationship': 'child'},\n",
       "    {'id': 'https://openalex.org/I114772536',\n",
       "     'ror': 'https://ror.org/01xqjjn94',\n",
       "     'display_name': 'Software Engineering Institute',\n",
       "     'country_code': 'US',\n",
       "     'type': 'facility',\n",
       "     'relationship': 'child'},\n",
       "    {'id': 'https://openalex.org/I4210129003',\n",
       "     'ror': 'https://ror.org/02w30ae27',\n",
       "     'display_name': 'SYSU-CMU International Joint Research Institute',\n",
       "     'country_code': 'CN',\n",
       "     'type': 'facility',\n",
       "     'relationship': 'related'},\n",
       "    {'id': 'https://openalex.org/I4210128526',\n",
       "     'ror': 'https://ror.org/03bw34a45',\n",
       "     'display_name': 'University of Pittsburgh Cancer Institute',\n",
       "     'country_code': 'US',\n",
       "     'type': 'facility',\n",
       "     'relationship': 'related'}],\n",
       "   'counts_by_year': [{'year': 2023,\n",
       "     'works_count': 1427,\n",
       "     'cited_by_count': 264661},\n",
       "    {'year': 2022, 'works_count': 3694, 'cited_by_count': 604450},\n",
       "    {'year': 2021, 'works_count': 5229, 'cited_by_count': 751052},\n",
       "    {'year': 2020, 'works_count': 5223, 'cited_by_count': 706988},\n",
       "    {'year': 2019, 'works_count': 5147, 'cited_by_count': 623850},\n",
       "    {'year': 2018, 'works_count': 4797, 'cited_by_count': 552831},\n",
       "    {'year': 2017, 'works_count': 4445, 'cited_by_count': 502929},\n",
       "    {'year': 2016, 'works_count': 4241, 'cited_by_count': 498757},\n",
       "    {'year': 2015, 'works_count': 4374, 'cited_by_count': 493346},\n",
       "    {'year': 2014, 'works_count': 4131, 'cited_by_count': 466365},\n",
       "    {'year': 2013, 'works_count': 4093, 'cited_by_count': 444518},\n",
       "    {'year': 2012, 'works_count': 3970, 'cited_by_count': 411854}],\n",
       "   'roles': [{'role': 'institution',\n",
       "     'id': 'https://openalex.org/I74973139',\n",
       "     'works_count': 111876},\n",
       "    {'role': 'funder',\n",
       "     'id': 'https://openalex.org/F4320310207',\n",
       "     'works_count': 806}],\n",
       "   'x_concepts': [{'id': 'https://openalex.org/C41008148',\n",
       "     'wikidata': 'https://www.wikidata.org/wiki/Q21198',\n",
       "     'display_name': 'Computer science',\n",
       "     'level': 0,\n",
       "     'score': 74.2},\n",
       "    {'id': 'https://openalex.org/C33923547',\n",
       "     'wikidata': 'https://www.wikidata.org/wiki/Q395',\n",
       "     'display_name': 'Mathematics',\n",
       "     'level': 0,\n",
       "     'score': 51.5},\n",
       "    {'id': 'https://openalex.org/C121332964',\n",
       "     'wikidata': 'https://www.wikidata.org/wiki/Q413',\n",
       "     'display_name': 'Physics',\n",
       "     'level': 0,\n",
       "     'score': 49.6},\n",
       "    {'id': 'https://openalex.org/C127413603',\n",
       "     'wikidata': 'https://www.wikidata.org/wiki/Q11023',\n",
       "     'display_name': 'Engineering',\n",
       "     'level': 0,\n",
       "     'score': 47.7},\n",
       "    {'id': 'https://openalex.org/C86803240',\n",
       "     'wikidata': 'https://www.wikidata.org/wiki/Q420',\n",
       "     'display_name': 'Biology',\n",
       "     'level': 0,\n",
       "     'score': 38.6},\n",
       "    {'id': 'https://openalex.org/C154945302',\n",
       "     'wikidata': 'https://www.wikidata.org/wiki/Q11660',\n",
       "     'display_name': 'Artificial intelligence',\n",
       "     'level': 1,\n",
       "     'score': 37.7},\n",
       "    {'id': 'https://openalex.org/C62520636',\n",
       "     'wikidata': 'https://www.wikidata.org/wiki/Q944',\n",
       "     'display_name': 'Quantum mechanics',\n",
       "     'level': 1,\n",
       "     'score': 35.6},\n",
       "    {'id': 'https://openalex.org/C199360897',\n",
       "     'wikidata': 'https://www.wikidata.org/wiki/Q9143',\n",
       "     'display_name': 'Programming language',\n",
       "     'level': 1,\n",
       "     'score': 29.0},\n",
       "    {'id': 'https://openalex.org/C138885662',\n",
       "     'wikidata': 'https://www.wikidata.org/wiki/Q5891',\n",
       "     'display_name': 'Philosophy',\n",
       "     'level': 0,\n",
       "     'score': 28.5},\n",
       "    {'id': 'https://openalex.org/C185592680',\n",
       "     'wikidata': 'https://www.wikidata.org/wiki/Q2329',\n",
       "     'display_name': 'Chemistry',\n",
       "     'level': 0,\n",
       "     'score': 28.3},\n",
       "    {'id': 'https://openalex.org/C162324750',\n",
       "     'wikidata': 'https://www.wikidata.org/wiki/Q8134',\n",
       "     'display_name': 'Economics',\n",
       "     'level': 0,\n",
       "     'score': 28.1},\n",
       "    {'id': 'https://openalex.org/C111919701',\n",
       "     'wikidata': 'https://www.wikidata.org/wiki/Q9135',\n",
       "     'display_name': 'Operating system',\n",
       "     'level': 1,\n",
       "     'score': 27.2},\n",
       "    {'id': 'https://openalex.org/C15744967',\n",
       "     'wikidata': 'https://www.wikidata.org/wiki/Q9418',\n",
       "     'display_name': 'Psychology',\n",
       "     'level': 0,\n",
       "     'score': 24.0},\n",
       "    {'id': 'https://openalex.org/C192562407',\n",
       "     'wikidata': 'https://www.wikidata.org/wiki/Q228736',\n",
       "     'display_name': 'Materials science',\n",
       "     'level': 0,\n",
       "     'score': 22.2},\n",
       "    {'id': 'https://openalex.org/C105795698',\n",
       "     'wikidata': 'https://www.wikidata.org/wiki/Q12483',\n",
       "     'display_name': 'Statistics',\n",
       "     'level': 1,\n",
       "     'score': 21.5},\n",
       "    {'id': 'https://openalex.org/C71924100',\n",
       "     'wikidata': 'https://www.wikidata.org/wiki/Q11190',\n",
       "     'display_name': 'Medicine',\n",
       "     'level': 0,\n",
       "     'score': 20.1}],\n",
       "   'works_api_url': 'https://api.openalex.org/works?filter=institutions.id:I74973139',\n",
       "   'updated_date': '2023-06-13T19:38:16.505131',\n",
       "   'created_date': '2016-06-24'},\n",
       "  {'id': 'https://openalex.org/I4210089979',\n",
       "   'ror': 'https://ror.org/00az5dt38',\n",
       "   'display_name': 'Carnegie Mellon University Qatar',\n",
       "   'relevance_score': 8050.5625,\n",
       "   'country_code': 'QA',\n",
       "   'type': 'education',\n",
       "   'homepage_url': 'http://www.qatar.cmu.edu/',\n",
       "   'image_url': 'https://upload.wikimedia.org/wikipedia/en/b/bc/Carnegiemellonqatar_building_entrance.jpg',\n",
       "   'image_thumbnail_url': 'https://upload.wikimedia.org/wikipedia/en/thumb/b/bc/Carnegiemellonqatar_building_entrance.jpg/100px-Carnegiemellonqatar_building_entrance.jpg',\n",
       "   'display_name_acronyms': ['CMU-Q'],\n",
       "   'display_name_alternatives': [],\n",
       "   'repositories': [],\n",
       "   'works_count': 612,\n",
       "   'cited_by_count': 8180,\n",
       "   'summary_stats': {'2yr_mean_citedness': 2.4871794871794872,\n",
       "    'h_index': 45,\n",
       "    'i10_index': 167},\n",
       "   'ids': {'openalex': 'https://openalex.org/I4210089979',\n",
       "    'ror': 'https://ror.org/00az5dt38',\n",
       "    'grid': 'grid.452171.4',\n",
       "    'wikipedia': 'https://en.wikipedia.org/wiki/Carnegie%20Mellon%20University%20in%20Qatar'},\n",
       "   'geo': {'city': 'Doha',\n",
       "    'geonames_city_id': '290030',\n",
       "    'region': None,\n",
       "    'country_code': 'QA',\n",
       "    'country': 'Qatar',\n",
       "    'latitude': 25.31639,\n",
       "    'longitude': 51.43889},\n",
       "   'international': {'display_name': {'en': 'Carnegie Mellon University Qatar'}},\n",
       "   'associated_institutions': [{'id': 'https://openalex.org/I74973139',\n",
       "     'ror': 'https://ror.org/05x2bcf33',\n",
       "     'display_name': 'Carnegie Mellon University',\n",
       "     'country_code': 'US',\n",
       "     'type': 'education',\n",
       "     'relationship': 'parent'}],\n",
       "   'counts_by_year': [{'year': 2023, 'works_count': 11, 'cited_by_count': 667},\n",
       "    {'year': 2022, 'works_count': 20, 'cited_by_count': 1600},\n",
       "    {'year': 2021, 'works_count': 44, 'cited_by_count': 1939},\n",
       "    {'year': 2020, 'works_count': 34, 'cited_by_count': 1668},\n",
       "    {'year': 2019, 'works_count': 35, 'cited_by_count': 1563},\n",
       "    {'year': 2018, 'works_count': 63, 'cited_by_count': 951},\n",
       "    {'year': 2017, 'works_count': 26, 'cited_by_count': 874},\n",
       "    {'year': 2016, 'works_count': 45, 'cited_by_count': 812},\n",
       "    {'year': 2015, 'works_count': 34, 'cited_by_count': 836},\n",
       "    {'year': 2014, 'works_count': 50, 'cited_by_count': 563},\n",
       "    {'year': 2013, 'works_count': 57, 'cited_by_count': 441},\n",
       "    {'year': 2012, 'works_count': 38, 'cited_by_count': 315}],\n",
       "   'roles': [{'role': 'institution',\n",
       "     'id': 'https://openalex.org/I4210089979',\n",
       "     'works_count': 612}],\n",
       "   'x_concepts': [{'id': 'https://openalex.org/C41008148',\n",
       "     'wikidata': 'https://www.wikidata.org/wiki/Q21198',\n",
       "     'display_name': 'Computer science',\n",
       "     'level': 0,\n",
       "     'score': 80.2},\n",
       "    {'id': 'https://openalex.org/C33923547',\n",
       "     'wikidata': 'https://www.wikidata.org/wiki/Q395',\n",
       "     'display_name': 'Mathematics',\n",
       "     'level': 0,\n",
       "     'score': 49.3},\n",
       "    {'id': 'https://openalex.org/C127413603',\n",
       "     'wikidata': 'https://www.wikidata.org/wiki/Q11023',\n",
       "     'display_name': 'Engineering',\n",
       "     'level': 0,\n",
       "     'score': 48.4},\n",
       "    {'id': 'https://openalex.org/C138885662',\n",
       "     'wikidata': 'https://www.wikidata.org/wiki/Q5891',\n",
       "     'display_name': 'Philosophy',\n",
       "     'level': 0,\n",
       "     'score': 40.5},\n",
       "    {'id': 'https://openalex.org/C86803240',\n",
       "     'wikidata': 'https://www.wikidata.org/wiki/Q420',\n",
       "     'display_name': 'Biology',\n",
       "     'level': 0,\n",
       "     'score': 39.2},\n",
       "    {'id': 'https://openalex.org/C154945302',\n",
       "     'wikidata': 'https://www.wikidata.org/wiki/Q11660',\n",
       "     'display_name': 'Artificial intelligence',\n",
       "     'level': 1,\n",
       "     'score': 38.6},\n",
       "    {'id': 'https://openalex.org/C17744445',\n",
       "     'wikidata': 'https://www.wikidata.org/wiki/Q36442',\n",
       "     'display_name': 'Political science',\n",
       "     'level': 0,\n",
       "     'score': 35.9},\n",
       "    {'id': 'https://openalex.org/C121332964',\n",
       "     'wikidata': 'https://www.wikidata.org/wiki/Q413',\n",
       "     'display_name': 'Physics',\n",
       "     'level': 0,\n",
       "     'score': 35.6},\n",
       "    {'id': 'https://openalex.org/C199539241',\n",
       "     'wikidata': 'https://www.wikidata.org/wiki/Q7748',\n",
       "     'display_name': 'Law',\n",
       "     'level': 1,\n",
       "     'score': 34.6},\n",
       "    {'id': 'https://openalex.org/C111919701',\n",
       "     'wikidata': 'https://www.wikidata.org/wiki/Q9135',\n",
       "     'display_name': 'Operating system',\n",
       "     'level': 1,\n",
       "     'score': 34.2},\n",
       "    {'id': 'https://openalex.org/C41895202',\n",
       "     'wikidata': 'https://www.wikidata.org/wiki/Q8162',\n",
       "     'display_name': 'Linguistics',\n",
       "     'level': 1,\n",
       "     'score': 30.1},\n",
       "    {'id': 'https://openalex.org/C199360897',\n",
       "     'wikidata': 'https://www.wikidata.org/wiki/Q9143',\n",
       "     'display_name': 'Programming language',\n",
       "     'level': 1,\n",
       "     'score': 29.6},\n",
       "    {'id': 'https://openalex.org/C15744967',\n",
       "     'wikidata': 'https://www.wikidata.org/wiki/Q9418',\n",
       "     'display_name': 'Psychology',\n",
       "     'level': 0,\n",
       "     'score': 29.4},\n",
       "    {'id': 'https://openalex.org/C162324750',\n",
       "     'wikidata': 'https://www.wikidata.org/wiki/Q8134',\n",
       "     'display_name': 'Economics',\n",
       "     'level': 0,\n",
       "     'score': 29.2},\n",
       "    {'id': 'https://openalex.org/C62520636',\n",
       "     'wikidata': 'https://www.wikidata.org/wiki/Q944',\n",
       "     'display_name': 'Quantum mechanics',\n",
       "     'level': 1,\n",
       "     'score': 24.2},\n",
       "    {'id': 'https://openalex.org/C205649164',\n",
       "     'wikidata': 'https://www.wikidata.org/wiki/Q1071',\n",
       "     'display_name': 'Geography',\n",
       "     'level': 0,\n",
       "     'score': 23.7},\n",
       "    {'id': 'https://openalex.org/C71924100',\n",
       "     'wikidata': 'https://www.wikidata.org/wiki/Q11190',\n",
       "     'display_name': 'Medicine',\n",
       "     'level': 0,\n",
       "     'score': 23.0},\n",
       "    {'id': 'https://openalex.org/C144024400',\n",
       "     'wikidata': 'https://www.wikidata.org/wiki/Q21201',\n",
       "     'display_name': 'Sociology',\n",
       "     'level': 0,\n",
       "     'score': 22.5}],\n",
       "   'works_api_url': 'https://api.openalex.org/works?filter=institutions.id:I4210089979',\n",
       "   'updated_date': '2023-06-13T22:17:43.012571',\n",
       "   'created_date': '2022-02-02'},\n",
       "  {'id': 'https://openalex.org/I4210091826',\n",
       "   'ror': 'https://ror.org/00ds41r10',\n",
       "   'display_name': 'Carnegie Mellon University Australia',\n",
       "   'relevance_score': 3639.7178,\n",
       "   'country_code': 'AU',\n",
       "   'type': 'education',\n",
       "   'homepage_url': 'https://www.australia.cmu.edu/',\n",
       "   'image_url': 'https://upload.wikimedia.org/wikipedia/commons/4/41/Torrens_Building%2C_Wakefield_St%2C_Adelaide.JPG',\n",
       "   'image_thumbnail_url': 'https://upload.wikimedia.org/wikipedia/commons/thumb/4/41/Torrens_Building%2C_Wakefield_St%2C_Adelaide.JPG/100px-Torrens_Building%2C_Wakefield_St%2C_Adelaide.JPG',\n",
       "   'display_name_acronyms': ['CMU'],\n",
       "   'display_name_alternatives': [],\n",
       "   'repositories': [],\n",
       "   'works_count': 81,\n",
       "   'cited_by_count': 1672,\n",
       "   'summary_stats': {'2yr_mean_citedness': 0.8,\n",
       "    'h_index': 11,\n",
       "    'i10_index': 12},\n",
       "   'ids': {'openalex': 'https://openalex.org/I4210091826',\n",
       "    'ror': 'https://ror.org/00ds41r10',\n",
       "    'grid': 'grid.448660.8',\n",
       "    'wikipedia': 'https://en.wikipedia.org/wiki/Carnegie%20Mellon%20University%2C%20Australia'},\n",
       "   'geo': {'city': 'Adelaide',\n",
       "    'geonames_city_id': '2078025',\n",
       "    'region': 'South Australia',\n",
       "    'country_code': 'AU',\n",
       "    'country': 'Australia',\n",
       "    'latitude': 40.44285,\n",
       "    'longitude': -79.94308},\n",
       "   'international': {'display_name': {'en': 'Carnegie Mellon University Australia'}},\n",
       "   'associated_institutions': [{'id': 'https://openalex.org/I74973139',\n",
       "     'ror': 'https://ror.org/05x2bcf33',\n",
       "     'display_name': 'Carnegie Mellon University',\n",
       "     'country_code': 'US',\n",
       "     'type': 'education',\n",
       "     'relationship': 'parent'}],\n",
       "   'counts_by_year': [{'year': 2023, 'works_count': 0, 'cited_by_count': 43},\n",
       "    {'year': 2022, 'works_count': 1, 'cited_by_count': 75},\n",
       "    {'year': 2021, 'works_count': 5, 'cited_by_count': 79},\n",
       "    {'year': 2020, 'works_count': 5, 'cited_by_count': 58},\n",
       "    {'year': 2019, 'works_count': 14, 'cited_by_count': 31},\n",
       "    {'year': 2018, 'works_count': 1, 'cited_by_count': 47},\n",
       "    {'year': 2017, 'works_count': 2, 'cited_by_count': 28},\n",
       "    {'year': 2016, 'works_count': 20, 'cited_by_count': 34},\n",
       "    {'year': 2015, 'works_count': 1, 'cited_by_count': 24},\n",
       "    {'year': 2014, 'works_count': 2, 'cited_by_count': 37},\n",
       "    {'year': 2013, 'works_count': 0, 'cited_by_count': 45},\n",
       "    {'year': 2012, 'works_count': 9, 'cited_by_count': 52}],\n",
       "   'roles': [{'role': 'institution',\n",
       "     'id': 'https://openalex.org/I4210091826',\n",
       "     'works_count': 81}],\n",
       "   'x_concepts': [{'id': 'https://openalex.org/C41008148',\n",
       "     'wikidata': 'https://www.wikidata.org/wiki/Q21198',\n",
       "     'display_name': 'Computer science',\n",
       "     'level': 0,\n",
       "     'score': 85.2},\n",
       "    {'id': 'https://openalex.org/C111919701',\n",
       "     'wikidata': 'https://www.wikidata.org/wiki/Q9135',\n",
       "     'display_name': 'Operating system',\n",
       "     'level': 1,\n",
       "     'score': 44.4},\n",
       "    {'id': 'https://openalex.org/C17744445',\n",
       "     'wikidata': 'https://www.wikidata.org/wiki/Q36442',\n",
       "     'display_name': 'Political science',\n",
       "     'level': 0,\n",
       "     'score': 40.7},\n",
       "    {'id': 'https://openalex.org/C199539241',\n",
       "     'wikidata': 'https://www.wikidata.org/wiki/Q7748',\n",
       "     'display_name': 'Law',\n",
       "     'level': 1,\n",
       "     'score': 40.7},\n",
       "    {'id': 'https://openalex.org/C33923547',\n",
       "     'wikidata': 'https://www.wikidata.org/wiki/Q395',\n",
       "     'display_name': 'Mathematics',\n",
       "     'level': 0,\n",
       "     'score': 38.3},\n",
       "    {'id': 'https://openalex.org/C127413603',\n",
       "     'wikidata': 'https://www.wikidata.org/wiki/Q11023',\n",
       "     'display_name': 'Engineering',\n",
       "     'level': 0,\n",
       "     'score': 38.3},\n",
       "    {'id': 'https://openalex.org/C144133560',\n",
       "     'wikidata': 'https://www.wikidata.org/wiki/Q4830453',\n",
       "     'display_name': 'Business',\n",
       "     'level': 0,\n",
       "     'score': 37.0},\n",
       "    {'id': 'https://openalex.org/C162324750',\n",
       "     'wikidata': 'https://www.wikidata.org/wiki/Q8134',\n",
       "     'display_name': 'Economics',\n",
       "     'level': 0,\n",
       "     'score': 33.3},\n",
       "    {'id': 'https://openalex.org/C138885662',\n",
       "     'wikidata': 'https://www.wikidata.org/wiki/Q5891',\n",
       "     'display_name': 'Philosophy',\n",
       "     'level': 0,\n",
       "     'score': 32.1},\n",
       "    {'id': 'https://openalex.org/C199360897',\n",
       "     'wikidata': 'https://www.wikidata.org/wiki/Q9143',\n",
       "     'display_name': 'Programming language',\n",
       "     'level': 1,\n",
       "     'score': 29.6},\n",
       "    {'id': 'https://openalex.org/C205649164',\n",
       "     'wikidata': 'https://www.wikidata.org/wiki/Q1071',\n",
       "     'display_name': 'Geography',\n",
       "     'level': 0,\n",
       "     'score': 24.7},\n",
       "    {'id': 'https://openalex.org/C95457728',\n",
       "     'wikidata': 'https://www.wikidata.org/wiki/Q309',\n",
       "     'display_name': 'History',\n",
       "     'level': 0,\n",
       "     'score': 24.7},\n",
       "    {'id': 'https://openalex.org/C142362112',\n",
       "     'wikidata': 'https://www.wikidata.org/wiki/Q735',\n",
       "     'display_name': 'Art',\n",
       "     'level': 0,\n",
       "     'score': 23.5},\n",
       "    {'id': 'https://openalex.org/C136764020',\n",
       "     'wikidata': 'https://www.wikidata.org/wiki/Q466',\n",
       "     'display_name': 'World Wide Web',\n",
       "     'level': 1,\n",
       "     'score': 23.5},\n",
       "    {'id': 'https://openalex.org/C166957645',\n",
       "     'wikidata': 'https://www.wikidata.org/wiki/Q23498',\n",
       "     'display_name': 'Archaeology',\n",
       "     'level': 1,\n",
       "     'score': 22.2},\n",
       "    {'id': 'https://openalex.org/C71924100',\n",
       "     'wikidata': 'https://www.wikidata.org/wiki/Q11190',\n",
       "     'display_name': 'Medicine',\n",
       "     'level': 0,\n",
       "     'score': 22.2},\n",
       "    {'id': 'https://openalex.org/C86803240',\n",
       "     'wikidata': 'https://www.wikidata.org/wiki/Q420',\n",
       "     'display_name': 'Biology',\n",
       "     'level': 0,\n",
       "     'score': 22.2}],\n",
       "   'works_api_url': 'https://api.openalex.org/works?filter=institutions.id:I4210091826',\n",
       "   'updated_date': '2023-06-11T22:51:20.415281',\n",
       "   'created_date': '2022-02-02'},\n",
       "  {'id': 'https://openalex.org/I4210130200',\n",
       "   'ror': 'https://ror.org/02f33m021',\n",
       "   'display_name': 'Carnegie Mellon University Africa',\n",
       "   'relevance_score': 2271.1199,\n",
       "   'country_code': 'RW',\n",
       "   'type': 'education',\n",
       "   'homepage_url': 'https://www.africa.engineering.cmu.edu/',\n",
       "   'image_url': 'https://upload.wikimedia.org/wikipedia/en/b/bb/Carnegie_Mellon_University_seal.svg',\n",
       "   'image_thumbnail_url': 'https://upload.wikimedia.org/wikipedia/en/thumb/b/bb/Carnegie_Mellon_University_seal.svg/100px-Carnegie_Mellon_University_seal.svg.png',\n",
       "   'display_name_acronyms': ['CMU'],\n",
       "   'display_name_alternatives': [],\n",
       "   'repositories': [],\n",
       "   'works_count': 125,\n",
       "   'cited_by_count': 651,\n",
       "   'summary_stats': {'2yr_mean_citedness': 2.675,\n",
       "    'h_index': 13,\n",
       "    'i10_index': 13},\n",
       "   'ids': {'openalex': 'https://openalex.org/I4210130200',\n",
       "    'ror': 'https://ror.org/02f33m021',\n",
       "    'grid': 'grid.508475.b',\n",
       "    'wikipedia': 'https://en.wikipedia.org/wiki/Carnegie%20Mellon%20University'},\n",
       "   'geo': {'city': 'Kigali',\n",
       "    'geonames_city_id': '202061',\n",
       "    'region': None,\n",
       "    'country_code': 'RW',\n",
       "    'country': 'Rwanda',\n",
       "    'latitude': -1.935111,\n",
       "    'longitude': 30.158602},\n",
       "   'international': {'display_name': {'en': 'Carnegie Mellon University Africa'}},\n",
       "   'associated_institutions': [{'id': 'https://openalex.org/I74973139',\n",
       "     'ror': 'https://ror.org/05x2bcf33',\n",
       "     'display_name': 'Carnegie Mellon University',\n",
       "     'country_code': 'US',\n",
       "     'type': 'education',\n",
       "     'relationship': 'parent'}],\n",
       "   'counts_by_year': [{'year': 2023, 'works_count': 14, 'cited_by_count': 159},\n",
       "    {'year': 2022, 'works_count': 22, 'cited_by_count': 239},\n",
       "    {'year': 2021, 'works_count': 27, 'cited_by_count': 215},\n",
       "    {'year': 2020, 'works_count': 15, 'cited_by_count': 102},\n",
       "    {'year': 2019, 'works_count': 9, 'cited_by_count': 55},\n",
       "    {'year': 2018, 'works_count': 15, 'cited_by_count': 40},\n",
       "    {'year': 2017, 'works_count': 7, 'cited_by_count': 23},\n",
       "    {'year': 2016, 'works_count': 3, 'cited_by_count': 11},\n",
       "    {'year': 2015, 'works_count': 2, 'cited_by_count': 4},\n",
       "    {'year': 2014, 'works_count': 4, 'cited_by_count': 7},\n",
       "    {'year': 2013, 'works_count': 5, 'cited_by_count': 1},\n",
       "    {'year': 2012, 'works_count': 2, 'cited_by_count': 1}],\n",
       "   'roles': [{'role': 'institution',\n",
       "     'id': 'https://openalex.org/I4210130200',\n",
       "     'works_count': 125}],\n",
       "   'x_concepts': [{'id': 'https://openalex.org/C41008148',\n",
       "     'wikidata': 'https://www.wikidata.org/wiki/Q21198',\n",
       "     'display_name': 'Computer science',\n",
       "     'level': 0,\n",
       "     'score': 85.6},\n",
       "    {'id': 'https://openalex.org/C86803240',\n",
       "     'wikidata': 'https://www.wikidata.org/wiki/Q420',\n",
       "     'display_name': 'Biology',\n",
       "     'level': 0,\n",
       "     'score': 55.2},\n",
       "    {'id': 'https://openalex.org/C127413603',\n",
       "     'wikidata': 'https://www.wikidata.org/wiki/Q11023',\n",
       "     'display_name': 'Engineering',\n",
       "     'level': 0,\n",
       "     'score': 52.0},\n",
       "    {'id': 'https://openalex.org/C162324750',\n",
       "     'wikidata': 'https://www.wikidata.org/wiki/Q8134',\n",
       "     'display_name': 'Economics',\n",
       "     'level': 0,\n",
       "     'score': 45.6},\n",
       "    {'id': 'https://openalex.org/C33923547',\n",
       "     'wikidata': 'https://www.wikidata.org/wiki/Q395',\n",
       "     'display_name': 'Mathematics',\n",
       "     'level': 0,\n",
       "     'score': 44.0},\n",
       "    {'id': 'https://openalex.org/C17744445',\n",
       "     'wikidata': 'https://www.wikidata.org/wiki/Q36442',\n",
       "     'display_name': 'Political science',\n",
       "     'level': 0,\n",
       "     'score': 44.0},\n",
       "    {'id': 'https://openalex.org/C199539241',\n",
       "     'wikidata': 'https://www.wikidata.org/wiki/Q7748',\n",
       "     'display_name': 'Law',\n",
       "     'level': 1,\n",
       "     'score': 38.4},\n",
       "    {'id': 'https://openalex.org/C71924100',\n",
       "     'wikidata': 'https://www.wikidata.org/wiki/Q11190',\n",
       "     'display_name': 'Medicine',\n",
       "     'level': 0,\n",
       "     'score': 36.0},\n",
       "    {'id': 'https://openalex.org/C111919701',\n",
       "     'wikidata': 'https://www.wikidata.org/wiki/Q9135',\n",
       "     'display_name': 'Operating system',\n",
       "     'level': 1,\n",
       "     'score': 36.0},\n",
       "    {'id': 'https://openalex.org/C144133560',\n",
       "     'wikidata': 'https://www.wikidata.org/wiki/Q4830453',\n",
       "     'display_name': 'Business',\n",
       "     'level': 0,\n",
       "     'score': 36.0},\n",
       "    {'id': 'https://openalex.org/C205649164',\n",
       "     'wikidata': 'https://www.wikidata.org/wiki/Q1071',\n",
       "     'display_name': 'Geography',\n",
       "     'level': 0,\n",
       "     'score': 36.0},\n",
       "    {'id': 'https://openalex.org/C121332964',\n",
       "     'wikidata': 'https://www.wikidata.org/wiki/Q413',\n",
       "     'display_name': 'Physics',\n",
       "     'level': 0,\n",
       "     'score': 34.4},\n",
       "    {'id': 'https://openalex.org/C154945302',\n",
       "     'wikidata': 'https://www.wikidata.org/wiki/Q11660',\n",
       "     'display_name': 'Artificial intelligence',\n",
       "     'level': 1,\n",
       "     'score': 31.2},\n",
       "    {'id': 'https://openalex.org/C138885662',\n",
       "     'wikidata': 'https://www.wikidata.org/wiki/Q5891',\n",
       "     'display_name': 'Philosophy',\n",
       "     'level': 0,\n",
       "     'score': 29.6},\n",
       "    {'id': 'https://openalex.org/C18903297',\n",
       "     'wikidata': 'https://www.wikidata.org/wiki/Q7150',\n",
       "     'display_name': 'Ecology',\n",
       "     'level': 1,\n",
       "     'score': 26.4},\n",
       "    {'id': 'https://openalex.org/C38652104',\n",
       "     'wikidata': 'https://www.wikidata.org/wiki/Q3510521',\n",
       "     'display_name': 'Computer security',\n",
       "     'level': 1,\n",
       "     'score': 25.6},\n",
       "    {'id': 'https://openalex.org/C105795698',\n",
       "     'wikidata': 'https://www.wikidata.org/wiki/Q12483',\n",
       "     'display_name': 'Statistics',\n",
       "     'level': 1,\n",
       "     'score': 25.6},\n",
       "    {'id': 'https://openalex.org/C62520636',\n",
       "     'wikidata': 'https://www.wikidata.org/wiki/Q944',\n",
       "     'display_name': 'Quantum mechanics',\n",
       "     'level': 1,\n",
       "     'score': 24.8},\n",
       "    {'id': 'https://openalex.org/C127313418',\n",
       "     'wikidata': 'https://www.wikidata.org/wiki/Q1069',\n",
       "     'display_name': 'Geology',\n",
       "     'level': 0,\n",
       "     'score': 24.0},\n",
       "    {'id': 'https://openalex.org/C15744967',\n",
       "     'wikidata': 'https://www.wikidata.org/wiki/Q9418',\n",
       "     'display_name': 'Psychology',\n",
       "     'level': 0,\n",
       "     'score': 24.0},\n",
       "    {'id': 'https://openalex.org/C136764020',\n",
       "     'wikidata': 'https://www.wikidata.org/wiki/Q466',\n",
       "     'display_name': 'World Wide Web',\n",
       "     'level': 1,\n",
       "     'score': 23.2},\n",
       "    {'id': 'https://openalex.org/C144024400',\n",
       "     'wikidata': 'https://www.wikidata.org/wiki/Q21201',\n",
       "     'display_name': 'Sociology',\n",
       "     'level': 0,\n",
       "     'score': 22.4},\n",
       "    {'id': 'https://openalex.org/C76155785',\n",
       "     'wikidata': 'https://www.wikidata.org/wiki/Q418',\n",
       "     'display_name': 'Telecommunications',\n",
       "     'level': 1,\n",
       "     'score': 20.8}],\n",
       "   'works_api_url': 'https://api.openalex.org/works?filter=institutions.id:I4210130200',\n",
       "   'updated_date': '2023-06-13T06:57:59.799383',\n",
       "   'created_date': '2022-02-02'}],\n",
       " 'group_by': []}"
      ]
     },
     "execution_count": 1,
     "metadata": {},
     "output_type": "execute_result"
    }
   ],
   "source": [
    "import requests\n",
    "\n",
    "req = requests.get('https://api.openalex.org/institutions?search=carnegie+mellon+university')\n",
    "data = req.json()\n",
    "data\n",
    "\n"
   ]
  },
  {
   "cell_type": "code",
   "execution_count": 2,
   "id": "cf0d4760-ae4c-4f16-899f-99c90d545de0",
   "metadata": {},
   "outputs": [
    {
     "data": {
      "text/plain": [
       "dict_keys(['meta', 'results', 'group_by'])"
      ]
     },
     "execution_count": 2,
     "metadata": {},
     "output_type": "execute_result"
    }
   ],
   "source": [
    "data.keys()"
   ]
  },
  {
   "cell_type": "code",
   "execution_count": 3,
   "id": "e45ed58c-e2b8-44fa-8acf-88c13a0db96f",
   "metadata": {},
   "outputs": [
    {
     "data": {
      "text/plain": [
       "4"
      ]
     },
     "execution_count": 3,
     "metadata": {},
     "output_type": "execute_result"
    }
   ],
   "source": [
    "data['meta']['count']"
   ]
  },
  {
   "cell_type": "code",
   "execution_count": 4,
   "id": "43edbec2-a269-4b89-bc27-ff520f274bd1",
   "metadata": {},
   "outputs": [
    {
     "data": {
      "text/plain": [
       "['Carnegie Mellon University',\n",
       " 'Carnegie Mellon University Qatar',\n",
       " 'Carnegie Mellon University Australia',\n",
       " 'Carnegie Mellon University Africa']"
      ]
     },
     "execution_count": 4,
     "metadata": {},
     "output_type": "execute_result"
    }
   ],
   "source": [
    "[result['display_name'] for result in data['results']]"
   ]
  },
  {
   "cell_type": "code",
   "execution_count": 5,
   "id": "2ed0f2c1-b922-47aa-b9a2-a8d7618733be",
   "metadata": {},
   "outputs": [
    {
     "data": {
      "text/plain": [
       "['Carnegie Mellon University',\n",
       " 'Carnegie Mellon University Qatar',\n",
       " 'Carnegie Mellon University Australia',\n",
       " 'Carnegie Mellon University Africa']"
      ]
     },
     "execution_count": 5,
     "metadata": {},
     "output_type": "execute_result"
    }
   ],
   "source": [
    "names = []\n",
    "for i in range(data['meta']['count']):\n",
    "    names += [data['results'][i]['display_name']]\n",
    "names    "
   ]
  },
  {
   "cell_type": "markdown",
   "id": "0fdc038c-fadf-4415-a4a7-d6204b58d02e",
   "metadata": {},
   "source": [
    "Now, it is easy to replicate the example we had from last class to show each result with the works_count and cited_by_count, even with simple formatting.\n",
    "\n"
   ]
  },
  {
   "cell_type": "code",
   "execution_count": 6,
   "id": "7a5b8f5b-eecd-4604-bfff-e71255aaf7d8",
   "metadata": {},
   "outputs": [
    {
     "name": "stdout",
     "output_type": "stream",
     "text": [
      "Carnegie Mellon University                            111876   4533093\n",
      "Carnegie Mellon University Qatar                         612      8180\n",
      "Carnegie Mellon University Australia                      81      1672\n",
      "Carnegie Mellon University Africa                        125       651\n"
     ]
    }
   ],
   "source": [
    "for result in data['results']:\n",
    "    print(f'{result[\"display_name\"]:50s}{result[\"works_count\"]:10d}{result[\"cited_by_count\"]:10d}')\n",
    "\n"
   ]
  },
  {
   "cell_type": "markdown",
   "id": "6e049665-7762-48c5-a7aa-e160158dc12b",
   "metadata": {},
   "source": [
    "## Our first Python based shell script\n",
    "\n"
   ]
  },
  {
   "cell_type": "markdown",
   "id": "bddeda40-9d7b-4d75-871c-e8613bf6b7ef",
   "metadata": {},
   "source": [
    "It is convenient to use the notebook for this, but let's convert this to a script that takes an argument. Let's do this in a few pieces.\n",
    "\n",
    "1. create a file called oa_inst.py, and make it executable."
   ]
  },
  {
   "cell_type": "code",
   "execution_count": 16,
   "id": "17b9cb54-84a4-47d8-92dc-c1c01a5d202d",
   "metadata": {},
   "outputs": [
    {
     "name": "stdout",
     "output_type": "stream",
     "text": [
      "Overwriting oa_inst.py\n"
     ]
    }
   ],
   "source": [
    "%%writefile oa_inst.py\n",
    "#!/usr/bin/env python\n",
    "\n",
    "import sys\n",
    "print(sys.argv)"
   ]
  },
  {
   "cell_type": "code",
   "execution_count": 17,
   "id": "b85f4f2f-2339-4fb5-a7c2-e5dea640c020",
   "metadata": {},
   "outputs": [],
   "source": [
    "! chmod +x oa_inst.py"
   ]
  },
  {
   "cell_type": "markdown",
   "id": "1f362f9b-26e5-40dc-bb3b-526f63a3e6fd",
   "metadata": {},
   "source": [
    "The first line (the so-called shebang line) tells the shell what interpreter to use, in this case, that it is a python script. Then we import the `sys` module. This module provides basic access to command line arguments through the .argv attribute.\n",
    "\n",
    "Run your script with a few examples:\n",
    "\n",
    "    ./oa_inst.py\n",
    "    ./oa_inst.py carnegie mellon university\n",
    "    \n",
    "You can see the first element of `sys.argv` is always the script name. All the other elements are what we call the command-line arguments. "
   ]
  },
  {
   "cell_type": "code",
   "execution_count": 19,
   "id": "b551ff74-6673-4094-956b-5367d5c732e6",
   "metadata": {},
   "outputs": [
    {
     "name": "stdout",
     "output_type": "stream",
     "text": [
      "['./oa_inst.py']\n",
      "['./oa_inst.py', 'carnegie', 'mellon', 'university']\n"
     ]
    }
   ],
   "source": [
    "%%bash \n",
    "./oa_inst.py\n",
    "./oa_inst.py carnegie mellon university"
   ]
  },
  {
   "cell_type": "markdown",
   "id": "b45db126-73c7-4235-ae5e-234351514c42",
   "metadata": {},
   "source": [
    "We need to join these with + as we did in the shell script before. It is easy to do in Python. Now, add these lines:\n",
    "\n",
    "```"
   ]
  },
  {
   "cell_type": "code",
   "execution_count": 21,
   "id": "29a97be0-8e1f-44f6-9213-c79bd8f1c06d",
   "metadata": {},
   "outputs": [
    {
     "name": "stdout",
     "output_type": "stream",
     "text": [
      "Overwriting oa_inst.py\n"
     ]
    }
   ],
   "source": [
    "%%writefile oa_inst.py\n",
    "#!/usr/bin/env python\n",
    "\n",
    "import sys\n",
    "query = '+'.join(sys.argv[1:])\n",
    "url = f'https://api.openalex.org/institutions?search={query}'\n",
    "\n",
    "import requests\n",
    "\n",
    "req = requests.get(url)\n",
    "data = req.json()\n",
    "\n",
    "for result in data['results']:\n",
    "    print(f'{result[\"display_name\"]:50s}{result[\"works_count\"]:10d}{result[\"cited_by_count\"]:10d}')"
   ]
  },
  {
   "cell_type": "code",
   "execution_count": 22,
   "id": "1a3fc77e-845e-4945-82f6-6b6fe87f4f97",
   "metadata": {},
   "outputs": [],
   "source": [
    "! chmod +x oa_inst.py"
   ]
  },
  {
   "cell_type": "code",
   "execution_count": 25,
   "id": "1db8e294-cc61-40ac-8f37-fd8e2531f862",
   "metadata": {},
   "outputs": [
    {
     "name": "stdout",
     "output_type": "stream",
     "text": [
      "Carnegie Mellon University                            111876   4533093\n",
      "Carnegie Mellon University Qatar                         612      8180\n",
      "Carnegie Mellon University Australia                      81      1672\n",
      "Carnegie Mellon University Africa                        125       651\n"
     ]
    }
   ],
   "source": [
    "! ./oa_inst.py carnegie mellon university"
   ]
  },
  {
   "cell_type": "markdown",
   "id": "23300020-efef-46c7-95e0-fbe3de9e0066",
   "metadata": {},
   "source": [
    "Now you should be able to run this python script like the shell script.\n",
    "\n",
    "You can move the script to ~/bin if you put that on your path like we described in the first lecture, and then run that from anywhere.\n",
    "\n",
    "Our script is not without issues. They aren't big issues, but we can *only* use this script in the shell. We can't import it and use it here in the notebook. If you do import it, you will see that it tries to run something, but something weird happens, and it doesn't work right.\n",
    "\n",
    "We need to separate some things out so we can have a script *and* importable library."
   ]
  },
  {
   "cell_type": "markdown",
   "id": "b586e695-989d-4ace-8b1d-94bfc7891324",
   "metadata": {},
   "source": [
    "## Getting better than sys.argv\n",
    "\n",
    "`sys.argv` is really only suitable for the simplest of command line arguments, and it isn't really even great for those. Among the limitations are:\n",
    "\n",
    "1. No option parsing (or you have to write your own)\n",
    "2. No built-in help or documentation\n",
    "\n",
    "Some built-in core libraries in Python can help with this, e.g. [argparse](https://docs.python.org/3/library/argparse.html). There are also third-party libraries like [click](https://palletsprojects.com/p/click/). \n",
    "\n",
    "Let's rewrite the script above using click. The principle idea is we write a function that does what we want with some arguments, use the click library to convert the command line arguments into variables we use in the function, and then, we only run the function when we run the script (as opposed to importing from it).\n",
    "\n",
    "Making this look easy requires some advanced Python skills. Let's work out a reusable function first. I am writing this with some 20/20 hindsight we don't have yet. We will return later to why we wrote the function this specific way. This function should take a list of terms, or a string to query. Either way, we convert it to a string with each word joined by +. Then, we return a formatted string for each result found.\n",
    "\n"
   ]
  },
  {
   "cell_type": "code",
   "execution_count": 8,
   "id": "1ad3b02b-1c93-47cc-9a89-aeecf50ff400",
   "metadata": {},
   "outputs": [
    {
     "data": {
      "text/plain": [
       "['Carnegie Mellon University                            111876   4533093',\n",
       " 'Carnegie Mellon University Qatar                         612      8180',\n",
       " 'Carnegie Mellon University Australia                      81      1672',\n",
       " 'Carnegie Mellon University Africa                        125       651']"
      ]
     },
     "execution_count": 8,
     "metadata": {},
     "output_type": "execute_result"
    }
   ],
   "source": [
    "import requests \n",
    "from collections.abc import Iterable \n",
    "\n",
    "def openalex_institution(query):\n",
    "    'query is a list of terms in the query, or a string.'\n",
    "    \n",
    "    # Replace spaces with +\n",
    "    if isinstance(query, str):\n",
    "        query = '+'.join(query.split())\n",
    "\n",
    "    # If it is not a string We assume it is an iterable of strings.\n",
    "    elif isinstance(query, Iterable):\n",
    "        query = '+'.join(query)\n",
    "        \n",
    "    else:\n",
    "        raise Exception('query should be a string or Iterable')\n",
    "        \n",
    "    url = f'https://api.openalex.org/institutions?search={query}'\n",
    "    req = requests.get(url)\n",
    "    data = req.json()\n",
    "\n",
    "    return [f'{result[\"display_name\"]:50s}{result[\"works_count\"]:10d}{result[\"cited_by_count\"]:10d}'\n",
    "            for result in data['results']]\n",
    "            \n",
    "openalex_institution('carnegie mellon university')            "
   ]
  },
  {
   "cell_type": "code",
   "execution_count": 9,
   "id": "592462de-9ed7-4eee-85f5-e46ffe4b882a",
   "metadata": {},
   "outputs": [
    {
     "data": {
      "text/plain": [
       "['Carnegie Mellon University                            111876   4533093',\n",
       " 'Carnegie Mellon University Qatar                         612      8180',\n",
       " 'Carnegie Mellon University Australia                      81      1672',\n",
       " 'Carnegie Mellon University Africa                        125       651']"
      ]
     },
     "execution_count": 9,
     "metadata": {},
     "output_type": "execute_result"
    }
   ],
   "source": [
    "# Test with list of words\n",
    "openalex_institution(['carnegie', 'mellon', 'university'])          "
   ]
  },
  {
   "cell_type": "markdown",
   "id": "dbdeeff7-8b7b-4824-9beb-51faa02ec212",
   "metadata": {},
   "source": [
    "Note our function returns data in the form of a list of strings. Later, we can join them into a single string like this.\n",
    "\n"
   ]
  },
  {
   "cell_type": "code",
   "execution_count": 10,
   "id": "ea85cde9-2365-41b0-bfc8-0b2b35a8cd1a",
   "metadata": {},
   "outputs": [
    {
     "name": "stdout",
     "output_type": "stream",
     "text": [
      "Carnegie Mellon University                            111876   4533093\n",
      "Carnegie Mellon University Qatar                         612      8180\n",
      "Carnegie Mellon University Australia                      81      1672\n",
      "Carnegie Mellon University Africa                        125       651\n"
     ]
    }
   ],
   "source": [
    "print('\\n'.join(openalex_institution(['carnegie', 'mellon', 'university'])))\n",
    "\n"
   ]
  },
  {
   "cell_type": "markdown",
   "id": "a129c2fd-db4c-4e3f-bfe2-7ef6678f9e47",
   "metadata": {},
   "source": [
    "## Basic click usage\n",
    "That is the independent reusable part. Now, let's look at how click works. We have to create a function that does what we want, and then decorate it with click functions. Start by creating a new file: oa_inst2.py with these contents. The `main` function is what will run in our script, and only when we run this as a script.\n",
    "\n",
    "\n",
    "Now, you can see we automatically get help."
   ]
  },
  {
   "cell_type": "code",
   "execution_count": 29,
   "id": "189ea70b-a367-4c86-ba42-8fd83666e476",
   "metadata": {},
   "outputs": [
    {
     "name": "stdout",
     "output_type": "stream",
     "text": [
      "Overwriting oa_inst2.py\n"
     ]
    }
   ],
   "source": [
    "%%writefile oa_inst2.py\n",
    "#!/usr/bin/env python\n",
    "import click\n",
    "\n",
    "@click.command(help='OpenAlex Institutions')\n",
    "@click.argument('query', nargs=-1)\n",
    "def main(query):\n",
    "    print(query)\n",
    "    \n",
    "if __name__ == '__main__':\n",
    "    main()"
   ]
  },
  {
   "cell_type": "code",
   "execution_count": 30,
   "id": "be529cf2-3686-4afc-82f3-42e3948e7c4e",
   "metadata": {},
   "outputs": [],
   "source": [
    "! chmod +x oa_inst2.py"
   ]
  },
  {
   "cell_type": "code",
   "execution_count": 31,
   "id": "386985b7-4574-4188-8406-ead19b2d3f36",
   "metadata": {},
   "outputs": [
    {
     "name": "stdout",
     "output_type": "stream",
     "text": [
      "Usage: oa_inst2.py [OPTIONS] [QUERY]...\n",
      "\n",
      "  OpenAlex Institutions\n",
      "\n",
      "Options:\n",
      "  --help  Show this message and exit.\n"
     ]
    }
   ],
   "source": [
    "! ./oa_inst2.py --help\n",
    "\n"
   ]
  },
  {
   "cell_type": "markdown",
   "id": "bfb7bec7-71a7-48d9-8542-cc77507ef814",
   "metadata": {},
   "source": [
    "We can also run the command with a few arguments. Here you see that the arguments become a tuple of strings. \n",
    "\n"
   ]
  },
  {
   "cell_type": "code",
   "execution_count": 32,
   "id": "052cc891-433c-4601-8703-28712f5e3d6f",
   "metadata": {},
   "outputs": [
    {
     "name": "stdout",
     "output_type": "stream",
     "text": [
      "('carnegie', 'mellon', 'university')\n"
     ]
    }
   ],
   "source": [
    "! ./oa_inst2.py carnegie mellon university\n",
    "\n"
   ]
  },
  {
   "cell_type": "markdown",
   "id": "222c9cb1-f8c7-44d3-8858-2886a452b557",
   "metadata": {},
   "source": [
    "Now, we combine the function we worked out above in the script. We make a few modifications to the main function here. First, we have to join the strings returned by the openalex_institution function with \\n, and then print that string so we can see it on stdout in the shell.\n",
    "\n",
    "```"
   ]
  },
  {
   "cell_type": "code",
   "execution_count": 33,
   "id": "746dd810-8de2-4db9-bdeb-9446867f91ef",
   "metadata": {},
   "outputs": [
    {
     "name": "stdout",
     "output_type": "stream",
     "text": [
      "Overwriting oa_inst2.py\n"
     ]
    }
   ],
   "source": [
    "%%writefile oa_inst2.py\n",
    "#!/usr/bin/env python\n",
    "import click\n",
    "\n",
    "import requests \n",
    "from collections.abc import Iterable \n",
    "\n",
    "def openalex_institution(query):\n",
    "    'query is a list of terms in the query, or a string.'\n",
    "    if isinstance(query, str):\n",
    "        query = '+'.join(query.split())\n",
    "\n",
    "    # We assume it is an iterable of strings.\n",
    "    elif isinstance(query, Iterable):\n",
    "        query = '+'.join(query)\n",
    "        \n",
    "    url = f'https://api.openalex.org/institutions?search={query}'\n",
    "    req = requests.get(url)\n",
    "    data = req.json()\n",
    "\n",
    "    return [f'{result[\"display_name\"]:50s}{result[\"works_count\"]:10d}{result[\"cited_by_count\"]:10d}'\n",
    "            for result in data['results']]\n",
    "\n",
    "@click.command(help='OpenAlex Institutions')\n",
    "@click.argument('query', nargs=-1)\n",
    "def main(query):\n",
    "    print('\\n'.join(openalex_institution(query)))\n",
    "    \n",
    "if __name__ == '__main__':\n",
    "    main()"
   ]
  },
  {
   "cell_type": "code",
   "execution_count": 34,
   "id": "ca011db7-5b03-440a-a0d6-6b9639db2c2c",
   "metadata": {},
   "outputs": [
    {
     "name": "stdout",
     "output_type": "stream",
     "text": [
      "Carnegie Mellon University                            111876   4533093\n",
      "Carnegie Mellon University Qatar                         612      8180\n",
      "Carnegie Mellon University Australia                      81      1672\n",
      "Carnegie Mellon University Africa                        125       651\n"
     ]
    }
   ],
   "source": [
    "! ./oa_inst2.py carnegie mellon university"
   ]
  },
  {
   "cell_type": "markdown",
   "id": "3c964afa-9546-4154-9262-6f42e8b3a0a7",
   "metadata": {},
   "source": [
    "Finally, we can import the function we wrote and use it in the notebook. This import works because the python file is in this directory. Later we will learn how to do this more generally. For now the critical idea is we have one file that can be used two different ways: one as a script in a shell, and one as a python library you can import the same function for use in a notebook, or even another script.\n",
    "\n"
   ]
  },
  {
   "cell_type": "code",
   "execution_count": 35,
   "id": "822461e5-4efe-45bf-affa-fec86a0d94b3",
   "metadata": {},
   "outputs": [],
   "source": [
    "import oa_inst2"
   ]
  },
  {
   "cell_type": "code",
   "execution_count": 36,
   "id": "4f4529fa-00a6-4f09-b1a8-ac3f1668f423",
   "metadata": {},
   "outputs": [
    {
     "name": "stdout",
     "output_type": "stream",
     "text": [
      "Carnegie Mellon University                            111876   4533093\n",
      "Carnegie Mellon University Qatar                         612      8180\n",
      "Carnegie Mellon University Australia                      81      1672\n",
      "Carnegie Mellon University Africa                        125       651\n"
     ]
    }
   ],
   "source": [
    "from oa_inst2 import openalex_institution\n",
    "print('\\n'.join(openalex_institution('carnegie+mellon+university')))\n",
    "\n"
   ]
  },
  {
   "cell_type": "markdown",
   "id": "a4828c25-8a19-4960-9dc0-09e2971427f2",
   "metadata": {},
   "source": [
    "# Back to the author endpoint\n",
    "\n",
    "You can access an author from a URL like this:\n",
    "https://api.openalex.org/authors/https://orcid.org/0000-0003-2625-9232. Let's look at a few things. We get the name, number of works, and a url to those works. Although the url here says there are 172 works, it does not list them. Instead, it provides you with a url to get to them. Let's click on this url, and see what is there.\n",
    "\n"
   ]
  },
  {
   "cell_type": "code",
   "execution_count": 37,
   "id": "a459e61d-e3ee-4c14-8d05-6983558b409e",
   "metadata": {},
   "outputs": [
    {
     "data": {
      "text/plain": [
       "('John R. Kitchin',\n",
       " 4,\n",
       " 'https://api.openalex.org/works?filter=author.id:A1760930984')"
      ]
     },
     "execution_count": 37,
     "metadata": {},
     "output_type": "execute_result"
    }
   ],
   "source": [
    "import requests\n",
    "\n",
    "url = 'https://api.openalex.org/authors/https://orcid.org/0000-0003-2625-9232'\n",
    "data = requests.get(url).json()\n",
    "data['display_name'], data['works_count'], data['works_api_url']"
   ]
  },
  {
   "cell_type": "markdown",
   "id": "51e79906-d0cf-4bdd-b297-a107b91e115e",
   "metadata": {},
   "source": [
    "It is another set of json data.\n",
    "\n"
   ]
  },
  {
   "cell_type": "code",
   "execution_count": 38,
   "id": "d2df7c3a-cc05-474a-9bed-d0256c3fe57d",
   "metadata": {},
   "outputs": [
    {
     "data": {
      "text/plain": [
       "{'count': 4, 'db_response_time_ms': 24, 'page': 1, 'per_page': 25}"
      ]
     },
     "execution_count": 38,
     "metadata": {},
     "output_type": "execute_result"
    }
   ],
   "source": [
    "works = requests.get(data['works_api_url']).json()\n",
    "works['meta']"
   ]
  },
  {
   "cell_type": "markdown",
   "id": "10680e00-5c25-4b6f-a973-d730456623c2",
   "metadata": {},
   "source": [
    "This new data has a new feature. There are 172 works, but on this \"page\" of data, there are only 25 results. We have to consider how to access all the pages to get the rest of the data. Paging is described here https://docs.openalex.org/how-to-use-the-api/get-lists-of-entities/paging. The gist is we have to add something to the url to increase the number of results per-page. We can increase it up to 200, and this example only has 172, so we do that.\n",
    "\n"
   ]
  },
  {
   "cell_type": "code",
   "execution_count": 39,
   "id": "7cc59bfe-f2d9-42b6-aa6d-a8e66c7b7b5e",
   "metadata": {},
   "outputs": [
    {
     "data": {
      "text/plain": [
       "{'count': 4, 'db_response_time_ms': 23, 'page': 1, 'per_page': 4}"
      ]
     },
     "execution_count": 39,
     "metadata": {},
     "output_type": "execute_result"
    }
   ],
   "source": [
    "works = requests.get(data['works_api_url'] + f'?page=1&per-page={data[\"works_count\"]}').json()\n",
    "works['meta']"
   ]
  },
  {
   "cell_type": "markdown",
   "id": "c8de27d3-c19f-4cbd-af1f-e8436984adb2",
   "metadata": {},
   "source": [
    "Our goal now is to retrieve each work, and get the cited_by_count for each paper. Then, we will compute the H-index for this list of papers. The H-index is the number of papers that have at least H citations. The works are already sorted in descending citations here, so we don't have to sort them ourselves.\n",
    "\n"
   ]
  },
  {
   "cell_type": "code",
   "execution_count": 40,
   "id": "dbc8841e-752e-46da-ae66-88dd33969b7f",
   "metadata": {},
   "outputs": [
    {
     "data": {
      "text/plain": [
       "4"
      ]
     },
     "execution_count": 40,
     "metadata": {},
     "output_type": "execute_result"
    }
   ],
   "source": [
    "len(works['results'])"
   ]
  },
  {
   "cell_type": "code",
   "execution_count": 41,
   "id": "c0bcf774-d396-4279-88ab-2bbe1f36de68",
   "metadata": {},
   "outputs": [
    {
     "name": "stdout",
     "output_type": "stream",
     "text": [
      "  1       1\n",
      "H-index = 1\n"
     ]
    }
   ],
   "source": [
    "citations = [work['cited_by_count'] for work in works['results']]\n",
    "for i, cite in enumerate(citations, start=1):\n",
    "    if cite < i:\n",
    "        print(f'H-index = {i - 1}')\n",
    "        break\n",
    "    print(f'{i:3d}{cite:8d}')\n",
    "\n"
   ]
  },
  {
   "cell_type": "markdown",
   "id": "242af9c2-1cef-49a3-9df1-a74e8e5a21d5",
   "metadata": {},
   "source": [
    "# Exercise\n",
    "\n",
    "Work together to create a Python based shell script that takes an ORCID and computes the H-index for the author, and prints it with their name."
   ]
  },
  {
   "cell_type": "code",
   "execution_count": 48,
   "id": "2d873717-dba1-4842-9740-c4a6aff1047b",
   "metadata": {},
   "outputs": [
    {
     "name": "stdout",
     "output_type": "stream",
     "text": [
      "Overwriting orcid\n"
     ]
    }
   ],
   "source": [
    "%%writefile orcid\n",
    "#!/usr/bin/env python\n",
    "\n",
    "import click\n",
    "import requests\n",
    "\n",
    "def hindex(orcid):\n",
    "    \n",
    "    url = f'https://api.openalex.org/authors/https://orcid.org/{orcid}'\n",
    "    data = requests.get(url).json()\n",
    "\n",
    "    displayname = data['display_name']\n",
    "    works = (requests.get(data['works_api_url'] \n",
    "                          + f'?page=1&per-page={data[\"works_count\"]}').json())\n",
    "    \n",
    "    citations = [work['cited_by_count'] for work in works['results']]\n",
    "    for i, cite in enumerate(citations, start=1):\n",
    "        if cite < i:\n",
    "            return displayname, i - 1\n",
    "\n",
    "@click.command(help='OpenAlex h-index')\n",
    "@click.argument('orcid', nargs=1)\n",
    "def main(orcid):\n",
    "    dn, hi = hindex(orcid)\n",
    "    print(f'{dn}: h-index = {hi}')\n",
    "    \n",
    "if __name__ == '__main__':\n",
    "    main()"
   ]
  },
  {
   "cell_type": "code",
   "execution_count": 49,
   "id": "d2a96033-7f49-42af-8079-d608c1bf921a",
   "metadata": {},
   "outputs": [],
   "source": [
    "!chmod +x orcid"
   ]
  },
  {
   "cell_type": "code",
   "execution_count": 50,
   "id": "56a9c7fd-e312-4043-aa9e-854e315b8b8a",
   "metadata": {},
   "outputs": [
    {
     "name": "stdout",
     "output_type": "stream",
     "text": [
      "John R. Kitchin: h-index = 1\n"
     ]
    }
   ],
   "source": [
    "! ./orcid 0000-0003-2625-9232"
   ]
  }
 ],
 "metadata": {
  "kernelspec": {
   "display_name": "Python 3 (ipykernel)",
   "language": "python",
   "name": "python3"
  },
  "language_info": {
   "codemirror_mode": {
    "name": "ipython",
    "version": 3
   },
   "file_extension": ".py",
   "mimetype": "text/x-python",
   "name": "python",
   "nbconvert_exporter": "python",
   "pygments_lexer": "ipython3",
   "version": "3.9.13"
  },
  "widgets": {
   "application/vnd.jupyter.widget-state+json": {
    "state": {},
    "version_major": 2,
    "version_minor": 0
   }
  }
 },
 "nbformat": 4,
 "nbformat_minor": 5
}
