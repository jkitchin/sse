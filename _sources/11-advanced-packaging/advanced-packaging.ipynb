{
 "cells": [
  {
   "cell_type": "markdown",
   "id": "8482d647-0c83-4d8b-b8c0-1ed828a3d26d",
   "metadata": {},
   "source": [
    "# Advanced packaging\n",
    "\n",
    "Python packaging has been a hot mess [1](https://news.ycombinator.com/item?id=21781604), [2](https://bernat.tech/posts/pep-517-518/). \n",
    "\n",
    "The official guide on python packaging is [here](https://packaging.python.org/en/latest/). It is getting \"better\", but there are still a lot of options. I list a few below. I list a few alternatives below. I won't go into detail on these, you can read about them on their respective pages.\n",
    "\n",
    "- [pip](https://pip.pypa.io/en/stable/)\n",
    "- [conda](https://conda.io/projects/conda/en/latest/user-guide/getting-started.html)\n",
    "- [mamba](https://mamba.readthedocs.io/en/latest/) A faster conda\n",
    "- [Poetry](https://python-poetry.org/)\n",
    "- [flit](https://flit.pypa.io/en/latest/)\n",
    "- [hatch](https://hatch.pypa.io/latest/)\n",
    "- [setuptools](https://setuptools.pypa.io/en/latest/index.html)\n",
    "\n",
    "I still suggest that in the beginning you focus on [setuptools](https://setuptools.pypa.io/en/latest/index.html) until you have a need that it does not meet. The packages we have made so far are compatible with setuptools. See the [quickstart](https://setuptools.pypa.io/en/latest/userguide/quickstart.html) to get started.\n"
   ]
  },
  {
   "cell_type": "markdown",
   "id": "9174e3ae-6dce-443e-ab9c-52ae419da70e",
   "metadata": {},
   "source": [
    "Here I note some of the more common things you might want to do with packages and `setuptools`."
   ]
  },
  {
   "cell_type": "markdown",
   "id": "6fe2fcf4-bfd9-43a9-a3a5-e03514e007b9",
   "metadata": {},
   "source": [
    "## Package configuration\n",
    "\n",
    "We focused on `setup.py` as the primary configuration file, but there are several other ways you could do it. The field is moving towards [pyproject.toml](https://setuptools.pypa.io/en/latest/userguide/pyproject_config.html#configuring-setuptools-using-pyproject-toml-files) as a standard way to specifying project metadata.\n",
    "\n",
    "setuptools also supports an older [setup.cfg](https://setuptools.pypa.io/en/latest/userguide/declarative_config.html) file.\n",
    "\n",
    "Technically, `setup.py` is being moved away from, mostly for [security](https://setuptools.pypa.io/en/latest/userguide/quickstart.html#transitioning-from-setup-py-to-declarative-config) reasons; setup.py allows arbitrary code to be executed during build. The files above are *declarative* and don't run code. "
   ]
  },
  {
   "cell_type": "markdown",
   "id": "1c33f4fb-96d2-4782-a7a5-34d6d9066c48",
   "metadata": {},
   "source": [
    "## Package discovery\n",
    "\n",
    "We have usually specified the modules your package provides explicitly. You can rely on \"discovery\" though to automatically generate this list. See [package discovery](https://setuptools.pypa.io/en/latest/userguide/package_discovery.html)."
   ]
  },
  {
   "cell_type": "markdown",
   "id": "5fe47082-0224-4810-983c-e88cd99cdfa7",
   "metadata": {},
   "source": [
    "## Dependency management\n",
    "\n",
    "Your package may depend on other libraries, even specific versions of those libraries. You can specify these dependencies in the setup files to ensure they get installed with your package. See [dependency management](https://setuptools.pypa.io/en/latest/userguide/dependency_management.html)."
   ]
  },
  {
   "cell_type": "markdown",
   "id": "d03bbae6-2346-43dc-bfd8-092d53258262",
   "metadata": {},
   "source": [
    "## Entry points - aka shell commands\n",
    "\n",
    "If your package provides shell commands, you can specify these as \"entry points\". See [entry points](https://setuptools.pypa.io/en/latest/userguide/entry_point.html)."
   ]
  },
  {
   "cell_type": "markdown",
   "id": "c98e236e-f52d-4506-99bd-8f50d57f7ff6",
   "metadata": {},
   "source": [
    "## Data files\n",
    "\n",
    "If your package relies on data files, e.g. a csv file of data that is used, or templates of some kind, etc. then you need to include them in your package. See [datafiles](https://setuptools.pypa.io/en/latest/userguide/datafiles.html) for how to do that."
   ]
  },
  {
   "cell_type": "markdown",
   "id": "6d177d1e-5a58-4e6e-bf4f-e64eade9fb90",
   "metadata": {},
   "source": [
    "# Distributing your package\n",
    "\n",
    "For others to use your package they need a way to get it. You can zip the source directory up and email it to them, put it on some public website for download, etc.\n",
    "\n",
    "Alternatively, you can use methods compatible with `pip` to allow people to install it. \n",
    "\n",
    "## GitHUB\n",
    "\n",
    "You can always distribute your package via GitHUB (this is one form of a public website). You can even install packages straight from GitHUB. See [pycse](https://github.com/jkitchin/pycse) for an example. Here is a command to install the current version of pycse.\n",
    "\n",
    "    pip install git+git://github.com/jkitchin/pycse\n",
    "    \n",
    "You can install specific versions from tags:\n",
    "\n",
    "    pip install https://github.com/jkitchin/pycse/archive/refs/tags/v1.0.zip\n",
    "    \n",
    "See [VCS support](https://pip.pypa.io/en/stable/topics/vcs-support/) for details on other variations, e.g. a branch name, or a commit hash.\n",
    "\n",
    "The upside of this is you don't have to do anything special beyond getting it to GitHUB! The downside is it is not as simple as `pip install pycse`, and some people might not want to install straight from gitHUB for \"security reasons\". This is an illusion though, the version of `pycse` on pypi is the same as the one in GitHUB...   "
   ]
  },
  {
   "cell_type": "markdown",
   "id": "568cac87-a506-426e-ab26-1b05936c8c6e",
   "metadata": {},
   "source": [
    "## pypi\n",
    "\n",
    "You can also publish your package to [PyPi](https://pypi.org/). Then anyone can pip install your package by its name.\n",
    "\n",
    "[twine](https://twine.readthedocs.io/en/stable/) is a Python package to help you with this process. Note that you need to have an account with PyPi and get an API token from them. Then follow the directions [here](https://packaging.python.org/en/latest/tutorials/packaging-projects/#uploading-the-distribution-archives)."
   ]
  },
  {
   "cell_type": "markdown",
   "id": "0133fa03-7bb2-40ad-b2f6-a49ab77c9898",
   "metadata": {},
   "source": [
    "# End of the beginning\n",
    "\n",
    "For more than 20 years Python packaging has evolved, and you can count on it continuing to evolve in the future. For the majority of needs, I think setuptools will serve you well. The other options were made to fulfill specific needs, and if you don't have them, you don't need them. It is worth learning enough about these other options to know if they solve a particular problem for you. You may also run into projects that use them, and have to adapt your workflow to use them."
   ]
  }
 ],
 "metadata": {
  "kernelspec": {
   "display_name": "Python 3",
   "language": "python",
   "name": "python3"
  },
  "language_info": {
   "codemirror_mode": {
    "name": "ipython",
    "version": 3
   },
   "file_extension": ".py",
   "mimetype": "text/x-python",
   "name": "python",
   "nbconvert_exporter": "python",
   "pygments_lexer": "ipython3",
   "version": "3.9.7"
  },
  "widgets": {
   "application/vnd.jupyter.widget-state+json": {
    "state": {},
    "version_major": 2,
    "version_minor": 0
   }
  }
 },
 "nbformat": 4,
 "nbformat_minor": 5
}
