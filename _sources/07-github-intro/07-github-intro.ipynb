{
 "cells": [
  {
   "cell_type": "markdown",
   "id": "2c790263-7e2a-4424-bee7-96636eb15b21",
   "metadata": {},
   "source": [
    "Introduction to GitHUB\n",
    "=======================\n",
    "\n",
    "So far we have only used git locally, i.e. in the JupyterHUB. git was designed to be distributed, which means used on many machines, and collaborative, i.e. many people can make contributions. A common model for doing this is there is a central location where a repository is saved. Anyone can make a copy of that repository (called a clone) on their local machine. Then they can make modifications to their copy, and optionally push the changes back to the central location.\n",
    "\n",
    "[GitHUB](https://github.com/) is one such solution. To use GitHUB you need to make an account with them. You can see my account at [](https://github.com/jkitchin). There you can find all the public repositories I have worked on, and you can look at the source code and version history of them.\n",
    "\n",
    "GitHUB provides many features beyond just git. There is a feature called GitHUB actions that can automate different activities like running tests. There is also GitHUB Codespaces where you can develop software directly in your browser.\n",
    "\n",
    "There are other sites similar to GitHUB: GitLab and Bitbucket are two common ones. All of them have a free tier, and a paid tier with more features.\n",
    "\n"
   ]
  },
  {
   "cell_type": "code",
   "execution_count": 1,
   "id": "bb663f6e-90a5-4ff1-b3f3-01e935b95a70",
   "metadata": {},
   "outputs": [
    {
     "data": {
      "image/jpeg": "[encoded data removed]",
      "text/html": [
       "\n",
       "        <iframe\n",
       "            width=\"400\"\n",
       "            height=\"300\"\n",
       "            src=\"https://www.youtube.com/embed/KElZ9uveNCs\"\n",
       "            frameborder=\"0\"\n",
       "            allowfullscreen\n",
       "            \n",
       "        ></iframe>\n",
       "        "
      ],
      "text/plain": [
       "<IPython.lib.display.YouTubeVideo at 0x7fc9a0927af0>"
      ]
     },
     "execution_count": 1,
     "metadata": {},
     "output_type": "execute_result"
    }
   ],
   "source": [
    "from IPython.display import YouTubeVideo\n",
    "\n",
    "YouTubeVideo('KElZ9uveNCs')"
   ]
  },
  {
   "cell_type": "markdown",
   "id": "8d3a97ee-0f23-4fe6-af23-0d6498d9617c",
   "metadata": {},
   "source": [
    "# Setting up a repo on GitHUB\n",
    "\n",
    "First, go to your GitHUB account (something like `https://github.com/<username>?tab=repositories`). We are going to first setup a new repository.\n",
    "    \n",
    "Click on the green button for a new repository:\n",
    "    ![image.png](07-gh-new.png)\n",
    "    \n",
    "Give it a name, fill out the details and then select Create repository.    \n",
    "\n"
   ]
  },
  {
   "cell_type": "markdown",
   "id": "3a61760b-4cf9-427d-ac33-01b726f22baf",
   "metadata": {},
   "source": [
    "## Clone the repo here in the Jupyter Hub\n",
    "\n",
    "Use a command like this to clone your repo. You can clone this one, but you won't be able to push to it later.\n",
    "\n",
    "    git clone https://github.com/Steel-Bank-codespaces/23-example.git\n",
    "    \n",
    "This will make a local copy you can work in. Go ahead and change into that directory, and make two files: setup.py, and `pkg/__init__.py`. For now they can be empty. Add these files to your git repo and commit them. \n",
    "\n",
    "These files are locally under version control. Now we need to get them back to GitHUB. To do that we have to setup a personal access token. See [](https://docs.github.com/en/authentication/keeping-your-account-and-data-secure/creating-a-personal-access-token#creating-a-personal-access-token-classic).\n",
    "\n",
    "Go to [](https://github.com/settings/tokens), and click Generate new token. We only need repo permissions, so click that box. You will have to save this token to a file, you won't be able to see it again.\n",
    "\n"
   ]
  },
  {
   "cell_type": "code",
   "execution_count": 2,
   "id": "e9c8964b-f839-4c5b-8df2-893aef3d9274",
   "metadata": {},
   "outputs": [
    {
     "name": "stdout",
     "output_type": "stream",
     "text": [
      "/home/jupyter-jkitchin@andrew.cm-11dd7/s24-06643/sse/07-github-intro\n"
     ]
    }
   ],
   "source": [
    "! pwd"
   ]
  },
  {
   "cell_type": "code",
   "execution_count": 3,
   "id": "a2ccdbce-15b5-4df3-a5d7-4c812d3942a1",
   "metadata": {},
   "outputs": [
    {
     "name": "stdout",
     "output_type": "stream",
     "text": [
      "Cloning into 's24-Apr-03'...\n",
      "warning: You appear to have cloned an empty repository.\n"
     ]
    }
   ],
   "source": [
    "! git clone https://github.com/jkitchin/s24-Apr-03.git"
   ]
  },
  {
   "cell_type": "code",
   "execution_count": 5,
   "id": "5d14e6ad-45b2-4083-8546-75a372b6c119",
   "metadata": {},
   "outputs": [
    {
     "name": "stdout",
     "output_type": "stream",
     "text": [
      "[master (root-commit) 3918ef4] initial commit\n",
      " 2 files changed, 0 insertions(+), 0 deletions(-)\n",
      " create mode 100644 pkg/__init__.py\n",
      " create mode 100644 setup.py\n",
      "On branch master\n",
      "Your branch is based on 'origin/master', but the upstream is gone.\n",
      "  (use \"git branch --unset-upstream\" to fixup)\n",
      "\n",
      "nothing to commit, working tree clean\n"
     ]
    }
   ],
   "source": [
    "%%bash\n",
    "cd s24-Apr-03\n",
    "git add setup.py pkg\n",
    "git commit -m \"initial commit\"\n",
    "git status"
   ]
  },
  {
   "cell_type": "code",
   "execution_count": 6,
   "id": "7452a918-49ad-4d72-931f-aaa7641c8593",
   "metadata": {},
   "outputs": [
    {
     "name": "stdout",
     "output_type": "stream",
     "text": [
      "Username for 'https://github.com': ^C\n"
     ]
    }
   ],
   "source": [
    "! git push"
   ]
  },
  {
   "cell_type": "markdown",
   "id": "accaa1ef-ba2f-4485-95fa-8a271361490e",
   "metadata": {},
   "source": [
    "Once you have a token, you can go to a terminal in the git repo, and run\n",
    "\n",
    "    git push\n",
    "    \n",
    "you will be prompted for your username, and then when prompted for the password, paste in your token. You should see some output that indicates it worked. Something like this.\n",
    "\n",
    "```\n",
    "jupyter-jkitchin@andrew.cm-11dd7@jupyterhub-dev:~/src/lectures/07-github-intro/23-example$ git push\n",
    "Username for 'https://github.com': jkitchin\n",
    "Password for 'https://jkitchin@github.com': \n",
    "Enumerating objects: 5, done.\n",
    "Counting objects: 100% (5/5), done.\n",
    "Delta compression using up to 32 threads\n",
    "Compressing objects: 100% (2/2), done.\n",
    "Writing objects: 100% (4/4), 383 bytes | 383.00 KiB/s, done.\n",
    "Total 4 (delta 0), reused 0 (delta 0)\n",
    "To https://github.com/Steel-Bank-codespaces/23-example.git\n",
    "   a360d18..8844ce0  main -> main\n",
    "```   \n",
    "\n",
    "You should also be able to see your new change at github now.\n",
    "\n",
    "It is a little annoying to enter this information everytime, so next run this command:\n",
    "\n",
    "    git config credential.helper store\n",
    "    \n",
    "You will still have to enter your username and token one more time, but after that it is stored for you and should not bother you again.\n",
    "\n"
   ]
  },
  {
   "cell_type": "markdown",
   "id": "4f5c48cc-4b09-46fe-a505-6d9f71a639a6",
   "metadata": {},
   "source": [
    "# Working with code files on GitHUB\n",
    "\n",
    "GitHub provides two ways to edit files. Navigate to the README.md file in your repo on GitHUB. Click the pencil icon. You can edit the file right in the browser, and directly commit the changes.\n",
    "\n",
    "Note that now, your local repo is behind in commits:\n",
    "\n",
    "```\n",
    "jupyter-jkitchin@andrew.cm-11dd7@jupyterhub-dev:~/src/lectures/07-github-intro/23-example$ git status\n",
    "On branch main\n",
    "Your branch is behind 'origin/main' by 1 commit, and can be fast-forwarded.\n",
    "  (use \"git pull\" to update your local branch)\n",
    "\n",
    "Untracked files:\n",
    "  (use \"git add <file>...\" to include in what will be committed)\n",
    "        .ipynb_checkpoints/\n",
    "        pkg/.ipynb_checkpoints/\n",
    "```\n",
    "\n",
    "To get it up to date, we have to *pull* the results in. Here it is easy, there are no conflicts so we can just merge the results in.\n",
    "\n",
    "    git pull\n",
    "    \n",
    "```\n",
    "jupyter-jkitchin@andrew.cm-11dd7@jupyterhub-dev:~/src/lectures/07-github-intro/23-example$ git pull\n",
    "Updating 09f035f..7160603\n",
    "Fast-forward\n",
    " README.md | 4 +++-\n",
    " 1 file changed, 3 insertions(+), 1 deletion(-)\n",
    " ```\n",
    " \n",
    " \n",
    " In browser editing is extremely convenient for small changes.\n",
    "\n"
   ]
  },
  {
   "cell_type": "code",
   "execution_count": 9,
   "id": "ee8990fd-1e05-4fcb-9874-66dc6b2ccea9",
   "metadata": {},
   "outputs": [
    {
     "name": "stdout",
     "output_type": "stream",
     "text": [
      "Already up to date.\n"
     ]
    }
   ],
   "source": [
    "%%bash\n",
    "cd s24-Apr-03\n",
    "git pull"
   ]
  },
  {
   "cell_type": "code",
   "execution_count": 11,
   "id": "022135c6-0e3b-4d2f-a443-8b010efcb1ec",
   "metadata": {},
   "outputs": [
    {
     "name": "stdout",
     "output_type": "stream",
     "text": [
      "* f3e9cfc Update README.md\n",
      "* 12774cd Create README.md\n",
      "* 890a746 rename test:\n",
      "* a97e836 test file\n",
      "* 3918ef4 initial commit\n"
     ]
    }
   ],
   "source": [
    "%%bash \n",
    "cd s24-Apr-03\n",
    "git log --graph --oneline"
   ]
  },
  {
   "cell_type": "markdown",
   "id": "231b3fbb-fe7a-4f6f-9628-d7a1adb8dc5b",
   "metadata": {},
   "source": [
    "# VS Code in the browser\n",
    "\n",
    "You can get a much fancier editor by pressing . in a code file in your repo. This will launch a Browser version of VS Code. This is a little more sophisticated and has more of a learning curve. You still have to make commits back to the repo.\n",
    "\n"
   ]
  },
  {
   "cell_type": "markdown",
   "id": "e550379b-244b-4daf-ba03-a9a19f0f3ca4",
   "metadata": {},
   "source": [
    "# GitHUB Codespaces\n",
    "\n",
    "An even more advanced option is to open a \"CodeSpace\".\n",
    "\n",
    "![image.png](07-gh-cs.png)\n",
    "\n",
    "This is a full computational environment that runs in VS Code, complete with a terminal. It is like the JupyterHUB we use in class, it even can run Jupyter notebooks. It does take quite a bit of configuration to get something as functional as we have (I have already done that configuration for you). Later, you can learn more about sophisticated codespaces by studying the repos at [](https://github.com/Steel-Bank-codespaces). For now, we work with the base environment. \n",
    "\n",
    "A critical point to remember about a Codespace is that it is separate from your repo. You have to commit **and push** changes to the repo if you want to see them on GitHUB. You can even create independent Codespaces on the same repo; these do not see each other, and are like branches.\n",
    "\n",
    "Make some new edits to the README.md file, then commit to the repo. Note this does not make it go to your repo on GitHUB. You also have to push the changes. Luckily, there are no authentication issues here, you simply run `git push`.\n",
    "\n"
   ]
  },
  {
   "cell_type": "markdown",
   "id": "531de31a-f266-42d9-b504-777e65387027",
   "metadata": {},
   "source": [
    "# Back to Jupyter Hub\n",
    "\n",
    "Go back to your README.md file and edit it locally here. Go ahead and commit it locally.\n",
    "\n",
    "Your local repo should be \"behind\" the remote repo. That means there are commits remotely that you don't have locally. If you try to push now you get an error:\n",
    "\n",
    "```\n",
    "jupyter-jkitchin@andrew.cm-11dd7@jupyterhub-dev:~/src/lectures/07-github-intro/23-example$ git push\n",
    "To https://github.com/Steel-Bank-codespaces/23-example.git\n",
    " ! [rejected]        main -> main (non-fast-forward)\n",
    "error: failed to push some refs to 'https://github.com/Steel-Bank-codespaces/23-example.git'\n",
    "hint: Updates were rejected because the tip of your current branch is behind\n",
    "hint: its remote counterpart. Integrate the remote changes (e.g.\n",
    "hint: 'git pull ...') before pushing again.\n",
    "hint: See the 'Note about fast-forwards' in 'git push --help' for details.\n",
    "```\n",
    "\n",
    "The message tells us we have to pull the remote changes in. This will allow us to check for merge conflicts. Indeed there are some.\n",
    "\n",
    "```\n",
    "git pull\n",
    "Auto-merging README.md\n",
    "CONFLICT (content): Merge conflict in README.md\n",
    "Automatic merge failed; fix conflicts and then commit the result.\n",
    "```\n",
    "\n"
   ]
  },
  {
   "cell_type": "markdown",
   "id": "95f92a8e-fa7c-4ff6-a597-800c90ef91db",
   "metadata": {},
   "source": [
    "## Dealing with merge conflicts\n",
    "\n",
    "merge conflicts happen when there are conflicting changes to a line in a file. git modifies that file with syntax like this to show you the problem. Here git is unable to tell which lines to keep. You have to make that decision.\n",
    "\n",
    "```\n",
    "<<<<<<< HEAD\n",
    "What about other stuff?\n",
    "=======\n",
    "Even with VS Code!\n",
    "\n",
    "and in a Codespace.\n",
    ">>>>>>> 62f8e56bef7eaef7dc46b8aa49a97f931a224323\n",
    "```\n",
    "\n",
    "To resolve the merge conflict you have to delete the lines you don't want, including `<<<<<<<<`, `=========` and `>>>>>>>>`. Then commit the file and then you should be able to push.\n",
    "\n",
    "    git commit -am \"fix merge\"\n",
    "    git push\n",
    "\n"
   ]
  },
  {
   "cell_type": "markdown",
   "id": "5abe261b-ffef-4b6b-aab3-536911a3cee1",
   "metadata": {},
   "source": [
    "merge conflicts with a single user are not too common, but with so many ways to edit a repo now, they are possible!\n",
    "\n"
   ]
  },
  {
   "cell_type": "markdown",
   "id": "1ae39065-5250-42d8-b455-4cf153c0b2da",
   "metadata": {},
   "source": [
    "# Wrapping up thoughts on Codespaces\n",
    "\n",
    "GitHub will provides each Free plan account 120 core hours, or 60 hours of run time for a 2 core codespace, plus 15 GB of storage to use each month.\n",
    "\n",
    "Codespaces shut down after ~30 minutes of inactivity. After ~2 weeks of inactivity Codespaces are deleted.\n",
    "\n",
    "They are persistent until they are deleted, which means you can restart them later and continue your work. They are intended though to be temporary development environments where you start in a clean state, do your work, commit changes, and then delete the Codespace.\n",
    "\n",
    "You can setup almost any environment you want in a Codespace. See https://docs.github.com/en/codespaces. Doing this requires learning about Docker files and devcontainer configuration. Building the images can be slow...\n",
    "\n",
    "\n",
    "\n"
   ]
  },
  {
   "cell_type": "markdown",
   "id": "b9833f2b-403e-4255-9e8f-1a9f68e1ea00",
   "metadata": {},
   "source": [
    "# Next time\n",
    "\n",
    "Coupling automation with GitHUB via GitHUB actions.\n",
    "\n"
   ]
  }
 ],
 "metadata": {
  "kernelspec": {
   "display_name": "Python 3",
   "language": "python",
   "name": "python3"
  },
  "language_info": {
   "codemirror_mode": {
    "name": "ipython",
    "version": 3
   },
   "file_extension": ".py",
   "mimetype": "text/x-python",
   "name": "python",
   "nbconvert_exporter": "python",
   "pygments_lexer": "ipython3",
   "version": "3.9.7"
  },
  "widgets": {
   "application/vnd.jupyter.widget-state+json": {
    "state": {},
    "version_major": 2,
    "version_minor": 0
   }
  }
 },
 "nbformat": 4,
 "nbformat_minor": 5
}
