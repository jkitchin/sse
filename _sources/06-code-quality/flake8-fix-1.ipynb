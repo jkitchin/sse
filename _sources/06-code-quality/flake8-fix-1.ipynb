{
 "cells": [
  {
   "cell_type": "code",
   "execution_count": 1,
   "id": "d81b6170-589e-4978-9ed9-fbbafa0a1932",
   "metadata": {},
   "outputs": [
    {
     "name": "stdout",
     "output_type": "stream",
     "text": [
      "Overwriting package/s23bib/__init__.py\n"
     ]
    }
   ],
   "source": [
    "%%writefile package/s23bib/__init__.py\n",
    "\"\"\"Top level docstring.\"\"\"\n",
    "from .utils import sort_bibtex"
   ]
  },
  {
   "cell_type": "code",
   "execution_count": 2,
   "id": "5926bdcd-e9bf-4789-a76f-52fcb8801d5e",
   "metadata": {},
   "outputs": [
    {
     "name": "stdout",
     "output_type": "stream",
     "text": [
      "Overwriting package/s23bib/utils.py\n"
     ]
    }
   ],
   "source": [
    "%%writefile package/s23bib/utils.py\n",
    "\"\"\"Define utility functions for our package.\"\"\"\n",
    "\n",
    "import bibtexparser\n",
    "\n",
    "\n",
    "def sort_bibtex(bibfile, ascending=True, inplace=False):\n",
    "    \"\"\"Sort a bibtex file.\n",
    "\n",
    "    bibfile: string of path to file\n",
    "    ascending: if True sort with years increasing.\n",
    "    inplace: if True, overwrite the file with results.\n",
    "    \"\"\"\n",
    "    with open(bibfile) as bf:\n",
    "        bd = bibtexparser.load(bf)\n",
    "    entries = bd.entries\n",
    "    entries.sort(key=lambda entry: int(entry[\"year\"]), reverse=not ascending)\n",
    "\n",
    "    if inplace:\n",
    "        db = bibtexparser.bibdatabase.BibDatabase\n",
    "        db.entries = entries\n",
    "        db.comments = []\n",
    "        db.strings = {}\n",
    "        db.preambles = []\n",
    "        writer = bibtexparser.bwriter.BibTexWriter()\n",
    "        with open(bibfile, \"w\") as bibfile:\n",
    "            bibfile.write(writer.write(db))\n",
    "\n",
    "    else:\n",
    "        return entries"
   ]
  },
  {
   "cell_type": "code",
   "execution_count": null,
   "id": "5aff87db-9784-4396-93c6-7a7da6bea2a8",
   "metadata": {},
   "outputs": [],
   "source": [
    "%%writefile package/s23bib/test_sort.py\n",
    "\"\"\"Tests for the package.\"\"\"\n",
    "import os\n",
    "import pytest\n",
    "import bibtexparser\n",
    "from s23bib import sort_bibtex\n",
    "\n",
    "bs = \"\"\"\n",
    "@article{kitchin-2018-machin-learn-catal,\n",
    "  author =\t {John R. Kitchin},\n",
    "  title =\t {Machine Learning in Catalysis},\n",
    "  journal =\t {Nature Catalysis},\n",
    "  volume =\t 1,\n",
    "  number =\t 4,\n",
    "  pages =\t {230-232},\n",
    "  year =\t 2018,\n",
    "  doi =\t\t {10.1038/s41929-018-0056-y},\n",
    "  url =\t\t {https://doi.org/10.1038/s41929-018-0056-y},\n",
    "  DATE_ADDED =\t {Sun Mar 3 16:40:42 2019},\n",
    "}\n",
    "@article{kitchin-2015-examp-effec,\n",
    "  author =\t {John R. Kitchin},\n",
    "  title =\t {Examples of Effective Data Sharing in Scientific Publishing},\n",
    "  journal =\t {ACS Catalysis},\n",
    "  volume =\t 5,\n",
    "  number =\t 6,\n",
    "  pages =\t {3894-3899},\n",
    "  year =\t 2015,\n",
    "  doi =\t\t {10.1021/acscatal.5b00538},\n",
    "  url =\t\t {https://doi.org/10.1021/acscatal.5b00538},\n",
    "  DATE_ADDED =\t {Fri Jan 18 09:54:51 2019},\n",
    "}\"\"\"\n",
    "\n",
    "\n",
    "@pytest.fixture()\n",
    "def setup():\n",
    "    \"\"\"Make then delete the bib file.\"\"\"\n",
    "    with open(\"test.bib\", \"w\") as f:\n",
    "        f.write(bs)\n",
    "    yield \"setup\"\n",
    "    os.unlink(\"test.bib\")\n",
    "\n",
    "\n",
    "class TestSort:\n",
    "    \"\"\"A Test class.\"\"\"\n",
    "\n",
    "    def test_sort(self, setup):\n",
    "        \"\"\"Test sorting.\"\"\"\n",
    "        entries = sort_bibtex(\"test.bib\")\n",
    "        assert [e[\"year\"] for e in entries] == [\"2015\", \"2018\"]\n"
   ]
  },
  {
   "cell_type": "code",
   "execution_count": null,
   "id": "da4fbd5b-17bb-43ad-9393-3c6daf9fec22",
   "metadata": {},
   "outputs": [],
   "source": [
    "%%writefile package/setup.py\n",
    "\"\"\"Setup for the package.\"\"\"\n",
    "from setuptools import setup\n",
    "\n",
    "setup(\n",
    "    name=\"s23bib\",\n",
    "    version=\"0.0.1\",\n",
    "    description=\"bibtex utilities\",\n",
    "    maintainer=\"John Kitchin\",\n",
    "    maintainer_email=\"jkitchin@andrew.cmu.edu\",\n",
    "    license=\"MIT\",\n",
    "    packages=[\"s23bib\"],\n",
    "    scripts=[],\n",
    "    long_description=\"\"\"A set of bibtex utilities\"\"\",\n",
    ")\n"
   ]
  }
 ],
 "metadata": {
  "kernelspec": {
   "display_name": "Python 3",
   "language": "python",
   "name": "python3"
  },
  "language_info": {
   "codemirror_mode": {
    "name": "ipython",
    "version": 3
   },
   "file_extension": ".py",
   "mimetype": "text/x-python",
   "name": "python",
   "nbconvert_exporter": "python",
   "pygments_lexer": "ipython3",
   "version": "3.9.7"
  },
  "widgets": {
   "application/vnd.jupyter.widget-state+json": {
    "state": {},
    "version_major": 2,
    "version_minor": 0
   }
  }
 },
 "nbformat": 4,
 "nbformat_minor": 5
}
