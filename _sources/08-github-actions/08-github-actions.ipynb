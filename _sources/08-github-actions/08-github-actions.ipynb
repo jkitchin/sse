{
 "cells": [
  {
   "cell_type": "markdown",
   "id": "1185908a-4e37-433d-a218-da1d84b66c76",
   "metadata": {},
   "source": [
    "gitHUB Actions\n",
    "==============\n",
    "\n"
   ]
  },
  {
   "cell_type": "code",
   "execution_count": 1,
   "id": "b5145d77-abdb-43c5-8bab-209a6cffde18",
   "metadata": {},
   "outputs": [],
   "source": [
    "# Start clean\n",
    "! rm -fr s23-06682-L08"
   ]
  },
  {
   "cell_type": "markdown",
   "id": "438a2659-e15c-4c36-9b3c-432e5bbe5870",
   "metadata": {},
   "source": [
    "# Lecture setup\n",
    "\n",
    "1. Make sure you are logged into GitHUB.\n",
    "2. Go to https://github.com/Steel-Bank-codespaces/s23-06682-L08.\n",
    "\n",
    "Look for the fork button.\n",
    "\n",
    "then click it. This will \"fork\" the repo, i.e. make a copy of it in your GitHUB account.\n",
    "\n",
    "Then, come back here and open a terminal. Navigate to the lecture directory and run\n",
    "\n",
    "    ! git clone https://github.com/<github-id>/s23-06682-L08.git"
   ]
  },
  {
   "cell_type": "code",
   "execution_count": 3,
   "id": "d28b6ec9-5710-4f4c-a9a4-60e18d04489e",
   "metadata": {},
   "outputs": [
    {
     "name": "stdout",
     "output_type": "stream",
     "text": [
      "Cloning into 's23-06682-L08'...\n",
      "Username for 'https://github.com': ^C\n"
     ]
    }
   ],
   "source": [
    "! git clone https://github.com/jkitchin/s23-06682-L08.git"
   ]
  },
  {
   "cell_type": "markdown",
   "id": "bfbf6782-95ed-488d-9cff-58a4c2c3254e",
   "metadata": {},
   "source": [
    "    \n",
    "to make your own copy locally we can work on."
   ]
  },
  {
   "cell_type": "markdown",
   "id": "dbb9b40e-1d5b-496f-a2cf-8d26274455d8",
   "metadata": {},
   "source": [
    "# Brief exploration of the repo \n",
    "\n"
   ]
  },
  {
   "cell_type": "code",
   "execution_count": 4,
   "id": "f5d073de-2a69-4774-bed2-1c62c5bff290",
   "metadata": {},
   "outputs": [
    {
     "name": "stdout",
     "output_type": "stream",
     "text": [
      "s23-06682-L08  [error opening dir]\n",
      "\n",
      "0 directories, 0 files\n"
     ]
    }
   ],
   "source": [
    "! tree s23-06682-L08"
   ]
  },
  {
   "cell_type": "code",
   "execution_count": 5,
   "id": "2ee7400b-16c9-4ceb-a754-65cf32ad10ae",
   "metadata": {},
   "outputs": [
    {
     "name": "stderr",
     "output_type": "stream",
     "text": [
      "bash: line 1: cd: s23-06682-L08: No such file or directory\n"
     ]
    },
    {
     "name": "stdout",
     "output_type": "stream",
     "text": [
      "============================= test session starts ==============================\n",
      "platform linux -- Python 3.9.13, pytest-7.3.2, pluggy-1.0.0\n",
      "rootdir: /home/jovyan/work/08-github-actions\n",
      "plugins: anyio-3.6.1, nbmake-1.4.1\n",
      "collected 0 items\n",
      "\n",
      "============================ no tests ran in 0.02s =============================\n"
     ]
    },
    {
     "ename": "CalledProcessError",
     "evalue": "Command 'b'cd s23-06682-L08\\npytest\\n'' returned non-zero exit status 5.",
     "output_type": "error",
     "traceback": [
      "\u001b[0;31m---------------------------------------------------------------------------\u001b[0m",
      "\u001b[0;31mCalledProcessError\u001b[0m                        Traceback (most recent call last)",
      "Cell \u001b[0;32mIn [5], line 1\u001b[0m\n\u001b[0;32m----> 1\u001b[0m \u001b[43mget_ipython\u001b[49m\u001b[43m(\u001b[49m\u001b[43m)\u001b[49m\u001b[38;5;241;43m.\u001b[39;49m\u001b[43mrun_cell_magic\u001b[49m\u001b[43m(\u001b[49m\u001b[38;5;124;43m'\u001b[39;49m\u001b[38;5;124;43mbash\u001b[39;49m\u001b[38;5;124;43m'\u001b[39;49m\u001b[43m,\u001b[49m\u001b[43m \u001b[49m\u001b[38;5;124;43m'\u001b[39;49m\u001b[38;5;124;43m'\u001b[39;49m\u001b[43m,\u001b[49m\u001b[43m \u001b[49m\u001b[38;5;124;43m'\u001b[39;49m\u001b[38;5;124;43mcd s23-06682-L08\u001b[39;49m\u001b[38;5;130;43;01m\\n\u001b[39;49;00m\u001b[38;5;124;43mpytest\u001b[39;49m\u001b[38;5;130;43;01m\\n\u001b[39;49;00m\u001b[38;5;124;43m'\u001b[39;49m\u001b[43m)\u001b[49m\n",
      "File \u001b[0;32m/opt/conda/lib/python3.9/site-packages/IPython/core/interactiveshell.py:2362\u001b[0m, in \u001b[0;36mInteractiveShell.run_cell_magic\u001b[0;34m(self, magic_name, line, cell)\u001b[0m\n\u001b[1;32m   2360\u001b[0m \u001b[38;5;28;01mwith\u001b[39;00m \u001b[38;5;28mself\u001b[39m\u001b[38;5;241m.\u001b[39mbuiltin_trap:\n\u001b[1;32m   2361\u001b[0m     args \u001b[38;5;241m=\u001b[39m (magic_arg_s, cell)\n\u001b[0;32m-> 2362\u001b[0m     result \u001b[38;5;241m=\u001b[39m \u001b[43mfn\u001b[49m\u001b[43m(\u001b[49m\u001b[38;5;241;43m*\u001b[39;49m\u001b[43margs\u001b[49m\u001b[43m,\u001b[49m\u001b[43m \u001b[49m\u001b[38;5;241;43m*\u001b[39;49m\u001b[38;5;241;43m*\u001b[39;49m\u001b[43mkwargs\u001b[49m\u001b[43m)\u001b[49m\n\u001b[1;32m   2363\u001b[0m \u001b[38;5;28;01mreturn\u001b[39;00m result\n",
      "File \u001b[0;32m/opt/conda/lib/python3.9/site-packages/IPython/core/magics/script.py:153\u001b[0m, in \u001b[0;36mScriptMagics._make_script_magic.<locals>.named_script_magic\u001b[0;34m(line, cell)\u001b[0m\n\u001b[1;32m    151\u001b[0m \u001b[38;5;28;01melse\u001b[39;00m:\n\u001b[1;32m    152\u001b[0m     line \u001b[38;5;241m=\u001b[39m script\n\u001b[0;32m--> 153\u001b[0m \u001b[38;5;28;01mreturn\u001b[39;00m \u001b[38;5;28;43mself\u001b[39;49m\u001b[38;5;241;43m.\u001b[39;49m\u001b[43mshebang\u001b[49m\u001b[43m(\u001b[49m\u001b[43mline\u001b[49m\u001b[43m,\u001b[49m\u001b[43m \u001b[49m\u001b[43mcell\u001b[49m\u001b[43m)\u001b[49m\n",
      "File \u001b[0;32m/opt/conda/lib/python3.9/site-packages/IPython/core/magics/script.py:305\u001b[0m, in \u001b[0;36mScriptMagics.shebang\u001b[0;34m(self, line, cell)\u001b[0m\n\u001b[1;32m    300\u001b[0m \u001b[38;5;28;01mif\u001b[39;00m args\u001b[38;5;241m.\u001b[39mraise_error \u001b[38;5;129;01mand\u001b[39;00m p\u001b[38;5;241m.\u001b[39mreturncode \u001b[38;5;241m!=\u001b[39m \u001b[38;5;241m0\u001b[39m:\n\u001b[1;32m    301\u001b[0m     \u001b[38;5;66;03m# If we get here and p.returncode is still None, we must have\u001b[39;00m\n\u001b[1;32m    302\u001b[0m     \u001b[38;5;66;03m# killed it but not yet seen its return code. We don't wait for it,\u001b[39;00m\n\u001b[1;32m    303\u001b[0m     \u001b[38;5;66;03m# in case it's stuck in uninterruptible sleep. -9 = SIGKILL\u001b[39;00m\n\u001b[1;32m    304\u001b[0m     rc \u001b[38;5;241m=\u001b[39m p\u001b[38;5;241m.\u001b[39mreturncode \u001b[38;5;129;01mor\u001b[39;00m \u001b[38;5;241m-\u001b[39m\u001b[38;5;241m9\u001b[39m\n\u001b[0;32m--> 305\u001b[0m     \u001b[38;5;28;01mraise\u001b[39;00m CalledProcessError(rc, cell)\n",
      "\u001b[0;31mCalledProcessError\u001b[0m: Command 'b'cd s23-06682-L08\\npytest\\n'' returned non-zero exit status 5."
     ]
    }
   ],
   "source": [
    "%%bash\n",
    "cd s23-06682-L08\n",
    "pytest"
   ]
  },
  {
   "cell_type": "code",
   "execution_count": null,
   "id": "0121ff2b-b825-4245-8545-ed166cab3161",
   "metadata": {},
   "outputs": [],
   "source": [
    "%%bash\n",
    "cd s23-06682-L08/pkg\n",
    "pip install ."
   ]
  },
  {
   "cell_type": "code",
   "execution_count": null,
   "id": "5aa2449d-dc28-4c8a-a470-cfec6be3049b",
   "metadata": {},
   "outputs": [],
   "source": [
    "%run s23-06682-L08/example.ipynb"
   ]
  },
  {
   "cell_type": "markdown",
   "id": "df4ae410-aad6-46ea-98eb-3b6cfdee5520",
   "metadata": {},
   "source": [
    "Looks good for now. \n",
    "\n"
   ]
  },
  {
   "cell_type": "markdown",
   "id": "50a5ccf1-0cd2-4c8d-a262-065a5b757871",
   "metadata": {},
   "source": [
    "# Making GitHUB do the work instead of your computer\n",
    "\n",
    "We have learned about pre-commit hooks, where you leverage git to run tests, do formatting, check styles, etc. These are ideal for your side of the work, that is, we check before submitting to GitHUB.\n",
    "\n",
    "There is also a way to do checks /after/ you submit to GitHUB. This is a specific feature of GitHUB, but you may find similar features in other services like bitbucket or gitlab.\n",
    "\n",
    "A workflow is a setup for an environment to run some commands in, and a set of commands to be run. Before we get into the details of those two things, we will talk about YAML (https://yaml.org/), which is recursively defined as \"YAML ain't markup language\". It is a data serialization language often used for configurations. It is specifically a data language, and is not meant to be used to write documents (in contrast to Markdown, for example).\n",
    "\n",
    "You can learn YAML here https://learnxinyminutes.com/docs/yaml/. We will learn by example today.\n",
    "\n",
    "Yaml is comprised of key:value pairs (like a dictionary) and lists.  These can be opened/closed by changing indentation levels.\n",
    "\n",
    "To get a sense for how to read YAML, we will use pyyaml to read some.\n",
    "\n"
   ]
  },
  {
   "cell_type": "code",
   "execution_count": null,
   "id": "72147043-ec52-4453-838c-7f9dd6f39a28",
   "metadata": {},
   "outputs": [],
   "source": [
    "import yaml\n",
    "\n",
    "\n",
    "yaml.load('name: my action', Loader=yaml.SafeLoader)\n",
    "\n"
   ]
  },
  {
   "cell_type": "markdown",
   "id": "d8502bbc-3b3f-4877-8e79-90b127e95da5",
   "metadata": {},
   "source": [
    "A two line string loads like this:\n",
    "\n"
   ]
  },
  {
   "cell_type": "code",
   "execution_count": null,
   "id": "6809dfb4-a923-4eac-b9b0-bc4d2eab399f",
   "metadata": {},
   "outputs": [],
   "source": [
    "yaml.load('''\n",
    "name: grading\n",
    "runs-on: ubuntu-latest\n",
    "''', Loader=yaml.SafeLoader)\n",
    "\n"
   ]
  },
  {
   "cell_type": "code",
   "execution_count": null,
   "id": "401e4838-66c2-44a4-b843-03a6b03c7c98",
   "metadata": {},
   "outputs": [],
   "source": [
    "yaml.load('''\n",
    "steps:\n",
    "  - uses: actions/checkout@v3\n",
    "    with:\n",
    "      fetch-depth: 0\n",
    "  - uses: education/autograding@v1\n",
    "    name: \"Grading and Feedback\"\n",
    "''', Loader=yaml.SafeLoader)\n",
    "\n"
   ]
  },
  {
   "cell_type": "markdown",
   "id": "4fa796fc-b2fd-472c-9685-f4b9226a1f73",
   "metadata": {},
   "source": [
    "These files usually get put into a file with an extension of .yml or .yaml. We have to create YAML files to tell GitHUB what to do for actions and workflows.\n",
    "\n",
    "\n"
   ]
  },
  {
   "cell_type": "markdown",
   "id": "18a787f8-911c-425b-9320-63640ed26e5c",
   "metadata": {},
   "source": [
    "# GitHUB Actions (https://docs.github.com/en/actions)\n",
    "\n",
    "To make a new workflow, you create a .yml or .yaml file in ~.github/workflows~.\n",
    "\n",
    "GitHUB actions are sophisticated, and cover a lot of ground:\n",
    "https://docs.github.com/en/actions/using-workflows/workflow-syntax-for-github-actions#about-yaml-syntax-for-workflows.\n",
    "\n",
    "There are a few things every workflow must have in it. One is a name, and one is what triggers it to run. Here we specify those things. Put this in a file called `.github/workflows/my-workflow.yaml`. This will give your action a name, and it will get run when ever anything is pushed.\n",
    "\n"
   ]
  },
  {
   "cell_type": "code",
   "execution_count": null,
   "id": "b7ca1f88-e607-4411-bcb5-60ab5884dfb8",
   "metadata": {},
   "outputs": [],
   "source": [
    "%%bash\n",
    "mkdir -p s23-06682-L08/.github/workflows\n",
    "\n"
   ]
  },
  {
   "cell_type": "code",
   "execution_count": null,
   "id": "0759ba15-834a-4d88-81d3-c2ca3fff7c52",
   "metadata": {},
   "outputs": [],
   "source": [
    "%%writefile s23-06682-L08/.github/workflows/my-workflow.yaml\n",
    "name: First job\n",
    "on: push\n",
    "\n",
    "jobs:\n",
    "  my_first_job:\n",
    "    runs-on: ubuntu-latest\n",
    "    steps:\n",
    "      - run: |\n",
    "          pwd \n",
    "          ls -alF\n",
    "\n"
   ]
  },
  {
   "cell_type": "markdown",
   "id": "e439ea8a-8617-4613-92db-af34ad08700e",
   "metadata": {},
   "source": [
    "Go ahead and commit this new file. Before you push it, remember to go to https://github.com/settings/tokens to setup a personal access token. Make sure to select the repo and workflow items this time.\n",
    "\n",
    "Also, go ahead and run this command in the repo in the terminal before you push:\n",
    "\n",
    "    git config credential.helper store\n",
    "    \n",
    "then, go ahead and push it back to your forked version. \n",
    "\n",
    "```{note}\n",
    "you may see something like\n",
    "\n",
    "jupyter-jkitchin@andrew.cm-11dd7@jupyterhub-dev:~/src/lectures/08-github-actions/s23-06682-L08$ git push\n",
    "remote: Invalid username or password.\n",
    "fatal: Authentication failed for 'https://github.com/jkitchin/s23-06682-L08.git/'\n",
    "\n",
    "because there may be a saved value from last class. Try it again and see if it prompts you for a username, and then paste your new token in.\n",
    "```\n",
    "\n",
    "Assuming that worked, now we can go check out what happened. Navigate back to your repo. You can find it like this:\n",
    "\n"
   ]
  },
  {
   "cell_type": "code",
   "execution_count": null,
   "id": "c98fc9cb-7e99-4a16-b453-fdb0ac0036a4",
   "metadata": {},
   "outputs": [],
   "source": [
    "%%bash\n",
    "cd s23-06682-L08\n",
    "git remote -v\n",
    "\n"
   ]
  },
  {
   "cell_type": "markdown",
   "id": "4be41ec0-0a94-4014-aef0-be778b3d582b",
   "metadata": {},
   "source": [
    "There are a bunch of new things. You can see where the repo was forked from, and that it is one commit ahead of the repo it was forked from.\n",
    "\n"
   ]
  },
  {
   "cell_type": "markdown",
   "id": "392ae563-1d66-48a1-9bd4-b750775d339f",
   "metadata": {},
   "source": [
    "Next, navigate to the Actions tab. Let's see what happened. \n",
    "\n",
    "There isn't much in the actions output. In fact, there is nothing at all! When the virtual machine that runs this spins up, it is bare and has almost nothing in it. It does not even have your repo in it.\n",
    "\n",
    "Let's add a second job and learn a new trick about using \"actions\". Here we checkout a copy of our repo, then we update apt so we can install tree. What is with the \"sudo\"? You need /root/ or /superuser/ privileges to install packages, and we get that with `sudo`. It is short for \"superuser do\".\n",
    "\n"
   ]
  },
  {
   "cell_type": "code",
   "execution_count": null,
   "id": "503a5b34-d4b9-465d-a088-1f173082a0aa",
   "metadata": {},
   "outputs": [],
   "source": [
    "%%writefile s23-06682-L08/.github/workflows/my-workflow.yaml\n",
    "name: First job\n",
    "on: push\n",
    "\n",
    "jobs:\n",
    "  my_first_job:\n",
    "    runs-on: ubuntu-latest\n",
    "    steps:\n",
    "      - run: |\n",
    "          pwd \n",
    "          ls -alF\n",
    "\n",
    "  my_second_job:\n",
    "    runs-on: ubuntu-latest\n",
    "    steps:      \n",
    "      - uses: actions/checkout@v3\n",
    "      - run: |\n",
    "          sudo apt-get update \n",
    "          sudo apt-get install tree \n",
    "          tree -F .            \n",
    "\n"
   ]
  },
  {
   "cell_type": "markdown",
   "id": "411607ae-1151-4c9e-8bb5-a62a7df71c61",
   "metadata": {},
   "source": [
    "Now we need to commit and push this.\n",
    "\n"
   ]
  },
  {
   "cell_type": "code",
   "execution_count": null,
   "id": "4c4df740-a627-4c45-b3e6-77bc53521d93",
   "metadata": {},
   "outputs": [],
   "source": [
    "%%bash\n",
    "cd s23-06682-L08\n",
    "git commit .github/workflows/my-workflow.yaml -m \"add second job\"\n",
    "git push\n",
    "\n"
   ]
  },
  {
   "cell_type": "markdown",
   "id": "c73dbdd3-c033-4f6c-b734-b85841e1bc49",
   "metadata": {},
   "source": [
    "It may take a while, but soon a new Action task should launch.\n",
    "\n",
    "Finally, you see we have a copy of our current repository. This still isn't that exciting, after all, we already knew we had those! We are leading up to setting up some tests. \n",
    "\n",
    "It is a little challenging to know what all is installed remotely. Let's add a third job, this time we install `black` and run it on our repository. We only run in check mode, so if this fails, then this job will fail.\n",
    "\n",
    "We don't need the first or second job any more, so let's delete that.\n",
    "\n"
   ]
  },
  {
   "cell_type": "code",
   "execution_count": null,
   "id": "26c60f66-7a46-45c7-93d8-dd8ea4628c1f",
   "metadata": {},
   "outputs": [],
   "source": [
    "%%writefile s23-06682-L08/.github/workflows/my-workflow.yaml\n",
    "name: First job\n",
    "on: push\n",
    "\n",
    "jobs:\n",
    "\n",
    "  my_third_job:\n",
    "    runs-on: ubuntu-latest\n",
    "    steps:      \n",
    "      - uses: actions/checkout@v3\n",
    "      - run: |\n",
    "          pip install black\n",
    "          black --check .\n",
    "\n"
   ]
  },
  {
   "cell_type": "code",
   "execution_count": null,
   "id": "75e57d99-1b3d-46a5-a763-8db949220b4e",
   "metadata": {},
   "outputs": [],
   "source": [
    "%%bash\n",
    "cd s23-06682-L08\n",
    "git commit .github/workflows/my-workflow.yaml -m \"add third job\"\n",
    "git push\n",
    "\n"
   ]
  },
  {
   "cell_type": "markdown",
   "id": "9c179338-d728-4495-ae78-1ff675e853b0",
   "metadata": {},
   "source": [
    "Now go back to your Actions tab. You will see that the third job should have failed. We can fix it by running black locally. Check your email, you should have gotten a notification that a job failed!\n",
    "\n"
   ]
  },
  {
   "cell_type": "code",
   "execution_count": null,
   "id": "916dfdd2-8861-4b4a-a8e6-650984eea90e",
   "metadata": {},
   "outputs": [],
   "source": [
    "%%bash\n",
    "cd s23-06682-L08\n",
    "black .\n",
    "git commit -am \"ran black\"\n",
    "git push\n",
    "\n"
   ]
  },
  {
   "cell_type": "markdown",
   "id": "d5b3090c-b2dd-4c90-969a-aeb360d90ba8",
   "metadata": {},
   "source": [
    "## Create a status badge\n",
    "\n",
    "In the actions view there is a place to create a status badge. This is some Markdown that GitHUB can render. Copy this to your Readme.md file, then commit and push it.\n",
    "\n"
   ]
  },
  {
   "cell_type": "code",
   "execution_count": null,
   "id": "6c237ae2-0f58-46d8-bc0c-d1ec856601a9",
   "metadata": {},
   "outputs": [],
   "source": [
    "%%bash\n",
    "cd s23-06682-L08\n",
    "git commit README.md -m \"add badge\"\n",
    "git push\n",
    "\n"
   ]
  },
  {
   "cell_type": "markdown",
   "id": "b22860df-1c2f-4e36-9934-4c602fd62f03",
   "metadata": {},
   "source": [
    "Now on gitHUB, you should be able to see the badge.\n",
    "\n"
   ]
  },
  {
   "cell_type": "markdown",
   "id": "3be9a10f-c0e6-4dec-aa70-97473c88d85a",
   "metadata": {},
   "source": [
    "Let's add one new task to run our tests. This one requires us to install all the libraries needed for our test to work. Note that with the checkout action we start in our repo.\n",
    "\n"
   ]
  },
  {
   "cell_type": "code",
   "execution_count": null,
   "id": "ba486890-3fc8-4533-a25d-c1baa6280672",
   "metadata": {},
   "outputs": [],
   "source": [
    "%%writefile s23-06682-L08/.github/workflows/my-workflow.yaml\n",
    "name: First job\n",
    "on: push\n",
    "\n",
    "jobs:\n",
    "\n",
    "  black:\n",
    "    runs-on: ubuntu-latest\n",
    "    steps:      \n",
    "      - uses: actions/checkout@v3\n",
    "      - run: |\n",
    "          pip install black\n",
    "          black --check .\n",
    "        \n",
    "  pytest:\n",
    "    runs-on: ubuntu-latest\n",
    "    steps:      \n",
    "      - uses: actions/checkout@v3\n",
    "      - run: |\n",
    "          pip install matplotlib requests IPython pytest\n",
    "          pytest .\n",
    "\n"
   ]
  },
  {
   "cell_type": "code",
   "execution_count": null,
   "id": "15d48363-c262-44ab-8ca6-b7ffb00915ae",
   "metadata": {},
   "outputs": [],
   "source": [
    "%%bash\n",
    "cd s23-06682-L08\n",
    "git commit -am \"add black and pytest with better names\"\n",
    "git push\n",
    "\n"
   ]
  },
  {
   "cell_type": "markdown",
   "id": "88254dc4-8748-42ab-8a0f-66ba3c02e928",
   "metadata": {},
   "source": [
    "# Cross platform testing\n",
    "\n",
    "These tests are more expensive than the Linux tests, so do not use them alot if you don't need them.\n",
    "\n"
   ]
  },
  {
   "cell_type": "markdown",
   "id": "3068e52c-c2c8-4582-aca9-423fef794c71",
   "metadata": {},
   "source": [
    "## Testing on Windows.\n",
    "\n"
   ]
  },
  {
   "cell_type": "code",
   "execution_count": null,
   "id": "da2b9bfe-eba5-4c3c-be0f-143ef9ed4bf4",
   "metadata": {},
   "outputs": [],
   "source": [
    "%%writefile s23-06682-L08/.github/workflows/windows-workflow.yaml\n",
    "name: Windows testing\n",
    "on: push\n",
    "\n",
    "jobs:\n",
    "  windows:\n",
    "    runs-on: windows-latest\n",
    "    steps:\n",
    "      - run: |\n",
    "          systeminfo\n",
    "        \n",
    "  pytest:\n",
    "    runs-on: windows-lattest\n",
    "    steps:      \n",
    "      - uses: actions/checkout@v3\n",
    "      - run: |\n",
    "          pip install matplotlib requests IPython pytest\n",
    "          pytest .        \n",
    "\n"
   ]
  },
  {
   "cell_type": "code",
   "execution_count": null,
   "id": "dc536ffa-a646-48d1-955d-edf556dd2527",
   "metadata": {},
   "outputs": [],
   "source": [
    "%%bash\n",
    "cd s23-06682-L08\n",
    "git add .github/workflows/windows-workflow.yaml\n",
    "git commit -m \"add Windows test\"\n",
    "git push\n",
    "\n"
   ]
  },
  {
   "cell_type": "markdown",
   "id": "37d794ee-27f7-4d1f-8068-f6d5d4dcb284",
   "metadata": {},
   "source": [
    "## Testing for Macs\n",
    "\n"
   ]
  },
  {
   "cell_type": "code",
   "execution_count": null,
   "id": "28329058-3f1b-46e1-a3a8-e510e4bbc0aa",
   "metadata": {},
   "outputs": [],
   "source": [
    "%%writefile s23-06682-L08/.github/workflows/mac-workflow.yaml\n",
    "name: MacOS testing\n",
    "on: push\n",
    "\n",
    "jobs:\n",
    "  mac:\n",
    "    runs-on: macos-latest\n",
    "    steps:\n",
    "      - run: |\n",
    "          pwd \n",
    "          ls -alF\n",
    "          sw_vers\n",
    "        \n",
    "  pytest:\n",
    "    runs-on: macos-latest\n",
    "    steps:      \n",
    "      - uses: actions/checkout@v3\n",
    "      - run: |\n",
    "          pip install matplotlib requests IPython pytest\n",
    "          python -m pytest       \n",
    "\n"
   ]
  },
  {
   "cell_type": "code",
   "execution_count": null,
   "id": "33db545b-9a17-4644-a572-9fa165ce03a8",
   "metadata": {},
   "outputs": [],
   "source": [
    "%%bash\n",
    "cd s23-06682-L08\n",
    "git add .github/workflows/mac-workflow.yaml\n",
    "git commit -m \"add Mac test\"\n",
    "git push\n",
    "\n"
   ]
  },
  {
   "cell_type": "markdown",
   "id": "13c75e46-c7aa-41d8-88c4-3751fe243e7e",
   "metadata": {},
   "source": [
    "# Custom environments with Docker\n",
    "\n",
    "It can be tedious, and time-consuming to have to install everything in your GitHUB actions environment. The tedious part is not too avoidable, that work has to be done somewhere, at least once. The time-consuming part can be problematic though; 1) you have to wait for it each time, 2) for open-source projects the time is \"free\" but may be capped at 2000 minutes a month (or whatever GitHUB decides it wants). Furthermore, a single workflow can only run up to 58 minutes. There are three strategies to mitigate these: 1) Pay for more time, 2) setup an external server to run your actions, and 3) streamline the actions by using Docker images that are pre-built. We only consider the last of these today, and we only partially consider how to use Docker.\n",
    "\n",
    "This example is adapted from https://docs.github.com/es/actions/creating-actions/creating-a-docker-container-action.\n",
    "\n",
    "This is an advanced example. It may be the longest version of \"Hello World\" I have seen yet. There is quite a bit of setup here. The idea is we run a virtual machine inside the virtual machine. Here we use a Dockerfile inside our repo, but you can also use images from Dockerhub, for example. \n",
    "\n",
    "Our goal is to run a simple shell script inside a Docker image that is inside GitHUB actions. This allows us to customize the environment, e.g. we could install python, or LaTeX, or any other things we want. We don't do those things here, and instead focus on the smallest working example we can get get.\n",
    "\n",
    "First, we define a shell script called entrypoint.sh. It will take one argument, and echo \"Hello argument\". We will also run our tests in this script. Make this script executable. \n",
    "\n"
   ]
  },
  {
   "cell_type": "code",
   "execution_count": null,
   "id": "7b0691e0-162b-405b-8c4b-b06db2b8017a",
   "metadata": {},
   "outputs": [],
   "source": [
    "%%writefile s23-06682-L08/entrypoint.sh\n",
    "#!/bin/sh -l\n",
    "\n",
    "echo \"Hello $1\"\n",
    "pwd\n",
    "ls\n",
    "pytest\n",
    "\n"
   ]
  },
  {
   "cell_type": "code",
   "execution_count": null,
   "id": "1f3c029d-244f-4185-bce4-8ac72873bf08",
   "metadata": {},
   "outputs": [],
   "source": [
    "! chmod +x s23-06682-L08/entrypoint.sh\n",
    "\n"
   ]
  },
  {
   "cell_type": "markdown",
   "id": "00096983-f320-4a2e-918b-0eb9863408fe",
   "metadata": {},
   "source": [
    "Next we make the Dockerfile. We have to provide directions in this file to setup our environment. Docker is complicated, and we won't get all the way into it. The gist here is we start with a base image `python3-slim`, and then install software in it, and copy our script into it. GitHUB will build the image, and use it for your actions. The entrypoint.sh script is run when the image starts up.\n",
    "\n"
   ]
  },
  {
   "cell_type": "code",
   "execution_count": null,
   "id": "4c0e8ace-8178-496c-8380-459b75e3aacf",
   "metadata": {},
   "outputs": [],
   "source": [
    "%%writefile s23-06682-L08/Dockerfile\n",
    "# Container image that runs your code\n",
    "FROM python:3-slim \n",
    "\n",
    "RUN pip3 install --upgrade pip setuptools wheel matplotlib requests IPython pytest\n",
    "\n",
    "# Copies your code file from your action repository to the filesystem path `/` of the container\n",
    "COPY entrypoint.sh /entrypoint.sh\n",
    "    \n",
    "# Code file to execute when the docker container starts up (`entrypoint.sh`)\n",
    "ENTRYPOINT [\"sh\", \"/entrypoint.sh\"]\n",
    "\n"
   ]
  },
  {
   "cell_type": "markdown",
   "id": "e0f2a63d-0c15-4e9f-8e31-e96d99617f11",
   "metadata": {},
   "source": [
    "Next, we set up a GitHUB *action*. This is a yaml file saved as `action.yml` in your repo root. This is a little different than the workflows above. This defines some inputs that will be used and passed to the Docker image.\n",
    "\n",
    "The syntax ~${{ inputs.who-to-greet }}~ is /like/ a python f-string, but in yaml instead. The value of \"who-to-greet\" will be used in the template string.\n",
    "\n"
   ]
  },
  {
   "cell_type": "code",
   "execution_count": null,
   "id": "e8649da9-97e2-434b-9199-c8f30a7727bd",
   "metadata": {},
   "outputs": [],
   "source": [
    "%%writefile  s23-06682-L08/action.yml\n",
    "name: 'Hello World'\n",
    "description: 'Greet someone and record the time'\n",
    "inputs:\n",
    "  who-to-greet:  # id of input\n",
    "    description: 'Who to greet'\n",
    "    required: true\n",
    "    default: 'World'\n",
    "\n",
    "runs:\n",
    "  using: 'docker'\n",
    "  image: 'Dockerfile'\n",
    "  args:\n",
    "    - ${{ inputs.who-to-greet }}\n",
    "\n"
   ]
  },
  {
   "cell_type": "markdown",
   "id": "3ce67948-aae7-425b-99d1-ca395ec18b71",
   "metadata": {},
   "source": [
    "Finally, we define a workflow to use our action. We specify a \"path\" to our action, which is of the form `<user>/<repo>@<version>`. For version we use the main branch, which should always use the latest version. Next we define the input we want using `with`. The name of this variable matches the name used in the inputs of the action. Put this into `.github/workflows/try-docker.yaml`.\n",
    "\n"
   ]
  },
  {
   "cell_type": "code",
   "execution_count": null,
   "id": "31d77ece-4cc1-4a45-a043-8dd4bafeaa57",
   "metadata": {},
   "outputs": [],
   "source": [
    "%%writefile s23-06682-L08/.github/workflows/try-docker.yaml\n",
    "name: Try Docker\n",
    "on: push\n",
    "\n",
    "jobs:\n",
    "  run-my-docker:\n",
    "    runs-on: ubuntu-latest\n",
    "    steps:      \n",
    "      - uses: actions/checkout@v3\n",
    "      - uses: jkitchin/s23-06682-L08@main\n",
    "        with:\n",
    "          who-to-greet: John\n",
    "\n",
    "\n"
   ]
  },
  {
   "cell_type": "markdown",
   "id": "c1241b99-6962-40f3-970c-8fd09b45b922",
   "metadata": {},
   "source": [
    "Finally, push these out to GitHUB.\n",
    "\n"
   ]
  },
  {
   "cell_type": "code",
   "execution_count": null,
   "id": "2d7afd72-2e05-4617-9f01-86f8b3da83c3",
   "metadata": {},
   "outputs": [],
   "source": [
    "%%bash\n",
    "cd s23-06682-L08\n",
    "git add entrypoint.sh Dockerfile action.yml .github/workflows/try-docker.yaml\n",
    "git commit -m \"added docker\"\n",
    "git push\n",
    "\n"
   ]
  },
  {
   "cell_type": "markdown",
   "id": "f9cdf75a-9090-4a49-8658-8aee083a69ff",
   "metadata": {},
   "source": [
    "When you push this, you will see in the actions output, \"Hello John\", and some other output for the tests.\n",
    "\n",
    "This may seem like quite some overkill to print \"Hello John\". The real value of this comes when you start using files in the repo as input to do more sophisticated analysis.\n",
    "\n",
    "Finally, this Docker image is built at run time. This is not the fastest way to do this. A faster way is to register the images on DockerHUB, and then you just use the image directly.\n",
    "\n",
    "There is *so much* flexibility in Docker images. Their main limitation is they are Linux based.\n",
    "\n"
   ]
  },
  {
   "cell_type": "markdown",
   "id": "cf4273d6-255e-449c-bb3c-bee1ace7d7fb",
   "metadata": {},
   "source": [
    "# Cleaning up\n",
    "\n",
    "You can delete your GitHUB repo now if you want. Go to the settings tab (something like https://github.com/jkitchin/s23-06682-L08/settings). Scroll to the bottom, and click `Delete this repository`. Don't worry, you can re-fork it.\n",
    "\n"
   ]
  },
  {
   "cell_type": "code",
   "execution_count": null,
   "id": "d6ae54f2-94b5-4ddb-9ca8-ff9bc6e74608",
   "metadata": {},
   "outputs": [],
   "source": [
    "\n",
    "\n"
   ]
  }
 ],
 "metadata": {
  "kernelspec": {
   "display_name": "Python 3 (ipykernel)",
   "language": "python",
   "name": "python3"
  },
  "language_info": {
   "codemirror_mode": {
    "name": "ipython",
    "version": 3
   },
   "file_extension": ".py",
   "mimetype": "text/x-python",
   "name": "python",
   "nbconvert_exporter": "python",
   "pygments_lexer": "ipython3",
   "version": "3.9.13"
  },
  "widgets": {
   "application/vnd.jupyter.widget-state+json": {
    "state": {},
    "version_major": 2,
    "version_minor": 0
   }
  }
 },
 "nbformat": 4,
 "nbformat_minor": 5
}
