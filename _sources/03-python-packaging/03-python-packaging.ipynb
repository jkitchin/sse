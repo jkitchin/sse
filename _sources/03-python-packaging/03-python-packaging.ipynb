{
 "cells": [
  {
   "cell_type": "markdown",
   "id": "f984b3b5-96e5-45c8-9b13-72d3833c4826",
   "metadata": {},
   "source": [
    "Python packaging and version control\n",
    "====================================\n",
    "\n",
    "When you import a Python library, you are importing code from a package (also sometimes called a module). There is some magic that happens when you do this. For example, consider this simple import of a core library. Where is that code?\n",
    "\n"
   ]
  },
  {
   "cell_type": "code",
   "execution_count": 1,
   "id": "e21fb7e1-ebc7-40a7-b7a4-2a2880d48d48",
   "metadata": {},
   "outputs": [],
   "source": [
    "import os"
   ]
  },
  {
   "cell_type": "markdown",
   "id": "016fb10e-37d5-4c9e-b0ee-82079d20044e",
   "metadata": {},
   "source": [
    "We can find where the code for that library resides using the `__file__` attribute.\n",
    "\n"
   ]
  },
  {
   "cell_type": "code",
   "execution_count": 2,
   "id": "54107c3d-b45f-4829-808c-27585f610d68",
   "metadata": {},
   "outputs": [
    {
     "data": {
      "text/plain": [
       "'/opt/conda/lib/python3.9/os.py'"
      ]
     },
     "execution_count": 2,
     "metadata": {},
     "output_type": "execute_result"
    }
   ],
   "source": [
    "os.__file__"
   ]
  },
  {
   "cell_type": "markdown",
   "id": "9906c4db-fcae-4ab6-b4ac-6f3546f5ba23",
   "metadata": {},
   "source": [
    "The reason we can import this file without saying where it is is because Python has a list of directories it knows to look in. These are available to you in the `sys` module. This contains a list of directories where Python looks. Here, it specifically looks for a file named os.py in one of those directories. Your path may look different from this.\n",
    "\n"
   ]
  },
  {
   "cell_type": "code",
   "execution_count": 3,
   "id": "98bee248-5367-468c-904d-324bcc8f8f56",
   "metadata": {},
   "outputs": [
    {
     "data": {
      "text/plain": [
       "['/home/jovyan/work/03-python-packaging',\n",
       " '/opt/conda/lib/python39.zip',\n",
       " '/opt/conda/lib/python3.9',\n",
       " '/opt/conda/lib/python3.9/lib-dynload',\n",
       " '',\n",
       " '/opt/conda/lib/python3.9/site-packages']"
      ]
     },
     "execution_count": 3,
     "metadata": {},
     "output_type": "execute_result"
    }
   ],
   "source": [
    "import sys\n",
    "sys.path"
   ]
  },
  {
   "cell_type": "markdown",
   "id": "0cbe1263-ed4a-4066-859e-bc3e595a4696",
   "metadata": {},
   "source": [
    "You can see how this works here.\n",
    "\n"
   ]
  },
  {
   "cell_type": "code",
   "execution_count": 4,
   "id": "3e5470c2-e4b8-4b29-8f43-3d16603396b2",
   "metadata": {},
   "outputs": [
    {
     "name": "stdout",
     "output_type": "stream",
     "text": [
      "/opt/conda/lib/python3.9\n"
     ]
    }
   ],
   "source": [
    "for path in sys.path:\n",
    "    if os.path.exists(os.path.join(path, 'os.py')):\n",
    "        print(path)\n",
    "        break"
   ]
  },
  {
   "cell_type": "markdown",
   "id": "6cda1e1f-b7ce-44ea-8ef0-2e66641179ac",
   "metadata": {},
   "source": [
    "# Anatomy of a package\n",
    "\n",
    "A Python package is a collection of files and directories that follow some conventions. It is common for the whole set to be in a single root directory. This is helpful to isolate the files from other files, so they are easy to move later.\n",
    "\n",
    "In the package root, you need several files:\n",
    "\n",
    "- [README.md](./package-root/README.md) :: A text file describing the package\n",
    "- [setup.py](./package-root/setup.py) :: A Python file for installing the package\n",
    "- [LICENSE](./package-root/LICENSE) :: A file containing the terms of use for your package.\n",
    "\n",
    "There are a lot of licenses: https://opensource.org/licenses. We will primarily focus on the MIT license.\n",
    "\n",
    "We put the source for our package in a directory inside called *testpack*."
   ]
  },
  {
   "cell_type": "code",
   "execution_count": 5,
   "id": "5343c9bf-8494-45b1-834d-5f0469e9c0cb",
   "metadata": {},
   "outputs": [],
   "source": [
    "! rm -fr package-root  # start clean\n",
    "! mkdir package-root\n",
    "! mkdir package-root/testpack"
   ]
  },
  {
   "cell_type": "code",
   "execution_count": 6,
   "id": "f2054f1c-b25f-414a-bb30-5d6c318a1916",
   "metadata": {},
   "outputs": [
    {
     "name": "stdout",
     "output_type": "stream",
     "text": [
      "Writing package-root/README.md\n"
     ]
    }
   ],
   "source": [
    "%%writefile package-root/README.md\n",
    "Example package\n",
    "===============\n",
    "\n",
    "There is one function: testpack.hello."
   ]
  },
  {
   "cell_type": "code",
   "execution_count": 7,
   "id": "04fe5d0a-a556-495f-be67-eb1b7fd76ef2",
   "metadata": {},
   "outputs": [
    {
     "name": "stdout",
     "output_type": "stream",
     "text": [
      "Writing package-root/LICENSE\n"
     ]
    }
   ],
   "source": [
    "%%writefile package-root/LICENSE\n",
    "Copyright 2023 John Kitchin\n",
    "\n",
    "Permission is hereby granted, free of charge, to any person obtaining a copy of this software and associated documentation files (the “Software”), to deal in the Software without restriction, including without limitation the rights to use, copy, modify, merge, publish, distribute, sublicense, and/or sell copies of the Software, and to permit persons to whom the Software is furnished to do so, subject to the following conditions:\n",
    "\n",
    "The above copyright notice and this permission notice shall be included in all copies or substantial portions of the Software.\n",
    "\n",
    "THE SOFTWARE IS PROVIDED “AS IS”, WITHOUT WARRANTY OF ANY KIND, EXPRESS OR IMPLIED, INCLUDING BUT NOT LIMITED TO THE WARRANTIES OF MERCHANTABILITY, FITNESS FOR A PARTICULAR PURPOSE AND NONINFRINGEMENT. IN NO EVENT SHALL THE AUTHORS OR COPYRIGHT HOLDERS BE LIABLE FOR ANY CLAIM, DAMAGES OR OTHER LIABILITY, WHETHER IN AN ACTION OF CONTRACT, TORT OR OTHERWISE, ARISING FROM, OUT OF OR IN CONNECTION WITH THE SOFTWARE OR THE USE OR OTHER DEALINGS IN THE SOFTWARE."
   ]
  },
  {
   "cell_type": "code",
   "execution_count": 8,
   "id": "1d9770c6-40c9-4e76-9d13-1075214678d8",
   "metadata": {},
   "outputs": [
    {
     "name": "stdout",
     "output_type": "stream",
     "text": [
      "Writing package-root/setup.py\n"
     ]
    }
   ],
   "source": [
    "%%writefile package-root/setup.py\n",
    "from setuptools import setup\n",
    "\n",
    "setup(name='testpack',\n",
    "      version='0.0.1',\n",
    "      description='testpack utilities',\n",
    "      maintainer='John Kitchin',\n",
    "      maintainer_email='jkitchin@andrew.cmu.edu',\n",
    "      license='MIT',\n",
    "      packages=['testpack'],\n",
    "      scripts=[],\n",
    "      long_description='''\\\n",
    "testpack utilities\n",
    "==============\n",
    "Handy functions for a project.''')"
   ]
  },
  {
   "cell_type": "markdown",
   "id": "7fd5ff60-9ad7-47dc-9b43-165c47886193",
   "metadata": {},
   "source": [
    "Inside the testpack directory there must be an `__init__.py` file, and maybe additional package source files (.py files). \n",
    "\n",
    "Check out [\\_\\_init__.py](./package-root/testpack/__init__.py). This file is run every time you import the package. We define a single function in this file that we can use later, and there is a diagnostic line that should print when we import the package later."
   ]
  },
  {
   "cell_type": "code",
   "execution_count": 9,
   "id": "c9622409-01ba-494e-9421-4a1abcb9ef49",
   "metadata": {},
   "outputs": [
    {
     "name": "stdout",
     "output_type": "stream",
     "text": [
      "Writing package-root/testpack/__init__.py\n"
     ]
    }
   ],
   "source": [
    "%%writefile package-root/testpack/__init__.py\n",
    "print('Loading testpack! Version 1')\n",
    "\n",
    "def hello(name):\n",
    "    return f'Hello {name}'"
   ]
  },
  {
   "cell_type": "code",
   "execution_count": 10,
   "id": "f8f75123-ae28-47ed-8be4-3fc950a19f8a",
   "metadata": {},
   "outputs": [
    {
     "name": "stdout",
     "output_type": "stream",
     "text": [
      "\u001b[01;34mpackage-root\u001b[0m\n",
      "├── \u001b[00mLICENSE\u001b[0m\n",
      "├── \u001b[00mREADME.md\u001b[0m\n",
      "├── \u001b[00msetup.py\u001b[0m\n",
      "└── \u001b[01;34mtestpack\u001b[0m\n",
      "    └── \u001b[00m__init__.py\u001b[0m\n",
      "\n",
      "1 directory, 4 files\n"
     ]
    }
   ],
   "source": [
    "! tree package-root"
   ]
  },
  {
   "cell_type": "markdown",
   "id": "55ed7383-ba4e-4551-b43b-87291e45597c",
   "metadata": {},
   "source": [
    "We cannot directly import this package yet. Try it:\n",
    "\n"
   ]
  },
  {
   "cell_type": "code",
   "execution_count": 12,
   "id": "70f6b4cb-62dd-4353-a8a3-63f64c9a0931",
   "metadata": {},
   "outputs": [
    {
     "ename": "ModuleNotFoundError",
     "evalue": "No module named 'testpack'",
     "output_type": "error",
     "traceback": [
      "\u001b[0;31m---------------------------------------------------------------------------\u001b[0m",
      "\u001b[0;31mModuleNotFoundError\u001b[0m                       Traceback (most recent call last)",
      "Cell \u001b[0;32mIn [12], line 1\u001b[0m\n\u001b[0;32m----> 1\u001b[0m \u001b[38;5;28;01mimport\u001b[39;00m \u001b[38;5;21;01mtestpack\u001b[39;00m\n\u001b[1;32m      2\u001b[0m testpack\u001b[38;5;241m.\u001b[39m\u001b[38;5;18m__file__\u001b[39m\n",
      "\u001b[0;31mModuleNotFoundError\u001b[0m: No module named 'testpack'"
     ]
    }
   ],
   "source": [
    "import testpack\n",
    "testpack.__file__"
   ]
  },
  {
   "cell_type": "markdown",
   "id": "e8651413-0f9c-4fb0-bffb-bb0c52625cfa",
   "metadata": {},
   "source": [
    "That fails because it is not found anywhere on your Python path. Usually, we will install a package to do that, but we will first manually modify the path for development purposes. `sys.path` is just a list of directories, and we can add to it or append directories using Python. This is only temporary, while this notebook is alive. We use a relative path here, which implies the working directory is the same as the path to this notebook. If you haven't specifically changed that, it should be. If in doubt, you can also use an absolute path.\n",
    "\n"
   ]
  },
  {
   "cell_type": "code",
   "execution_count": 13,
   "id": "67138ca2-b531-41b7-b324-8404ed366fb6",
   "metadata": {},
   "outputs": [
    {
     "name": "stdout",
     "output_type": "stream",
     "text": [
      "Loading testpack! Version 1\n"
     ]
    }
   ],
   "source": [
    "import sys\n",
    "sys.path.insert(0, 'package-root')\n",
    "import testpack\n",
    "\n"
   ]
  },
  {
   "cell_type": "markdown",
   "id": "5febd346-9cde-439c-a35e-eadb77372868",
   "metadata": {},
   "source": [
    "Now, we can access the hello function that is present in the `__init__.py` file. We have to use the dot notation to access this.\n",
    "\n"
   ]
  },
  {
   "cell_type": "code",
   "execution_count": 14,
   "id": "852d8473-f595-4be6-98ad-0868c5a39f1d",
   "metadata": {},
   "outputs": [
    {
     "data": {
      "text/plain": [
       "'Hello John'"
      ]
     },
     "execution_count": 14,
     "metadata": {},
     "output_type": "execute_result"
    }
   ],
   "source": [
    "testpack.hello('John')\n",
    "\n"
   ]
  },
  {
   "cell_type": "markdown",
   "id": "02ec1dd9-a437-4ae9-9ea0-1c59b7290828",
   "metadata": {},
   "source": [
    "# Version control\n",
    "\n",
    "It is tempting to start modifying the package right away. That would probably be a mistake though. What if we do something that breaks it? How would we recover back to a working state? The solution to this problem is called *version control*. It is an essential part of software development. We will use git (https://git-scm.com/doc) for version control. \n",
    "\n",
    "With git, we will create a *repository* in our package-root. Then we can *commit* changes we make to files in the repository as we go. If some changes don't work out, we can *revert* them. We can also make *branches* to test ideas out on. \n",
    "\n",
    "To get started, we need to tell git about ourselves. Open a terminal, and run these commands (obviously, change the name and email to yours):\n",
    "\n",
    "    "
   ]
  },
  {
   "cell_type": "code",
   "execution_count": 15,
   "id": "b8b64a19-7153-4f8a-a193-af03ff0b9828",
   "metadata": {},
   "outputs": [],
   "source": [
    "%%bash\n",
    "git config --global user.name \"John Doe\"\n",
    "git config --global user.email johndoe@example.com"
   ]
  },
  {
   "cell_type": "markdown",
   "id": "75ec8b43-81a4-428f-9a4a-82cf0a68d46b",
   "metadata": {},
   "source": [
    "That should create a file called ~/.gitconfig. Check out the contents:\n",
    "\n",
    "    "
   ]
  },
  {
   "cell_type": "code",
   "execution_count": 16,
   "id": "008475d3-2523-4d85-a9bb-3a6102ae2b74",
   "metadata": {},
   "outputs": [
    {
     "name": "stdout",
     "output_type": "stream",
     "text": [
      "[user]\n",
      "\tname = John Doe\n",
      "\temail = johndoe@example.com\n"
     ]
    }
   ],
   "source": [
    "! cat ~/.gitconfig "
   ]
  },
  {
   "cell_type": "markdown",
   "id": "0cb19a90-021a-458e-b28f-438db3d3a6b7",
   "metadata": {},
   "source": [
    "Next, run this command to create a git repository.   "
   ]
  },
  {
   "cell_type": "code",
   "execution_count": 17,
   "id": "e6b42351-39f6-46b1-abf8-95c11890fa84",
   "metadata": {},
   "outputs": [
    {
     "name": "stderr",
     "output_type": "stream",
     "text": [
      "hint: Using 'master' as the name for the initial branch. This default branch name\n",
      "hint: is subject to change. To configure the initial branch name to use in all\n",
      "hint: of your new repositories, which will suppress this warning, call:\n",
      "hint: \n",
      "hint: \tgit config --global init.defaultBranch <name>\n",
      "hint: \n",
      "hint: Names commonly chosen instead of 'master' are 'main', 'trunk' and\n",
      "hint: 'development'. The just-created branch can be renamed via this command:\n",
      "hint: \n",
      "hint: \tgit branch -m <name>\n"
     ]
    },
    {
     "name": "stdout",
     "output_type": "stream",
     "text": [
      "Initialized empty Git repository in /home/jovyan/work/03-python-packaging/package-root/.git/\n"
     ]
    }
   ],
   "source": [
    "%%bash\n",
    "cd package-root\n",
    "git init"
   ]
  },
  {
   "cell_type": "markdown",
   "id": "caa8562c-d88f-4d78-9aac-947a55df294a",
   "metadata": {},
   "source": [
    "    \n",
    "You should see something like:\n",
    "\n",
    "    Initialized empty Git repository in /home/jupyter-jkitchin@andrew.cm-11dd7/src/lectures/03-python-packaging/package-root/.git/\n",
    "    \n",
    "a new directory has been created in the folder called .git. This is where your git repository is stored. So far, there is nothing in it. Let's check the status."
   ]
  },
  {
   "cell_type": "code",
   "execution_count": 19,
   "id": "ea67da9c-ee1c-448e-90df-3dc9a75c9682",
   "metadata": {},
   "outputs": [
    {
     "name": "stdout",
     "output_type": "stream",
     "text": [
      "On branch master\n",
      "\n",
      "No commits yet\n",
      "\n",
      "Untracked files:\n",
      "  (use \"git add <file>...\" to include in what will be committed)\n",
      "\tLICENSE\n",
      "\tREADME.md\n",
      "\tsetup.py\n",
      "\ttestpack/\n",
      "\n",
      "nothing added to commit but untracked files present (use \"git add\" to track)\n"
     ]
    }
   ],
   "source": [
    "%%bash\n",
    "cd package-root\n",
    "git status\n",
    "\n"
   ]
  },
  {
   "cell_type": "markdown",
   "id": "675f0ce3-496c-4f9d-aa58-b2e931e7d05c",
   "metadata": {},
   "source": [
    "git is telling us that we are on the master branch and we have many untracked files. Today it is more favorable for the default branch to be called ~main~ rather than master (https://www.theserverside.com/feature/Why-GitHub-renamed-its-master-branch-to-main). Let's change that. We just checkout a new branch called main. \n",
    "\n",
    "    git checkout -b main\n",
    "    \n",
    "\n"
   ]
  },
  {
   "cell_type": "code",
   "execution_count": 20,
   "id": "85dbca6a-0ede-4a34-9463-356adfb275aa",
   "metadata": {},
   "outputs": [
    {
     "name": "stderr",
     "output_type": "stream",
     "text": [
      "Switched to a new branch 'main'\n"
     ]
    }
   ],
   "source": [
    "%%bash\n",
    "cd package-root\n",
    "git checkout -b main\n",
    "\n"
   ]
  },
  {
   "cell_type": "markdown",
   "id": "e8fdda3c-5177-4763-ace0-2b88fe537bf1",
   "metadata": {},
   "source": [
    "Now, we can add files. There are some files we want to ignore. For example, .ipynb_checkpoints does not need to be under version control, and there is a `__pycache__` we don't need in the repository. Let us set up a .gitignore file. This goes in the package-root directory. I do it here with shell commands, but you can also open an editor and write it directly. Now, running `git status` should not show those files.\n",
    "\n",
    "We use > to redirect output into a file. This will overwrite the file each time you use it. To append, we use >>.\n",
    "\n"
   ]
  },
  {
   "cell_type": "code",
   "execution_count": 22,
   "id": "55d44ad0-fa92-4508-9fb7-92b770227283",
   "metadata": {},
   "outputs": [
    {
     "name": "stdout",
     "output_type": "stream",
     "text": [
      "Overwriting package-root/.gitignore\n"
     ]
    }
   ],
   "source": [
    "%%writefile package-root/.gitignore\n",
    "__pycache__\n",
    ".ipynb_checkpoints"
   ]
  },
  {
   "cell_type": "markdown",
   "id": "85bcf328-113f-4a68-bd77-8347fceaefcc",
   "metadata": {},
   "source": [
    "The next step is to add and commit the files. Since we have set up the .gitignore file, we will take a shortcut this time, and add everything. Then, we commit the files.\n",
    "\n",
    "    git add *\n",
    "    git commit -m \"First commit\"\n",
    "\n"
   ]
  },
  {
   "cell_type": "code",
   "execution_count": 23,
   "id": "0e76914c-cb28-4246-967b-8d682303e63f",
   "metadata": {},
   "outputs": [
    {
     "name": "stdout",
     "output_type": "stream",
     "text": [
      "[main (root-commit) 1640bc2] First commit\n",
      " 4 files changed, 29 insertions(+)\n",
      " create mode 100644 LICENSE\n",
      " create mode 100644 README.md\n",
      " create mode 100644 setup.py\n",
      " create mode 100644 testpack/__init__.py\n"
     ]
    }
   ],
   "source": [
    "%%bash\n",
    "cd package-root\n",
    "git add *\n",
    "git commit -m \"First commit\""
   ]
  },
  {
   "cell_type": "code",
   "execution_count": 24,
   "id": "e1935d35-89d5-4b2f-bf67-835667022bf8",
   "metadata": {},
   "outputs": [
    {
     "name": "stdout",
     "output_type": "stream",
     "text": [
      "On branch main\n",
      "Untracked files:\n",
      "  (use \"git add <file>...\" to include in what will be committed)\n",
      "\t.gitignore\n",
      "\n",
      "nothing added to commit but untracked files present (use \"git add\" to track)\n"
     ]
    }
   ],
   "source": [
    "%%bash\n",
    "cd package-root\n",
    "git status"
   ]
  },
  {
   "cell_type": "markdown",
   "id": "d3e56276-778b-40b9-8179-1e06d9cdb1a8",
   "metadata": {},
   "source": [
    "Note that the wild-card did not match the .gitignore file. We have to add and commit that separately.\n",
    "\n"
   ]
  },
  {
   "cell_type": "code",
   "execution_count": 25,
   "id": "3e5db437-c9e0-43ea-8f05-59fd82475369",
   "metadata": {},
   "outputs": [
    {
     "name": "stdout",
     "output_type": "stream",
     "text": [
      "[main 13a204c] Add the .gitignore file\n",
      " 1 file changed, 2 insertions(+)\n",
      " create mode 100644 .gitignore\n",
      "On branch main\n",
      "nothing to commit, working tree clean\n"
     ]
    }
   ],
   "source": [
    "%%bash\n",
    "cd package-root\n",
    "git add .gitignore\n",
    "git commit -m \"Add the .gitignore file\"\n",
    "git status"
   ]
  },
  {
   "cell_type": "markdown",
   "id": "f4806159-77e6-4e99-a8e5-9cf62f8a0971",
   "metadata": {},
   "source": [
    "Now we have a \"clean\" repository. All files are added and committed, and `git status` tells us everything is good. We have made two commits so far.\n",
    "\n"
   ]
  },
  {
   "cell_type": "code",
   "execution_count": 26,
   "id": "bad5455f-24f4-491e-acb6-e8ddadbf922f",
   "metadata": {},
   "outputs": [
    {
     "name": "stdout",
     "output_type": "stream",
     "text": [
      "commit 13a204cc74df8afcd91eaffa4d04dff1feac4be1\n",
      "Author: John Doe <johndoe@example.com>\n",
      "Date:   Tue Jun 13 23:39:27 2023 +0000\n",
      "\n",
      "    Add the .gitignore file\n",
      "\n",
      "commit 1640bc2bc70644bd2e8cdeab59d5f51118eb8a85\n",
      "Author: John Doe <johndoe@example.com>\n",
      "Date:   Tue Jun 13 23:39:18 2023 +0000\n",
      "\n",
      "    First commit\n"
     ]
    }
   ],
   "source": [
    "%%bash\n",
    "cd package-root\n",
    "git log"
   ]
  },
  {
   "cell_type": "markdown",
   "id": "e7da3256-f1f3-42b8-9d81-41d9e9e0d761",
   "metadata": {},
   "source": [
    "In the log, you can see the two commits, and each one is identified by a long hash, e.g. commit 33a50e04b75c90b34a274aea287dd1e6c6c045de. This is a unique cryptographic hash of the content that we committed, and we can use it to see what happened or changed, to revert changes, etc. We will return to that later. Now, we are ready to safely make some changes to our package. By safely, I mean we will be able to undo changes, revert changes, see what changes were made, etc.\n",
    "\n"
   ]
  },
  {
   "cell_type": "markdown",
   "id": "f25873ee-a7bd-4c6a-90f4-dcc9cb1c956e",
   "metadata": {},
   "source": [
    "# First package modification\n",
    "\n",
    "There are lots of ways to use git. Here we explore the idea of using a `feature branch`. We have a working package, and we want to add a new feature in a way that minimizes the risk of messing up the current state. The strategy is that we make a new branch, do all our work there, and when we are satisfied with it, we merge it back on to main.\n",
    "\n",
    "Let's see what we have so far. Our commit history is linear, and the current position is at the HEAD commit on `main`.\n",
    "\n"
   ]
  },
  {
   "cell_type": "code",
   "execution_count": 27,
   "id": "dab2cbc3-45a5-4048-83d5-41a77b739139",
   "metadata": {},
   "outputs": [
    {
     "name": "stdout",
     "output_type": "stream",
     "text": [
      "* \u001b[33m13a204c\u001b[m\u001b[33m (\u001b[m\u001b[1;36mHEAD -> \u001b[m\u001b[1;32mmain\u001b[m\u001b[33m)\u001b[m Add the .gitignore file\n",
      "* \u001b[33m1640bc2\u001b[m First commit\n"
     ]
    }
   ],
   "source": [
    "! cd package-root; git log --graph --oneline"
   ]
  },
  {
   "cell_type": "markdown",
   "id": "bce68617-bc21-41f4-9d8e-c213a280f098",
   "metadata": {},
   "source": [
    "## A feature branch\n",
    "We are going to checkout a new branch, let's call it `feature`.\n",
    "\n"
   ]
  },
  {
   "cell_type": "code",
   "execution_count": 28,
   "id": "f984d539-0e03-4d00-8273-b92d2f597134",
   "metadata": {},
   "outputs": [
    {
     "name": "stderr",
     "output_type": "stream",
     "text": [
      "Switched to a new branch 'feature'\n"
     ]
    },
    {
     "name": "stdout",
     "output_type": "stream",
     "text": [
      "On branch feature\n",
      "nothing to commit, working tree clean\n",
      "* 13a204c Add the .gitignore file\n",
      "* 1640bc2 First commit\n"
     ]
    }
   ],
   "source": [
    "%%bash\n",
    "cd package-root\n",
    "git checkout -b feature\n",
    "git status\n",
    "git log --graph --oneline"
   ]
  },
  {
   "cell_type": "markdown",
   "id": "ad3f1e92-4fa4-465e-8978-e15ecf2ced97",
   "metadata": {},
   "source": [
    "Now we can add some new features. Let's add a new function to the `__init__.py` file:\n",
    "\n",
    "```"
   ]
  },
  {
   "cell_type": "code",
   "execution_count": 29,
   "id": "c7c990cf-aaf4-4e07-b3bd-ffc25a910578",
   "metadata": {},
   "outputs": [
    {
     "name": "stdout",
     "output_type": "stream",
     "text": [
      "Appending to package-root/testpack/__init__.py\n"
     ]
    }
   ],
   "source": [
    "%%writefile -a package-root/testpack/__init__.py\n",
    "\n",
    "def goodbye(name):\n",
    "    return f'Goodbye {name}'"
   ]
  },
  {
   "cell_type": "markdown",
   "id": "246baa94-d81c-4fd3-9aa4-1804b57bbe9b",
   "metadata": {},
   "source": [
    "After you add that, save the file, and check your git status:"
   ]
  },
  {
   "cell_type": "code",
   "execution_count": 30,
   "id": "336be33b-9cd8-4b89-b657-fe80637fe1ba",
   "metadata": {},
   "outputs": [
    {
     "name": "stdout",
     "output_type": "stream",
     "text": [
      "On branch feature\n",
      "Changes not staged for commit:\n",
      "  (use \"git add <file>...\" to update what will be committed)\n",
      "  (use \"git restore <file>...\" to discard changes in working directory)\n",
      "\tmodified:   testpack/__init__.py\n",
      "\n",
      "no changes added to commit (use \"git add\" and/or \"git commit -a\")\n"
     ]
    }
   ],
   "source": [
    "%%bash\n",
    "cd package-root\n",
    "git status"
   ]
  },
  {
   "cell_type": "markdown",
   "id": "4558283e-a106-46e9-a2c1-3c8b27cc43be",
   "metadata": {},
   "source": [
    "This is telling us two things:\n",
    "1. We are on the feature branch\n",
    "2. There is a modified file.\n",
    "\n",
    "Now, let's commit this change.\n",
    "\n"
   ]
  },
  {
   "cell_type": "code",
   "execution_count": 31,
   "id": "f7e0555e-01f3-4aaa-9934-6e0acc983d7a",
   "metadata": {},
   "outputs": [
    {
     "name": "stdout",
     "output_type": "stream",
     "text": [
      "[feature b04699d] Add a new function\n",
      " 1 file changed, 3 insertions(+)\n",
      "* b04699d Add a new function\n",
      "* 13a204c Add the .gitignore file\n",
      "* 1640bc2 First commit\n"
     ]
    }
   ],
   "source": [
    "%%bash\n",
    "cd package-root\n",
    "git commit testpack/__init__.py -m \"Add a new function\"\n",
    "git log --graph --oneline"
   ]
  },
  {
   "cell_type": "markdown",
   "id": "220f27a6-c835-49ce-9422-4b4e0514a310",
   "metadata": {},
   "source": [
    "## Back and forth on branches\n",
    "\n",
    "Before we go further, let's see that we can go back to the main branch where that addition does not exist, and then come back. First, we see what is in the file right now.\n",
    "\n"
   ]
  },
  {
   "cell_type": "code",
   "execution_count": 32,
   "id": "0ffe09ee-80dd-452a-91d4-42f39896c35b",
   "metadata": {},
   "outputs": [
    {
     "name": "stdout",
     "output_type": "stream",
     "text": [
      "On branch feature\n",
      "nothing to commit, working tree clean\n",
      "print('Loading testpack! Version 1')\n",
      "\n",
      "def hello(name):\n",
      "    return f'Hello {name}'\n",
      "\n",
      "def goodbye(name):\n",
      "    return f'Goodbye {name}'\n"
     ]
    }
   ],
   "source": [
    "%%bash\n",
    "cd package-root\n",
    "git status\n",
    "cat testpack/__init__.py"
   ]
  },
  {
   "cell_type": "markdown",
   "id": "9de084a5-1cf0-446a-978d-120e09df5dfb",
   "metadata": {},
   "source": [
    "Now, we checkout the main branch. The change we made does not exist there.\n",
    "\n"
   ]
  },
  {
   "cell_type": "code",
   "execution_count": 33,
   "id": "042f0bff-bbc0-4f72-a144-7eba9f71829c",
   "metadata": {},
   "outputs": [
    {
     "name": "stderr",
     "output_type": "stream",
     "text": [
      "Switched to branch 'main'\n"
     ]
    },
    {
     "name": "stdout",
     "output_type": "stream",
     "text": [
      "On branch main\n",
      "nothing to commit, working tree clean\n",
      "print('Loading testpack! Version 1')\n",
      "\n",
      "def hello(name):\n",
      "    return f'Hello {name}'\n"
     ]
    }
   ],
   "source": [
    "%%bash\n",
    "cd package-root\n",
    "git checkout main\n",
    "git status\n",
    "cat testpack/__init__.py"
   ]
  },
  {
   "cell_type": "markdown",
   "id": "5632ac1a-f978-4c5e-af42-87dc5ca3f76b",
   "metadata": {},
   "source": [
    "And now back to our feature branch. Now you see the new feature is back.\n",
    "\n"
   ]
  },
  {
   "cell_type": "code",
   "execution_count": 34,
   "id": "be11adb3-a266-4f39-8cbe-52da0daefeab",
   "metadata": {},
   "outputs": [
    {
     "name": "stderr",
     "output_type": "stream",
     "text": [
      "Switched to branch 'feature'\n"
     ]
    },
    {
     "name": "stdout",
     "output_type": "stream",
     "text": [
      "On branch feature\n",
      "nothing to commit, working tree clean\n",
      "print('Loading testpack! Version 1')\n",
      "\n",
      "def hello(name):\n",
      "    return f'Hello {name}'\n",
      "\n",
      "def goodbye(name):\n",
      "    return f'Goodbye {name}'\n"
     ]
    }
   ],
   "source": [
    "%%bash\n",
    "cd package-root\n",
    "git checkout feature\n",
    "git status\n",
    "cat testpack/__init__.py"
   ]
  },
  {
   "cell_type": "markdown",
   "id": "c2eac30b-17b9-420a-912f-2ffa161cd842",
   "metadata": {},
   "source": [
    "## Add a commit on main\n",
    "\n",
    "git allows us to have many branches where we can add features, fix bugs, try new implementations, etc. You can make changes to all the branches simultaneously. For example, let's go back to the main branch to add some detail to the README.\n",
    "\n"
   ]
  },
  {
   "cell_type": "code",
   "execution_count": 35,
   "id": "efba58bb-a4e7-4903-9898-9d03110eaf45",
   "metadata": {},
   "outputs": [
    {
     "name": "stderr",
     "output_type": "stream",
     "text": [
      "Switched to branch 'main'\n"
     ]
    },
    {
     "name": "stdout",
     "output_type": "stream",
     "text": [
      "[main f6e164d] document the function in the package\n",
      " 1 file changed, 3 insertions(+)\n",
      "* f6e164d document the function in the package\n",
      "* 13a204c Add the .gitignore file\n",
      "* 1640bc2 First commit\n"
     ]
    }
   ],
   "source": [
    "%%bash\n",
    "cd package-root\n",
    "git checkout main\n",
    "echo -e \"\\n\\nThere is one function: testpack.hello.\" >> README.md\n",
    "git commit README.md -m \"document the function in the package\"\n",
    "git log --graph --oneline"
   ]
  },
  {
   "cell_type": "markdown",
   "id": "3b63147e-9dc7-4929-b66b-22450f374ca4",
   "metadata": {},
   "source": [
    "If we switch back to our feature branch, you will see that this new change does not exist.\n",
    "\n"
   ]
  },
  {
   "cell_type": "code",
   "execution_count": 36,
   "id": "94c4306d-0581-45f7-896a-d61f2ebc6382",
   "metadata": {},
   "outputs": [
    {
     "name": "stderr",
     "output_type": "stream",
     "text": [
      "Switched to branch 'feature'\n"
     ]
    },
    {
     "name": "stdout",
     "output_type": "stream",
     "text": [
      "Example package\n",
      "===============\n",
      "\n",
      "There is one function: testpack.hello.\n"
     ]
    }
   ],
   "source": [
    "%%bash\n",
    "cd package-root\n",
    "git checkout feature\n",
    "cat README.md"
   ]
  },
  {
   "cell_type": "markdown",
   "id": "2a2d3b2a-d18d-4dd1-929e-a5aa3e7e902a",
   "metadata": {},
   "source": [
    "## merge main onto feature branch\n",
    "\n",
    "Before we continue, we should merge the new change in main into our feature branch. \n",
    "\n"
   ]
  },
  {
   "cell_type": "code",
   "execution_count": 37,
   "id": "b391a60b-dcb5-47c6-87d6-8da243b95668",
   "metadata": {},
   "outputs": [
    {
     "name": "stdout",
     "output_type": "stream",
     "text": [
      "Merge made by the 'ort' strategy.\n",
      " README.md | 3 +++\n",
      " 1 file changed, 3 insertions(+)\n",
      "*   54e19af Merge branch 'main' into feature\n",
      "|\\  \n",
      "| * f6e164d document the function in the package\n",
      "* | b04699d Add a new function\n",
      "|/  \n",
      "* 13a204c Add the .gitignore file\n",
      "* 1640bc2 First commit\n"
     ]
    }
   ],
   "source": [
    "%%bash\n",
    "cd package-root\n",
    "git merge main\n",
    "git log --graph --oneline"
   ]
  },
  {
   "cell_type": "markdown",
   "id": "3541b849-f8df-422e-80eb-88d9dd76ffd2",
   "metadata": {},
   "source": [
    "Now, we can finish up our feature branch. Let's add some documentation to the README.md. Add some text about the new function you added, then commit the change.\n",
    "\n"
   ]
  },
  {
   "cell_type": "markdown",
   "id": "f53478fa-8b79-4d0b-8c5a-8d5a415c748e",
   "metadata": {},
   "source": [
    "Finally, when satisfied with your feature branch, we go back to our main branch, and merge the feature into it. If you are done with the branch, it is a good practice to delete it. \n",
    "\n"
   ]
  },
  {
   "cell_type": "code",
   "execution_count": 38,
   "id": "932ae981-f759-4a51-aa81-e50f1235e2a3",
   "metadata": {},
   "outputs": [
    {
     "name": "stderr",
     "output_type": "stream",
     "text": [
      "Switched to branch 'main'\n"
     ]
    },
    {
     "name": "stdout",
     "output_type": "stream",
     "text": [
      "Updating f6e164d..54e19af\n",
      "Fast-forward\n",
      " testpack/__init__.py | 3 +++\n",
      " 1 file changed, 3 insertions(+)\n",
      "Deleted branch feature (was 54e19af).\n",
      "*   54e19af Merge branch 'main' into feature\n",
      "|\\  \n",
      "| * f6e164d document the function in the package\n",
      "* | b04699d Add a new function\n",
      "|/  \n",
      "* 13a204c Add the .gitignore file\n",
      "* 1640bc2 First commit\n"
     ]
    }
   ],
   "source": [
    "%%bash\n",
    "cd package-root\n",
    "git checkout main\n",
    "git merge feature\n",
    "git branch --delete feature\n",
    "git log --graph --oneline"
   ]
  },
  {
   "cell_type": "markdown",
   "id": "7c67500f-49cc-4985-a0e3-f985ef2980a4",
   "metadata": {},
   "source": [
    "Let's take some time to review what this git log shows. You can see there was some branching, with commits on different branches. You can see where the main branch was merged into the feature branch, and at the end where the feature branch was merged back into main.\n",
    "\n"
   ]
  },
  {
   "cell_type": "code",
   "execution_count": 39,
   "id": "197bc391-88b0-40cc-a431-6bd45bfea764",
   "metadata": {},
   "outputs": [
    {
     "name": "stdout",
     "output_type": "stream",
     "text": [
      "* \u001b[32mmain\u001b[m\n"
     ]
    }
   ],
   "source": [
    "# Check we don't have the branch anymore\n",
    "! cd package-root; git branch -a"
   ]
  },
  {
   "cell_type": "markdown",
   "id": "705752e9-6888-4dcb-9192-16dcbef3b262",
   "metadata": {},
   "source": [
    "# Try the new python function\n",
    "\n",
    "We might naively just try it, but it does not work.\n",
    "\n"
   ]
  },
  {
   "cell_type": "code",
   "execution_count": 40,
   "id": "585cd8fa-73c4-4485-8e1a-eb2084de3e27",
   "metadata": {},
   "outputs": [
    {
     "ename": "AttributeError",
     "evalue": "module 'testpack' has no attribute 'goodbye'",
     "output_type": "error",
     "traceback": [
      "\u001b[0;31m---------------------------------------------------------------------------\u001b[0m",
      "\u001b[0;31mAttributeError\u001b[0m                            Traceback (most recent call last)",
      "Cell \u001b[0;32mIn [40], line 1\u001b[0m\n\u001b[0;32m----> 1\u001b[0m \u001b[43mtestpack\u001b[49m\u001b[38;5;241;43m.\u001b[39;49m\u001b[43mgoodbye\u001b[49m(\u001b[38;5;124m'\u001b[39m\u001b[38;5;124mJohn\u001b[39m\u001b[38;5;124m'\u001b[39m)\n",
      "\u001b[0;31mAttributeError\u001b[0m: module 'testpack' has no attribute 'goodbye'"
     ]
    }
   ],
   "source": [
    "testpack.goodbye('John')"
   ]
  },
  {
   "cell_type": "markdown",
   "id": "8a36d5b8-b888-4b5b-8ffa-292b5a6abf40",
   "metadata": {},
   "source": [
    "It doesn't work though. It is necessary to reload this package (or you have to restart the kernel). This is a limitation of how Python (and in particular the persistent environment in Jupyter lab) loads packages. We simply have to reload it like this.\n",
    "\n"
   ]
  },
  {
   "cell_type": "code",
   "execution_count": 41,
   "id": "ece5b3a5-f36a-43c6-8985-7ff89eaf7600",
   "metadata": {},
   "outputs": [
    {
     "name": "stdout",
     "output_type": "stream",
     "text": [
      "Loading testpack! Version 1\n"
     ]
    },
    {
     "data": {
      "text/plain": [
       "'Goodbye John'"
      ]
     },
     "execution_count": 41,
     "metadata": {},
     "output_type": "execute_result"
    }
   ],
   "source": [
    "import importlib\n",
    "importlib.reload(testpack)\n",
    "testpack.goodbye('John')"
   ]
  },
  {
   "cell_type": "markdown",
   "id": "34d5ec7e-b3ce-4227-aa1c-c99c7593ec3d",
   "metadata": {},
   "source": [
    "# Summary\n",
    "\n",
    "We learned how to:\n",
    "\n",
    "1. initialize a git repo\n",
    "2. Add files and commit them to the repo\n",
    "3. edit files and commit changes.\n",
    "4. Create a feature branch\n",
    "5. make changes on the feature branch\n",
    "6. switch between branches\n",
    "7. merge changes in branches\n",
    "8. delete a feature branch.\n",
    "9. Look at the commit log\n",
    "\n",
    "git is an iceberg. You can learn a lot more from the [Pro Git book](https://git-scm.com/book/en/v2) and the [reference manual](https://git-scm.com/docs).\n",
    "\n",
    "You should also read https://merely-useful.tech/py-rse/git-advanced.html.\n",
    "\n",
    "Today we learned about using branches to try making a change. The nice thing about branches is if you don't like the change, you can simply delete the branch, or go back to the main branch. If you do like it, then you just merge it in, and get on with your work.\n",
    "\n",
    "There is still quite a bit to learn about git. We will get in to some of these things next time, including dealing with merge conflicts, \n",
    "\n"
   ]
  }
 ],
 "metadata": {
  "kernelspec": {
   "display_name": "Python 3 (ipykernel)",
   "language": "python",
   "name": "python3"
  },
  "language_info": {
   "codemirror_mode": {
    "name": "ipython",
    "version": 3
   },
   "file_extension": ".py",
   "mimetype": "text/x-python",
   "name": "python",
   "nbconvert_exporter": "python",
   "pygments_lexer": "ipython3",
   "version": "3.9.13"
  },
  "widgets": {
   "application/vnd.jupyter.widget-state+json": {
    "state": {},
    "version_major": 2,
    "version_minor": 0
   }
  }
 },
 "nbformat": 4,
 "nbformat_minor": 5
}
