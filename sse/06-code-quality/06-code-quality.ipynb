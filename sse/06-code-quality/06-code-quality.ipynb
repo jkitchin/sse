{
 "cells": [
  {
   "cell_type": "markdown",
   "id": "aa277d1d-f1a9-4dca-8257-bb11e664a621",
   "metadata": {},
   "source": [
    "Code quality control\n",
    "====================\n",
    "\n",
    "Today we look at some ways we automate quality control in our packages. This includes:\n",
    "\n",
    "1. Standardizing the format of your code\n",
    "2. Standardizing compliance with [PEP8](https://peps.python.org/pep-0008/) style\n",
    "3. Measuring coverage of the package\n",
    "4. Ensuring these are satisfied before you commit your code to git.\n",
    "\n"
   ]
  },
  {
   "cell_type": "code",
   "execution_count": 60,
   "id": "68386453-6d80-4b62-bf52-1a7f740e98c0",
   "metadata": {},
   "outputs": [
    {
     "name": "stdout",
     "output_type": "stream",
     "text": [
      "Found existing installation: s23bib 0.0.1\n",
      "Uninstalling s23bib-0.0.1:\n",
      "  Successfully uninstalled s23bib-0.0.1\n"
     ]
    }
   ],
   "source": [
    "%%bash\n",
    "# Clean up any existing files\n",
    "rm -fr package black-example.py flake-example.py references.bib\n",
    "pip uninstall -y s23bib"
   ]
  },
  {
   "cell_type": "markdown",
   "id": "7ee64872-8ce2-4e91-809d-b2c2530a7d9f",
   "metadata": {},
   "source": [
    "# Package setup for today\n",
    "\n",
    "We start with a small package that just sorts a bibtex file by year. This package is missing an explicit license and readme file.\n",
    "\n"
   ]
  },
  {
   "cell_type": "code",
   "execution_count": 61,
   "id": "6decd9ed-564a-4bce-831c-382fe87ac30e",
   "metadata": {},
   "outputs": [
    {
     "name": "stderr",
     "output_type": "stream",
     "text": [
      "hint: Using 'master' as the name for the initial branch. This default branch name\n",
      "hint: is subject to change. To configure the initial branch name to use in all\n",
      "hint: of your new repositories, which will suppress this warning, call:\n",
      "hint: \n",
      "hint: \tgit config --global init.defaultBranch <name>\n",
      "hint: \n",
      "hint: Names commonly chosen instead of 'master' are 'main', 'trunk' and\n",
      "hint: 'development'. The just-created branch can be renamed via this command:\n",
      "hint: \n",
      "hint: \tgit branch -m <name>\n"
     ]
    },
    {
     "name": "stdout",
     "output_type": "stream",
     "text": [
      "Initialized empty Git repository in /home/jovyan/work/06-code-quality/package/.git/\n"
     ]
    }
   ],
   "source": [
    "%%bash\n",
    "mkdir -p package/s23bib\n",
    "cd package\n",
    "git init"
   ]
  },
  {
   "cell_type": "code",
   "execution_count": 62,
   "id": "d3244bac-c896-48a0-9013-bf52f550b1e9",
   "metadata": {},
   "outputs": [
    {
     "name": "stdout",
     "output_type": "stream",
     "text": [
      "Writing package/setup.py\n"
     ]
    }
   ],
   "source": [
    "%%writefile package/setup.py\n",
    "from setuptools import setup\n",
    "\n",
    "setup(name='s23bib',\n",
    "      version='0.0.1',\n",
    "      description='bibtex utilities',\n",
    "      maintainer='John Kitchin',\n",
    "      maintainer_email='jkitchin@andrew.cmu.edu',\n",
    "      license='MIT',\n",
    "      packages=['s23bib'],\n",
    "      scripts=[],\n",
    "      long_description='''A set of bibtex utilities''')"
   ]
  },
  {
   "cell_type": "code",
   "execution_count": 63,
   "id": "d054831d-b0e7-4cc5-8f9a-570615c0affa",
   "metadata": {},
   "outputs": [
    {
     "name": "stdout",
     "output_type": "stream",
     "text": [
      "Writing package/s23bib/utils.py\n"
     ]
    }
   ],
   "source": [
    "%%writefile package/s23bib/utils.py\n",
    "import bibtexparser\n",
    "\n",
    "def sort_bibtex(bibfile, ascending=True, inplace=False):\n",
    "    with open(bibfile) as bf:\n",
    "        bd = bibtexparser.load(bf)\n",
    "    entries = bd.entries\n",
    "    entries.sort(key=lambda entry: int(entry['year']), reverse=not ascending)\n",
    "    \n",
    "    if inplace:\n",
    "        db = bibtexparser.bibdatabase.BibDatabase\n",
    "        db.entries = entries\n",
    "        db.comments = []\n",
    "        db.strings={}\n",
    "        db.preambles=[]\n",
    "        writer = bibtexparser.bwriter.BibTexWriter()\n",
    "        with open(bibfile, 'w') as bibfile:\n",
    "            bibfile.write(writer.write(db))\n",
    "        \n",
    "    else:\n",
    "        return entries"
   ]
  },
  {
   "cell_type": "code",
   "execution_count": 64,
   "id": "024ebae6-6b3d-42c6-8631-56510a968705",
   "metadata": {},
   "outputs": [
    {
     "name": "stdout",
     "output_type": "stream",
     "text": [
      "Writing package/s23bib/__init__.py\n"
     ]
    }
   ],
   "source": [
    "%%writefile package/s23bib/__init__.py\n",
    "from .utils import sort_bibtex"
   ]
  },
  {
   "cell_type": "code",
   "execution_count": 65,
   "id": "28e59a53-673c-4447-af0f-d778ad063e6f",
   "metadata": {},
   "outputs": [
    {
     "name": "stdout",
     "output_type": "stream",
     "text": [
      "Writing package/s23bib/test_sort.py\n"
     ]
    }
   ],
   "source": [
    "%%writefile package/s23bib/test_sort.py\n",
    "import os\n",
    "import pytest\n",
    "import bibtexparser\n",
    "from s23bib import sort_bibtex\n",
    "\n",
    "bs = '''\n",
    "@article{kitchin-2018-machin-learn-catal,\n",
    "  author =\t {John R. Kitchin},\n",
    "  title =\t {Machine Learning in Catalysis},\n",
    "  journal =\t {Nature Catalysis},\n",
    "  volume =\t 1,\n",
    "  number =\t 4,\n",
    "  pages =\t {230-232},\n",
    "  year =\t 2018,\n",
    "  doi =\t\t {10.1038/s41929-018-0056-y},\n",
    "  url =\t\t {https://doi.org/10.1038/s41929-018-0056-y},\n",
    "  DATE_ADDED =\t {Sun Mar 3 16:40:42 2019},\n",
    "}\n",
    "@article{kitchin-2015-examp-effec,\n",
    "  author =\t {John R. Kitchin},\n",
    "  title =\t {Examples of Effective Data Sharing in Scientific Publishing},\n",
    "  journal =\t {ACS Catalysis},\n",
    "  volume =\t 5,\n",
    "  number =\t 6,\n",
    "  pages =\t {3894-3899},\n",
    "  year =\t 2015,\n",
    "  doi =\t\t {10.1021/acscatal.5b00538},\n",
    "  url =\t\t {https://doi.org/10.1021/acscatal.5b00538},\n",
    "  DATE_ADDED =\t {Fri Jan 18 09:54:51 2019},\n",
    "}'''\n",
    "\n",
    "@pytest.fixture()\n",
    "def setup():\n",
    "    with open('test.bib', 'w') as f:\n",
    "        f.write(bs)\n",
    "    yield \"setup\"\n",
    "    os.unlink('test.bib')\n",
    "    \n",
    "class TestSort:\n",
    "    def test_sort(self, setup):\n",
    "        entries = sort_bibtex('test.bib')\n",
    "        assert [e['year'] for e in entries] == ['2015', '2018'] "
   ]
  },
  {
   "cell_type": "code",
   "execution_count": 66,
   "id": "e105cad5-d384-4bb0-b6e9-4bf11162c603",
   "metadata": {},
   "outputs": [
    {
     "name": "stdout",
     "output_type": "stream",
     "text": [
      "Writing references.bib\n"
     ]
    }
   ],
   "source": [
    "%%writefile references.bib\n",
    "@article{kitchin-2018-machin-learn-catal,\n",
    "  author =\t {John R. Kitchin},\n",
    "  title =\t {Machine Learning in Catalysis},\n",
    "  journal =\t {Nature Catalysis},\n",
    "  volume =\t 1,\n",
    "  number =\t 4,\n",
    "  pages =\t {230-232},\n",
    "  year =\t 2018,\n",
    "  doi =\t\t {10.1038/s41929-018-0056-y},\n",
    "  url =\t\t {https://doi.org/10.1038/s41929-018-0056-y},\n",
    "  DATE_ADDED =\t {Sun Mar 3 16:40:42 2019},\n",
    "}\n",
    "@article{kitchin-2015-examp-effec,\n",
    "  author =\t {John R. Kitchin},\n",
    "  title =\t {Examples of Effective Data Sharing in Scientific Publishing},\n",
    "  journal =\t {ACS Catalysis},\n",
    "  volume =\t 5,\n",
    "  number =\t 6,\n",
    "  pages =\t {3894-3899},\n",
    "  year =\t 2015,\n",
    "  doi =\t\t {10.1021/acscatal.5b00538},\n",
    "  url =\t\t {https://doi.org/10.1021/acscatal.5b00538},\n",
    "  DATE_ADDED =\t {Fri Jan 18 09:54:51 2019},\n",
    "}\n",
    "\n"
   ]
  },
  {
   "cell_type": "markdown",
   "id": "8d065edd-bdd0-441a-9173-65ef9efd6097",
   "metadata": {},
   "source": [
    "## Install and test basic functionalities\n",
    "\n"
   ]
  },
  {
   "cell_type": "code",
   "execution_count": 67,
   "id": "1391ac31-fb9d-47f1-9763-8e2e34e0024b",
   "metadata": {},
   "outputs": [
    {
     "name": "stdout",
     "output_type": "stream",
     "text": [
      "/home/jovyan/work/06-code-quality\n"
     ]
    }
   ],
   "source": [
    "!pwd"
   ]
  },
  {
   "cell_type": "code",
   "execution_count": 68,
   "id": "ba5bc663-ae95-4320-aaf5-a97b9f901857",
   "metadata": {},
   "outputs": [
    {
     "name": "stdout",
     "output_type": "stream",
     "text": [
      "Processing ./package\n",
      "  Preparing metadata (setup.py) ... \u001b[?25ldone\n",
      "\u001b[?25hBuilding wheels for collected packages: s23bib\n",
      "  Building wheel for s23bib (setup.py) ... \u001b[?25ldone\n",
      "\u001b[?25h  Created wheel for s23bib: filename=s23bib-0.0.1-py3-none-any.whl size=2348 sha256=02b27bd9adb5dfc7ed80db5e82612bf50bc8ebca3bdc4b03b48bce347fa104a0\n",
      "  Stored in directory: /tmp/pip-ephem-wheel-cache-f4k0866z/wheels/69/ce/1c/6603d355c8a3061abccae8e7965eeb2565a6390873b5ad554b\n",
      "Successfully built s23bib\n",
      "Installing collected packages: s23bib\n",
      "Successfully installed s23bib-0.0.1\n"
     ]
    }
   ],
   "source": [
    "! pip install ./package"
   ]
  },
  {
   "cell_type": "code",
   "execution_count": 69,
   "id": "0489b275-61f0-4294-a1d0-9a3dbc11f0a2",
   "metadata": {},
   "outputs": [
    {
     "name": "stdout",
     "output_type": "stream",
     "text": [
      "Requirement already satisfied: bibtexparser in /opt/conda/lib/python3.9/site-packages (1.4.0)\n",
      "Requirement already satisfied: pyparsing>=2.0.3 in /opt/conda/lib/python3.9/site-packages (from bibtexparser) (3.0.9)\n"
     ]
    }
   ],
   "source": [
    "! pip install bibtexparser"
   ]
  },
  {
   "cell_type": "code",
   "execution_count": 70,
   "id": "3225ec4b-a7c5-4697-b3f3-795e0ada2232",
   "metadata": {},
   "outputs": [
    {
     "data": {
      "text/plain": [
       "[{'date_added': 'Fri Jan 18 09:54:51 2019',\n",
       "  'url': 'https://doi.org/10.1021/acscatal.5b00538',\n",
       "  'doi': '10.1021/acscatal.5b00538',\n",
       "  'year': '2015',\n",
       "  'pages': '3894-3899',\n",
       "  'number': '6',\n",
       "  'volume': '5',\n",
       "  'journal': 'ACS Catalysis',\n",
       "  'title': 'Examples of Effective Data Sharing in Scientific Publishing',\n",
       "  'author': 'John R. Kitchin',\n",
       "  'ENTRYTYPE': 'article',\n",
       "  'ID': 'kitchin-2015-examp-effec'},\n",
       " {'date_added': 'Sun Mar 3 16:40:42 2019',\n",
       "  'url': 'https://doi.org/10.1038/s41929-018-0056-y',\n",
       "  'doi': '10.1038/s41929-018-0056-y',\n",
       "  'year': '2018',\n",
       "  'pages': '230-232',\n",
       "  'number': '4',\n",
       "  'volume': '1',\n",
       "  'journal': 'Nature Catalysis',\n",
       "  'title': 'Machine Learning in Catalysis',\n",
       "  'author': 'John R. Kitchin',\n",
       "  'ENTRYTYPE': 'article',\n",
       "  'ID': 'kitchin-2018-machin-learn-catal'}]"
      ]
     },
     "execution_count": 70,
     "metadata": {},
     "output_type": "execute_result"
    }
   ],
   "source": [
    "from s23bib import sort_bibtex\n",
    "sort_bibtex('references.bib', ascending=True)"
   ]
  },
  {
   "cell_type": "code",
   "execution_count": 71,
   "id": "785804b4-8106-4317-8a44-8085974a7850",
   "metadata": {},
   "outputs": [],
   "source": [
    "sort_bibtex('references.bib', inplace=True)"
   ]
  },
  {
   "cell_type": "code",
   "execution_count": 72,
   "id": "bfd3597c-0842-4d88-ad02-8bc4d4ea6935",
   "metadata": {},
   "outputs": [
    {
     "name": "stdout",
     "output_type": "stream",
     "text": [
      "@article{kitchin-2015-examp-effec,\n",
      " author = {John R. Kitchin},\n",
      " date_added = {Fri Jan 18 09:54:51 2019},\n",
      " doi = {10.1021/acscatal.5b00538},\n",
      " journal = {ACS Catalysis},\n",
      " number = {6},\n",
      " pages = {3894-3899},\n",
      " title = {Examples of Effective Data Sharing in Scientific Publishing},\n",
      " url = {https://doi.org/10.1021/acscatal.5b00538},\n",
      " volume = {5},\n",
      " year = {2015}\n",
      "}\n",
      "\n",
      "@article{kitchin-2018-machin-learn-catal,\n",
      " author = {John R. Kitchin},\n",
      " date_added = {Sun Mar 3 16:40:42 2019},\n",
      " doi = {10.1038/s41929-018-0056-y},\n",
      " journal = {Nature Catalysis},\n",
      " number = {4},\n",
      " pages = {230-232},\n",
      " title = {Machine Learning in Catalysis},\n",
      " url = {https://doi.org/10.1038/s41929-018-0056-y},\n",
      " volume = {1},\n",
      " year = {2018}\n",
      "}\n"
     ]
    }
   ],
   "source": [
    "! cat references.bib"
   ]
  },
  {
   "cell_type": "markdown",
   "id": "d70af88e-7127-4c3c-85a6-b81c4f19192c",
   "metadata": {},
   "source": [
    "You can see the file has been sorted by year.\n",
    "\n"
   ]
  },
  {
   "cell_type": "markdown",
   "id": "120574ed-39e5-4ee8-9832-dec26b4ba0dd",
   "metadata": {},
   "source": [
    "We can also run tests."
   ]
  },
  {
   "cell_type": "code",
   "execution_count": 73,
   "id": "2a15584d-4c6d-49b1-a645-94c1baf5a36b",
   "metadata": {},
   "outputs": [
    {
     "name": "stdout",
     "output_type": "stream",
     "text": [
      "\u001b[1m============================= test session starts ==============================\u001b[0m\n",
      "platform linux -- Python 3.9.13, pytest-7.3.2, pluggy-1.0.0\n",
      "rootdir: /home/jovyan/work/06-code-quality\n",
      "plugins: anyio-3.6.1, nbmake-1.4.1\n",
      "collected 1 item                                                               \u001b[0m\n",
      "\n",
      "package/s23bib/test_sort.py \u001b[32m.\u001b[0m\u001b[32m                                            [100%]\u001b[0m\n",
      "\n",
      "\u001b[32m============================== \u001b[32m\u001b[1m1 passed\u001b[0m\u001b[32m in 0.24s\u001b[0m\u001b[32m ===============================\u001b[0m\n"
     ]
    }
   ],
   "source": [
    "! pytest"
   ]
  },
  {
   "cell_type": "markdown",
   "id": "6a3754f7-fb6d-4726-bdd7-e3ad1e5e89d5",
   "metadata": {},
   "source": [
    "# Code formatting\n",
    "\n",
    "When people use different formatting styles it makes it more difficult to work as a team:\n",
    "\n",
    "1. The code looks different to different people\n",
    "2. People waste time changing the format\n",
    "3. git diffs contain unimportant information\n",
    "\n",
    "A way to manage this is to use an automatic formatter. One such tools is [black](https://github.com/psf/black). It is strongly opinionated on style. \n",
    "\n"
   ]
  },
  {
   "cell_type": "code",
   "execution_count": 74,
   "id": "d882513e-0ab2-4d75-9203-a4fd9b0dfdd4",
   "metadata": {},
   "outputs": [
    {
     "name": "stdout",
     "output_type": "stream",
     "text": [
      "Writing black-example.py\n"
     ]
    }
   ],
   "source": [
    "%%writefile black-example.py\n",
    "a=4\n",
    "#how about this for loop\n",
    "for i in range(a):\n",
    "    b  =3\n",
    "    print( a,b)#comment two\n",
    "\n",
    "b = [1,2,3,4,5,6,7,8,9,0]\n",
    "\n",
    "def f(x):\n",
    "    'docstring'\n",
    "    return ([1,2,3,4,\n",
    "             5,6,7,8,9,0])"
   ]
  },
  {
   "cell_type": "markdown",
   "id": "b42836bd-42af-4844-9c70-06fbcc9fca97",
   "metadata": {},
   "source": [
    "We can see what kinds of changes will be made first.\n",
    "\n"
   ]
  },
  {
   "cell_type": "code",
   "execution_count": 75,
   "id": "93053ae3-f872-429c-b425-51edccde0ff3",
   "metadata": {},
   "outputs": [
    {
     "name": "stdout",
     "output_type": "stream",
     "text": [
      "--- black-example.py\t2023-06-14 15:49:40.638298 +0000\n",
      "+++ black-example.py\t2023-06-14 15:49:42.525711 +0000\n",
      "@@ -1,12 +1,12 @@\n",
      "-a=4\n",
      "-#how about this for loop\n",
      "+a = 4\n",
      "+# how about this for loop\n",
      " for i in range(a):\n",
      "-    b  =3\n",
      "-    print( a,b)#comment two\n",
      "+    b = 3\n",
      "+    print(a, b)  # comment two\n",
      " \n",
      "-b = [1,2,3,4,5,6,7,8,9,0]\n",
      "+b = [1, 2, 3, 4, 5, 6, 7, 8, 9, 0]\n",
      "+\n",
      " \n",
      " def f(x):\n",
      "-    'docstring'\n",
      "-    return ([1,2,3,4,\n",
      "-             5,6,7,8,9,0])\n",
      "+    \"docstring\"\n",
      "+    return [1, 2, 3, 4, 5, 6, 7, 8, 9, 0]\n"
     ]
    },
    {
     "name": "stderr",
     "output_type": "stream",
     "text": [
      "would reformat black-example.py\n",
      "\n",
      "All done! ✨ 🍰 ✨\n",
      "1 file would be reformatted.\n"
     ]
    }
   ],
   "source": [
    "%%bash\n",
    "black black-example.py --diff"
   ]
  },
  {
   "cell_type": "markdown",
   "id": "3c7c0716-b162-48bd-b61a-4f8b48017237",
   "metadata": {},
   "source": [
    "To actually make the changes, we run this command. This modifies the file.\n",
    "\n"
   ]
  },
  {
   "cell_type": "code",
   "execution_count": 76,
   "id": "063741a6-d634-4c0d-826b-0b30045aacc5",
   "metadata": {},
   "outputs": [
    {
     "name": "stderr",
     "output_type": "stream",
     "text": [
      "reformatted black-example.py\n",
      "\n",
      "All done! ✨ 🍰 ✨\n",
      "1 file reformatted.\n"
     ]
    }
   ],
   "source": [
    "%%bash\n",
    "black black-example.py"
   ]
  },
  {
   "cell_type": "markdown",
   "id": "d414367a-caab-4e6c-8b03-d775f049f0bf",
   "metadata": {},
   "source": [
    "You can open the [file](./black-example.py) or see it in the notebook."
   ]
  },
  {
   "cell_type": "code",
   "execution_count": 77,
   "id": "9550202a-b4a5-4004-9ef5-e5f1d28edc88",
   "metadata": {},
   "outputs": [
    {
     "name": "stdout",
     "output_type": "stream",
     "text": [
      "a = 4\n",
      "# how about this for loop\n",
      "for i in range(a):\n",
      "    b = 3\n",
      "    print(a, b)  # comment two\n",
      "\n",
      "b = [1, 2, 3, 4, 5, 6, 7, 8, 9, 0]\n",
      "\n",
      "\n",
      "def f(x):\n",
      "    \"docstring\"\n",
      "    return [1, 2, 3, 4, 5, 6, 7, 8, 9, 0]\n"
     ]
    }
   ],
   "source": [
    "!cat black-example.py"
   ]
  },
  {
   "cell_type": "markdown",
   "id": "d8cb023f-eb50-47af-9fa3-2a87ca7c17f3",
   "metadata": {},
   "source": [
    "It is possible to fine-tune what black does (see https://black.readthedocs.io/en/stable/usage_and_configuration/the_basics.html#configuration-via-a-file). We will not consider this here.\n",
    "\n",
    "You can run black on all the files in a directory with\n",
    "\n",
    "    black package\n",
    "\n",
    "\n"
   ]
  },
  {
   "cell_type": "code",
   "execution_count": 78,
   "id": "25ab9c79-3547-49c8-966d-c7e964812f95",
   "metadata": {},
   "outputs": [
    {
     "name": "stdout",
     "output_type": "stream",
     "text": [
      "\u001b[1mreformatted /home/jovyan/work/06-code-quality/package/setup.py\u001b[0m\n",
      "\u001b[1mreformatted /home/jovyan/work/06-code-quality/package/s23bib/test_sort.py\u001b[0m\n",
      "\u001b[1mreformatted /home/jovyan/work/06-code-quality/package/s23bib/utils.py\u001b[0m\n",
      "\n",
      "\u001b[1mAll done! ✨ 🍰 ✨\u001b[0m\n",
      "\u001b[34m\u001b[1m3 files \u001b[0m\u001b[1mreformatted\u001b[0m, \u001b[34m1 file \u001b[0mleft unchanged.\n"
     ]
    }
   ],
   "source": [
    "! black package"
   ]
  },
  {
   "cell_type": "markdown",
   "id": "54ec1927-03b4-4806-8f16-1bb29b204bf7",
   "metadata": {},
   "source": [
    "There are also options to only check the files, output diffs, etc. There is even [black-nb](https://pypi.org/project/black-nb/) for notebooks.\n",
    "\n"
   ]
  },
  {
   "cell_type": "code",
   "execution_count": 79,
   "id": "e0948581-d0bb-4929-98f4-9ed9a93947de",
   "metadata": {},
   "outputs": [
    {
     "name": "stdout",
     "output_type": "stream",
     "text": [
      "Usage: black [OPTIONS] SRC ...\n",
      "\n",
      "  The uncompromising code formatter.\n",
      "\n",
      "Options:\n",
      "  -c, --code TEXT                 Format the code passed in as a string.\n",
      "  -l, --line-length INTEGER       How many characters per line to allow.\n",
      "                                  [default: 88]\n",
      "  -t, --target-version [py33|py34|py35|py36|py37|py38|py39|py310|py311]\n",
      "                                  Python versions that should be supported by\n",
      "                                  Black's output. By default, Black will try\n",
      "                                  to infer this from the project metadata in\n",
      "                                  pyproject.toml. If this does not yield\n",
      "                                  conclusive results, Black will use per-file\n",
      "                                  auto-detection.\n",
      "  --pyi                           Format all input files like typing stubs\n",
      "                                  regardless of file extension (useful when\n",
      "                                  piping source on standard input).\n",
      "  --ipynb                         Format all input files like Jupyter\n",
      "                                  Notebooks regardless of file extension\n",
      "                                  (useful when piping source on standard\n",
      "                                  input).\n",
      "  --python-cell-magics TEXT       When processing Jupyter Notebooks, add the\n",
      "                                  given magic to the list of known python-\n",
      "                                  magics (capture, prun, pypy, python,\n",
      "                                  python3, time, timeit). Useful for\n",
      "                                  formatting cells with custom python magics.\n",
      "  -x, --skip-source-first-line    Skip the first line of the source code.\n",
      "  -S, --skip-string-normalization\n",
      "                                  Don't normalize string quotes or prefixes.\n",
      "  -C, --skip-magic-trailing-comma\n",
      "                                  Don't use trailing commas as a reason to\n",
      "                                  split lines.\n",
      "  --preview                       Enable potentially disruptive style changes\n",
      "                                  that may be added to Black's main\n",
      "                                  functionality in the next major release.\n",
      "  --check                         Don't write the files back, just return the\n",
      "                                  status. Return code 0 means nothing would\n",
      "                                  change. Return code 1 means some files would\n",
      "                                  be reformatted. Return code 123 means there\n",
      "                                  was an internal error.\n",
      "  --diff                          Don't write the files back, just output a\n",
      "                                  diff for each file on stdout.\n",
      "  --color / --no-color            Show colored diff. Only applies when\n",
      "                                  `--diff` is given.\n",
      "  --fast / --safe                 If --fast given, skip temporary sanity\n",
      "                                  checks. [default: --safe]\n",
      "  --required-version TEXT         Require a specific version of Black to be\n",
      "                                  running (useful for unifying results across\n",
      "                                  many environments e.g. with a pyproject.toml\n",
      "                                  file). It can be either a major version\n",
      "                                  number or an exact version.\n",
      "  --include TEXT                  A regular expression that matches files and\n",
      "                                  directories that should be included on\n",
      "                                  recursive searches. An empty value means all\n",
      "                                  files are included regardless of the name.\n",
      "                                  Use forward slashes for directories on all\n",
      "                                  platforms (Windows, too). Exclusions are\n",
      "                                  calculated first, inclusions later.\n",
      "                                  [default: (\\.pyi?|\\.ipynb)$]\n",
      "  --exclude TEXT                  A regular expression that matches files and\n",
      "                                  directories that should be excluded on\n",
      "                                  recursive searches. An empty value means no\n",
      "                                  paths are excluded. Use forward slashes for\n",
      "                                  directories on all platforms (Windows, too).\n",
      "                                  Exclusions are calculated first, inclusions\n",
      "                                  later. [default: /(\\.direnv|\\.eggs|\\.git|\\.h\n",
      "                                  g|\\.mypy_cache|\\.nox|\\.tox|\\.venv|venv|\\.svn\n",
      "                                  |\\.ipynb_checkpoints|_build|buck-\n",
      "                                  out|build|dist|__pypackages__)/]\n",
      "  --extend-exclude TEXT           Like --exclude, but adds additional files\n",
      "                                  and directories on top of the excluded ones.\n",
      "                                  (Useful if you simply want to add to the\n",
      "                                  default)\n",
      "  --force-exclude TEXT            Like --exclude, but files and directories\n",
      "                                  matching this regex will be excluded even\n",
      "                                  when they are passed explicitly as\n",
      "                                  arguments.\n",
      "  --stdin-filename TEXT           The name of the file when passing it through\n",
      "                                  stdin. Useful to make sure Black will\n",
      "                                  respect --force-exclude option on some\n",
      "                                  editors that rely on using stdin.\n",
      "  -W, --workers INTEGER RANGE     Number of parallel workers [default: number\n",
      "                                  of CPUs in the system]  [x>=1]\n",
      "  -q, --quiet                     Don't emit non-error messages to stderr.\n",
      "                                  Errors are still emitted; silence those with\n",
      "                                  2>/dev/null.\n",
      "  -v, --verbose                   Also emit messages to stderr about files\n",
      "                                  that were not changed or were ignored due to\n",
      "                                  exclusion patterns.\n",
      "  --version                       Show the version and exit.\n",
      "  --config FILE                   Read configuration from FILE path.\n",
      "  -h, --help                      Show this message and exit.\n"
     ]
    }
   ],
   "source": [
    "! black -h"
   ]
  },
  {
   "cell_type": "markdown",
   "id": "4e3be7f4-e1b7-4644-a5cb-e6df53222afc",
   "metadata": {},
   "source": [
    "# Code style\n",
    "Style is also important. Python is a little over 30 years old now. Over the last three decades many things have been learned about effective coding styles which are described in the [PEP8](https://peps.python.org/pep-0008/) Style guide. These guidelines are even coded into a package that can analyze your code and alert you to problems: https://flake8.pycqa.org/en/latest/ and https://pylint.pycqa.org/en/latest/. \n",
    "\n",
    "These packages are complementary and do slightly different things. \n",
    "\n",
    "## Let's start with flake8.\n",
    "\n"
   ]
  },
  {
   "cell_type": "code",
   "execution_count": 80,
   "id": "55dd0333-2e2b-4c30-8c40-b0d3cd281d8c",
   "metadata": {},
   "outputs": [
    {
     "name": "stdout",
     "output_type": "stream",
     "text": [
      "Writing flake-example.py\n"
     ]
    }
   ],
   "source": [
    "%%writefile flake-example.py\n",
    "a=4\n",
    "#how about this for loop\n",
    "for i in range(a):\n",
    "    b  =3\n",
    "    print( a,b)#comment two"
   ]
  },
  {
   "cell_type": "code",
   "execution_count": 81,
   "id": "e2dfe017-4861-4771-a29c-23eefd5e6a49",
   "metadata": {},
   "outputs": [
    {
     "name": "stdout",
     "output_type": "stream",
     "text": [
      "\u001b[1mflake-example.py\u001b[m\u001b[36m:\u001b[m1\u001b[36m:\u001b[m1\u001b[36m:\u001b[m \u001b[1m\u001b[31mD100\u001b[m Missing docstring in public module\n",
      "\u001b[1mflake-example.py\u001b[m\u001b[36m:\u001b[m1\u001b[36m:\u001b[m2\u001b[36m:\u001b[m \u001b[1m\u001b[31mE225\u001b[m missing whitespace around operator\n",
      "\u001b[1mflake-example.py\u001b[m\u001b[36m:\u001b[m2\u001b[36m:\u001b[m1\u001b[36m:\u001b[m \u001b[1m\u001b[31mE265\u001b[m block comment should start with '# '\n",
      "\u001b[1mflake-example.py\u001b[m\u001b[36m:\u001b[m4\u001b[36m:\u001b[m6\u001b[36m:\u001b[m \u001b[1m\u001b[31mE221\u001b[m multiple spaces before operator\n",
      "\u001b[1mflake-example.py\u001b[m\u001b[36m:\u001b[m4\u001b[36m:\u001b[m9\u001b[36m:\u001b[m \u001b[1m\u001b[31mE225\u001b[m missing whitespace around operator\n",
      "\u001b[1mflake-example.py\u001b[m\u001b[36m:\u001b[m5\u001b[36m:\u001b[m11\u001b[36m:\u001b[m \u001b[1m\u001b[31mE201\u001b[m whitespace after '('\n",
      "\u001b[1mflake-example.py\u001b[m\u001b[36m:\u001b[m5\u001b[36m:\u001b[m13\u001b[36m:\u001b[m \u001b[1m\u001b[31mE231\u001b[m missing whitespace after ','\n",
      "\u001b[1mflake-example.py\u001b[m\u001b[36m:\u001b[m5\u001b[36m:\u001b[m16\u001b[36m:\u001b[m \u001b[1m\u001b[31mE261\u001b[m at least two spaces before inline comment\n",
      "\u001b[1mflake-example.py\u001b[m\u001b[36m:\u001b[m5\u001b[36m:\u001b[m16\u001b[36m:\u001b[m \u001b[1m\u001b[31mE262\u001b[m inline comment should start with '# '\n"
     ]
    }
   ],
   "source": [
    "! flake8 flake-example.py"
   ]
  },
  {
   "cell_type": "markdown",
   "id": "693c80e4-0981-4db0-b330-3c369fb1ae15",
   "metadata": {},
   "source": [
    "The output tells you all the places you need to fix the code. This has to be done manually. \n",
    "\n",
    "You can check that all your functions are documented. flake8 is extendable, and you just install a new package called [flake8-docstrings](https://gitlab.com/pycqa/flake8-docstrings). You can then specify a docstring style as an argument.\n",
    "\n",
    "Here we choose the numpy docstring format, and run it on our package.\n",
    "\n"
   ]
  },
  {
   "cell_type": "code",
   "execution_count": 25,
   "id": "46092cb5-f94e-405b-a2d4-fac756736d67",
   "metadata": {},
   "outputs": [
    {
     "name": "stdout",
     "output_type": "stream",
     "text": [
      "Collecting flake8-docstrings\n",
      "  Downloading flake8_docstrings-1.7.0-py2.py3-none-any.whl (5.0 kB)\n",
      "Requirement already satisfied: flake8>=3 in /opt/conda/lib/python3.9/site-packages (from flake8-docstrings) (6.0.0)\n",
      "Requirement already satisfied: pydocstyle>=2.1 in /opt/conda/lib/python3.9/site-packages (from flake8-docstrings) (6.3.0)\n",
      "Requirement already satisfied: mccabe<0.8.0,>=0.7.0 in /opt/conda/lib/python3.9/site-packages (from flake8>=3->flake8-docstrings) (0.7.0)\n",
      "Requirement already satisfied: pycodestyle<2.11.0,>=2.10.0 in /opt/conda/lib/python3.9/site-packages (from flake8>=3->flake8-docstrings) (2.10.0)\n",
      "Requirement already satisfied: pyflakes<3.1.0,>=3.0.0 in /opt/conda/lib/python3.9/site-packages (from flake8>=3->flake8-docstrings) (3.0.1)\n",
      "Requirement already satisfied: snowballstemmer>=2.2.0 in /opt/conda/lib/python3.9/site-packages (from pydocstyle>=2.1->flake8-docstrings) (2.2.0)\n",
      "Installing collected packages: flake8-docstrings\n",
      "Successfully installed flake8-docstrings-1.7.0\n"
     ]
    }
   ],
   "source": [
    "! pip install flake8-docstrings"
   ]
  },
  {
   "cell_type": "code",
   "execution_count": 82,
   "id": "1c86c8da-f7b4-49ac-8782-e2077a3c2cfd",
   "metadata": {},
   "outputs": [
    {
     "name": "stdout",
     "output_type": "stream",
     "text": [
      "\u001b[1mpackage/build/lib/s23bib/__init__.py\u001b[m\u001b[36m:\u001b[m1\u001b[36m:\u001b[m1\u001b[36m:\u001b[m \u001b[1m\u001b[31mD104\u001b[m Missing docstring in public package\n",
      "\u001b[1mpackage/build/lib/s23bib/__init__.py\u001b[m\u001b[36m:\u001b[m1\u001b[36m:\u001b[m1\u001b[36m:\u001b[m \u001b[1m\u001b[31mF401\u001b[m '.utils.sort_bibtex' imported but unused\n",
      "\u001b[1mpackage/build/lib/s23bib/test_sort.py\u001b[m\u001b[36m:\u001b[m1\u001b[36m:\u001b[m1\u001b[36m:\u001b[m \u001b[1m\u001b[31mD100\u001b[m Missing docstring in public module\n",
      "\u001b[1mpackage/build/lib/s23bib/test_sort.py\u001b[m\u001b[36m:\u001b[m3\u001b[36m:\u001b[m1\u001b[36m:\u001b[m \u001b[1m\u001b[31mF401\u001b[m 'bibtexparser' imported but unused\n",
      "\u001b[1mpackage/build/lib/s23bib/test_sort.py\u001b[m\u001b[36m:\u001b[m32\u001b[36m:\u001b[m1\u001b[36m:\u001b[m \u001b[1m\u001b[31mE302\u001b[m expected 2 blank lines, found 1\n",
      "\u001b[1mpackage/build/lib/s23bib/test_sort.py\u001b[m\u001b[36m:\u001b[m33\u001b[36m:\u001b[m1\u001b[36m:\u001b[m \u001b[1m\u001b[31mD103\u001b[m Missing docstring in public function\n",
      "\u001b[1mpackage/build/lib/s23bib/test_sort.py\u001b[m\u001b[36m:\u001b[m38\u001b[36m:\u001b[m1\u001b[36m:\u001b[m \u001b[1m\u001b[31mW293\u001b[m blank line contains whitespace\n",
      "\u001b[1mpackage/build/lib/s23bib/test_sort.py\u001b[m\u001b[36m:\u001b[m39\u001b[36m:\u001b[m1\u001b[36m:\u001b[m \u001b[1m\u001b[31mD101\u001b[m Missing docstring in public class\n",
      "\u001b[1mpackage/build/lib/s23bib/test_sort.py\u001b[m\u001b[36m:\u001b[m39\u001b[36m:\u001b[m1\u001b[36m:\u001b[m \u001b[1m\u001b[31mE302\u001b[m expected 2 blank lines, found 1\n",
      "\u001b[1mpackage/build/lib/s23bib/test_sort.py\u001b[m\u001b[36m:\u001b[m40\u001b[36m:\u001b[m1\u001b[36m:\u001b[m \u001b[1m\u001b[31mD102\u001b[m Missing docstring in public method\n",
      "\u001b[1mpackage/build/lib/s23bib/test_sort.py\u001b[m\u001b[36m:\u001b[m42\u001b[36m:\u001b[m64\u001b[36m:\u001b[m \u001b[1m\u001b[31mW291\u001b[m trailing whitespace\n",
      "\u001b[1mpackage/build/lib/s23bib/utils.py\u001b[m\u001b[36m:\u001b[m1\u001b[36m:\u001b[m1\u001b[36m:\u001b[m \u001b[1m\u001b[31mD100\u001b[m Missing docstring in public module\n",
      "\u001b[1mpackage/build/lib/s23bib/utils.py\u001b[m\u001b[36m:\u001b[m3\u001b[36m:\u001b[m1\u001b[36m:\u001b[m \u001b[1m\u001b[31mD103\u001b[m Missing docstring in public function\n",
      "\u001b[1mpackage/build/lib/s23bib/utils.py\u001b[m\u001b[36m:\u001b[m3\u001b[36m:\u001b[m1\u001b[36m:\u001b[m \u001b[1m\u001b[31mE302\u001b[m expected 2 blank lines, found 1\n",
      "\u001b[1mpackage/build/lib/s23bib/utils.py\u001b[m\u001b[36m:\u001b[m8\u001b[36m:\u001b[m1\u001b[36m:\u001b[m \u001b[1m\u001b[31mW293\u001b[m blank line contains whitespace\n",
      "\u001b[1mpackage/build/lib/s23bib/utils.py\u001b[m\u001b[36m:\u001b[m13\u001b[36m:\u001b[m19\u001b[36m:\u001b[m \u001b[1m\u001b[31mE225\u001b[m missing whitespace around operator\n",
      "\u001b[1mpackage/build/lib/s23bib/utils.py\u001b[m\u001b[36m:\u001b[m14\u001b[36m:\u001b[m21\u001b[36m:\u001b[m \u001b[1m\u001b[31mE225\u001b[m missing whitespace around operator\n",
      "\u001b[1mpackage/build/lib/s23bib/utils.py\u001b[m\u001b[36m:\u001b[m18\u001b[36m:\u001b[m1\u001b[36m:\u001b[m \u001b[1m\u001b[31mW293\u001b[m blank line contains whitespace\n",
      "\u001b[1mpackage/s23bib/__init__.py\u001b[m\u001b[36m:\u001b[m1\u001b[36m:\u001b[m1\u001b[36m:\u001b[m \u001b[1m\u001b[31mD104\u001b[m Missing docstring in public package\n",
      "\u001b[1mpackage/s23bib/__init__.py\u001b[m\u001b[36m:\u001b[m1\u001b[36m:\u001b[m1\u001b[36m:\u001b[m \u001b[1m\u001b[31mF401\u001b[m '.utils.sort_bibtex' imported but unused\n",
      "\u001b[1mpackage/s23bib/test_sort.py\u001b[m\u001b[36m:\u001b[m1\u001b[36m:\u001b[m1\u001b[36m:\u001b[m \u001b[1m\u001b[31mD100\u001b[m Missing docstring in public module\n",
      "\u001b[1mpackage/s23bib/test_sort.py\u001b[m\u001b[36m:\u001b[m3\u001b[36m:\u001b[m1\u001b[36m:\u001b[m \u001b[1m\u001b[31mF401\u001b[m 'bibtexparser' imported but unused\n",
      "\u001b[1mpackage/s23bib/test_sort.py\u001b[m\u001b[36m:\u001b[m34\u001b[36m:\u001b[m1\u001b[36m:\u001b[m \u001b[1m\u001b[31mD103\u001b[m Missing docstring in public function\n",
      "\u001b[1mpackage/s23bib/test_sort.py\u001b[m\u001b[36m:\u001b[m41\u001b[36m:\u001b[m1\u001b[36m:\u001b[m \u001b[1m\u001b[31mD101\u001b[m Missing docstring in public class\n",
      "\u001b[1mpackage/s23bib/test_sort.py\u001b[m\u001b[36m:\u001b[m42\u001b[36m:\u001b[m1\u001b[36m:\u001b[m \u001b[1m\u001b[31mD102\u001b[m Missing docstring in public method\n",
      "\u001b[1mpackage/s23bib/utils.py\u001b[m\u001b[36m:\u001b[m1\u001b[36m:\u001b[m1\u001b[36m:\u001b[m \u001b[1m\u001b[31mD100\u001b[m Missing docstring in public module\n",
      "\u001b[1mpackage/s23bib/utils.py\u001b[m\u001b[36m:\u001b[m4\u001b[36m:\u001b[m1\u001b[36m:\u001b[m \u001b[1m\u001b[31mD103\u001b[m Missing docstring in public function\n",
      "\u001b[1mpackage/setup.py\u001b[m\u001b[36m:\u001b[m1\u001b[36m:\u001b[m1\u001b[36m:\u001b[m \u001b[1m\u001b[31mD100\u001b[m Missing docstring in public module\n"
     ]
    }
   ],
   "source": [
    "! flake8 --docstring-convention numpy package"
   ]
  },
  {
   "cell_type": "markdown",
   "id": "1ae0d8a2-33a6-46c7-aaf6-29943ba1daea",
   "metadata": {},
   "source": [
    "You can exclude directories, e.g. package/build.\n",
    "\n"
   ]
  },
  {
   "cell_type": "code",
   "execution_count": 83,
   "id": "42ae8fc7-8d11-48c4-b190-21118c9215fa",
   "metadata": {},
   "outputs": [
    {
     "name": "stdout",
     "output_type": "stream",
     "text": [
      "\u001b[1mpackage/s23bib/__init__.py\u001b[m\u001b[36m:\u001b[m1\u001b[36m:\u001b[m1\u001b[36m:\u001b[m \u001b[1m\u001b[31mD104\u001b[m Missing docstring in public package\n",
      "\u001b[1mpackage/s23bib/test_sort.py\u001b[m\u001b[36m:\u001b[m1\u001b[36m:\u001b[m1\u001b[36m:\u001b[m \u001b[1m\u001b[31mD100\u001b[m Missing docstring in public module\n",
      "\u001b[1mpackage/s23bib/test_sort.py\u001b[m\u001b[36m:\u001b[m34\u001b[36m:\u001b[m1\u001b[36m:\u001b[m \u001b[1m\u001b[31mD103\u001b[m Missing docstring in public function\n",
      "\u001b[1mpackage/s23bib/test_sort.py\u001b[m\u001b[36m:\u001b[m41\u001b[36m:\u001b[m1\u001b[36m:\u001b[m \u001b[1m\u001b[31mD101\u001b[m Missing docstring in public class\n",
      "\u001b[1mpackage/s23bib/test_sort.py\u001b[m\u001b[36m:\u001b[m42\u001b[36m:\u001b[m1\u001b[36m:\u001b[m \u001b[1m\u001b[31mD102\u001b[m Missing docstring in public method\n",
      "\u001b[1mpackage/s23bib/utils.py\u001b[m\u001b[36m:\u001b[m1\u001b[36m:\u001b[m1\u001b[36m:\u001b[m \u001b[1m\u001b[31mD100\u001b[m Missing docstring in public module\n",
      "\u001b[1mpackage/s23bib/utils.py\u001b[m\u001b[36m:\u001b[m4\u001b[36m:\u001b[m1\u001b[36m:\u001b[m \u001b[1m\u001b[31mD103\u001b[m Missing docstring in public function\n",
      "\u001b[1mpackage/setup.py\u001b[m\u001b[36m:\u001b[m1\u001b[36m:\u001b[m1\u001b[36m:\u001b[m \u001b[1m\u001b[31mD100\u001b[m Missing docstring in public module\n"
     ]
    }
   ],
   "source": [
    "! flake8 --extend-ignore F401 --exclude package/build,package/s23bib/.ipynb_checkpoints  --docstring-convention numpy package"
   ]
  },
  {
   "cell_type": "markdown",
   "id": "503ea43b-2bf3-44c0-a04a-5263f1990f0f",
   "metadata": {},
   "source": [
    "**Exercise** Take some time now to fix these issues. Run the cells above until they come out clean.\n",
    "\n"
   ]
  },
  {
   "cell_type": "code",
   "execution_count": 90,
   "id": "922faca5-5058-48d3-a90c-545128ebfe91",
   "metadata": {},
   "outputs": [
    {
     "name": "stdout",
     "output_type": "stream",
     "text": [
      "Overwriting package/s23bib/__init__.py\n",
      "Overwriting package/s23bib/utils.py\n",
      "Overwriting package/s23bib/test_sort.py\n",
      "Overwriting package/setup.py\n"
     ]
    }
   ],
   "source": [
    "%run flake8-fix-1.ipynb\n",
    "! flake8 --extend-ignore F401 --exclude package/build,package/s23bib/.ipynb_checkpoints  --docstring-convention numpy package"
   ]
  },
  {
   "cell_type": "markdown",
   "id": "b1233dd2-e616-49b7-92a2-63c7428e82ff",
   "metadata": {},
   "source": [
    "## pylint\n",
    "\n",
    "A *linter* is used to check your code for a wide range of possible problems.\n",
    "\n",
    "\n",
    "[pylint](https://pylint.pycqa.org/en/latest/) is an alternative to flake8 and often provides complementary information. It is also a tool for checking for errors, coding standards, etc. \n",
    "\n",
    "\n"
   ]
  },
  {
   "cell_type": "code",
   "execution_count": 91,
   "id": "31359f6e-f3a7-4cc0-819a-ec1a7c8a8a6c",
   "metadata": {},
   "outputs": [
    {
     "name": "stdout",
     "output_type": "stream",
     "text": [
      "************* Module s23bib.test_sort\n",
      "package/s23bib/test_sort.py:7:0: C0103: Constant name \"bs\" doesn't conform to UPPER_CASE naming style (invalid-name)\n",
      "package/s23bib/test_sort.py:37:9: W1514: Using open without explicitly specifying an encoding (unspecified-encoding)\n",
      "package/s23bib/test_sort.py:37:34: C0103: Variable name \"f\" doesn't conform to snake_case naming style (invalid-name)\n",
      "package/s23bib/test_sort.py:46:24: W0621: Redefining name 'setup' from outer scope (line 35) (redefined-outer-name)\n",
      "package/s23bib/test_sort.py:46:24: W0613: Unused argument 'setup' (unused-argument)\n",
      "package/s23bib/test_sort.py:43:0: R0903: Too few public methods (1/2) (too-few-public-methods)\n",
      "package/s23bib/test_sort.py:4:0: W0611: Unused import bibtexparser (unused-import)\n",
      "************* Module s23bib.utils\n",
      "package/s23bib/utils.py:13:9: W1514: Using open without explicitly specifying an encoding (unspecified-encoding)\n",
      "package/s23bib/utils.py:13:26: C0103: Variable name \"bf\" doesn't conform to snake_case naming style (invalid-name)\n",
      "package/s23bib/utils.py:14:8: C0103: Variable name \"bd\" doesn't conform to snake_case naming style (invalid-name)\n",
      "package/s23bib/utils.py:25:35: R1704: Redefining argument with the local name 'bibfile' (redefined-argument-from-local)\n",
      "package/s23bib/utils.py:25:13: W1514: Using open without explicitly specifying an encoding (unspecified-encoding)\n",
      "package/s23bib/utils.py:6:0: R1710: Either all return statements in a function should return an expression, or none of them should. (inconsistent-return-statements)\n",
      "\n",
      "------------------------------------------------------------------\n",
      "Your code has been rated at 6.06/10 (previous run: 3.64/10, +2.42)\n",
      "\n"
     ]
    }
   ],
   "source": [
    "!pylint --ignore build,.ipynb_checkpoints package"
   ]
  },
  {
   "cell_type": "markdown",
   "id": "432feb21-0616-4bbe-9c85-fd78dad92f61",
   "metadata": {},
   "source": [
    "**Exercise** If there are residual issues, fix them so that the package is clean.\n",
    "\n"
   ]
  },
  {
   "cell_type": "markdown",
   "id": "19d0544a-0a77-4cf9-989c-a9d24833e2a8",
   "metadata": {},
   "source": [
    "# Testing\n",
    "\n",
    "Our package only has one test right now. We can run it with `pytest`.\n",
    "\n"
   ]
  },
  {
   "cell_type": "code",
   "execution_count": 92,
   "id": "27b2566a-2f2f-44e0-8eb9-b6f6178a372d",
   "metadata": {},
   "outputs": [
    {
     "name": "stdout",
     "output_type": "stream",
     "text": [
      "\u001b[1m============================= test session starts ==============================\u001b[0m\n",
      "platform linux -- Python 3.9.13, pytest-7.3.2, pluggy-1.0.0\n",
      "rootdir: /home/jovyan/work/06-code-quality/package\n",
      "plugins: anyio-3.6.1, nbmake-1.4.1\n",
      "collected 1 item                                                               \u001b[0m\n",
      "\n",
      "package/s23bib/test_sort.py \u001b[32m.\u001b[0m\u001b[32m                                            [100%]\u001b[0m\n",
      "\n",
      "\u001b[32m============================== \u001b[32m\u001b[1m1 passed\u001b[0m\u001b[32m in 0.24s\u001b[0m\u001b[32m ===============================\u001b[0m\n"
     ]
    }
   ],
   "source": [
    "! pytest package"
   ]
  },
  {
   "cell_type": "markdown",
   "id": "68eaba1f-adab-46aa-ae5f-156c4aa2f168",
   "metadata": {},
   "source": [
    "# Coverage\n",
    "\n",
    "Your tests should *cover* as much of your code as possible. This can actually be measured using the [coverage](https://coverage.readthedocs.io/en/7.2.3/) package. There are two steps: running and reporting\n",
    "\n"
   ]
  },
  {
   "cell_type": "code",
   "execution_count": 31,
   "id": "d6194617-2380-487d-b336-1cd4999f10d9",
   "metadata": {},
   "outputs": [
    {
     "name": "stdout",
     "output_type": "stream",
     "text": [
      "Collecting coverage\n",
      "  Downloading coverage-7.2.7-cp39-cp39-manylinux_2_5_x86_64.manylinux1_x86_64.manylinux_2_17_x86_64.manylinux2014_x86_64.whl (228 kB)\n",
      "\u001b[2K     \u001b[90m━━━━━━━━━━━━━━━━━━━━━━━━━━━━━━━━━━━━━━━\u001b[0m \u001b[32m228.3/228.3 kB\u001b[0m \u001b[31m8.2 MB/s\u001b[0m eta \u001b[36m0:00:00\u001b[0m\n",
      "\u001b[?25hInstalling collected packages: coverage\n",
      "Successfully installed coverage-7.2.7\n"
     ]
    }
   ],
   "source": [
    "! pip install coverage"
   ]
  },
  {
   "cell_type": "code",
   "execution_count": 32,
   "id": "9663f36f-3c80-4e3d-946d-d87ae2614548",
   "metadata": {},
   "outputs": [
    {
     "name": "stdout",
     "output_type": "stream",
     "text": [
      "\u001b[1m============================= test session starts ==============================\u001b[0m\n",
      "platform linux -- Python 3.9.13, pytest-7.3.2, pluggy-1.0.0\n",
      "rootdir: /home/jovyan/work/06-code-quality/package\n",
      "plugins: anyio-3.6.1, nbmake-1.4.1\n",
      "collected 1 item                                                               \u001b[0m\n",
      "\n",
      "package/s23bib/test_sort.py \u001b[32m.\u001b[0m\u001b[32m                                            [100%]\u001b[0m\n",
      "\n",
      "\u001b[32m============================== \u001b[32m\u001b[1m1 passed\u001b[0m\u001b[32m in 0.34s\u001b[0m\u001b[32m ===============================\u001b[0m\n"
     ]
    }
   ],
   "source": [
    "! coverage run -m pytest package/s23bib"
   ]
  },
  {
   "cell_type": "code",
   "execution_count": 33,
   "id": "790d3685-c4b2-4588-a5e7-4d8bd09af7e9",
   "metadata": {},
   "outputs": [
    {
     "name": "stdout",
     "output_type": "stream",
     "text": [
      "Name                          Stmts   Miss  Cover   Missing\n",
      "-----------------------------------------------------------\n",
      "package/s23bib/__init__.py        1      0   100%\n",
      "package/s23bib/test_sort.py      15      0   100%\n",
      "package/s23bib/utils.py          16      8    50%   11-18\n",
      "-----------------------------------------------------------\n",
      "TOTAL                            32      8    75%\n"
     ]
    }
   ],
   "source": [
    "!coverage report --show-missing package/s23bib/*.py"
   ]
  },
  {
   "cell_type": "markdown",
   "id": "3d48a779-ce53-48df-b7ed-4634198f56d8",
   "metadata": {},
   "source": [
    "Our test does not cover all of the functionality in our function; it skips the inplace argument branch. It is not necessary to achieve 100% coverage. This is a tool to help you find areas of your code that is under-tested. That doesn't mean there is not a bug in there, but it does mean you have not tested it.\n",
    "\n"
   ]
  },
  {
   "cell_type": "markdown",
   "id": "2bd5dc55-a21a-4e7a-96b9-af802314585c",
   "metadata": {},
   "source": [
    "# Automating these\n",
    "\n",
    "You may find chapter 9 (https://merely-useful.tech/py-rse/automate.html) helpful. It covers make in more depth than I do there.\n",
    "\n",
    "It is a little tedious to run these each time. There are a few ways you could solve this. One is to simply create a file as a shell command that chains all the commands together:\n",
    "    \n",
    "    #!/bin/bash\n",
    "    black package && flake8 --exclude package/build package && pylint --ignore build package && pytest package\n",
    "\n",
    "Then you can run one command that will run these, and stop if any single command does not succeed. Put this into a file called run.sh, make it executable, and try it out. Here we use && to only run subsequent commands if the previous command succeeded.\n",
    "\n",
    "\n"
   ]
  },
  {
   "cell_type": "code",
   "execution_count": 34,
   "id": "684931b1-49e5-45b6-9c7c-1e50365bf0ae",
   "metadata": {},
   "outputs": [
    {
     "name": "stdout",
     "output_type": "stream",
     "text": [
      "\u001b[1mAll done! ✨ 🍰 ✨\u001b[0m\n",
      "\u001b[34m4 files \u001b[0mleft unchanged.\n",
      "\u001b[1mpackage/s23bib/__init__.py\u001b[m\u001b[36m:\u001b[m1\u001b[36m:\u001b[m1\u001b[36m:\u001b[m \u001b[1m\u001b[31mD104\u001b[m Missing docstring in public package\n",
      "\u001b[1mpackage/s23bib/__init__.py\u001b[m\u001b[36m:\u001b[m1\u001b[36m:\u001b[m1\u001b[36m:\u001b[m \u001b[1m\u001b[31mF401\u001b[m '.utils.sort_bibtex' imported but unused\n",
      "\u001b[1mpackage/s23bib/test_sort.py\u001b[m\u001b[36m:\u001b[m1\u001b[36m:\u001b[m1\u001b[36m:\u001b[m \u001b[1m\u001b[31mD100\u001b[m Missing docstring in public module\n",
      "\u001b[1mpackage/s23bib/test_sort.py\u001b[m\u001b[36m:\u001b[m3\u001b[36m:\u001b[m1\u001b[36m:\u001b[m \u001b[1m\u001b[31mF401\u001b[m 'bibtexparser' imported but unused\n",
      "\u001b[1mpackage/s23bib/test_sort.py\u001b[m\u001b[36m:\u001b[m34\u001b[36m:\u001b[m1\u001b[36m:\u001b[m \u001b[1m\u001b[31mD103\u001b[m Missing docstring in public function\n",
      "\u001b[1mpackage/s23bib/test_sort.py\u001b[m\u001b[36m:\u001b[m41\u001b[36m:\u001b[m1\u001b[36m:\u001b[m \u001b[1m\u001b[31mD101\u001b[m Missing docstring in public class\n",
      "\u001b[1mpackage/s23bib/test_sort.py\u001b[m\u001b[36m:\u001b[m42\u001b[36m:\u001b[m1\u001b[36m:\u001b[m \u001b[1m\u001b[31mD102\u001b[m Missing docstring in public method\n",
      "\u001b[1mpackage/s23bib/utils.py\u001b[m\u001b[36m:\u001b[m1\u001b[36m:\u001b[m1\u001b[36m:\u001b[m \u001b[1m\u001b[31mD100\u001b[m Missing docstring in public module\n",
      "\u001b[1mpackage/s23bib/utils.py\u001b[m\u001b[36m:\u001b[m4\u001b[36m:\u001b[m1\u001b[36m:\u001b[m \u001b[1m\u001b[31mD103\u001b[m Missing docstring in public function\n",
      "\u001b[1mpackage/setup.py\u001b[m\u001b[36m:\u001b[m1\u001b[36m:\u001b[m1\u001b[36m:\u001b[m \u001b[1m\u001b[31mD100\u001b[m Missing docstring in public module\n"
     ]
    }
   ],
   "source": [
    "! black package && flake8 --exclude package/build package && pylint --ignore build package && pytest package"
   ]
  },
  {
   "cell_type": "markdown",
   "id": "b1f47812-9ddf-4e47-a6bb-bd255d8e5941",
   "metadata": {},
   "source": [
    "An alternative is to create a [makefile](https://www.gnu.org/software/make/manual/make.html). Make is a GNU program that allows you to create rules that run commands by name. The syntax in a make file is sensitive. The body /must/ be indented with tabs, and not spaces. These commands are run from the same directory as the makefile, so the paths are set accordingly.\n",
    "\n",
    "Each section starts with a target name, then a list of commands that are indented by a tab. It must be tabs or you will get an error. You don't get a tab in jupyter lab when you press tab... you get 4 spaces. I had to copy the tab from somewhere else...\n",
    "\n",
    "The all target lists some dependencies by target name. Each of these will be run when you run the all target.\n",
    "\n"
   ]
  },
  {
   "cell_type": "code",
   "execution_count": 35,
   "id": "9ef05d9e-a632-4122-a781-74a73e96fc10",
   "metadata": {},
   "outputs": [
    {
     "name": "stdout",
     "output_type": "stream",
     "text": [
      "Writing package/makefile\n"
     ]
    }
   ],
   "source": [
    "%%writefile package/makefile\n",
    "black: \n",
    "\tblack .\n",
    "\n",
    "flake8:\n",
    "\tflake8 --exclude build .\n",
    "    \n",
    "pylint:\n",
    "\tpylint --ignore build .\n",
    "    \n",
    "test:\n",
    "\tpytest .\n",
    "\n",
    "all: black flake8 pylint"
   ]
  },
  {
   "cell_type": "code",
   "execution_count": 36,
   "id": "07ba4bac-651b-4737-8aec-b35408e8bc89",
   "metadata": {},
   "outputs": [
    {
     "name": "stdout",
     "output_type": "stream",
     "text": [
      "black .\n"
     ]
    },
    {
     "name": "stderr",
     "output_type": "stream",
     "text": [
      "All done! ✨ 🍰 ✨\n",
      "4 files left unchanged.\n"
     ]
    },
    {
     "name": "stdout",
     "output_type": "stream",
     "text": [
      "flake8 --exclude build .\n",
      "./s23bib/__init__.py:1:1: D104 Missing docstring in public package\n",
      "./s23bib/__init__.py:1:1: F401 '.utils.sort_bibtex' imported but unused\n",
      "./s23bib/test_sort.py:1:1: D100 Missing docstring in public module\n",
      "./s23bib/test_sort.py:3:1: F401 'bibtexparser' imported but unused\n",
      "./s23bib/test_sort.py:34:1: D103 Missing docstring in public function\n",
      "./s23bib/test_sort.py:41:1: D101 Missing docstring in public class\n",
      "./s23bib/test_sort.py:42:1: D102 Missing docstring in public method\n",
      "./s23bib/utils.py:1:1: D100 Missing docstring in public module\n",
      "./s23bib/utils.py:4:1: D103 Missing docstring in public function\n",
      "./setup.py:1:1: D100 Missing docstring in public module\n"
     ]
    },
    {
     "name": "stderr",
     "output_type": "stream",
     "text": [
      "make: *** [makefile:5: flake8] Error 1\n"
     ]
    },
    {
     "ename": "CalledProcessError",
     "evalue": "Command 'b'cd package\\nmake all\\n'' returned non-zero exit status 2.",
     "output_type": "error",
     "traceback": [
      "\u001b[0;31m---------------------------------------------------------------------------\u001b[0m",
      "\u001b[0;31mCalledProcessError\u001b[0m                        Traceback (most recent call last)",
      "Cell \u001b[0;32mIn [36], line 1\u001b[0m\n\u001b[0;32m----> 1\u001b[0m \u001b[43mget_ipython\u001b[49m\u001b[43m(\u001b[49m\u001b[43m)\u001b[49m\u001b[38;5;241;43m.\u001b[39;49m\u001b[43mrun_cell_magic\u001b[49m\u001b[43m(\u001b[49m\u001b[38;5;124;43m'\u001b[39;49m\u001b[38;5;124;43mbash\u001b[39;49m\u001b[38;5;124;43m'\u001b[39;49m\u001b[43m,\u001b[49m\u001b[43m \u001b[49m\u001b[38;5;124;43m'\u001b[39;49m\u001b[38;5;124;43m'\u001b[39;49m\u001b[43m,\u001b[49m\u001b[43m \u001b[49m\u001b[38;5;124;43m'\u001b[39;49m\u001b[38;5;124;43mcd package\u001b[39;49m\u001b[38;5;130;43;01m\\n\u001b[39;49;00m\u001b[38;5;124;43mmake all\u001b[39;49m\u001b[38;5;130;43;01m\\n\u001b[39;49;00m\u001b[38;5;124;43m'\u001b[39;49m\u001b[43m)\u001b[49m\n",
      "File \u001b[0;32m/opt/conda/lib/python3.9/site-packages/IPython/core/interactiveshell.py:2362\u001b[0m, in \u001b[0;36mInteractiveShell.run_cell_magic\u001b[0;34m(self, magic_name, line, cell)\u001b[0m\n\u001b[1;32m   2360\u001b[0m \u001b[38;5;28;01mwith\u001b[39;00m \u001b[38;5;28mself\u001b[39m\u001b[38;5;241m.\u001b[39mbuiltin_trap:\n\u001b[1;32m   2361\u001b[0m     args \u001b[38;5;241m=\u001b[39m (magic_arg_s, cell)\n\u001b[0;32m-> 2362\u001b[0m     result \u001b[38;5;241m=\u001b[39m \u001b[43mfn\u001b[49m\u001b[43m(\u001b[49m\u001b[38;5;241;43m*\u001b[39;49m\u001b[43margs\u001b[49m\u001b[43m,\u001b[49m\u001b[43m \u001b[49m\u001b[38;5;241;43m*\u001b[39;49m\u001b[38;5;241;43m*\u001b[39;49m\u001b[43mkwargs\u001b[49m\u001b[43m)\u001b[49m\n\u001b[1;32m   2363\u001b[0m \u001b[38;5;28;01mreturn\u001b[39;00m result\n",
      "File \u001b[0;32m/opt/conda/lib/python3.9/site-packages/IPython/core/magics/script.py:153\u001b[0m, in \u001b[0;36mScriptMagics._make_script_magic.<locals>.named_script_magic\u001b[0;34m(line, cell)\u001b[0m\n\u001b[1;32m    151\u001b[0m \u001b[38;5;28;01melse\u001b[39;00m:\n\u001b[1;32m    152\u001b[0m     line \u001b[38;5;241m=\u001b[39m script\n\u001b[0;32m--> 153\u001b[0m \u001b[38;5;28;01mreturn\u001b[39;00m \u001b[38;5;28;43mself\u001b[39;49m\u001b[38;5;241;43m.\u001b[39;49m\u001b[43mshebang\u001b[49m\u001b[43m(\u001b[49m\u001b[43mline\u001b[49m\u001b[43m,\u001b[49m\u001b[43m \u001b[49m\u001b[43mcell\u001b[49m\u001b[43m)\u001b[49m\n",
      "File \u001b[0;32m/opt/conda/lib/python3.9/site-packages/IPython/core/magics/script.py:305\u001b[0m, in \u001b[0;36mScriptMagics.shebang\u001b[0;34m(self, line, cell)\u001b[0m\n\u001b[1;32m    300\u001b[0m \u001b[38;5;28;01mif\u001b[39;00m args\u001b[38;5;241m.\u001b[39mraise_error \u001b[38;5;129;01mand\u001b[39;00m p\u001b[38;5;241m.\u001b[39mreturncode \u001b[38;5;241m!=\u001b[39m \u001b[38;5;241m0\u001b[39m:\n\u001b[1;32m    301\u001b[0m     \u001b[38;5;66;03m# If we get here and p.returncode is still None, we must have\u001b[39;00m\n\u001b[1;32m    302\u001b[0m     \u001b[38;5;66;03m# killed it but not yet seen its return code. We don't wait for it,\u001b[39;00m\n\u001b[1;32m    303\u001b[0m     \u001b[38;5;66;03m# in case it's stuck in uninterruptible sleep. -9 = SIGKILL\u001b[39;00m\n\u001b[1;32m    304\u001b[0m     rc \u001b[38;5;241m=\u001b[39m p\u001b[38;5;241m.\u001b[39mreturncode \u001b[38;5;129;01mor\u001b[39;00m \u001b[38;5;241m-\u001b[39m\u001b[38;5;241m9\u001b[39m\n\u001b[0;32m--> 305\u001b[0m     \u001b[38;5;28;01mraise\u001b[39;00m CalledProcessError(rc, cell)\n",
      "\u001b[0;31mCalledProcessError\u001b[0m: Command 'b'cd package\\nmake all\\n'' returned non-zero exit status 2."
     ]
    }
   ],
   "source": [
    "%%bash\n",
    "cd package\n",
    "make all"
   ]
  },
  {
   "cell_type": "markdown",
   "id": "7fd961e8-56ae-4dda-a5a7-b87599b8625d",
   "metadata": {},
   "source": [
    "You can also run individual targets.\n",
    "\n"
   ]
  },
  {
   "cell_type": "code",
   "execution_count": 37,
   "id": "98924a8f-8e56-4657-ab22-e2aa4f7cc17f",
   "metadata": {},
   "outputs": [
    {
     "name": "stdout",
     "output_type": "stream",
     "text": [
      "pytest .\n",
      "============================= test session starts ==============================\n",
      "platform linux -- Python 3.9.13, pytest-7.3.2, pluggy-1.0.0\n",
      "rootdir: /home/jovyan/work/06-code-quality/package\n",
      "plugins: anyio-3.6.1, nbmake-1.4.1\n",
      "collected 1 item\n",
      "\n",
      "s23bib/test_sort.py .                                                    [100%]\n",
      "\n",
      "============================== 1 passed in 0.29s ===============================\n"
     ]
    }
   ],
   "source": [
    "%%bash\n",
    "cd package\n",
    "make test"
   ]
  },
  {
   "cell_type": "markdown",
   "id": "73dbc74a-43f8-4577-b03e-4e72b70cf3fc",
   "metadata": {},
   "source": [
    "Note that make will exit if any rule exits with a non-zero status.\n",
    "\n",
    "Make is complex, and does much more than this. It has many applications in building, compilation and installing software.\n",
    "\n"
   ]
  },
  {
   "cell_type": "markdown",
   "id": "0112a440-b8f2-4299-b717-7b53aa3d355e",
   "metadata": {},
   "source": [
    "# Integration with git\n",
    "\n",
    "Finally, we can look at how we can integrate all this with git. So far, we have manually run each command, and edited files, then run the commands again. That is a little tedious, and we can leverage some capability in git we have not talked about so far. \n",
    "\n",
    "Git has a notion of [hooks](https://git-scm.com/book/en/v2/Customizing-Git-Git-Hooks). These are programs that are run at different events that occur. There are many possible hooks that exist in the ~.git/hooks~ directory. \n",
    "\n",
    "\n"
   ]
  },
  {
   "cell_type": "code",
   "execution_count": 38,
   "id": "0ad95d29-dcef-47e8-9317-16d39c1006b4",
   "metadata": {},
   "outputs": [
    {
     "name": "stdout",
     "output_type": "stream",
     "text": [
      "applypatch-msg.sample\n",
      "commit-msg.sample\n",
      "fsmonitor-watchman.sample\n",
      "post-update.sample\n",
      "pre-applypatch.sample\n",
      "pre-commit.sample\n",
      "pre-merge-commit.sample\n",
      "prepare-commit-msg.sample\n",
      "pre-push.sample\n",
      "pre-rebase.sample\n",
      "pre-receive.sample\n",
      "push-to-checkout.sample\n",
      "update.sample\n"
     ]
    }
   ],
   "source": [
    "%%bash\n",
    "cd package\n",
    "ls .git/hooks"
   ]
  },
  {
   "cell_type": "markdown",
   "id": "c26997e6-3c8e-4467-9a7a-f1f534ac5636",
   "metadata": {},
   "source": [
    "The one we are interested in is the pre-commit hook. This will be a program that runs before a commit is done, and the commit can only proceed if the program runs successfully. We can use our makefile for this. You can create .git/hooks/pre-commit with at least this content. You also need to add a shebang line (#!/bin/bash), and make the file executable (chmod +x .git/hooks/pre-commit).\n",
    "\n",
    "Let's run some tests first.\n",
    "\n"
   ]
  },
  {
   "cell_type": "code",
   "execution_count": 39,
   "id": "6841f218-cd71-4346-b72b-a8367b730551",
   "metadata": {},
   "outputs": [
    {
     "name": "stdout",
     "output_type": "stream",
     "text": [
      "Writing package/.git/hooks/pre-commit\n"
     ]
    }
   ],
   "source": [
    "%%writefile package/.git/hooks/pre-commit\n",
    "#!/bin/bash\n",
    "echo \"running precommit in `pwd`\"\n",
    "exit 0"
   ]
  },
  {
   "cell_type": "code",
   "execution_count": 40,
   "id": "aa16fd88-d830-4d0f-a6bb-13838a7e1ed0",
   "metadata": {},
   "outputs": [],
   "source": [
    "%%bash\n",
    "chmod +x package/.git/hooks/pre-commit"
   ]
  },
  {
   "cell_type": "markdown",
   "id": "49db82a8-c9e2-4883-81dc-b6236f691107",
   "metadata": {},
   "source": [
    "Now, this will be run every time you try to commit, and you will not be able to make a commit if your tests don't pass.\n",
    "\n",
    "Note that the pre-commit hook is run from the root of the git repository, and any paths used must be set accordingly.\n",
    "\n"
   ]
  },
  {
   "cell_type": "code",
   "execution_count": 43,
   "id": "de9e8830-c5b2-424c-9f47-b406e2514639",
   "metadata": {},
   "outputs": [],
   "source": [
    "%%bash\n",
    "git config --global user.email \"you@example.com\"\n",
    "git config --global user.name \"Your Name\""
   ]
  },
  {
   "cell_type": "code",
   "execution_count": 44,
   "id": "d7cb52a8-049e-4913-a186-420af9d3add3",
   "metadata": {},
   "outputs": [
    {
     "name": "stderr",
     "output_type": "stream",
     "text": [
      "running precommit in /home/jovyan/work/06-code-quality/package\n"
     ]
    },
    {
     "name": "stdout",
     "output_type": "stream",
     "text": [
      "[master (root-commit) cd62fdb] adding pyfiles\n",
      " 1 file changed, 13 insertions(+)\n",
      " create mode 100644 setup.py\n"
     ]
    }
   ],
   "source": [
    "%%bash\n",
    "cd package\n",
    "git add *.py\n",
    "git commit -m \"adding pyfiles\""
   ]
  },
  {
   "cell_type": "code",
   "execution_count": 45,
   "id": "8b05785f-3195-428f-95f7-19247b699fdc",
   "metadata": {},
   "outputs": [
    {
     "name": "stdout",
     "output_type": "stream",
     "text": [
      "Overwriting package/.git/hooks/pre-commit\n"
     ]
    }
   ],
   "source": [
    "%%writefile package/.git/hooks/pre-commit\n",
    "#!/bin/bash\n",
    "make all"
   ]
  },
  {
   "cell_type": "code",
   "execution_count": 46,
   "id": "de2f7608-0e55-4b88-8a6a-c1036cd367a5",
   "metadata": {},
   "outputs": [],
   "source": [
    "%%bash\n",
    "chmod +x package/.git/hooks/pre-commit"
   ]
  },
  {
   "cell_type": "code",
   "execution_count": 72,
   "id": "85f81895-944e-4281-bb01-f0dbed12b427",
   "metadata": {},
   "outputs": [
    {
     "name": "stderr",
     "output_type": "stream",
     "text": [
      "black .\n",
      "All done! ✨ 🍰 ✨\n",
      "4 files left unchanged.\n",
      "flake8 --exclude build .\n"
     ]
    }
   ],
   "source": [
    "%%bash\n",
    "cd package\n",
    "git add *.py\n",
    "git commit -m \"adding pyfiles\""
   ]
  },
  {
   "cell_type": "markdown",
   "id": "d952d7a3-9107-4151-a894-f34c7f0babc4",
   "metadata": {},
   "source": [
    "Now you have to fix the errors if you want to able to commit. This helps ensure you always submit good code. You can also integrate testing into this so you make sure your code doesn't have errors in it.\n",
    "\n"
   ]
  },
  {
   "cell_type": "code",
   "execution_count": 48,
   "id": "45b45386-3691-4fb7-b02c-f453c957c5e0",
   "metadata": {},
   "outputs": [
    {
     "name": "stdout",
     "output_type": "stream",
     "text": [
      "commit cd62fdb422fa4e0c5d360800fe280c590219ccc2\n",
      "Author: Your Name <you@example.com>\n",
      "Date:   Wed Jun 14 15:42:47 2023 +0000\n",
      "\n",
      "    adding pyfiles\n"
     ]
    }
   ],
   "source": [
    "%%bash \n",
    "cd package\n",
    "git log"
   ]
  },
  {
   "cell_type": "code",
   "execution_count": 49,
   "id": "f490d70b-6f0d-4a89-bce5-c4ee86d68e8d",
   "metadata": {},
   "outputs": [
    {
     "name": "stdout",
     "output_type": "stream",
     "text": [
      "On branch master\n",
      "Untracked files:\n",
      "  (use \"git add <file>...\" to include in what will be committed)\n",
      "\tbuild/\n",
      "\tmakefile\n",
      "\ts23bib.egg-info/\n",
      "\ts23bib/\n",
      "\n",
      "nothing added to commit but untracked files present (use \"git add\" to track)\n"
     ]
    },
    {
     "ename": "CalledProcessError",
     "evalue": "Command 'b'cd package\\ngit add *.py\\ngit commit --no-verify -m \"adding pyfiles\"\\n'' returned non-zero exit status 1.",
     "output_type": "error",
     "traceback": [
      "\u001b[0;31m---------------------------------------------------------------------------\u001b[0m",
      "\u001b[0;31mCalledProcessError\u001b[0m                        Traceback (most recent call last)",
      "Cell \u001b[0;32mIn [49], line 1\u001b[0m\n\u001b[0;32m----> 1\u001b[0m \u001b[43mget_ipython\u001b[49m\u001b[43m(\u001b[49m\u001b[43m)\u001b[49m\u001b[38;5;241;43m.\u001b[39;49m\u001b[43mrun_cell_magic\u001b[49m\u001b[43m(\u001b[49m\u001b[38;5;124;43m'\u001b[39;49m\u001b[38;5;124;43mbash\u001b[39;49m\u001b[38;5;124;43m'\u001b[39;49m\u001b[43m,\u001b[49m\u001b[43m \u001b[49m\u001b[38;5;124;43m'\u001b[39;49m\u001b[38;5;124;43m'\u001b[39;49m\u001b[43m,\u001b[49m\u001b[43m \u001b[49m\u001b[38;5;124;43m'\u001b[39;49m\u001b[38;5;124;43mcd package\u001b[39;49m\u001b[38;5;130;43;01m\\n\u001b[39;49;00m\u001b[38;5;124;43mgit add *.py\u001b[39;49m\u001b[38;5;130;43;01m\\n\u001b[39;49;00m\u001b[38;5;124;43mgit commit --no-verify -m \u001b[39;49m\u001b[38;5;124;43m\"\u001b[39;49m\u001b[38;5;124;43madding pyfiles\u001b[39;49m\u001b[38;5;124;43m\"\u001b[39;49m\u001b[38;5;130;43;01m\\n\u001b[39;49;00m\u001b[38;5;124;43m'\u001b[39;49m\u001b[43m)\u001b[49m\n",
      "File \u001b[0;32m/opt/conda/lib/python3.9/site-packages/IPython/core/interactiveshell.py:2362\u001b[0m, in \u001b[0;36mInteractiveShell.run_cell_magic\u001b[0;34m(self, magic_name, line, cell)\u001b[0m\n\u001b[1;32m   2360\u001b[0m \u001b[38;5;28;01mwith\u001b[39;00m \u001b[38;5;28mself\u001b[39m\u001b[38;5;241m.\u001b[39mbuiltin_trap:\n\u001b[1;32m   2361\u001b[0m     args \u001b[38;5;241m=\u001b[39m (magic_arg_s, cell)\n\u001b[0;32m-> 2362\u001b[0m     result \u001b[38;5;241m=\u001b[39m \u001b[43mfn\u001b[49m\u001b[43m(\u001b[49m\u001b[38;5;241;43m*\u001b[39;49m\u001b[43margs\u001b[49m\u001b[43m,\u001b[49m\u001b[43m \u001b[49m\u001b[38;5;241;43m*\u001b[39;49m\u001b[38;5;241;43m*\u001b[39;49m\u001b[43mkwargs\u001b[49m\u001b[43m)\u001b[49m\n\u001b[1;32m   2363\u001b[0m \u001b[38;5;28;01mreturn\u001b[39;00m result\n",
      "File \u001b[0;32m/opt/conda/lib/python3.9/site-packages/IPython/core/magics/script.py:153\u001b[0m, in \u001b[0;36mScriptMagics._make_script_magic.<locals>.named_script_magic\u001b[0;34m(line, cell)\u001b[0m\n\u001b[1;32m    151\u001b[0m \u001b[38;5;28;01melse\u001b[39;00m:\n\u001b[1;32m    152\u001b[0m     line \u001b[38;5;241m=\u001b[39m script\n\u001b[0;32m--> 153\u001b[0m \u001b[38;5;28;01mreturn\u001b[39;00m \u001b[38;5;28;43mself\u001b[39;49m\u001b[38;5;241;43m.\u001b[39;49m\u001b[43mshebang\u001b[49m\u001b[43m(\u001b[49m\u001b[43mline\u001b[49m\u001b[43m,\u001b[49m\u001b[43m \u001b[49m\u001b[43mcell\u001b[49m\u001b[43m)\u001b[49m\n",
      "File \u001b[0;32m/opt/conda/lib/python3.9/site-packages/IPython/core/magics/script.py:305\u001b[0m, in \u001b[0;36mScriptMagics.shebang\u001b[0;34m(self, line, cell)\u001b[0m\n\u001b[1;32m    300\u001b[0m \u001b[38;5;28;01mif\u001b[39;00m args\u001b[38;5;241m.\u001b[39mraise_error \u001b[38;5;129;01mand\u001b[39;00m p\u001b[38;5;241m.\u001b[39mreturncode \u001b[38;5;241m!=\u001b[39m \u001b[38;5;241m0\u001b[39m:\n\u001b[1;32m    301\u001b[0m     \u001b[38;5;66;03m# If we get here and p.returncode is still None, we must have\u001b[39;00m\n\u001b[1;32m    302\u001b[0m     \u001b[38;5;66;03m# killed it but not yet seen its return code. We don't wait for it,\u001b[39;00m\n\u001b[1;32m    303\u001b[0m     \u001b[38;5;66;03m# in case it's stuck in uninterruptible sleep. -9 = SIGKILL\u001b[39;00m\n\u001b[1;32m    304\u001b[0m     rc \u001b[38;5;241m=\u001b[39m p\u001b[38;5;241m.\u001b[39mreturncode \u001b[38;5;129;01mor\u001b[39;00m \u001b[38;5;241m-\u001b[39m\u001b[38;5;241m9\u001b[39m\n\u001b[0;32m--> 305\u001b[0m     \u001b[38;5;28;01mraise\u001b[39;00m CalledProcessError(rc, cell)\n",
      "\u001b[0;31mCalledProcessError\u001b[0m: Command 'b'cd package\\ngit add *.py\\ngit commit --no-verify -m \"adding pyfiles\"\\n'' returned non-zero exit status 1."
     ]
    }
   ],
   "source": [
    "%%bash\n",
    "cd package\n",
    "git add *.py\n",
    "git commit --no-verify -m \"adding pyfiles\""
   ]
  },
  {
   "cell_type": "markdown",
   "id": "9cdb19f9-98d5-40ba-936b-fc4a9e845bb2",
   "metadata": {},
   "source": [
    "# pre-commit\n",
    "There are more sophisticated approaches. [pre-commit](https://pre-commit.com/#intro) is another Python package that can help you create scripts for the pre-commit hook. To set it up you have to create a yaml config file like this. I find these tricky in general, and usually adapt them from documentation at pre-commit.\n",
    "\n"
   ]
  },
  {
   "cell_type": "code",
   "execution_count": 53,
   "id": "3a6edd79-a12b-469c-9d1e-50bf21445839",
   "metadata": {},
   "outputs": [
    {
     "name": "stdout",
     "output_type": "stream",
     "text": [
      "Collecting pre-commit\n",
      "  Downloading pre_commit-3.3.3-py2.py3-none-any.whl (202 kB)\n",
      "\u001b[2K     \u001b[90m━━━━━━━━━━━━━━━━━━━━━━━━━━━━━━━━━━━━━━━\u001b[0m \u001b[32m202.8/202.8 kB\u001b[0m \u001b[31m7.1 MB/s\u001b[0m eta \u001b[36m0:00:00\u001b[0m\n",
      "\u001b[?25hCollecting cfgv>=2.0.0 (from pre-commit)\n",
      "  Downloading cfgv-3.3.1-py2.py3-none-any.whl (7.3 kB)\n",
      "Collecting identify>=1.0.0 (from pre-commit)\n",
      "  Downloading identify-2.5.24-py2.py3-none-any.whl (98 kB)\n",
      "\u001b[2K     \u001b[90m━━━━━━━━━━━━━━━━━━━━━━━━━━━━━━━━━━━━━━━━\u001b[0m \u001b[32m98.8/98.8 kB\u001b[0m \u001b[31m11.2 MB/s\u001b[0m eta \u001b[36m0:00:00\u001b[0m\n",
      "\u001b[?25hCollecting nodeenv>=0.11.1 (from pre-commit)\n",
      "  Downloading nodeenv-1.8.0-py2.py3-none-any.whl (22 kB)\n",
      "Requirement already satisfied: pyyaml>=5.1 in /opt/conda/lib/python3.9/site-packages (from pre-commit) (6.0)\n",
      "Collecting virtualenv>=20.10.0 (from pre-commit)\n",
      "  Downloading virtualenv-20.23.0-py3-none-any.whl (3.3 MB)\n",
      "\u001b[2K     \u001b[90m━━━━━━━━━━━━━━━━━━━━━━━━━━━━━━━━━━━━━━━━\u001b[0m \u001b[32m3.3/3.3 MB\u001b[0m \u001b[31m17.6 MB/s\u001b[0m eta \u001b[36m0:00:00\u001b[0m00:01\u001b[0m00:01\u001b[0m\n",
      "\u001b[?25hRequirement already satisfied: setuptools in /opt/conda/lib/python3.9/site-packages (from nodeenv>=0.11.1->pre-commit) (65.4.1)\n",
      "Collecting distlib<1,>=0.3.6 (from virtualenv>=20.10.0->pre-commit)\n",
      "  Downloading distlib-0.3.6-py2.py3-none-any.whl (468 kB)\n",
      "\u001b[2K     \u001b[90m━━━━━━━━━━━━━━━━━━━━━━━━━━━━━━━━━━━━━━\u001b[0m \u001b[32m468.5/468.5 kB\u001b[0m \u001b[31m21.3 MB/s\u001b[0m eta \u001b[36m0:00:00\u001b[0m\n",
      "\u001b[?25hCollecting filelock<4,>=3.11 (from virtualenv>=20.10.0->pre-commit)\n",
      "  Downloading filelock-3.12.2-py3-none-any.whl (10 kB)\n",
      "Requirement already satisfied: platformdirs<4,>=3.2 in /opt/conda/lib/python3.9/site-packages (from virtualenv>=20.10.0->pre-commit) (3.5.3)\n",
      "Installing collected packages: distlib, nodeenv, identify, filelock, cfgv, virtualenv, pre-commit\n",
      "Successfully installed cfgv-3.3.1 distlib-0.3.6 filelock-3.12.2 identify-2.5.24 nodeenv-1.8.0 pre-commit-3.3.3 virtualenv-20.23.0\n"
     ]
    }
   ],
   "source": [
    "! pip install pre-commit"
   ]
  },
  {
   "cell_type": "code",
   "execution_count": 54,
   "id": "7a2980a8-ab9e-4bc9-beaa-7c63b538bd56",
   "metadata": {},
   "outputs": [
    {
     "name": "stdout",
     "output_type": "stream",
     "text": [
      "Overwriting package/.pre-commit-config.yaml\n"
     ]
    }
   ],
   "source": [
    "%%writefile package/.pre-commit-config.yaml\n",
    "repos:\n",
    "  -  repo: https://github.com/psf/black\n",
    "     rev: 23.3.0\n",
    "     hooks:\n",
    "     - id: black\n",
    "\n",
    "  -  repo: https://github.com/pre-commit/pre-commit-hooks\n",
    "     rev: v2.0.0\n",
    "     hooks:\n",
    "     - id: flake8\n",
    "    \n",
    "  - repo: local\n",
    "    hooks:\n",
    "    - id: pytest-check\n",
    "      name: pytest-check\n",
    "      stages: [commit]\n",
    "      types: [python]\n",
    "      entry: pytest\n",
    "      language: system\n",
    "      pass_filenames: false\n",
    "      always_run: true"
   ]
  },
  {
   "cell_type": "code",
   "execution_count": 55,
   "id": "41cecdd9-f44d-491b-971c-4062bb553ffa",
   "metadata": {},
   "outputs": [
    {
     "name": "stdout",
     "output_type": "stream",
     "text": [
      "Running in migration mode with existing hooks at .git/hooks/pre-commit.legacy\n",
      "Use -f to use only pre-commit.\n",
      "pre-commit installed at .git/hooks/pre-commit\n"
     ]
    }
   ],
   "source": [
    "%%bash\n",
    "cd package\n",
    "pre-commit install"
   ]
  },
  {
   "cell_type": "code",
   "execution_count": 56,
   "id": "37227348-06b2-4fa6-a77d-378b955cf534",
   "metadata": {},
   "outputs": [
    {
     "name": "stdout",
     "output_type": "stream",
     "text": [
      "#!/usr/bin/env bash\n",
      "# File generated by pre-commit: https://pre-commit.com\n",
      "# ID: 138fd403232d2ddd5efb44317e38bf03\n",
      "\n",
      "# start templated\n",
      "INSTALL_PYTHON=/opt/conda/bin/python\n",
      "ARGS=(hook-impl --config=.pre-commit-config.yaml --hook-type=pre-commit)\n",
      "# end templated\n",
      "\n",
      "HERE=\"$(cd \"$(dirname \"$0\")\" && pwd)\"\n",
      "ARGS+=(--hook-dir \"$HERE\" -- \"$@\")\n",
      "\n",
      "if [ -x \"$INSTALL_PYTHON\" ]; then\n",
      "    exec \"$INSTALL_PYTHON\" -mpre_commit \"${ARGS[@]}\"\n",
      "elif command -v pre-commit > /dev/null; then\n",
      "    exec pre-commit \"${ARGS[@]}\"\n",
      "else\n",
      "    echo '`pre-commit` not found.  Did you forget to activate your virtualenv?' 1>&2\n",
      "    exit 1\n",
      "fi\n"
     ]
    }
   ],
   "source": [
    "! cat package/.git/hooks/pre-commit"
   ]
  },
  {
   "cell_type": "markdown",
   "id": "414a16bc-4bb8-4151-8e7c-d4d531a4cdf6",
   "metadata": {},
   "source": [
    "We can run the rules manually.\n",
    "\n"
   ]
  },
  {
   "cell_type": "code",
   "execution_count": 57,
   "id": "943c720c-3e90-4907-b2e8-11d2bd3561bb",
   "metadata": {},
   "outputs": [
    {
     "name": "stdout",
     "output_type": "stream",
     "text": [
      "[INFO] Initializing environment for https://github.com/psf/black.\n",
      "[INFO] Initializing environment for https://github.com/pre-commit/pre-commit-hooks.\n",
      "[INFO] Installing environment for https://github.com/psf/black.\n",
      "[INFO] Once installed this environment will be reused.\n",
      "[INFO] This may take a few minutes...\n",
      "[INFO] Installing environment for https://github.com/pre-commit/pre-commit-hooks.\n",
      "[INFO] Once installed this environment will be reused.\n",
      "[INFO] This may take a few minutes...\n",
      "black....................................................................Passed\n",
      "Flake8...................................................................Passed\n",
      "pytest-check.............................................................Passed\n"
     ]
    }
   ],
   "source": [
    "%%bash\n",
    "cd package\n",
    "pre-commit run --all-files"
   ]
  },
  {
   "cell_type": "markdown",
   "id": "ef7126f5-6280-4aa8-a999-83faa3705360",
   "metadata": {},
   "source": [
    "This also runs automatically whenever git detects changes in a file that would be checked.\n"
   ]
  },
  {
   "cell_type": "code",
   "execution_count": 58,
   "id": "cc808536-6423-44fb-a859-a5ccc1670cd7",
   "metadata": {},
   "outputs": [
    {
     "name": "stderr",
     "output_type": "stream",
     "text": [
      "black .\n",
      "All done! ✨ 🍰 ✨\n",
      "4 files left unchanged.\n",
      "flake8 --exclude build .\n",
      "./s23bib/__init__.py:1:1: D104 Missing docstring in public package\n",
      "./s23bib/__init__.py:1:1: F401 '.utils.sort_bibtex' imported but unused\n",
      "./s23bib/test_sort.py:1:1: D100 Missing docstring in public module\n",
      "./s23bib/test_sort.py:3:1: F401 'bibtexparser' imported but unused\n",
      "./s23bib/test_sort.py:34:1: D103 Missing docstring in public function\n",
      "./s23bib/test_sort.py:41:1: D101 Missing docstring in public class\n",
      "./s23bib/test_sort.py:42:1: D102 Missing docstring in public method\n",
      "./s23bib/utils.py:1:1: D100 Missing docstring in public module\n",
      "./s23bib/utils.py:4:1: D103 Missing docstring in public function\n",
      "./setup.py:1:1: D100 Missing docstring in public module\n",
      "make: *** [makefile:5: flake8] Error 1\n",
      "black................................................(no files to check)Skipped\n",
      "Flake8...............................................(no files to check)Skipped\n",
      "pytest-check.............................................................Passed\n"
     ]
    },
    {
     "ename": "CalledProcessError",
     "evalue": "Command 'b'cd package\\n\\ngit add makefile\\ngit commit -m \"add makefile\"\\n'' returned non-zero exit status 1.",
     "output_type": "error",
     "traceback": [
      "\u001b[0;31m---------------------------------------------------------------------------\u001b[0m",
      "\u001b[0;31mCalledProcessError\u001b[0m                        Traceback (most recent call last)",
      "Cell \u001b[0;32mIn [58], line 1\u001b[0m\n\u001b[0;32m----> 1\u001b[0m \u001b[43mget_ipython\u001b[49m\u001b[43m(\u001b[49m\u001b[43m)\u001b[49m\u001b[38;5;241;43m.\u001b[39;49m\u001b[43mrun_cell_magic\u001b[49m\u001b[43m(\u001b[49m\u001b[38;5;124;43m'\u001b[39;49m\u001b[38;5;124;43mbash\u001b[39;49m\u001b[38;5;124;43m'\u001b[39;49m\u001b[43m,\u001b[49m\u001b[43m \u001b[49m\u001b[38;5;124;43m'\u001b[39;49m\u001b[38;5;124;43m'\u001b[39;49m\u001b[43m,\u001b[49m\u001b[43m \u001b[49m\u001b[38;5;124;43m'\u001b[39;49m\u001b[38;5;124;43mcd package\u001b[39;49m\u001b[38;5;130;43;01m\\n\u001b[39;49;00m\u001b[38;5;130;43;01m\\n\u001b[39;49;00m\u001b[38;5;124;43mgit add makefile\u001b[39;49m\u001b[38;5;130;43;01m\\n\u001b[39;49;00m\u001b[38;5;124;43mgit commit -m \u001b[39;49m\u001b[38;5;124;43m\"\u001b[39;49m\u001b[38;5;124;43madd makefile\u001b[39;49m\u001b[38;5;124;43m\"\u001b[39;49m\u001b[38;5;130;43;01m\\n\u001b[39;49;00m\u001b[38;5;124;43m'\u001b[39;49m\u001b[43m)\u001b[49m\n",
      "File \u001b[0;32m/opt/conda/lib/python3.9/site-packages/IPython/core/interactiveshell.py:2362\u001b[0m, in \u001b[0;36mInteractiveShell.run_cell_magic\u001b[0;34m(self, magic_name, line, cell)\u001b[0m\n\u001b[1;32m   2360\u001b[0m \u001b[38;5;28;01mwith\u001b[39;00m \u001b[38;5;28mself\u001b[39m\u001b[38;5;241m.\u001b[39mbuiltin_trap:\n\u001b[1;32m   2361\u001b[0m     args \u001b[38;5;241m=\u001b[39m (magic_arg_s, cell)\n\u001b[0;32m-> 2362\u001b[0m     result \u001b[38;5;241m=\u001b[39m \u001b[43mfn\u001b[49m\u001b[43m(\u001b[49m\u001b[38;5;241;43m*\u001b[39;49m\u001b[43margs\u001b[49m\u001b[43m,\u001b[49m\u001b[43m \u001b[49m\u001b[38;5;241;43m*\u001b[39;49m\u001b[38;5;241;43m*\u001b[39;49m\u001b[43mkwargs\u001b[49m\u001b[43m)\u001b[49m\n\u001b[1;32m   2363\u001b[0m \u001b[38;5;28;01mreturn\u001b[39;00m result\n",
      "File \u001b[0;32m/opt/conda/lib/python3.9/site-packages/IPython/core/magics/script.py:153\u001b[0m, in \u001b[0;36mScriptMagics._make_script_magic.<locals>.named_script_magic\u001b[0;34m(line, cell)\u001b[0m\n\u001b[1;32m    151\u001b[0m \u001b[38;5;28;01melse\u001b[39;00m:\n\u001b[1;32m    152\u001b[0m     line \u001b[38;5;241m=\u001b[39m script\n\u001b[0;32m--> 153\u001b[0m \u001b[38;5;28;01mreturn\u001b[39;00m \u001b[38;5;28;43mself\u001b[39;49m\u001b[38;5;241;43m.\u001b[39;49m\u001b[43mshebang\u001b[49m\u001b[43m(\u001b[49m\u001b[43mline\u001b[49m\u001b[43m,\u001b[49m\u001b[43m \u001b[49m\u001b[43mcell\u001b[49m\u001b[43m)\u001b[49m\n",
      "File \u001b[0;32m/opt/conda/lib/python3.9/site-packages/IPython/core/magics/script.py:305\u001b[0m, in \u001b[0;36mScriptMagics.shebang\u001b[0;34m(self, line, cell)\u001b[0m\n\u001b[1;32m    300\u001b[0m \u001b[38;5;28;01mif\u001b[39;00m args\u001b[38;5;241m.\u001b[39mraise_error \u001b[38;5;129;01mand\u001b[39;00m p\u001b[38;5;241m.\u001b[39mreturncode \u001b[38;5;241m!=\u001b[39m \u001b[38;5;241m0\u001b[39m:\n\u001b[1;32m    301\u001b[0m     \u001b[38;5;66;03m# If we get here and p.returncode is still None, we must have\u001b[39;00m\n\u001b[1;32m    302\u001b[0m     \u001b[38;5;66;03m# killed it but not yet seen its return code. We don't wait for it,\u001b[39;00m\n\u001b[1;32m    303\u001b[0m     \u001b[38;5;66;03m# in case it's stuck in uninterruptible sleep. -9 = SIGKILL\u001b[39;00m\n\u001b[1;32m    304\u001b[0m     rc \u001b[38;5;241m=\u001b[39m p\u001b[38;5;241m.\u001b[39mreturncode \u001b[38;5;129;01mor\u001b[39;00m \u001b[38;5;241m-\u001b[39m\u001b[38;5;241m9\u001b[39m\n\u001b[0;32m--> 305\u001b[0m     \u001b[38;5;28;01mraise\u001b[39;00m CalledProcessError(rc, cell)\n",
      "\u001b[0;31mCalledProcessError\u001b[0m: Command 'b'cd package\\n\\ngit add makefile\\ngit commit -m \"add makefile\"\\n'' returned non-zero exit status 1."
     ]
    }
   ],
   "source": [
    "%%bash\n",
    "cd package\n",
    "\n",
    "git add makefile\n",
    "git commit -m \"add makefile\""
   ]
  },
  {
   "cell_type": "markdown",
   "id": "ee49307c-0c14-41a7-b755-57a010fc28a8",
   "metadata": {},
   "source": [
    "There are a lot of things you can do with pre-commit (https://pre-commit.com/hooks.html). \n",
    "\n"
   ]
  },
  {
   "cell_type": "code",
   "execution_count": 4,
   "id": "952dbf6f-293c-4299-aa3d-ea5af18cde78",
   "metadata": {},
   "outputs": [],
   "source": [
    "%%bash\n",
    "cd package\n",
    "\n",
    "git commit setup.py -m \"capitalize something\""
   ]
  },
  {
   "cell_type": "markdown",
   "id": "3f40cecf-67bc-41d6-848f-3ac3262011e9",
   "metadata": {},
   "source": [
    "# Summary\n",
    "\n",
    "As your package gets more sophisticated, and more people have to interact with it, it becomes more and more important that you follow some standards in formatting and styling. There are tools to help with auto-formatting, and style checking.\n",
    "\n",
    "Testing is important to help verify that your package works correctly. There are tools to examine your package, and compute how much of it is covered by the tests.\n",
    "\n",
    "Finally, we looked at integration of these tools with git via the pre-commit hook to make sure that you only commit high-quality code to the repository. This helps avoid needing multiple commits to fix formatting, style issues, and can be used to make sure your tests pass before you commit.\n",
    "\n",
    "\n"
   ]
  },
  {
   "cell_type": "markdown",
   "id": "2948ecc0-5ad3-4489-8030-8aeae9e2ab41",
   "metadata": {},
   "source": [
    "# In class exercise\n",
    "\n",
    "Fix all the issues in the package so that you can commit the files, and have a clean package.\n",
    "\n",
    "Make sure to ignore files like the build directory and .egg-info directory.\n",
    "\n"
   ]
  }
 ],
 "metadata": {
  "kernelspec": {
   "display_name": "Python 3 (ipykernel)",
   "language": "python",
   "name": "python3"
  },
  "language_info": {
   "codemirror_mode": {
    "name": "ipython",
    "version": 3
   },
   "file_extension": ".py",
   "mimetype": "text/x-python",
   "name": "python",
   "nbconvert_exporter": "python",
   "pygments_lexer": "ipython3",
   "version": "3.9.13"
  },
  "widgets": {
   "application/vnd.jupyter.widget-state+json": {
    "state": {},
    "version_major": 2,
    "version_minor": 0
   }
  }
 },
 "nbformat": 4,
 "nbformat_minor": 5
}
