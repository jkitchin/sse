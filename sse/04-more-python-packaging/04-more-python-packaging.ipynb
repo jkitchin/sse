{
 "cells": [
  {
   "cell_type": "markdown",
   "id": "e2b856e9-9e99-44f0-89dd-9a6adff769b0",
   "metadata": {},
   "source": [
    "# More on Python packaging\n",
    "\n",
    "Today we will learn more about packages and using git. Let's start by making a directory where we can do our work, and initialize it as a git repo.\n",
    "\n",
    "If you haven't read https://merely-useful.tech/py-rse/git-advanced.html, you should do that now.\n",
    "\n",
    "The next cell simply starts us fresh. You *must* be very careful with `-fr`, it means to recursively delete the path you specify, and `f` means `force` which makes it work even when src doesn't exist. You can destroy a lot of work with this command."
   ]
  },
  {
   "cell_type": "code",
   "execution_count": 30,
   "id": "f7e92eb9-be48-4a4f-85bc-45ecde6c6573",
   "metadata": {},
   "outputs": [],
   "source": [
    "%%bash\n",
    "rm -fr src"
   ]
  },
  {
   "cell_type": "markdown",
   "id": "b625cb60-2212-443a-8dd9-6717dcf2e05e",
   "metadata": {},
   "source": [
    "Next we use these commands to create a src directory with a package directory in it.\n",
    "\n"
   ]
  },
  {
   "cell_type": "code",
   "execution_count": 31,
   "id": "ded17d26-f2b3-4e13-bc23-a315c282fc98",
   "metadata": {},
   "outputs": [
    {
     "name": "stderr",
     "output_type": "stream",
     "text": [
      "hint: Using 'master' as the name for the initial branch. This default branch name\n",
      "hint: is subject to change. To configure the initial branch name to use in all\n",
      "hint: of your new repositories, which will suppress this warning, call:\n",
      "hint: \n",
      "hint: \tgit config --global init.defaultBranch <name>\n",
      "hint: \n",
      "hint: Names commonly chosen instead of 'master' are 'main', 'trunk' and\n",
      "hint: 'development'. The just-created branch can be renamed via this command:\n",
      "hint: \n",
      "hint: \tgit branch -m <name>\n"
     ]
    },
    {
     "name": "stdout",
     "output_type": "stream",
     "text": [
      "Initialized empty Git repository in /home/jovyan/work/04-more-python-packaging/src/.git/\n"
     ]
    },
    {
     "name": "stderr",
     "output_type": "stream",
     "text": [
      "Switched to a new branch 'main'\n"
     ]
    },
    {
     "name": "stdout",
     "output_type": "stream",
     "text": [
      "[main (root-commit) 46bd896] Initial readme.\n",
      " 1 file changed, 2 insertions(+)\n",
      " create mode 100644 README.md\n",
      "On branch main\n",
      "nothing to commit, working tree clean\n"
     ]
    }
   ],
   "source": [
    "%%bash \n",
    "mkdir -p src/s23pack\n",
    "cd src\n",
    "git init\n",
    "git checkout -b main\n",
    "echo -e \"s23 package\\n===========\" > README.md\n",
    "git add README.md\n",
    "git commit README.md -m \"Initial readme.\"\n",
    "git status"
   ]
  },
  {
   "cell_type": "markdown",
   "id": "04be5b5a-d43a-48cf-bebd-48fc94cf1126",
   "metadata": {},
   "source": [
    "## Setting up our initial package\n",
    "\n"
   ]
  },
  {
   "cell_type": "markdown",
   "id": "2c839fce-9422-4206-bbe3-20db55918743",
   "metadata": {},
   "source": [
    "The next few cells create several files we talked about last time. We start with the setup.py file. You should edit this cell to replace <> fields with your information. This file references the license, and a script we will use as a command.\n",
    "\n"
   ]
  },
  {
   "cell_type": "code",
   "execution_count": 32,
   "id": "bfb8a9a5-b20c-4381-a2cc-1eea8290179b",
   "metadata": {},
   "outputs": [
    {
     "name": "stdout",
     "output_type": "stream",
     "text": [
      "Writing src/setup.py\n"
     ]
    }
   ],
   "source": [
    "%%writefile src/setup.py\n",
    "from setuptools import setup\n",
    "\n",
    "setup(name='s23pack',\n",
    "      version='0.0.1',\n",
    "      description='s23 package',\n",
    "      maintainer='John Kitchin',\n",
    "      maintainer_email='jkitchin@cmu.edu',\n",
    "      license='MIT',\n",
    "      packages=['s23pack'],\n",
    "      entry_points={'console_scripts': ['oa = s23pack.main:main']},\n",
    "      long_description='''A long\n",
    "      multiline description.''')"
   ]
  },
  {
   "cell_type": "markdown",
   "id": "90162eb1-7041-41b5-8597-f61b4d005af8",
   "metadata": {},
   "source": [
    "Next write the licence file.\n",
    "\n"
   ]
  },
  {
   "cell_type": "code",
   "execution_count": 33,
   "id": "f301a5f7-f448-41e3-a218-684c52584202",
   "metadata": {},
   "outputs": [
    {
     "name": "stdout",
     "output_type": "stream",
     "text": [
      "Writing src/LICENSE\n"
     ]
    }
   ],
   "source": [
    "%%writefile src/LICENSE\n",
    "Copyright 2023 John Kitchin\n",
    "\n",
    "Permission is hereby granted, free of charge, to any person obtaining a copy of this software and associated documentation files (the “Software”), to deal in the Software without restriction, including without limitation the rights to use, copy, modify, merge, publish, distribute, sublicense, and/or sell copies of the Software, and to permit persons to whom the Software is furnished to do so, subject to the following conditions:\n",
    "\n",
    "The above copyright notice and this permission notice shall be included in all copies or substantial portions of the Software.\n",
    "\n",
    "THE SOFTWARE IS PROVIDED “AS IS”, WITHOUT WARRANTY OF ANY KIND, EXPRESS OR IMPLIED, INCLUDING BUT NOT LIMITED TO THE WARRANTIES OF MERCHANTABILITY, FITNESS FOR A PARTICULAR PURPOSE AND NONINFRINGEMENT. IN NO EVENT SHALL THE AUTHORS OR COPYRIGHT HOLDERS BE LIABLE FOR ANY CLAIM, DAMAGES OR OTHER LIABILITY, WHETHER IN AN ACTION OF CONTRACT, TORT OR OTHERWISE, ARISING FROM, OUT OF OR IN CONNECTION WITH THE SOFTWARE OR THE USE OR OTHER DEALINGS IN THE SOFTWARE."
   ]
  },
  {
   "cell_type": "markdown",
   "id": "17caa767-5b10-42ca-bdc9-79d8eeab0b0b",
   "metadata": {},
   "source": [
    "The next three cells create the `__init__.py`, `utils.py`, and the script file.\n",
    "\n"
   ]
  },
  {
   "cell_type": "code",
   "execution_count": 34,
   "id": "0f16d7b4-1133-43d4-a41d-fe0fd2705ad1",
   "metadata": {},
   "outputs": [
    {
     "name": "stdout",
     "output_type": "stream",
     "text": [
      "Writing src/s23pack/__init__.py\n"
     ]
    }
   ],
   "source": [
    "%%writefile src/s23pack/__init__.py\n",
    "print('loaded s23pack')\n",
    "from .utils import hello\n",
    "from .main import openalex_institution"
   ]
  },
  {
   "cell_type": "code",
   "execution_count": 35,
   "id": "e0180aa4-3519-464b-9874-b28cbd9e739a",
   "metadata": {},
   "outputs": [
    {
     "name": "stdout",
     "output_type": "stream",
     "text": [
      "Writing src/s23pack/utils.py\n"
     ]
    }
   ],
   "source": [
    "%%writefile src/s23pack/utils.py\n",
    "def hello(name):\n",
    "    print(f'Hi there {name}')"
   ]
  },
  {
   "cell_type": "code",
   "execution_count": 36,
   "id": "5890d15e-8449-489b-aff2-9f985cffe88e",
   "metadata": {},
   "outputs": [
    {
     "name": "stdout",
     "output_type": "stream",
     "text": [
      "Writing src/s23pack/main.py\n"
     ]
    }
   ],
   "source": [
    "%%writefile src/s23pack/main.py\n",
    "import click\n",
    "\n",
    "import requests \n",
    "from collections.abc import Iterable \n",
    "\n",
    "def openalex_institution(query):\n",
    "    'query is a list of terms in the query, or a string.'\n",
    "    if isinstance(query, str):\n",
    "        query = '+'.join(query.split())\n",
    "\n",
    "    # We assume it is an iterable of strings.\n",
    "    elif isinstance(query, Iterable):\n",
    "        query = '+'.join(query)\n",
    "        \n",
    "    url = f'https://api.openalex.org/institutions?search={query}'\n",
    "    req = requests.get(url)\n",
    "    data = req.json()\n",
    "\n",
    "    return [f'{result[\"display_name\"]:50s}{result[\"works_count\"]:10d}{result[\"cited_by_count\"]:10d}'\n",
    "            for result in data['results']]\n",
    "\n",
    "@click.command(help='OpenAlex Institutions')\n",
    "@click.argument('query', nargs=-1)\n",
    "def main(query):\n",
    "    print('\\n'.join(openalex_institution(query)))"
   ]
  },
  {
   "cell_type": "code",
   "execution_count": 37,
   "id": "722a9f77-684d-4749-976b-4fefa1191b9b",
   "metadata": {},
   "outputs": [
    {
     "name": "stdout",
     "output_type": "stream",
     "text": [
      "\u001b[01;34msrc\u001b[0m\n",
      "├── \u001b[00mLICENSE\u001b[0m\n",
      "├── \u001b[00mREADME.md\u001b[0m\n",
      "├── \u001b[01;34ms23pack\u001b[0m\n",
      "│   ├── \u001b[00m__init__.py\u001b[0m\n",
      "│   ├── \u001b[00mmain.py\u001b[0m\n",
      "│   └── \u001b[00mutils.py\u001b[0m\n",
      "└── \u001b[00msetup.py\u001b[0m\n",
      "\n",
      "1 directory, 6 files\n"
     ]
    }
   ],
   "source": [
    "!tree src"
   ]
  },
  {
   "cell_type": "code",
   "execution_count": 38,
   "id": "1f500476-8843-469d-afb2-9d952f93b5f3",
   "metadata": {},
   "outputs": [],
   "source": [
    "import sys\n",
    "sys.path.insert(0, 'src')\n",
    "\n",
    "import s23pack"
   ]
  },
  {
   "cell_type": "code",
   "execution_count": 39,
   "id": "d611f56d-4cf5-4e69-b4a4-a67d549a1d51",
   "metadata": {},
   "outputs": [
    {
     "name": "stdout",
     "output_type": "stream",
     "text": [
      "Hi there Class\n"
     ]
    }
   ],
   "source": [
    "s23pack.hello('Class')"
   ]
  },
  {
   "cell_type": "code",
   "execution_count": 40,
   "id": "32721a71-ebaa-481a-a739-ca6951b6d7a6",
   "metadata": {},
   "outputs": [
    {
     "data": {
      "text/plain": [
       "['/home/jovyan/work/04-more-python-packaging',\n",
       " '/opt/conda/lib/python39.zip',\n",
       " '/opt/conda/lib/python3.9',\n",
       " '/opt/conda/lib/python3.9/lib-dynload',\n",
       " '',\n",
       " '/opt/conda/lib/python3.9/site-packages']"
      ]
     },
     "execution_count": 40,
     "metadata": {},
     "output_type": "execute_result"
    }
   ],
   "source": [
    "# Now let's rm src from the path\n",
    "sys.path.remove('src')\n",
    "sys.path"
   ]
  },
  {
   "cell_type": "markdown",
   "id": "f645db06-78b2-442b-bcca-3b34760b6672",
   "metadata": {},
   "source": [
    "# Installing the package\n",
    "\n",
    "Let's go ahead and install this. Before we do that, a quick note about installation. There are system software packages, and you typically need elevated privileges to install those. You do not have them here. Instead, Python has a *user* space where you can install packages. In this JupyterHUB, you can find it here. Yours may look different because it depends on what you have installed.\n",
    "\n"
   ]
  },
  {
   "cell_type": "markdown",
   "id": "7377b0d5-ae28-48d9-b1d4-ca456b101938",
   "metadata": {},
   "source": [
    "To install our package we change into the src directory and run `pip install .` which means we run install in that directory.\n",
    "\n"
   ]
  },
  {
   "cell_type": "code",
   "execution_count": 41,
   "id": "670526f7-ea1f-449b-88e0-c8700c7d0ad3",
   "metadata": {},
   "outputs": [
    {
     "name": "stdout",
     "output_type": "stream",
     "text": [
      "Processing /home/jovyan/work/04-more-python-packaging/src\n",
      "  Preparing metadata (setup.py) ... \u001b[?25ldone\n",
      "\u001b[?25hBuilding wheels for collected packages: s23pack\n",
      "  Building wheel for s23pack (setup.py) ... \u001b[?25ldone\n",
      "\u001b[?25h  Created wheel for s23pack: filename=s23pack-0.0.1-py3-none-any.whl size=3070 sha256=711527202d33b0230553a9369e34e92cd9ea2967f6c9c5dc32e70fa2d2fcd35b\n",
      "  Stored in directory: /tmp/pip-ephem-wheel-cache-8tmjtlie/wheels/37/b6/73/45c180b641b7519d80d22856d813192e549b29006c664f31bd\n",
      "Successfully built s23pack\n",
      "Installing collected packages: s23pack\n",
      "Successfully installed s23pack-0.0.1\n"
     ]
    }
   ],
   "source": [
    "! cd src && pip install ."
   ]
  },
  {
   "cell_type": "markdown",
   "id": "26ea0360-ea80-4499-b036-63066348ec7a",
   "metadata": {},
   "source": [
    "The installation changed some things. First, It installed some packages in your local site packages. You can see there are some new s23pack directories.\n",
    "\n"
   ]
  },
  {
   "cell_type": "markdown",
   "id": "00bedffa-2bdb-40c4-962b-6cbb8a7615a1",
   "metadata": {},
   "source": [
    "Next, there are some changes in the src directory. There is a build directory, and an s23pack.egg-info directory.\n",
    "\n"
   ]
  },
  {
   "cell_type": "code",
   "execution_count": 42,
   "id": "49c3e668-bbfe-440c-863f-dca857fcc303",
   "metadata": {},
   "outputs": [
    {
     "name": "stdout",
     "output_type": "stream",
     "text": [
      "\u001b[01;34msrc\u001b[0m\n",
      "├── \u001b[01;34mbuild\u001b[0m\n",
      "│   ├── \u001b[01;34mbdist.linux-x86_64\u001b[0m\n",
      "│   └── \u001b[01;34mlib\u001b[0m\n",
      "│       └── \u001b[01;34ms23pack\u001b[0m\n",
      "│           ├── \u001b[00m__init__.py\u001b[0m\n",
      "│           ├── \u001b[00mmain.py\u001b[0m\n",
      "│           └── \u001b[00mutils.py\u001b[0m\n",
      "├── \u001b[00mLICENSE\u001b[0m\n",
      "├── \u001b[00mREADME.md\u001b[0m\n",
      "├── \u001b[01;34ms23pack\u001b[0m\n",
      "│   ├── \u001b[00m__init__.py\u001b[0m\n",
      "│   ├── \u001b[00mmain.py\u001b[0m\n",
      "│   └── \u001b[00mutils.py\u001b[0m\n",
      "├── \u001b[01;34ms23pack.egg-info\u001b[0m\n",
      "│   ├── \u001b[00mdependency_links.txt\u001b[0m\n",
      "│   ├── \u001b[00mentry_points.txt\u001b[0m\n",
      "│   ├── \u001b[00mPKG-INFO\u001b[0m\n",
      "│   ├── \u001b[00mSOURCES.txt\u001b[0m\n",
      "│   └── \u001b[00mtop_level.txt\u001b[0m\n",
      "└── \u001b[00msetup.py\u001b[0m\n",
      "\n",
      "6 directories, 14 files\n"
     ]
    }
   ],
   "source": [
    "!tree src"
   ]
  },
  {
   "cell_type": "code",
   "execution_count": 43,
   "id": "12dc00de-ba05-4610-8292-176339f2fe9c",
   "metadata": {},
   "outputs": [],
   "source": [
    "import s23pack"
   ]
  },
  {
   "cell_type": "code",
   "execution_count": 44,
   "id": "5b379193-b14c-4c4e-89c5-2d4335bdd3d2",
   "metadata": {},
   "outputs": [
    {
     "name": "stdout",
     "output_type": "stream",
     "text": [
      "/opt/conda/lib/python3.9/site-packages\n"
     ]
    }
   ],
   "source": [
    "import os\n",
    "for path in sys.path:\n",
    "    if os.path.exists(os.path.join(path, 's23pack')):\n",
    "        print(path)\n",
    "        break"
   ]
  },
  {
   "cell_type": "code",
   "execution_count": 45,
   "id": "a7718d09-9647-47ae-8d83-52ee77e69673",
   "metadata": {},
   "outputs": [
    {
     "name": "stdout",
     "output_type": "stream",
     "text": [
      "Hi there John\n"
     ]
    }
   ],
   "source": [
    "s23pack.hello('John')"
   ]
  },
  {
   "cell_type": "markdown",
   "id": "5259be9b-12b6-47e3-a713-2c7ca9fe5294",
   "metadata": {},
   "source": [
    "We have to switch to a terminal to check on our `oa` script. Try it out. I think the reason is the executable path in your terminal is different than the one here.\n",
    "\n"
   ]
  },
  {
   "cell_type": "code",
   "execution_count": 46,
   "id": "87799a61-0fcb-4d62-95e9-3dde7f47d8ea",
   "metadata": {},
   "outputs": [
    {
     "name": "stdout",
     "output_type": "stream",
     "text": [
      "/opt/conda/bin:/usr/local/sbin:/usr/local/bin:/usr/sbin:/usr/bin:/sbin:/bin\n",
      "/opt/conda/bin/oa\n"
     ]
    }
   ],
   "source": [
    "! echo $PATH\n",
    "! which oa"
   ]
  },
  {
   "cell_type": "code",
   "execution_count": 47,
   "id": "28cc4d88-958c-451e-a43b-8ccb24cf7557",
   "metadata": {},
   "outputs": [
    {
     "name": "stdout",
     "output_type": "stream",
     "text": [
      "loaded s23pack\n",
      "Carnegie Mellon University                            111876   4533093\n",
      "Carnegie Mellon University Qatar                         612      8180\n",
      "Carnegie Mellon University Australia                      81      1672\n",
      "Carnegie Mellon University Africa                        125       651\n"
     ]
    }
   ],
   "source": [
    "! oa carnegie mellon"
   ]
  },
  {
   "cell_type": "markdown",
   "id": "6a64244a-3dd2-485a-88bb-e3a301b0dede",
   "metadata": {},
   "source": [
    "## Uninstall your package\n",
    "\n"
   ]
  },
  {
   "cell_type": "code",
   "execution_count": 48,
   "id": "20f11273-d63c-4e5f-9c93-fc6288b4bb81",
   "metadata": {},
   "outputs": [
    {
     "name": "stdout",
     "output_type": "stream",
     "text": [
      "Found existing installation: s23pack 0.0.1\n",
      "Uninstalling s23pack-0.0.1:\n",
      "  Successfully uninstalled s23pack-0.0.1\n"
     ]
    }
   ],
   "source": [
    "! pip uninstall -y s23pack"
   ]
  },
  {
   "cell_type": "markdown",
   "id": "36ac4217-03c1-42ca-b69e-e7807b439ce4",
   "metadata": {},
   "source": [
    "You can see here that the package is gone from site-packages now.\n",
    "\n"
   ]
  },
  {
   "cell_type": "code",
   "execution_count": 49,
   "id": "64eaf816-0114-4339-aefb-7b7e013fd93b",
   "metadata": {},
   "outputs": [],
   "source": [
    "import os\n",
    "for path in sys.path:\n",
    "    if os.path.exists(os.path.join(path, 's23pack')):\n",
    "        print(path)\n",
    "        break"
   ]
  },
  {
   "cell_type": "markdown",
   "id": "0b303fe9-4add-4ba0-98b3-3ad8fe641940",
   "metadata": {},
   "source": [
    "And you can see here the executable command is gone too.\n",
    "\n"
   ]
  },
  {
   "cell_type": "code",
   "execution_count": 50,
   "id": "e66f991e-dd4f-4dfe-9329-4fdfcbf01761",
   "metadata": {},
   "outputs": [],
   "source": [
    "! which oa"
   ]
  },
  {
   "cell_type": "markdown",
   "id": "be2cd422-fee1-484e-9a91-d5ddc889078f",
   "metadata": {},
   "source": [
    "# Back to git\n",
    "\n",
    "Before we reinstall, let's take some time to clean up our repo. Lets start with a high level view.\n",
    "\n"
   ]
  },
  {
   "cell_type": "code",
   "execution_count": 51,
   "id": "54ffe32f-2573-4445-b9f6-0f0bb9bc2458",
   "metadata": {},
   "outputs": [
    {
     "name": "stdout",
     "output_type": "stream",
     "text": [
      "On branch main\n",
      "Untracked files:\n",
      "  (use \"git add <file>...\" to include in what will be committed)\n",
      "\tLICENSE\n",
      "\tbuild/\n",
      "\ts23pack.egg-info/\n",
      "\ts23pack/\n",
      "\tsetup.py\n",
      "\n",
      "nothing added to commit but untracked files present (use \"git add\" to track)\n"
     ]
    }
   ],
   "source": [
    "%%bash \n",
    "cd src\n",
    "git status"
   ]
  },
  {
   "cell_type": "code",
   "execution_count": 52,
   "id": "914cdf72-e962-40d5-9ecb-f0f5421fe944",
   "metadata": {},
   "outputs": [
    {
     "name": "stdout",
     "output_type": "stream",
     "text": [
      "\u001b[01;34msrc\u001b[0m\n",
      "├── \u001b[01;34mbuild\u001b[0m\n",
      "│   ├── \u001b[01;34mbdist.linux-x86_64\u001b[0m\n",
      "│   └── \u001b[01;34mlib\u001b[0m\n",
      "│       └── \u001b[01;34ms23pack\u001b[0m\n",
      "│           ├── \u001b[00m__init__.py\u001b[0m\n",
      "│           ├── \u001b[00mmain.py\u001b[0m\n",
      "│           └── \u001b[00mutils.py\u001b[0m\n",
      "├── \u001b[00mLICENSE\u001b[0m\n",
      "├── \u001b[00mREADME.md\u001b[0m\n",
      "├── \u001b[01;34ms23pack\u001b[0m\n",
      "│   ├── \u001b[00m__init__.py\u001b[0m\n",
      "│   ├── \u001b[00mmain.py\u001b[0m\n",
      "│   └── \u001b[00mutils.py\u001b[0m\n",
      "├── \u001b[01;34ms23pack.egg-info\u001b[0m\n",
      "│   ├── \u001b[00mdependency_links.txt\u001b[0m\n",
      "│   ├── \u001b[00mentry_points.txt\u001b[0m\n",
      "│   ├── \u001b[00mPKG-INFO\u001b[0m\n",
      "│   ├── \u001b[00mSOURCES.txt\u001b[0m\n",
      "│   └── \u001b[00mtop_level.txt\u001b[0m\n",
      "└── \u001b[00msetup.py\u001b[0m\n",
      "\n",
      "6 directories, 14 files\n"
     ]
    }
   ],
   "source": [
    "!tree src"
   ]
  },
  {
   "cell_type": "markdown",
   "id": "66e81e8f-697c-4243-9a60-7766f3c27eb4",
   "metadata": {},
   "source": [
    "In the src dir, we want to ignore a few things like the whole build dir, and the .egg-info directory. Lets make a .gitignore file first.\n",
    "\n"
   ]
  },
  {
   "cell_type": "code",
   "execution_count": 53,
   "id": "b4a021c4-097a-47d5-8f98-3721b4ef81e1",
   "metadata": {},
   "outputs": [
    {
     "name": "stdout",
     "output_type": "stream",
     "text": [
      "Writing src/.gitignore\n"
     ]
    }
   ],
   "source": [
    "%%writefile src/.gitignore\n",
    "build\n",
    "*.egg-info\n",
    ".ipynb_checkpoints\n",
    "__pycache__"
   ]
  },
  {
   "cell_type": "code",
   "execution_count": 54,
   "id": "2feeff78-850b-4707-bcd7-13ef89e165bd",
   "metadata": {},
   "outputs": [
    {
     "name": "stdout",
     "output_type": "stream",
     "text": [
      "On branch main\n",
      "Untracked files:\n",
      "  (use \"git add <file>...\" to include in what will be committed)\n",
      "\t.gitignore\n",
      "\tLICENSE\n",
      "\ts23pack/\n",
      "\tsetup.py\n",
      "\n",
      "nothing added to commit but untracked files present (use \"git add\" to track)\n"
     ]
    }
   ],
   "source": [
    "%%bash \n",
    "cd src\n",
    "git status"
   ]
  },
  {
   "cell_type": "markdown",
   "id": "6aa5db9d-cbaf-4846-b9de-5eeda0f2dd38",
   "metadata": {},
   "source": [
    "Now it looks like we can just add everything and get going. After we add them, we check to see what is in there before we commit. Note we get a warning that files were ignored.\n",
    "\n"
   ]
  },
  {
   "cell_type": "code",
   "execution_count": 55,
   "id": "1f779503-6dda-46ae-848e-ac469508a838",
   "metadata": {},
   "outputs": [
    {
     "name": "stderr",
     "output_type": "stream",
     "text": [
      "The following paths are ignored by one of your .gitignore files:\n",
      "build\n",
      "s23pack.egg-info\n",
      "hint: Use -f if you really want to add them.\n",
      "hint: Turn this message off by running\n",
      "hint: \"git config advice.addIgnoredFile false\"\n"
     ]
    },
    {
     "name": "stdout",
     "output_type": "stream",
     "text": [
      "[main dfb156d] add ignore files\n",
      " 1 file changed, 4 insertions(+)\n",
      " create mode 100644 .gitignore\n",
      "On branch main\n",
      "Changes to be committed:\n",
      "  (use \"git restore --staged <file>...\" to unstage)\n",
      "\tnew file:   LICENSE\n",
      "\tnew file:   s23pack/__init__.py\n",
      "\tnew file:   s23pack/main.py\n",
      "\tnew file:   s23pack/utils.py\n",
      "\tnew file:   setup.py\n",
      "\n"
     ]
    }
   ],
   "source": [
    "%%bash \n",
    "cd src\n",
    "git add .gitignore *\n",
    "git commit .gitignore -m \"add ignore files\"\n",
    "git status"
   ]
  },
  {
   "cell_type": "markdown",
   "id": "974bb305-2074-433a-b6d3-c3c19c3a6c51",
   "metadata": {},
   "source": [
    "Now we commit these. \n",
    "\n"
   ]
  },
  {
   "cell_type": "code",
   "execution_count": 56,
   "id": "6e0a4d3d-72f0-4949-b6b7-652b36b93836",
   "metadata": {},
   "outputs": [
    {
     "name": "stdout",
     "output_type": "stream",
     "text": [
      "[main 20e1b0e] First set of files\n",
      " 5 files changed, 49 insertions(+)\n",
      " create mode 100644 LICENSE\n",
      " create mode 100644 s23pack/__init__.py\n",
      " create mode 100644 s23pack/main.py\n",
      " create mode 100644 s23pack/utils.py\n",
      " create mode 100644 setup.py\n"
     ]
    }
   ],
   "source": [
    "%%bash \n",
    "cd src\n",
    "git commit -m \"First set of files\""
   ]
  },
  {
   "cell_type": "code",
   "execution_count": 57,
   "id": "54c52fad-0eb3-4c63-896a-2f82df1f6503",
   "metadata": {},
   "outputs": [
    {
     "name": "stdout",
     "output_type": "stream",
     "text": [
      "On branch main\n",
      "nothing to commit, working tree clean\n",
      "* 20e1b0e First set of files\n",
      "* dfb156d add ignore files\n",
      "* 46bd896 Initial readme.\n"
     ]
    }
   ],
   "source": [
    "%%bash\n",
    "cd src\n",
    "git status\n",
    "git log --graph --oneline"
   ]
  },
  {
   "cell_type": "markdown",
   "id": "b7ab2e88-0a94-4546-ab1c-adcab8cd8de1",
   "metadata": {},
   "source": [
    "Note there is a hash that we can use later, but it is hard to remember. Let's go ahead and add a tag to indicate we are at version 0.0.1. Technically this is a *lightweight* tag (https://git-scm.com/book/en/v2/Git-Basics-Tagging).\n",
    "\n"
   ]
  },
  {
   "cell_type": "code",
   "execution_count": 58,
   "id": "f045493e-5242-436a-8bb7-a042bfd1a39b",
   "metadata": {},
   "outputs": [],
   "source": [
    "%%bash \n",
    "cd src\n",
    "git tag v0.0.1"
   ]
  },
  {
   "cell_type": "code",
   "execution_count": 59,
   "id": "186145b1-8df8-4eb4-979c-108efb1be332",
   "metadata": {},
   "outputs": [
    {
     "name": "stdout",
     "output_type": "stream",
     "text": [
      "On branch main\n",
      "nothing to commit, working tree clean\n"
     ]
    }
   ],
   "source": [
    "%%bash \n",
    "cd src\n",
    "git status"
   ]
  },
  {
   "cell_type": "markdown",
   "id": "e296ad45-7dd9-4263-b581-784d2bb36827",
   "metadata": {},
   "source": [
    "# Let's catch our breath\n",
    "\n",
    "1. We setup a small Python package with one executable script (oa), and one function in a utils.py file.\n",
    "2. We installed it, and checked out what happened, where files were put, and that it worked.\n",
    "3. We uninstalled, and checked if things got cleaned up.\n",
    "4. We put the files under version control, and tagged v0.0.1\n",
    "\n",
    "The package is currently uninstalled, and the repo should be clean. We are going to start making some changes now.\n",
    "\n",
    "The `oa` script is not as reusable as we might like. The function in it does not need to be there. Let's move it to the utils.py file.  This requires us to change several files. In addition to moving the function, we have to move some imports, and modify the `__init__.py` file. Let's go ahead and do that.\n",
    "\n"
   ]
  },
  {
   "cell_type": "code",
   "execution_count": 60,
   "id": "e9f26040-acf1-4a3d-8b14-c47f8cff35f9",
   "metadata": {},
   "outputs": [
    {
     "name": "stdout",
     "output_type": "stream",
     "text": [
      "Overwriting src/s23pack/utils.py\n"
     ]
    }
   ],
   "source": [
    "%%writefile src/s23pack/utils.py \n",
    "import requests \n",
    "from collections.abc import Iterable \n",
    "\n",
    "def hello(name):\n",
    "    print(f'Hi there {name}')\n",
    "    \n",
    "\n",
    "def openalex_institution(query):\n",
    "    'query is a list of terms in the query, or a string.'\n",
    "    if isinstance(query, str):\n",
    "        query = '+'.join(query.split())\n",
    "\n",
    "    # We assume it is an iterable of strings.\n",
    "    elif isinstance(query, Iterable):\n",
    "        query = '+'.join(query)\n",
    "        \n",
    "    url = f'https://api.openalex.org/institutions?search={query}'\n",
    "    req = requests.get(url)\n",
    "    data = req.json()\n",
    "\n",
    "    return [f'{result[\"display_name\"]:50s}{result[\"works_count\"]:10d}{result[\"cited_by_count\"]:10d}'\n",
    "            for result in data['results']]"
   ]
  },
  {
   "cell_type": "code",
   "execution_count": 61,
   "id": "2e8895da-b510-464d-a4de-52e3faca6061",
   "metadata": {},
   "outputs": [
    {
     "name": "stdout",
     "output_type": "stream",
     "text": [
      "Overwriting src/s23pack/main.py\n"
     ]
    }
   ],
   "source": [
    "%%writefile src/s23pack/main.py \n",
    "import click\n",
    "from .utils import openalex_institution\n",
    "\n",
    "@click.command(help='OpenAlex Institutions')\n",
    "@click.argument('query', nargs=-1)\n",
    "def main(query):\n",
    "    print('\\n'.join(openalex_institution(query)))"
   ]
  },
  {
   "cell_type": "code",
   "execution_count": 62,
   "id": "6293a52b-b04d-479a-a6df-03b87b550402",
   "metadata": {},
   "outputs": [
    {
     "name": "stdout",
     "output_type": "stream",
     "text": [
      "Overwriting src/s23pack/__init__.py\n"
     ]
    }
   ],
   "source": [
    "%%writefile src/s23pack/__init__.py\n",
    "from .utils import hello, openalex_institution"
   ]
  },
  {
   "cell_type": "markdown",
   "id": "1fa6aac7-519a-4971-8686-f0cc5d7f1930",
   "metadata": {},
   "source": [
    "# Reinstall the package after making the changes.\n",
    "You probably need to restart the kernel after this.\n",
    "\n"
   ]
  },
  {
   "cell_type": "code",
   "execution_count": 63,
   "id": "901ae031-fff4-4519-b3cf-db24f597358e",
   "metadata": {},
   "outputs": [
    {
     "name": "stdout",
     "output_type": "stream",
     "text": [
      "Processing /home/jovyan/work/04-more-python-packaging/src\n",
      "  Preparing metadata (setup.py) ... \u001b[?25ldone\n",
      "\u001b[?25hBuilding wheels for collected packages: s23pack\n",
      "  Building wheel for s23pack (setup.py) ... \u001b[?25ldone\n",
      "\u001b[?25h  Created wheel for s23pack: filename=s23pack-0.0.1-py3-none-any.whl size=3091 sha256=801701be7a324022b6a0d1b5b2d0d4813c398956adb68a2d125a56659f774ab1\n",
      "  Stored in directory: /tmp/pip-ephem-wheel-cache-ptfk4xwn/wheels/37/b6/73/45c180b641b7519d80d22856d813192e549b29006c664f31bd\n",
      "Successfully built s23pack\n",
      "Installing collected packages: s23pack\n",
      "Successfully installed s23pack-0.0.1\n"
     ]
    }
   ],
   "source": [
    "! cd src && pip install ."
   ]
  },
  {
   "cell_type": "code",
   "execution_count": 64,
   "id": "cbee56d3-3978-4b86-a54c-619d4c4e7a91",
   "metadata": {},
   "outputs": [
    {
     "name": "stdout",
     "output_type": "stream",
     "text": [
      "Hi there John\n"
     ]
    }
   ],
   "source": [
    "import s23pack\n",
    "s23pack.hello('John')"
   ]
  },
  {
   "cell_type": "code",
   "execution_count": 65,
   "id": "14b4d0f5-20c7-414a-a772-83528641c54e",
   "metadata": {},
   "outputs": [
    {
     "data": {
      "text/plain": [
       "['Carnegie Mellon University                            111876   4533093',\n",
       " 'Carnegie Mellon University Qatar                         612      8180',\n",
       " 'Carnegie Mellon University Australia                      81      1672',\n",
       " 'Carnegie Mellon University Africa                        125       651']"
      ]
     },
     "execution_count": 65,
     "metadata": {},
     "output_type": "execute_result"
    }
   ],
   "source": [
    "# check that our function works.\n",
    "s23pack.openalex_institution('carnegie+mellon')"
   ]
  },
  {
   "cell_type": "code",
   "execution_count": 66,
   "id": "cdc5cd7a-a4ea-4a4f-a4cd-5d23247eb9df",
   "metadata": {},
   "outputs": [
    {
     "name": "stdout",
     "output_type": "stream",
     "text": [
      "Carnegie Mellon University                            111876   4533093\n",
      "Carnegie Mellon University Qatar                         612      8180\n",
      "Carnegie Mellon University Australia                      81      1672\n",
      "Carnegie Mellon University Africa                        125       651\n"
     ]
    }
   ],
   "source": [
    "# Check that the command still works\n",
    "! oa carnegie mellon"
   ]
  },
  {
   "cell_type": "markdown",
   "id": "a2e8d9dc-f596-4518-81a4-c6336f1526e3",
   "metadata": {},
   "source": [
    "## Commit changes to git when everything is working.\n",
    "\n",
    "You can see there are some new nuisance files (check the git gui) we should ignore. Let's take care of that. You can either edit the .gitignore file, or run this cell.\n",
    "\n"
   ]
  },
  {
   "cell_type": "code",
   "execution_count": 67,
   "id": "35eaa2a1-1bbf-4f95-8235-16b7f2eaed60",
   "metadata": {},
   "outputs": [],
   "source": [
    "%%bash\n",
    "echo -e \"*checkpoint*\" >> src/.gitignore"
   ]
  },
  {
   "cell_type": "code",
   "execution_count": 68,
   "id": "ceb43385-bbe6-4e85-830c-8e4e65476b16",
   "metadata": {},
   "outputs": [
    {
     "name": "stdout",
     "output_type": "stream",
     "text": [
      "On branch main\n",
      "Changes not staged for commit:\n",
      "  (use \"git add <file>...\" to update what will be committed)\n",
      "  (use \"git restore <file>...\" to discard changes in working directory)\n",
      "\tmodified:   .gitignore\n",
      "\tmodified:   s23pack/__init__.py\n",
      "\tmodified:   s23pack/main.py\n",
      "\tmodified:   s23pack/utils.py\n",
      "\n",
      "no changes added to commit (use \"git add\" and/or \"git commit -a\")\n"
     ]
    }
   ],
   "source": [
    "%%bash\n",
    "cd src\n",
    "git status"
   ]
  },
  {
   "cell_type": "markdown",
   "id": "b7a44977-f3dd-436c-bff7-d5ca7b742fd9",
   "metadata": {},
   "source": [
    "Now, we can commit the results. It takes a little planning; I commit the .gitignore separately, since it is unrelated to the set of changes we make. Then, all that is left are the remaining files, so we commit them all at once. \n",
    "\n"
   ]
  },
  {
   "cell_type": "code",
   "execution_count": 69,
   "id": "29e364fa-fc47-431f-b8fd-bc3ad7056f91",
   "metadata": {},
   "outputs": [
    {
     "name": "stdout",
     "output_type": "stream",
     "text": [
      "[main e86c420] ignore checkpoint files\n",
      " 1 file changed, 1 insertion(+)\n",
      "[main 3651938] move openalex_institutions function out of oa into utils.py\n",
      " 3 files changed, 12 insertions(+), 35 deletions(-)\n",
      " rewrite s23pack/main.py (79%)\n",
      " copy s23pack/{main.py => utils.py} (79%)\n"
     ]
    }
   ],
   "source": [
    "%%bash\n",
    "cd src\n",
    "git commit .gitignore -m \"ignore checkpoint files\"\n",
    "git commit -am \"move openalex_institutions function out of oa into utils.py\""
   ]
  },
  {
   "cell_type": "code",
   "execution_count": 70,
   "id": "644dab49-59cc-4471-a947-3b53e74e983b",
   "metadata": {},
   "outputs": [
    {
     "name": "stdout",
     "output_type": "stream",
     "text": [
      "On branch main\n",
      "nothing to commit, working tree clean\n"
     ]
    }
   ],
   "source": [
    "%%bash\n",
    "cd src\n",
    "git status\n",
    "\n"
   ]
  },
  {
   "cell_type": "markdown",
   "id": "93968c9c-496d-43c3-bef9-8c9c97039070",
   "metadata": {},
   "source": [
    "## Seeing older versions of files\n",
    "We can see older versions of our files like this:\n",
    "\n"
   ]
  },
  {
   "cell_type": "code",
   "execution_count": 71,
   "id": "5e8233bf-843f-45b3-853e-ead5399cd96e",
   "metadata": {},
   "outputs": [
    {
     "name": "stdout",
     "output_type": "stream",
     "text": [
      "def hello(name):\n",
      "    print(f'Hi there {name}')\n"
     ]
    }
   ],
   "source": [
    "%%bash\n",
    "cd src\n",
    "git show v0.0.1:s23pack/utils.py"
   ]
  },
  {
   "cell_type": "markdown",
   "id": "00a0deb0-9fe8-43ae-87ac-cfeaa89fb81e",
   "metadata": {},
   "source": [
    "Compare that to our current version. HEAD always points to the most recent version.\n",
    "\n"
   ]
  },
  {
   "cell_type": "code",
   "execution_count": 72,
   "id": "6aee0fd2-713c-439e-9421-5b6c51fc91c2",
   "metadata": {},
   "outputs": [
    {
     "name": "stdout",
     "output_type": "stream",
     "text": [
      "import requests \n",
      "from collections.abc import Iterable \n",
      "\n",
      "def hello(name):\n",
      "    print(f'Hi there {name}')\n",
      "    \n",
      "\n",
      "def openalex_institution(query):\n",
      "    'query is a list of terms in the query, or a string.'\n",
      "    if isinstance(query, str):\n",
      "        query = '+'.join(query.split())\n",
      "\n",
      "    # We assume it is an iterable of strings.\n",
      "    elif isinstance(query, Iterable):\n",
      "        query = '+'.join(query)\n",
      "        \n",
      "    url = f'https://api.openalex.org/institutions?search={query}'\n",
      "    req = requests.get(url)\n",
      "    data = req.json()\n",
      "\n",
      "    return [f'{result[\"display_name\"]:50s}{result[\"works_count\"]:10d}{result[\"cited_by_count\"]:10d}'\n",
      "            for result in data['results']]\n"
     ]
    }
   ],
   "source": [
    "%%bash\n",
    "cd src\n",
    "git show HEAD:s23pack/utils.py"
   ]
  },
  {
   "cell_type": "code",
   "execution_count": 73,
   "id": "bd53977d-3d80-4e2f-b94a-a110bc07b96b",
   "metadata": {},
   "outputs": [
    {
     "name": "stdout",
     "output_type": "stream",
     "text": [
      "3651938 move openalex_institutions function out of oa into utils.py\n",
      "e86c420 ignore checkpoint files\n",
      "20e1b0e First set of files\n",
      "dfb156d add ignore files\n",
      "46bd896 Initial readme.\n"
     ]
    }
   ],
   "source": [
    "%%bash\n",
    "cd src\n",
    "git log --oneline"
   ]
  },
  {
   "cell_type": "markdown",
   "id": "e38fdd05-4aea-4a15-9848-4173d6754a1e",
   "metadata": {},
   "source": [
    "You can also use a hash to indicate which version you want to see.\n",
    "\n"
   ]
  },
  {
   "cell_type": "code",
   "execution_count": 75,
   "id": "916b6ea5-96f0-464a-bc69-d589f33bc64a",
   "metadata": {},
   "outputs": [
    {
     "name": "stdout",
     "output_type": "stream",
     "text": [
      "def hello(name):\n",
      "    print(f'Hi there {name}')\n"
     ]
    }
   ],
   "source": [
    "%%bash\n",
    "cd src\n",
    "git show 20e1b0e:s23pack/utils.py"
   ]
  },
  {
   "cell_type": "markdown",
   "id": "46bd202d-38a1-410f-a83f-eb3e466fa422",
   "metadata": {},
   "source": [
    "# Summary - take two\n",
    "We have made our package a little better now. It still has the script, but it also has an importable function you can reuse in other applications, e.g. this notebook. There are a few things that pull this together:\n",
    "\n",
    "1. setup.py has information about the package and script location for installing it.\n",
    "2. utils.py has code that is imported in the oa script\n",
    "3. `__init__.py` makes sure the function is imported and available\n",
    "\n",
    "Leaving any of those details out makes something stop working.\n",
    "\n"
   ]
  },
  {
   "cell_type": "markdown",
   "id": "0cd45d98-f9c3-4ddd-9c28-c255a36decfc",
   "metadata": {},
   "source": [
    "# Testing\n",
    "\n",
    "So far we have been testing by hand. That is moderately tedious... Every time we make changes, we have to go through and check if we broke something. We can set up some tests to help us with this.\n",
    "\n",
    "Here is a simple test we can try.\n",
    "\n"
   ]
  },
  {
   "cell_type": "code",
   "execution_count": 76,
   "id": "b8c70ace-2c63-4da8-9d2f-299015729934",
   "metadata": {},
   "outputs": [
    {
     "name": "stdout",
     "output_type": "stream",
     "text": [
      "Writing src/test_oa.py\n"
     ]
    }
   ],
   "source": [
    "%%writefile src/test_oa.py\n",
    "import s23pack\n",
    "\n",
    "def test_hello():\n",
    "    assert s23pack.hello('John') == 'Hi there John'"
   ]
  },
  {
   "cell_type": "markdown",
   "id": "bab586e2-11e6-45ec-ace9-52228bcbe5a2",
   "metadata": {},
   "source": [
    "We use [pytest](https://docs.pytest.org/en/7.2.x/contents.html) to run the test. You just run `pytest` at the command line.\n",
    "\n"
   ]
  },
  {
   "cell_type": "code",
   "execution_count": 77,
   "id": "72697442-feb8-4aff-b838-677caabdd8ee",
   "metadata": {
    "tags": [
     "raises-exception"
    ]
   },
   "outputs": [
    {
     "name": "stdout",
     "output_type": "stream",
     "text": [
      "============================= test session starts ==============================\n",
      "platform linux -- Python 3.9.13, pytest-7.3.2, pluggy-1.0.0\n",
      "rootdir: /home/jovyan/work/04-more-python-packaging/src\n",
      "plugins: anyio-3.6.1, nbmake-1.4.1\n",
      "collected 1 item\n",
      "\n",
      "test_oa.py F                                                             [100%]\n",
      "\n",
      "=================================== FAILURES ===================================\n",
      "__________________________________ test_hello __________________________________\n",
      "\n",
      "    def test_hello():\n",
      ">       assert s23pack.hello('John') == 'Hi there John'\n",
      "E       AssertionError: assert None == 'Hi there John'\n",
      "E        +  where None = <function hello at 0x7fc07f8cb430>('John')\n",
      "E        +    where <function hello at 0x7fc07f8cb430> = s23pack.hello\n",
      "\n",
      "test_oa.py:4: AssertionError\n",
      "----------------------------- Captured stdout call -----------------------------\n",
      "Hi there John\n",
      "=========================== short test summary info ============================\n",
      "FAILED test_oa.py::test_hello - AssertionError: assert None == 'Hi there John'\n",
      "============================== 1 failed in 0.28s ===============================\n"
     ]
    },
    {
     "ename": "CalledProcessError",
     "evalue": "Command 'b'cd src\\npytest\\n'' returned non-zero exit status 1.",
     "output_type": "error",
     "traceback": [
      "\u001b[0;31m---------------------------------------------------------------------------\u001b[0m",
      "\u001b[0;31mCalledProcessError\u001b[0m                        Traceback (most recent call last)",
      "Cell \u001b[0;32mIn [77], line 1\u001b[0m\n\u001b[0;32m----> 1\u001b[0m \u001b[43mget_ipython\u001b[49m\u001b[43m(\u001b[49m\u001b[43m)\u001b[49m\u001b[38;5;241;43m.\u001b[39;49m\u001b[43mrun_cell_magic\u001b[49m\u001b[43m(\u001b[49m\u001b[38;5;124;43m'\u001b[39;49m\u001b[38;5;124;43mbash\u001b[39;49m\u001b[38;5;124;43m'\u001b[39;49m\u001b[43m,\u001b[49m\u001b[43m \u001b[49m\u001b[38;5;124;43m'\u001b[39;49m\u001b[38;5;124;43m'\u001b[39;49m\u001b[43m,\u001b[49m\u001b[43m \u001b[49m\u001b[38;5;124;43m'\u001b[39;49m\u001b[38;5;124;43mcd src\u001b[39;49m\u001b[38;5;130;43;01m\\n\u001b[39;49;00m\u001b[38;5;124;43mpytest\u001b[39;49m\u001b[38;5;130;43;01m\\n\u001b[39;49;00m\u001b[38;5;124;43m'\u001b[39;49m\u001b[43m)\u001b[49m\n",
      "File \u001b[0;32m/opt/conda/lib/python3.9/site-packages/IPython/core/interactiveshell.py:2362\u001b[0m, in \u001b[0;36mInteractiveShell.run_cell_magic\u001b[0;34m(self, magic_name, line, cell)\u001b[0m\n\u001b[1;32m   2360\u001b[0m \u001b[38;5;28;01mwith\u001b[39;00m \u001b[38;5;28mself\u001b[39m\u001b[38;5;241m.\u001b[39mbuiltin_trap:\n\u001b[1;32m   2361\u001b[0m     args \u001b[38;5;241m=\u001b[39m (magic_arg_s, cell)\n\u001b[0;32m-> 2362\u001b[0m     result \u001b[38;5;241m=\u001b[39m \u001b[43mfn\u001b[49m\u001b[43m(\u001b[49m\u001b[38;5;241;43m*\u001b[39;49m\u001b[43margs\u001b[49m\u001b[43m,\u001b[49m\u001b[43m \u001b[49m\u001b[38;5;241;43m*\u001b[39;49m\u001b[38;5;241;43m*\u001b[39;49m\u001b[43mkwargs\u001b[49m\u001b[43m)\u001b[49m\n\u001b[1;32m   2363\u001b[0m \u001b[38;5;28;01mreturn\u001b[39;00m result\n",
      "File \u001b[0;32m/opt/conda/lib/python3.9/site-packages/IPython/core/magics/script.py:153\u001b[0m, in \u001b[0;36mScriptMagics._make_script_magic.<locals>.named_script_magic\u001b[0;34m(line, cell)\u001b[0m\n\u001b[1;32m    151\u001b[0m \u001b[38;5;28;01melse\u001b[39;00m:\n\u001b[1;32m    152\u001b[0m     line \u001b[38;5;241m=\u001b[39m script\n\u001b[0;32m--> 153\u001b[0m \u001b[38;5;28;01mreturn\u001b[39;00m \u001b[38;5;28;43mself\u001b[39;49m\u001b[38;5;241;43m.\u001b[39;49m\u001b[43mshebang\u001b[49m\u001b[43m(\u001b[49m\u001b[43mline\u001b[49m\u001b[43m,\u001b[49m\u001b[43m \u001b[49m\u001b[43mcell\u001b[49m\u001b[43m)\u001b[49m\n",
      "File \u001b[0;32m/opt/conda/lib/python3.9/site-packages/IPython/core/magics/script.py:305\u001b[0m, in \u001b[0;36mScriptMagics.shebang\u001b[0;34m(self, line, cell)\u001b[0m\n\u001b[1;32m    300\u001b[0m \u001b[38;5;28;01mif\u001b[39;00m args\u001b[38;5;241m.\u001b[39mraise_error \u001b[38;5;129;01mand\u001b[39;00m p\u001b[38;5;241m.\u001b[39mreturncode \u001b[38;5;241m!=\u001b[39m \u001b[38;5;241m0\u001b[39m:\n\u001b[1;32m    301\u001b[0m     \u001b[38;5;66;03m# If we get here and p.returncode is still None, we must have\u001b[39;00m\n\u001b[1;32m    302\u001b[0m     \u001b[38;5;66;03m# killed it but not yet seen its return code. We don't wait for it,\u001b[39;00m\n\u001b[1;32m    303\u001b[0m     \u001b[38;5;66;03m# in case it's stuck in uninterruptible sleep. -9 = SIGKILL\u001b[39;00m\n\u001b[1;32m    304\u001b[0m     rc \u001b[38;5;241m=\u001b[39m p\u001b[38;5;241m.\u001b[39mreturncode \u001b[38;5;129;01mor\u001b[39;00m \u001b[38;5;241m-\u001b[39m\u001b[38;5;241m9\u001b[39m\n\u001b[0;32m--> 305\u001b[0m     \u001b[38;5;28;01mraise\u001b[39;00m CalledProcessError(rc, cell)\n",
      "\u001b[0;31mCalledProcessError\u001b[0m: Command 'b'cd src\\npytest\\n'' returned non-zero exit status 1."
     ]
    }
   ],
   "source": [
    "%%bash\n",
    "cd src\n",
    "pytest"
   ]
  },
  {
   "cell_type": "markdown",
   "id": "f05ae0ea-b8e9-4732-91b9-225f022178e2",
   "metadata": {},
   "source": [
    "Oh no! see if you can figure out the problem here. Fix the problem and commit the files to git. Note you will see some new files you should ignore in git.\n",
    "\n",
    "The probem is that we only printed the result in `utils.hello`, and so the function returns None. You can fix it like this. It is moderately tedious that you have to reinstall the package after doing this. That is avoidable, but we save that for a later lesson."
   ]
  },
  {
   "cell_type": "code",
   "execution_count": 80,
   "id": "6e83aef3-fbbc-4c3a-99fa-8b5d95262904",
   "metadata": {},
   "outputs": [
    {
     "name": "stdout",
     "output_type": "stream",
     "text": [
      "Overwriting src/s23pack/utils.py\n"
     ]
    }
   ],
   "source": [
    "%%writefile src/s23pack/utils.py \n",
    "import requests \n",
    "from collections.abc import Iterable \n",
    "\n",
    "def hello(name):\n",
    "    return(f'Hi there {name}')\n",
    "    \n",
    "\n",
    "def openalex_institution(query):\n",
    "    'query is a list of terms in the query, or a string.'\n",
    "    if isinstance(query, str):\n",
    "        query = '+'.join(query.split())\n",
    "\n",
    "    # We assume it is an iterable of strings.\n",
    "    elif isinstance(query, Iterable):\n",
    "        query = '+'.join(query)\n",
    "        \n",
    "    url = f'https://api.openalex.org/institutions?search={query}'\n",
    "    req = requests.get(url)\n",
    "    data = req.json()\n",
    "\n",
    "    return [f'{result[\"display_name\"]:50s}{result[\"works_count\"]:10d}{result[\"cited_by_count\"]:10d}'\n",
    "            for result in data['results']]"
   ]
  },
  {
   "cell_type": "code",
   "execution_count": 81,
   "id": "f184c616-9e73-49a1-b2c0-0ceab2494ce7",
   "metadata": {},
   "outputs": [
    {
     "name": "stdout",
     "output_type": "stream",
     "text": [
      "============================= test session starts ==============================\n",
      "platform linux -- Python 3.9.13, pytest-7.3.2, pluggy-1.0.0\n",
      "rootdir: /home/jovyan/work/04-more-python-packaging/src\n",
      "plugins: anyio-3.6.1, nbmake-1.4.1\n",
      "collected 1 item\n",
      "\n",
      "test_oa.py .                                                             [100%]\n",
      "\n",
      "============================== 1 passed in 0.22s ===============================\n"
     ]
    }
   ],
   "source": [
    "%%bash\n",
    "cd src\n",
    "pip install . > /dev/null  # silent installation\n",
    "pytest"
   ]
  },
  {
   "cell_type": "markdown",
   "id": "8e7e7f9b-22ee-42e2-ac0e-1c402202b5de",
   "metadata": {},
   "source": [
    "Re-read https://merely-useful.tech/py-rse/scripting.html on building python functions and scripts.\n",
    "\n",
    "Then, read https://merely-useful.tech/py-rse/packaging.html about python packages. It is a little more involved than we have done so far, but you should be in good shape to read about it now. We do not use virtual environments here. I think they add a layer of complexity we don't want now, and there are many complications in using them (mostly in the form of what virtual environment am I in, and is it active).\n",
    "\n"
   ]
  }
 ],
 "metadata": {
  "kernelspec": {
   "display_name": "Python 3 (ipykernel)",
   "language": "python",
   "name": "python3"
  },
  "language_info": {
   "codemirror_mode": {
    "name": "ipython",
    "version": 3
   },
   "file_extension": ".py",
   "mimetype": "text/x-python",
   "name": "python",
   "nbconvert_exporter": "python",
   "pygments_lexer": "ipython3",
   "version": "3.9.13"
  },
  "widgets": {
   "application/vnd.jupyter.widget-state+json": {
    "state": {},
    "version_major": 2,
    "version_minor": 0
   }
  }
 },
 "nbformat": 4,
 "nbformat_minor": 5
}
