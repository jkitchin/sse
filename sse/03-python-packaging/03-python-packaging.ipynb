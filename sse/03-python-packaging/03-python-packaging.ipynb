{
 "cells": [
  {
   "cell_type": "markdown",
   "id": "f984b3b5-96e5-45c8-9b13-72d3833c4826",
   "metadata": {},
   "source": [
    "Python packaging and version control\n",
    "====================================\n",
    "\n",
    "When you import a Python library, you are importing code from a package (also sometimes called a module). There is some magic that happens when you do this. For example, consider this simple import of a core library. Where is that code?\n",
    "\n"
   ]
  },
  {
   "cell_type": "code",
   "execution_count": 1,
   "id": "e21fb7e1-ebc7-40a7-b7a4-2a2880d48d48",
   "metadata": {},
   "outputs": [],
   "source": [
    "import os"
   ]
  },
  {
   "cell_type": "code",
   "execution_count": 2,
   "id": "30045485-2f50-4b5a-b5c5-a6770737ca12",
   "metadata": {},
   "outputs": [
    {
     "data": {
      "text/plain": [
       "['CLD_CONTINUED',\n",
       " 'CLD_DUMPED',\n",
       " 'CLD_EXITED',\n",
       " 'CLD_KILLED',\n",
       " 'CLD_STOPPED',\n",
       " 'CLD_TRAPPED',\n",
       " 'DirEntry',\n",
       " 'EX_CANTCREAT',\n",
       " 'EX_CONFIG',\n",
       " 'EX_DATAERR',\n",
       " 'EX_IOERR',\n",
       " 'EX_NOHOST',\n",
       " 'EX_NOINPUT',\n",
       " 'EX_NOPERM',\n",
       " 'EX_NOUSER',\n",
       " 'EX_OK',\n",
       " 'EX_OSERR',\n",
       " 'EX_OSFILE',\n",
       " 'EX_PROTOCOL',\n",
       " 'EX_SOFTWARE',\n",
       " 'EX_TEMPFAIL',\n",
       " 'EX_UNAVAILABLE',\n",
       " 'EX_USAGE',\n",
       " 'F_LOCK',\n",
       " 'F_OK',\n",
       " 'F_TEST',\n",
       " 'F_TLOCK',\n",
       " 'F_ULOCK',\n",
       " 'GenericAlias',\n",
       " 'Mapping',\n",
       " 'MutableMapping',\n",
       " 'NGROUPS_MAX',\n",
       " 'O_ACCMODE',\n",
       " 'O_APPEND',\n",
       " 'O_ASYNC',\n",
       " 'O_CLOEXEC',\n",
       " 'O_CREAT',\n",
       " 'O_DIRECT',\n",
       " 'O_DIRECTORY',\n",
       " 'O_DSYNC',\n",
       " 'O_EXCL',\n",
       " 'O_LARGEFILE',\n",
       " 'O_NDELAY',\n",
       " 'O_NOATIME',\n",
       " 'O_NOCTTY',\n",
       " 'O_NOFOLLOW',\n",
       " 'O_NONBLOCK',\n",
       " 'O_RDONLY',\n",
       " 'O_RDWR',\n",
       " 'O_RSYNC',\n",
       " 'O_SYNC',\n",
       " 'O_TRUNC',\n",
       " 'O_WRONLY',\n",
       " 'POSIX_FADV_DONTNEED',\n",
       " 'POSIX_FADV_NOREUSE',\n",
       " 'POSIX_FADV_NORMAL',\n",
       " 'POSIX_FADV_RANDOM',\n",
       " 'POSIX_FADV_SEQUENTIAL',\n",
       " 'POSIX_FADV_WILLNEED',\n",
       " 'POSIX_SPAWN_CLOSE',\n",
       " 'POSIX_SPAWN_DUP2',\n",
       " 'POSIX_SPAWN_OPEN',\n",
       " 'PRIO_PGRP',\n",
       " 'PRIO_PROCESS',\n",
       " 'PRIO_USER',\n",
       " 'P_ALL',\n",
       " 'P_NOWAIT',\n",
       " 'P_NOWAITO',\n",
       " 'P_PGID',\n",
       " 'P_PID',\n",
       " 'P_WAIT',\n",
       " 'PathLike',\n",
       " 'RTLD_DEEPBIND',\n",
       " 'RTLD_GLOBAL',\n",
       " 'RTLD_LAZY',\n",
       " 'RTLD_LOCAL',\n",
       " 'RTLD_NODELETE',\n",
       " 'RTLD_NOLOAD',\n",
       " 'RTLD_NOW',\n",
       " 'R_OK',\n",
       " 'SCHED_BATCH',\n",
       " 'SCHED_FIFO',\n",
       " 'SCHED_IDLE',\n",
       " 'SCHED_OTHER',\n",
       " 'SCHED_RESET_ON_FORK',\n",
       " 'SCHED_RR',\n",
       " 'SEEK_CUR',\n",
       " 'SEEK_END',\n",
       " 'SEEK_SET',\n",
       " 'ST_APPEND',\n",
       " 'ST_MANDLOCK',\n",
       " 'ST_NOATIME',\n",
       " 'ST_NODEV',\n",
       " 'ST_NODIRATIME',\n",
       " 'ST_NOEXEC',\n",
       " 'ST_NOSUID',\n",
       " 'ST_RDONLY',\n",
       " 'ST_RELATIME',\n",
       " 'ST_SYNCHRONOUS',\n",
       " 'ST_WRITE',\n",
       " 'TMP_MAX',\n",
       " 'WCONTINUED',\n",
       " 'WCOREDUMP',\n",
       " 'WEXITED',\n",
       " 'WEXITSTATUS',\n",
       " 'WIFCONTINUED',\n",
       " 'WIFEXITED',\n",
       " 'WIFSIGNALED',\n",
       " 'WIFSTOPPED',\n",
       " 'WNOHANG',\n",
       " 'WNOWAIT',\n",
       " 'WSTOPPED',\n",
       " 'WSTOPSIG',\n",
       " 'WTERMSIG',\n",
       " 'WUNTRACED',\n",
       " 'W_OK',\n",
       " 'XATTR_CREATE',\n",
       " 'XATTR_REPLACE',\n",
       " 'XATTR_SIZE_MAX',\n",
       " 'X_OK',\n",
       " '_Environ',\n",
       " '__all__',\n",
       " '__builtins__',\n",
       " '__cached__',\n",
       " '__doc__',\n",
       " '__file__',\n",
       " '__loader__',\n",
       " '__name__',\n",
       " '__package__',\n",
       " '__spec__',\n",
       " '_check_methods',\n",
       " '_execvpe',\n",
       " '_exists',\n",
       " '_exit',\n",
       " '_fspath',\n",
       " '_fwalk',\n",
       " '_get_exports_list',\n",
       " '_spawnvef',\n",
       " '_walk',\n",
       " '_wrap_close',\n",
       " 'abc',\n",
       " 'abort',\n",
       " 'access',\n",
       " 'altsep',\n",
       " 'chdir',\n",
       " 'chmod',\n",
       " 'chown',\n",
       " 'chroot',\n",
       " 'close',\n",
       " 'closerange',\n",
       " 'confstr',\n",
       " 'confstr_names',\n",
       " 'cpu_count',\n",
       " 'ctermid',\n",
       " 'curdir',\n",
       " 'defpath',\n",
       " 'device_encoding',\n",
       " 'devnull',\n",
       " 'dup',\n",
       " 'dup2',\n",
       " 'environ',\n",
       " 'environb',\n",
       " 'error',\n",
       " 'execl',\n",
       " 'execle',\n",
       " 'execlp',\n",
       " 'execlpe',\n",
       " 'execv',\n",
       " 'execve',\n",
       " 'execvp',\n",
       " 'execvpe',\n",
       " 'extsep',\n",
       " 'fchdir',\n",
       " 'fchmod',\n",
       " 'fchown',\n",
       " 'fdatasync',\n",
       " 'fdopen',\n",
       " 'fork',\n",
       " 'forkpty',\n",
       " 'fpathconf',\n",
       " 'fsdecode',\n",
       " 'fsencode',\n",
       " 'fspath',\n",
       " 'fstat',\n",
       " 'fstatvfs',\n",
       " 'fsync',\n",
       " 'ftruncate',\n",
       " 'fwalk',\n",
       " 'get_blocking',\n",
       " 'get_exec_path',\n",
       " 'get_inheritable',\n",
       " 'get_terminal_size',\n",
       " 'getcwd',\n",
       " 'getcwdb',\n",
       " 'getegid',\n",
       " 'getenv',\n",
       " 'getenvb',\n",
       " 'geteuid',\n",
       " 'getgid',\n",
       " 'getgrouplist',\n",
       " 'getgroups',\n",
       " 'getloadavg',\n",
       " 'getlogin',\n",
       " 'getpgid',\n",
       " 'getpgrp',\n",
       " 'getpid',\n",
       " 'getppid',\n",
       " 'getpriority',\n",
       " 'getresgid',\n",
       " 'getresuid',\n",
       " 'getsid',\n",
       " 'getuid',\n",
       " 'getxattr',\n",
       " 'initgroups',\n",
       " 'isatty',\n",
       " 'kill',\n",
       " 'killpg',\n",
       " 'lchown',\n",
       " 'linesep',\n",
       " 'link',\n",
       " 'listdir',\n",
       " 'listxattr',\n",
       " 'lockf',\n",
       " 'lseek',\n",
       " 'lstat',\n",
       " 'major',\n",
       " 'makedev',\n",
       " 'makedirs',\n",
       " 'minor',\n",
       " 'mkdir',\n",
       " 'mkfifo',\n",
       " 'mknod',\n",
       " 'name',\n",
       " 'nice',\n",
       " 'open',\n",
       " 'openpty',\n",
       " 'pardir',\n",
       " 'path',\n",
       " 'pathconf',\n",
       " 'pathconf_names',\n",
       " 'pathsep',\n",
       " 'pipe',\n",
       " 'pipe2',\n",
       " 'popen',\n",
       " 'posix_fadvise',\n",
       " 'posix_fallocate',\n",
       " 'posix_spawn',\n",
       " 'posix_spawnp',\n",
       " 'pread',\n",
       " 'preadv',\n",
       " 'putenv',\n",
       " 'pwrite',\n",
       " 'pwritev',\n",
       " 'read',\n",
       " 'readlink',\n",
       " 'readv',\n",
       " 'register_at_fork',\n",
       " 'remove',\n",
       " 'removedirs',\n",
       " 'removexattr',\n",
       " 'rename',\n",
       " 'renames',\n",
       " 'replace',\n",
       " 'rmdir',\n",
       " 'scandir',\n",
       " 'sched_get_priority_max',\n",
       " 'sched_get_priority_min',\n",
       " 'sched_getaffinity',\n",
       " 'sched_getparam',\n",
       " 'sched_getscheduler',\n",
       " 'sched_param',\n",
       " 'sched_rr_get_interval',\n",
       " 'sched_setaffinity',\n",
       " 'sched_setparam',\n",
       " 'sched_setscheduler',\n",
       " 'sched_yield',\n",
       " 'sendfile',\n",
       " 'sep',\n",
       " 'set_blocking',\n",
       " 'set_inheritable',\n",
       " 'setegid',\n",
       " 'seteuid',\n",
       " 'setgid',\n",
       " 'setgroups',\n",
       " 'setpgid',\n",
       " 'setpgrp',\n",
       " 'setpriority',\n",
       " 'setregid',\n",
       " 'setresgid',\n",
       " 'setresuid',\n",
       " 'setreuid',\n",
       " 'setsid',\n",
       " 'setuid',\n",
       " 'setxattr',\n",
       " 'spawnl',\n",
       " 'spawnle',\n",
       " 'spawnlp',\n",
       " 'spawnlpe',\n",
       " 'spawnv',\n",
       " 'spawnve',\n",
       " 'spawnvp',\n",
       " 'spawnvpe',\n",
       " 'st',\n",
       " 'stat',\n",
       " 'stat_result',\n",
       " 'statvfs',\n",
       " 'statvfs_result',\n",
       " 'strerror',\n",
       " 'supports_bytes_environ',\n",
       " 'supports_dir_fd',\n",
       " 'supports_effective_ids',\n",
       " 'supports_fd',\n",
       " 'supports_follow_symlinks',\n",
       " 'symlink',\n",
       " 'sync',\n",
       " 'sys',\n",
       " 'sysconf',\n",
       " 'sysconf_names',\n",
       " 'system',\n",
       " 'tcgetpgrp',\n",
       " 'tcsetpgrp',\n",
       " 'terminal_size',\n",
       " 'times',\n",
       " 'times_result',\n",
       " 'truncate',\n",
       " 'ttyname',\n",
       " 'umask',\n",
       " 'uname',\n",
       " 'uname_result',\n",
       " 'unlink',\n",
       " 'unsetenv',\n",
       " 'urandom',\n",
       " 'utime',\n",
       " 'wait',\n",
       " 'wait3',\n",
       " 'wait4',\n",
       " 'waitid',\n",
       " 'waitid_result',\n",
       " 'waitpid',\n",
       " 'waitstatus_to_exitcode',\n",
       " 'walk',\n",
       " 'write',\n",
       " 'writev']"
      ]
     },
     "execution_count": 2,
     "metadata": {},
     "output_type": "execute_result"
    }
   ],
   "source": [
    "dir(os)"
   ]
  },
  {
   "cell_type": "markdown",
   "id": "016fb10e-37d5-4c9e-b0ee-82079d20044e",
   "metadata": {},
   "source": [
    "We can find where the code for that library resides using the `__file__` attribute.\n",
    "\n"
   ]
  },
  {
   "cell_type": "code",
   "execution_count": 3,
   "id": "54107c3d-b45f-4829-808c-27585f610d68",
   "metadata": {},
   "outputs": [
    {
     "data": {
      "text/plain": [
       "'/opt/tljh/user/lib/python3.9/os.py'"
      ]
     },
     "execution_count": 3,
     "metadata": {},
     "output_type": "execute_result"
    }
   ],
   "source": [
    "os.__file__"
   ]
  },
  {
   "cell_type": "code",
   "execution_count": 5,
   "id": "e7c8def6-1795-4371-9109-eec4982d715a",
   "metadata": {},
   "outputs": [
    {
     "name": "stdout",
     "output_type": "stream",
     "text": [
      "abc.py\t\t\t     _osx_support.py\n",
      "aifc.py\t\t\t     pathlib.py\n",
      "_aix_support.py\t\t     pdb.py\n",
      "antigravity.py\t\t     __phello__.foo.py\n",
      "argparse.py\t\t     pickle.py\n",
      "ast.py\t\t\t     pickletools.py\n",
      "asynchat.py\t\t     pipes.py\n",
      "asyncio\t\t\t     pkgutil.py\n",
      "asyncore.py\t\t     platform.py\n",
      "base64.py\t\t     plistlib.py\n",
      "bdb.py\t\t\t     poplib.py\n",
      "binhex.py\t\t     posixpath.py\n",
      "bisect.py\t\t     pprint.py\n",
      "_bootlocale.py\t\t     profile.py\n",
      "_bootsubprocess.py\t     pstats.py\n",
      "bz2.py\t\t\t     pty.py\n",
      "calendar.py\t\t     _py_abc.py\n",
      "cgi.py\t\t\t     __pycache__\n",
      "cgitb.py\t\t     pyclbr.py\n",
      "chunk.py\t\t     py_compile.py\n",
      "cmd.py\t\t\t     _pydecimal.py\n",
      "codecs.py\t\t     pydoc_data\n",
      "codeop.py\t\t     pydoc.py\n",
      "code.py\t\t\t     _pyio.py\n",
      "collections\t\t     queue.py\n",
      "_collections_abc.py\t     quopri.py\n",
      "colorsys.py\t\t     random.py\n",
      "_compat_pickle.py\t     reprlib.py\n",
      "compileall.py\t\t     re.py\n",
      "_compression.py\t\t     rlcompleter.py\n",
      "concurrent\t\t     runpy.py\n",
      "config-3.9-x86_64-linux-gnu  sched.py\n",
      "configparser.py\t\t     secrets.py\n",
      "contextlib.py\t\t     selectors.py\n",
      "contextvars.py\t\t     shelve.py\n",
      "copy.py\t\t\t     shlex.py\n",
      "copyreg.py\t\t     shutil.py\n",
      "cProfile.py\t\t     signal.py\n",
      "crypt.py\t\t     _sitebuiltins.py\n",
      "csv.py\t\t\t     site-packages\n",
      "ctypes\t\t\t     site.py\n",
      "curses\t\t\t     smtpd.py\n",
      "dataclasses.py\t\t     smtplib.py\n",
      "datetime.py\t\t     sndhdr.py\n",
      "dbm\t\t\t     socket.py\n",
      "decimal.py\t\t     socketserver.py\n",
      "difflib.py\t\t     sqlite3\n",
      "dis.py\t\t\t     sre_compile.py\n",
      "distutils\t\t     sre_constants.py\n",
      "doctest.py\t\t     sre_parse.py\n",
      "email\t\t\t     ssl.py\n",
      "encodings\t\t     statistics.py\n",
      "ensurepip\t\t     stat.py\n",
      "enum.py\t\t\t     stringprep.py\n",
      "filecmp.py\t\t     string.py\n",
      "fileinput.py\t\t     _strptime.py\n",
      "fnmatch.py\t\t     struct.py\n",
      "formatter.py\t\t     subprocess.py\n",
      "fractions.py\t\t     sunau.py\n",
      "ftplib.py\t\t     symbol.py\n",
      "functools.py\t\t     symtable.py\n",
      "__future__.py\t\t     _sysconfigdata__linux_x86_64-linux-gnu.py\n",
      "genericpath.py\t\t     _sysconfigdata__linux_x86_64-linux-gnu.py.orig\n",
      "getopt.py\t\t     _sysconfigdata_x86_64_conda_cos6_linux_gnu.py\n",
      "getpass.py\t\t     _sysconfigdata_x86_64_conda_linux_gnu.py\n",
      "gettext.py\t\t     sysconfig.py\n",
      "glob.py\t\t\t     tabnanny.py\n",
      "graphlib.py\t\t     tarfile.py\n",
      "gzip.py\t\t\t     telnetlib.py\n",
      "hashlib.py\t\t     tempfile.py\n",
      "heapq.py\t\t     test\n",
      "hmac.py\t\t\t     textwrap.py\n",
      "html\t\t\t     this.py\n",
      "http\t\t\t     _threading_local.py\n",
      "idlelib\t\t\t     threading.py\n",
      "imaplib.py\t\t     timeit.py\n",
      "imghdr.py\t\t     tkinter\n",
      "importlib\t\t     tokenize.py\n",
      "imp.py\t\t\t     token.py\n",
      "inspect.py\t\t     traceback.py\n",
      "io.py\t\t\t     tracemalloc.py\n",
      "ipaddress.py\t\t     trace.py\n",
      "json\t\t\t     tty.py\n",
      "keyword.py\t\t     turtledemo\n",
      "lib2to3\t\t\t     turtle.py\n",
      "lib-dynload\t\t     types.py\n",
      "LICENSE.txt\t\t     typing.py\n",
      "linecache.py\t\t     unittest\n",
      "locale.py\t\t     urllib\n",
      "logging\t\t\t     uuid.py\n",
      "lzma.py\t\t\t     uu.py\n",
      "mailbox.py\t\t     venv\n",
      "mailcap.py\t\t     warnings.py\n",
      "_markupbase.py\t\t     wave.py\n",
      "mimetypes.py\t\t     weakref.py\n",
      "modulefinder.py\t\t     _weakrefset.py\n",
      "multiprocessing\t\t     webbrowser.py\n",
      "netrc.py\t\t     wsgiref\n",
      "nntplib.py\t\t     xdrlib.py\n",
      "ntpath.py\t\t     xml\n",
      "nturl2path.py\t\t     xmlrpc\n",
      "numbers.py\t\t     zipapp.py\n",
      "opcode.py\t\t     zipfile.py\n",
      "operator.py\t\t     zipimport.py\n",
      "optparse.py\t\t     zoneinfo\n",
      "os.py\n"
     ]
    }
   ],
   "source": [
    "! ls /opt/tljh/user/lib/python3.9/"
   ]
  },
  {
   "cell_type": "markdown",
   "id": "9906c4db-fcae-4ab6-b4ac-6f3546f5ba23",
   "metadata": {},
   "source": [
    "The reason we can import this file without saying where it is is because Python has a list of directories it knows to look in. These are available to you in the `sys` module. This contains a list of directories where Python looks. Here, it specifically looks for a file named os.py in one of those directories. Your path may look different from this.\n",
    "\n"
   ]
  },
  {
   "cell_type": "code",
   "execution_count": 6,
   "id": "61d7d76d-5f0d-4790-ace7-2fbd67340e6a",
   "metadata": {},
   "outputs": [
    {
     "name": "stdout",
     "output_type": "stream",
     "text": [
      "\n"
     ]
    }
   ],
   "source": [
    "! echo $PYTHONPATH"
   ]
  },
  {
   "cell_type": "code",
   "execution_count": 7,
   "id": "98bee248-5367-468c-904d-324bcc8f8f56",
   "metadata": {},
   "outputs": [
    {
     "data": {
      "text/plain": [
       "['/home/jupyter-jkitchin@andrew.cm-11dd7/s24-06643/sse/03-python-packaging',\n",
       " '/opt/tljh/user/lib/python39.zip',\n",
       " '/opt/tljh/user/lib/python3.9',\n",
       " '/opt/tljh/user/lib/python3.9/lib-dynload',\n",
       " '',\n",
       " '/home/jupyter-jkitchin@andrew.cm-11dd7/.local/lib/python3.9/site-packages',\n",
       " '/opt/tljh/user/lib/python3.9/site-packages']"
      ]
     },
     "execution_count": 7,
     "metadata": {},
     "output_type": "execute_result"
    }
   ],
   "source": [
    "import sys\n",
    "sys.path"
   ]
  },
  {
   "cell_type": "code",
   "execution_count": 9,
   "id": "f0dd7d10-3fce-420f-9616-002e004b794c",
   "metadata": {},
   "outputs": [
    {
     "name": "stdout",
     "output_type": "stream",
     "text": [
      "a11y_pygments\n",
      "absl\n",
      "absl_py-1.2.0.dist-info\n",
      "accessible_pygments-0.0.4.dist-info\n",
      "canvasapi\n",
      "canvasapi-2.2.0.dist-info\n",
      "easy-install.pth\n",
      "etils\n",
      "etils-0.7.1.dist-info\n",
      "flake8_docstrings-1.7.0.dist-info\n",
      "flake8_docstrings.py\n",
      "importlib_resources\n",
      "importlib_resources-5.9.0.dist-info\n",
      "ipywidgets\n",
      "ipywidgets-8.0.1.dist-info\n",
      "jupyter_book\n",
      "jupyter_book-0.15.1.dist-info\n",
      "jupyter_cache\n",
      "jupyter_cache-0.6.1.dist-info\n",
      "jupyterlab-spreadsheet-editor\n",
      "jupyterlab_spreadsheet_editor-0.6.1.dist-info\n",
      "linkify_it\n",
      "linkify_it_py-2.0.0.dist-info\n",
      "markdown_it\n",
      "markdown_it_py-2.2.0.dist-info\n",
      "mdit_py_plugins\n",
      "mdit_py_plugins-0.3.5.dist-info\n",
      "mdurl\n",
      "mdurl-0.1.2.dist-info\n",
      "networkx\n",
      "networkx-3.2.1.dist-info\n",
      "opt_einsum\n",
      "opt_einsum-3.3.0.dist-info\n",
      "__pycache__\n",
      "pycse\n",
      "pycse-2.2.1.dist-info\n",
      "pydata_sphinx_theme\n",
      "pydata_sphinx_theme-0.13.3.dist-info\n",
      "pydotplus\n",
      "pydotplus-2.0.2.dist-info\n",
      "rich\n",
      "rich-13.3.3.dist-info\n",
      "s23bib\n",
      "s23bib-0.0.1.dist-info\n",
      "s23oa\n",
      "s23oa-0.0.1.dist-info\n",
      "s23pack\n",
      "s23pack-0.0.1.dist-info\n",
      "s24pack\n",
      "s24pack-0.0.1.dist-info\n",
      "sbc.egg-link\n",
      "sphinx_book_theme\n",
      "sphinx_book_theme-1.0.1.dist-info\n",
      "sphinx_design\n",
      "sphinx_design-0.3.0.dist-info\n",
      "sphinx_external_toc\n",
      "sphinx_external_toc-0.3.1.dist-info\n",
      "sphinx_jupyterbook_latex\n",
      "sphinx_jupyterbook_latex-0.5.2.dist-info\n",
      "sphinx_thebe\n",
      "sphinx_thebe-0.2.1.dist-info\n",
      "widgetsnbextension\n",
      "widgetsnbextension-4.0.2.dist-info\n",
      "xlrd\n",
      "xlrd-2.0.1.dist-info\n"
     ]
    }
   ],
   "source": [
    "! ls /home/jupyter-jkitchin@andrew.cm-11dd7/.local/lib/python3.9/site-packages"
   ]
  },
  {
   "cell_type": "markdown",
   "id": "0cbe1263-ed4a-4066-859e-bc3e595a4696",
   "metadata": {},
   "source": [
    "You can see how this works here.\n",
    "\n"
   ]
  },
  {
   "cell_type": "code",
   "execution_count": 13,
   "id": "3e5470c2-e4b8-4b29-8f43-3d16603396b2",
   "metadata": {},
   "outputs": [
    {
     "name": "stdout",
     "output_type": "stream",
     "text": [
      "/opt/tljh/user/lib/python3.9/site-packages\n"
     ]
    }
   ],
   "source": [
    "for path in sys.path:\n",
    "    if os.path.exists(os.path.join(path, 'sklearn')):\n",
    "        print(path)\n",
    "        break"
   ]
  },
  {
   "cell_type": "code",
   "execution_count": 14,
   "id": "d503533c-816e-4c9a-8c1e-7aba81f11be1",
   "metadata": {},
   "outputs": [
    {
     "data": {
      "text/plain": [
       "'/opt/tljh/user/lib/python3.9/site-packages/sklearn/__init__.py'"
      ]
     },
     "execution_count": 14,
     "metadata": {},
     "output_type": "execute_result"
    }
   ],
   "source": [
    "import sklearn\n",
    "sklearn.__file__"
   ]
  },
  {
   "cell_type": "code",
   "execution_count": 15,
   "id": "a00af3ce-5427-493c-8d5f-f4766c18ac7a",
   "metadata": {},
   "outputs": [
    {
     "name": "stdout",
     "output_type": "stream",
     "text": [
      "SHELL=/bin/bash\n",
      "JUPYTERHUB_ADMIN_ACCESS=1\n",
      "JUPYTERHUB_API_TOKEN=a8dd8e0e271549629ad7c28fdeac5cc6\n",
      "JUPYTERHUB_BASE_URL=/\n",
      "PWD=/home/jupyter-jkitchin@andrew.cm-11dd7/s24-06643/sse/03-python-packaging\n",
      "LOGNAME=jupyter-jkitchin@andrew.cm-11dd7\n",
      "JUPYTERHUB_SERVER_NAME=\n",
      "HOME=/home/jupyter-jkitchin@andrew.cm-11dd7\n",
      "LANG=en_US.UTF-8\n",
      "JPY_API_TOKEN=a8dd8e0e271549629ad7c28fdeac5cc6\n",
      "JUPYTERHUB_SERVICE_PREFIX=/user/jkitchin@andrew.cmu.edu/\n",
      "JUPYTERHUB_OAUTH_CALLBACK_URL=/user/jkitchin@andrew.cmu.edu/oauth_callback\n",
      "CLICOLOR=1\n",
      "INVOCATION_ID=6c6ce578298b4446b3ebf001ffde1b06\n",
      "RUNTIME_DIRECTORY=/run/jupyter-jkitchin@andrew.cmu.edu\n",
      "JPY_PARENT_PID=428309\n",
      "KMP_DUPLICATE_LIB_OK=True\n",
      "KMP_INIT_AT_FORK=FALSE\n",
      "TERM=xterm-color\n",
      "USER=jupyter-jkitchin@andrew.cm-11dd7\n",
      "GIT_PAGER=cat\n",
      "KITCHIN=True\n",
      "SHLVL=0\n",
      "PAGER=cat\n",
      "JUPYTERHUB_API_URL=http://127.0.0.1:15001/hub/api\n",
      "JUPYTERHUB_CLIENT_ID=jupyterhub-user-jkitchin%40andrew.cmu.edu\n",
      "JUPYTERHUB_HOST=\n",
      "MPLBACKEND=module://ipykernel.pylab.backend_inline\n",
      "GIT_PYTHON_REFRESH=quiet\n",
      "JOURNAL_STREAM=9:1678178301\n",
      "PATH=/opt/tljh/user/bin:/usr/local/sbin:/usr/local/bin:/usr/sbin:/usr/bin:/sbin:/bin:/snap/bin\n",
      "JUPYTERHUB_USER=jkitchin@andrew.cmu.edu\n",
      "JUPYTERHUB_ACTIVITY_URL=http://127.0.0.1:15001/hub/api/users/jkitchin@andrew.cmu.edu/activity\n",
      "OLDPWD=/\n",
      "_=/usr/bin/env\n"
     ]
    }
   ],
   "source": [
    "! env"
   ]
  },
  {
   "cell_type": "markdown",
   "id": "6cda1e1f-b7ce-44ea-8ef0-2e66641179ac",
   "metadata": {},
   "source": [
    "# Anatomy of a package\n",
    "\n",
    "A Python package is a collection of files and directories that follow some conventions. It is common for the whole set to be in a single root directory. This is helpful to isolate the files from other files, so they are easy to move later.\n",
    "\n",
    "In the package root, you need several files:\n",
    "\n",
    "- [README.md](./package-root/README.md) :: A text file describing the package\n",
    "- [setup.py](./package-root/setup.py) :: A Python file for installing the package\n",
    "- [LICENSE](./package-root/LICENSE) :: A file containing the terms of use for your package.\n",
    "\n",
    "There are a lot of licenses: https://opensource.org/licenses. We will primarily focus on the MIT license.\n",
    "\n",
    "We put the source for our package in a directory inside called *testpack*."
   ]
  },
  {
   "cell_type": "code",
   "execution_count": 17,
   "id": "5343c9bf-8494-45b1-834d-5f0469e9c0cb",
   "metadata": {},
   "outputs": [],
   "source": [
    "! rm -fr package-root  # start clean\n",
    "! mkdir package-root\n",
    "! mkdir package-root/testpack"
   ]
  },
  {
   "cell_type": "code",
   "execution_count": 18,
   "id": "f2054f1c-b25f-414a-bb30-5d6c318a1916",
   "metadata": {},
   "outputs": [
    {
     "name": "stdout",
     "output_type": "stream",
     "text": [
      "Writing package-root/README.md\n"
     ]
    }
   ],
   "source": [
    "%%writefile package-root/README.md\n",
    "Example package\n",
    "===============\n",
    "\n",
    "There is one function: testpack.hello."
   ]
  },
  {
   "cell_type": "code",
   "execution_count": 19,
   "id": "04fe5d0a-a556-495f-be67-eb1b7fd76ef2",
   "metadata": {},
   "outputs": [
    {
     "name": "stdout",
     "output_type": "stream",
     "text": [
      "Writing package-root/LICENSE\n"
     ]
    }
   ],
   "source": [
    "%%writefile package-root/LICENSE\n",
    "Copyright 2024 John Kitchin\n",
    "\n",
    "Permission is hereby granted, free of charge, to any person obtaining a copy of this software and associated documentation files (the “Software”), to deal in the Software without restriction, including without limitation the rights to use, copy, modify, merge, publish, distribute, sublicense, and/or sell copies of the Software, and to permit persons to whom the Software is furnished to do so, subject to the following conditions:\n",
    "\n",
    "The above copyright notice and this permission notice shall be included in all copies or substantial portions of the Software.\n",
    "\n",
    "THE SOFTWARE IS PROVIDED “AS IS”, WITHOUT WARRANTY OF ANY KIND, EXPRESS OR IMPLIED, INCLUDING BUT NOT LIMITED TO THE WARRANTIES OF MERCHANTABILITY, FITNESS FOR A PARTICULAR PURPOSE AND NONINFRINGEMENT. IN NO EVENT SHALL THE AUTHORS OR COPYRIGHT HOLDERS BE LIABLE FOR ANY CLAIM, DAMAGES OR OTHER LIABILITY, WHETHER IN AN ACTION OF CONTRACT, TORT OR OTHERWISE, ARISING FROM, OUT OF OR IN CONNECTION WITH THE SOFTWARE OR THE USE OR OTHER DEALINGS IN THE SOFTWARE."
   ]
  },
  {
   "cell_type": "code",
   "execution_count": 20,
   "id": "1d9770c6-40c9-4e76-9d13-1075214678d8",
   "metadata": {},
   "outputs": [
    {
     "name": "stdout",
     "output_type": "stream",
     "text": [
      "Writing package-root/setup.py\n"
     ]
    }
   ],
   "source": [
    "%%writefile package-root/setup.py\n",
    "from setuptools import setup\n",
    "\n",
    "setup(name='testpack',\n",
    "      version='0.0.1',\n",
    "      description='testpack utilities',\n",
    "      maintainer='John Kitchin',\n",
    "      maintainer_email='jkitchin@andrew.cmu.edu',\n",
    "      license='MIT',\n",
    "      packages=['testpack'],\n",
    "      scripts=[],\n",
    "      long_description='''\\\n",
    "testpack utilities\n",
    "==============\n",
    "Handy functions for a project.''')"
   ]
  },
  {
   "cell_type": "markdown",
   "id": "7fd5ff60-9ad7-47dc-9b43-165c47886193",
   "metadata": {},
   "source": [
    "Inside the testpack directory there must be an `__init__.py` file, and maybe additional package source files (.py files). \n",
    "\n",
    "Check out [\\_\\_init__.py](./package-root/testpack/__init__.py). This file is run every time you import the package. We define a single function in this file that we can use later, and there is a diagnostic line that should print when we import the package later."
   ]
  },
  {
   "cell_type": "code",
   "execution_count": 21,
   "id": "c9622409-01ba-494e-9421-4a1abcb9ef49",
   "metadata": {},
   "outputs": [
    {
     "name": "stdout",
     "output_type": "stream",
     "text": [
      "Writing package-root/testpack/__init__.py\n"
     ]
    }
   ],
   "source": [
    "%%writefile package-root/testpack/__init__.py\n",
    "print('Loading testpack! Version 1')\n",
    "\n",
    "def hello(name):\n",
    "    return f'Hello {name}'"
   ]
  },
  {
   "cell_type": "code",
   "execution_count": 22,
   "id": "f8f75123-ae28-47ed-8be4-3fc950a19f8a",
   "metadata": {},
   "outputs": [
    {
     "name": "stdout",
     "output_type": "stream",
     "text": [
      "\u001b[01;34mpackage-root\u001b[00m\n",
      "├── LICENSE\n",
      "├── README.md\n",
      "├── setup.py\n",
      "└── \u001b[01;34mtestpack\u001b[00m\n",
      "    └── __init__.py\n",
      "\n",
      "1 directory, 4 files\n"
     ]
    }
   ],
   "source": [
    "! tree package-root"
   ]
  },
  {
   "cell_type": "markdown",
   "id": "55ed7383-ba4e-4551-b43b-87291e45597c",
   "metadata": {},
   "source": [
    "We cannot directly import this package yet. Try it:\n",
    "\n"
   ]
  },
  {
   "cell_type": "code",
   "execution_count": 30,
   "id": "70f6b4cb-62dd-4353-a8a3-63f64c9a0931",
   "metadata": {},
   "outputs": [
    {
     "data": {
      "text/plain": [
       "'/home/jupyter-jkitchin@andrew.cm-11dd7/s24-06643/sse/03-python-packaging/package-root/testpack/__init__.py'"
      ]
     },
     "execution_count": 30,
     "metadata": {},
     "output_type": "execute_result"
    }
   ],
   "source": [
    "import testpack\n",
    "testpack.__file__"
   ]
  },
  {
   "cell_type": "markdown",
   "id": "e8651413-0f9c-4fb0-bffb-bb0c52625cfa",
   "metadata": {},
   "source": [
    "That fails because it is not found anywhere on your Python path. Usually, we will install a package to do that, but we will first manually modify the path for development purposes. `sys.path` is just a list of directories, and we can add to it or append directories using Python. This is only temporary, while this notebook is alive. We use a relative path here, which implies the working directory is the same as the path to this notebook. If you haven't specifically changed that, it should be. If in doubt, you can also use an absolute path.\n",
    "\n"
   ]
  },
  {
   "cell_type": "code",
   "execution_count": 29,
   "id": "8ce63d2f-713d-428c-a938-8166b85b7936",
   "metadata": {},
   "outputs": [
    {
     "data": {
      "text/plain": [
       "['/home/jupyter-jkitchin@andrew.cm-11dd7/s24-06643/sse/03-python-packaging',\n",
       " '/opt/tljh/user/lib/python39.zip',\n",
       " '/opt/tljh/user/lib/python3.9',\n",
       " '/opt/tljh/user/lib/python3.9/lib-dynload',\n",
       " '',\n",
       " '/home/jupyter-jkitchin@andrew.cm-11dd7/.local/lib/python3.9/site-packages',\n",
       " '/opt/tljh/user/lib/python3.9/site-packages']"
      ]
     },
     "execution_count": 29,
     "metadata": {},
     "output_type": "execute_result"
    }
   ],
   "source": [
    "import sys\n",
    "sys.path"
   ]
  },
  {
   "cell_type": "code",
   "execution_count": 31,
   "id": "67138ca2-b531-41b7-b324-8404ed366fb6",
   "metadata": {},
   "outputs": [
    {
     "name": "stdout",
     "output_type": "stream",
     "text": [
      "['package-root', '/home/jupyter-jkitchin@andrew.cm-11dd7/s24-06643/sse/03-python-packaging', '/opt/tljh/user/lib/python39.zip', '/opt/tljh/user/lib/python3.9', '/opt/tljh/user/lib/python3.9/lib-dynload', '', '/home/jupyter-jkitchin@andrew.cm-11dd7/.local/lib/python3.9/site-packages', '/opt/tljh/user/lib/python3.9/site-packages']\n"
     ]
    }
   ],
   "source": [
    "sys.path.insert(0, 'package-root')\n",
    "print(sys.path)\n",
    "import testpack"
   ]
  },
  {
   "cell_type": "markdown",
   "id": "5febd346-9cde-439c-a35e-eadb77372868",
   "metadata": {},
   "source": [
    "Now, we can access the hello function that is present in the `__init__.py` file. We have to use the dot notation to access this.\n",
    "\n"
   ]
  },
  {
   "cell_type": "code",
   "execution_count": 26,
   "id": "852d8473-f595-4be6-98ad-0868c5a39f1d",
   "metadata": {},
   "outputs": [
    {
     "data": {
      "text/plain": [
       "'Hello Class'"
      ]
     },
     "execution_count": 26,
     "metadata": {},
     "output_type": "execute_result"
    }
   ],
   "source": [
    "testpack.hello('Class')"
   ]
  },
  {
   "cell_type": "code",
   "execution_count": 32,
   "id": "95fbd116-0d04-4255-a55b-f4bf6ab935bd",
   "metadata": {},
   "outputs": [
    {
     "data": {
      "text/plain": [
       "['/home/jupyter-jkitchin@andrew.cm-11dd7/s24-06643/sse/03-python-packaging',\n",
       " '/opt/tljh/user/lib/python39.zip',\n",
       " '/opt/tljh/user/lib/python3.9',\n",
       " '/opt/tljh/user/lib/python3.9/lib-dynload',\n",
       " '',\n",
       " '/home/jupyter-jkitchin@andrew.cm-11dd7/.local/lib/python3.9/site-packages',\n",
       " '/opt/tljh/user/lib/python3.9/site-packages']"
      ]
     },
     "execution_count": 32,
     "metadata": {},
     "output_type": "execute_result"
    }
   ],
   "source": [
    "sys.path.remove('package-root')\n",
    "sys.path"
   ]
  },
  {
   "cell_type": "code",
   "execution_count": 33,
   "id": "3d22066d-2795-4f54-bdb1-a70b92f37cf8",
   "metadata": {},
   "outputs": [
    {
     "name": "stdout",
     "output_type": "stream",
     "text": [
      "/home/jupyter-jkitchin@andrew.cm-11dd7/s24-06643/sse/03-python-packaging\n"
     ]
    }
   ],
   "source": [
    "! pwd"
   ]
  },
  {
   "cell_type": "code",
   "execution_count": 35,
   "id": "9b46ed16-ede5-4e43-b644-c4d05643c8f4",
   "metadata": {},
   "outputs": [
    {
     "name": "stdout",
     "output_type": "stream",
     "text": [
      "Defaulting to user installation because normal site-packages is not writeable\n",
      "Obtaining file:///home/jupyter-jkitchin%40andrew.cm-11dd7/s24-06643/sse/03-python-packaging/package-root\n",
      "  Preparing metadata (setup.py): started\n",
      "  Preparing metadata (setup.py): finished with status 'done'\n",
      "Installing collected packages: testpack\n",
      "  Running setup.py develop for testpack\n",
      "Successfully installed testpack-0.0.1\n"
     ]
    }
   ],
   "source": [
    "%%bash\n",
    "cd package-root \n",
    "pip install -e ."
   ]
  },
  {
   "cell_type": "code",
   "execution_count": 1,
   "id": "305d63f9-aa5c-4ba4-b269-40b204900ca0",
   "metadata": {},
   "outputs": [
    {
     "name": "stdout",
     "output_type": "stream",
     "text": [
      "Loading testpack! Version 1\n"
     ]
    },
    {
     "data": {
      "text/plain": [
       "'/home/jupyter-jkitchin@andrew.cm-11dd7/s24-06643/sse/03-python-packaging/package-root/testpack/__init__.py'"
      ]
     },
     "execution_count": 1,
     "metadata": {},
     "output_type": "execute_result"
    }
   ],
   "source": [
    "import testpack\n",
    "testpack.__file__"
   ]
  },
  {
   "cell_type": "code",
   "execution_count": 3,
   "id": "dc8a4562-9797-4d8b-8d0f-55e73f73c7b7",
   "metadata": {},
   "outputs": [
    {
     "name": "stdout",
     "output_type": "stream",
     "text": [
      "Found existing installation: testpack 0.0.1\n",
      "Uninstalling testpack-0.0.1:\n",
      "  Successfully uninstalled testpack-0.0.1\n"
     ]
    }
   ],
   "source": [
    "! pip uninstall testpack"
   ]
  },
  {
   "cell_type": "code",
   "execution_count": 5,
   "id": "f48d307d-d218-4af0-93d4-16050252c91b",
   "metadata": {},
   "outputs": [],
   "source": [
    "! rm -r package-root/testpack.egg-info"
   ]
  },
  {
   "cell_type": "markdown",
   "id": "02ec1dd9-a437-4ae9-9ea0-1c59b7290828",
   "metadata": {},
   "source": [
    "# Version control\n",
    "\n",
    "It is tempting to start modifying the package right away. That would probably be a mistake though. What if we do something that breaks it? How would we recover back to a working state? The solution to this problem is called *version control*. It is an essential part of software development. We will use git (https://git-scm.com/doc) for version control. \n",
    "\n",
    "With git, we will create a *repository* in our package-root. Then we can *commit* changes we make to files in the repository as we go. If some changes don't work out, we can *revert* them. We can also make *branches* to test ideas out on. \n",
    "\n",
    "To get started, we need to tell git about ourselves. Open a terminal, and run these commands (obviously, change the name and email to yours):\n",
    "\n",
    "    "
   ]
  },
  {
   "cell_type": "code",
   "execution_count": 6,
   "id": "b8b64a19-7153-4f8a-a193-af03ff0b9828",
   "metadata": {},
   "outputs": [],
   "source": [
    "%%bash\n",
    "git config --global user.name \"John Kitchin\"\n",
    "git config --global user.email johndoe@example.com"
   ]
  },
  {
   "cell_type": "code",
   "execution_count": 10,
   "id": "00585c09-1373-42af-bed4-756e7da33218",
   "metadata": {},
   "outputs": [
    {
     "name": "stdout",
     "output_type": "stream",
     "text": [
      "On branch main\n",
      "Your branch is ahead of 'origin/main' by 11 commits.\n",
      "  (use \"git push\" to publish your local commits)\n",
      "\n",
      "Changes not staged for commit:\n",
      "  (use \"git add <file>...\" to update what will be committed)\n",
      "  (use \"git restore <file>...\" to discard changes in working directory)\n",
      "\t\u001b[31mmodified:   03-python-packaging.ipynb\u001b[m\n",
      "\n",
      "Untracked files:\n",
      "  (use \"git add <file>...\" to include in what will be committed)\n",
      "\t\u001b[31m../00-introduction/sorted-list.dat\u001b[m\n",
      "\t\u001b[31m../00-introduction/untitled.txt\u001b[m\n",
      "\t\u001b[31m../01-rest-api-openalex/test.py\u001b[m\n",
      "\t\u001b[31m../05-python-classes/ris.txt\u001b[m\n",
      "\t\u001b[31m../Untitled.ipynb\u001b[m\n",
      "\n",
      "no changes added to commit (use \"git add\" and/or \"git commit -a\")\n"
     ]
    }
   ],
   "source": [
    "! git status"
   ]
  },
  {
   "cell_type": "code",
   "execution_count": 8,
   "id": "139a60cc-3d54-4e81-9fc3-f148c931e8be",
   "metadata": {},
   "outputs": [
    {
     "name": "stdout",
     "output_type": "stream",
     "text": [
      "user.email=johndoe@example.com\n",
      "user.name=John Kitchin\n",
      "core.repositoryformatversion=0\n",
      "core.filemode=true\n",
      "core.bare=false\n",
      "core.logallrefupdates=true\n",
      "remote.origin.url=https://github.com/jkitchin/s24-06643\n",
      "remote.origin.fetch=+refs/heads/main:refs/remotes/origin/main\n",
      "branch.main.remote=origin\n",
      "branch.main.merge=refs/heads/main\n"
     ]
    }
   ],
   "source": [
    "! git config -l"
   ]
  },
  {
   "cell_type": "markdown",
   "id": "75ec8b43-81a4-428f-9a4a-82cf0a68d46b",
   "metadata": {},
   "source": [
    "That should create a file called ~/.gitconfig. Check out the contents:\n",
    "\n",
    "    "
   ]
  },
  {
   "cell_type": "code",
   "execution_count": 9,
   "id": "008475d3-2523-4d85-a9bb-3a6102ae2b74",
   "metadata": {},
   "outputs": [
    {
     "name": "stdout",
     "output_type": "stream",
     "text": [
      "[user]\n",
      "\temail = johndoe@example.com\n",
      "\tname = John Kitchin\n"
     ]
    }
   ],
   "source": [
    "! cat ~/.gitconfig "
   ]
  },
  {
   "cell_type": "markdown",
   "id": "0cb19a90-021a-458e-b28f-438db3d3a6b7",
   "metadata": {},
   "source": [
    "Next, run this command to create a git repository.   "
   ]
  },
  {
   "cell_type": "code",
   "execution_count": 11,
   "id": "e6b42351-39f6-46b1-abf8-95c11890fa84",
   "metadata": {},
   "outputs": [
    {
     "name": "stdout",
     "output_type": "stream",
     "text": [
      "Initialized empty Git repository in /home/jupyter-jkitchin@andrew.cm-11dd7/s24-06643/sse/03-python-packaging/package-root/.git/\n"
     ]
    }
   ],
   "source": [
    "%%bash\n",
    "cd package-root\n",
    "git init"
   ]
  },
  {
   "cell_type": "code",
   "execution_count": 13,
   "id": "7f58aba5-cb32-4919-85c4-eb40b4cc0e63",
   "metadata": {},
   "outputs": [
    {
     "name": "stdout",
     "output_type": "stream",
     "text": [
      "package-root\n",
      "├── .git\n",
      "│   ├── branches\n",
      "│   ├── config\n",
      "│   ├── description\n",
      "│   ├── HEAD\n",
      "│   ├── hooks\n",
      "│   │   ├── applypatch-msg.sample\n",
      "│   │   ├── commit-msg.sample\n",
      "│   │   ├── fsmonitor-watchman.sample\n",
      "│   │   ├── post-update.sample\n",
      "│   │   ├── pre-applypatch.sample\n",
      "│   │   ├── pre-commit.sample\n",
      "│   │   ├── pre-merge-commit.sample\n",
      "│   │   ├── prepare-commit-msg.sample\n",
      "│   │   ├── pre-push.sample\n",
      "│   │   ├── pre-rebase.sample\n",
      "│   │   ├── pre-receive.sample\n",
      "│   │   └── update.sample\n",
      "│   ├── info\n",
      "│   │   └── exclude\n",
      "│   ├── objects\n",
      "│   │   ├── info\n",
      "│   │   └── pack\n",
      "│   └── refs\n",
      "│       ├── heads\n",
      "│       └── tags\n",
      "├── .ipynb_checkpoints\n",
      "│   └── README-checkpoint.md\n",
      "├── LICENSE\n",
      "├── README.md\n",
      "├── setup.py\n",
      "└── testpack\n",
      "    ├── __init__.py\n",
      "    ├── .ipynb_checkpoints\n",
      "    │   └── __init__-checkpoint.py\n",
      "    └── __pycache__\n",
      "        └── __init__.cpython-39.pyc\n",
      "\n",
      "14 directories, 23 files\n"
     ]
    }
   ],
   "source": [
    "%%bash\n",
    "tree -a package-root"
   ]
  },
  {
   "cell_type": "code",
   "execution_count": null,
   "id": "b6979bcb-9e2b-42dc-a445-d3f0a03ebdc8",
   "metadata": {},
   "outputs": [],
   "source": []
  },
  {
   "cell_type": "code",
   "execution_count": null,
   "id": "f53f8332-42c8-42e3-88fb-7cff206b7c34",
   "metadata": {},
   "outputs": [],
   "source": []
  },
  {
   "cell_type": "markdown",
   "id": "caa8562c-d88f-4d78-9aac-947a55df294a",
   "metadata": {},
   "source": [
    "    \n",
    "You should see something like:\n",
    "\n",
    "    Initialized empty Git repository in /home/jupyter-jkitchin@andrew.cm-11dd7/src/lectures/03-python-packaging/package-root/.git/\n",
    "    \n",
    "a new directory has been created in the folder called .git. This is where your git repository is stored. So far, there is nothing in it. Let's check the status."
   ]
  },
  {
   "cell_type": "code",
   "execution_count": 14,
   "id": "ea67da9c-ee1c-448e-90df-3dc9a75c9682",
   "metadata": {},
   "outputs": [
    {
     "name": "stdout",
     "output_type": "stream",
     "text": [
      "On branch master\n",
      "\n",
      "No commits yet\n",
      "\n",
      "Untracked files:\n",
      "  (use \"git add <file>...\" to include in what will be committed)\n",
      "\t.ipynb_checkpoints/\n",
      "\tLICENSE\n",
      "\tREADME.md\n",
      "\tsetup.py\n",
      "\ttestpack/\n",
      "\n",
      "nothing added to commit but untracked files present (use \"git add\" to track)\n"
     ]
    }
   ],
   "source": [
    "%%bash\n",
    "cd package-root\n",
    "git status"
   ]
  },
  {
   "cell_type": "markdown",
   "id": "675f0ce3-496c-4f9d-aa58-b2e931e7d05c",
   "metadata": {},
   "source": [
    "git is telling us that we are on the master branch and we have many untracked files. Today it is more favorable for the default branch to be called ~main~ rather than master (https://www.theserverside.com/feature/Why-GitHub-renamed-its-master-branch-to-main). Let's change that. We just checkout a new branch called main. \n",
    "\n",
    "    git checkout -b main\n",
    "    \n",
    "\n"
   ]
  },
  {
   "cell_type": "code",
   "execution_count": 15,
   "id": "85dbca6a-0ede-4a34-9463-356adfb275aa",
   "metadata": {},
   "outputs": [
    {
     "name": "stderr",
     "output_type": "stream",
     "text": [
      "Switched to a new branch 'main'\n"
     ]
    }
   ],
   "source": [
    "%%bash\n",
    "cd package-root\n",
    "git checkout -b main"
   ]
  },
  {
   "cell_type": "markdown",
   "id": "e8fdda3c-5177-4763-ace0-2b88fe537bf1",
   "metadata": {},
   "source": [
    "Now, we can add files. There are some files we want to ignore. For example, .ipynb_checkpoints does not need to be under version control, and there is a `__pycache__` we don't need in the repository. Let us set up a .gitignore file. This goes in the package-root directory. I do it here with shell commands, but you can also open an editor and write it directly. Now, running `git status` should not show those files.\n",
    "\n",
    "We use > to redirect output into a file. This will overwrite the file each time you use it. To append, we use >>.\n",
    "\n"
   ]
  },
  {
   "cell_type": "code",
   "execution_count": 16,
   "id": "55d44ad0-fa92-4508-9fb7-92b770227283",
   "metadata": {},
   "outputs": [
    {
     "name": "stdout",
     "output_type": "stream",
     "text": [
      "Writing package-root/.gitignore\n"
     ]
    }
   ],
   "source": [
    "%%writefile package-root/.gitignore\n",
    "__pycache__\n",
    ".ipynb_checkpoints"
   ]
  },
  {
   "cell_type": "code",
   "execution_count": 17,
   "id": "ab8ba25e-f2ab-4b7f-81d5-e7256520cd63",
   "metadata": {},
   "outputs": [
    {
     "name": "stdout",
     "output_type": "stream",
     "text": [
      "On branch main\n",
      "\n",
      "No commits yet\n",
      "\n",
      "Untracked files:\n",
      "  (use \"git add <file>...\" to include in what will be committed)\n",
      "\t.gitignore\n",
      "\tLICENSE\n",
      "\tREADME.md\n",
      "\tsetup.py\n",
      "\ttestpack/\n",
      "\n",
      "nothing added to commit but untracked files present (use \"git add\" to track)\n"
     ]
    }
   ],
   "source": [
    "%%bash\n",
    "cd package-root\n",
    "git status"
   ]
  },
  {
   "cell_type": "markdown",
   "id": "85bcf328-113f-4a68-bd77-8347fceaefcc",
   "metadata": {},
   "source": [
    "The next step is to add and commit the files. Since we have set up the .gitignore file, we will take a shortcut this time, and add everything. Then, we commit the files.\n",
    "\n",
    "    git add *\n",
    "    git commit -m \"First commit\"\n",
    "\n"
   ]
  },
  {
   "cell_type": "code",
   "execution_count": 18,
   "id": "0e76914c-cb28-4246-967b-8d682303e63f",
   "metadata": {},
   "outputs": [
    {
     "name": "stdout",
     "output_type": "stream",
     "text": [
      "On branch main\n",
      "\n",
      "No commits yet\n",
      "\n",
      "Changes to be committed:\n",
      "  (use \"git rm --cached <file>...\" to unstage)\n",
      "\tnew file:   LICENSE\n",
      "\tnew file:   README.md\n",
      "\tnew file:   setup.py\n",
      "\tnew file:   testpack/__init__.py\n",
      "\n",
      "Untracked files:\n",
      "  (use \"git add <file>...\" to include in what will be committed)\n",
      "\t.gitignore\n",
      "\n"
     ]
    }
   ],
   "source": [
    "%%bash\n",
    "cd package-root\n",
    "git add *\n",
    "git status"
   ]
  },
  {
   "cell_type": "code",
   "execution_count": 19,
   "id": "42e1e951-0763-45b9-baa3-d666b22436fd",
   "metadata": {},
   "outputs": [
    {
     "name": "stdout",
     "output_type": "stream",
     "text": [
      "[main (root-commit) 33bfc38] First commit\n",
      " 4 files changed, 29 insertions(+)\n",
      " create mode 100644 LICENSE\n",
      " create mode 100644 README.md\n",
      " create mode 100644 setup.py\n",
      " create mode 100644 testpack/__init__.py\n",
      "On branch main\n",
      "Untracked files:\n",
      "  (use \"git add <file>...\" to include in what will be committed)\n",
      "\t.gitignore\n",
      "\n",
      "nothing added to commit but untracked files present (use \"git add\" to track)\n"
     ]
    }
   ],
   "source": [
    "%%bash\n",
    "cd package-root\n",
    "git commit -m \"First commit\"\n",
    "git status"
   ]
  },
  {
   "cell_type": "code",
   "execution_count": 23,
   "id": "30aadca9-9348-421b-a68f-a3f6f1056814",
   "metadata": {},
   "outputs": [
    {
     "name": "stdout",
     "output_type": "stream",
     "text": [
      "03-python-packaging.ipynb\n",
      "\n",
      "package-root:\n",
      "LICENSE  README.md  setup.py  testpack\n"
     ]
    }
   ],
   "source": [
    "! ls * "
   ]
  },
  {
   "cell_type": "code",
   "execution_count": 24,
   "id": "e1935d35-89d5-4b2f-bf67-835667022bf8",
   "metadata": {},
   "outputs": [
    {
     "name": "stdout",
     "output_type": "stream",
     "text": [
      "On branch main\n",
      "Untracked files:\n",
      "  (use \"git add <file>...\" to include in what will be committed)\n",
      "\t.gitignore\n",
      "\n",
      "nothing added to commit but untracked files present (use \"git add\" to track)\n"
     ]
    }
   ],
   "source": [
    "%%bash\n",
    "cd package-root\n",
    "git status"
   ]
  },
  {
   "cell_type": "markdown",
   "id": "d3e56276-778b-40b9-8179-1e06d9cdb1a8",
   "metadata": {},
   "source": [
    "Note that the wild-card did not match the .gitignore file. We have to add and commit that separately.\n",
    "\n"
   ]
  },
  {
   "cell_type": "code",
   "execution_count": 25,
   "id": "3e5db437-c9e0-43ea-8f05-59fd82475369",
   "metadata": {},
   "outputs": [
    {
     "name": "stdout",
     "output_type": "stream",
     "text": [
      "[main d60276d] Add the .gitignore file\n",
      " 1 file changed, 2 insertions(+)\n",
      " create mode 100644 .gitignore\n",
      "On branch main\n",
      "nothing to commit, working tree clean\n"
     ]
    }
   ],
   "source": [
    "%%bash\n",
    "cd package-root\n",
    "git add .gitignore\n",
    "git commit -m \"Add the .gitignore file\"\n",
    "git status"
   ]
  },
  {
   "cell_type": "markdown",
   "id": "f4806159-77e6-4e99-a8e5-9cf62f8a0971",
   "metadata": {},
   "source": [
    "Now we have a \"clean\" repository. All files are added and committed, and `git status` tells us everything is good. We have made two commits so far.\n",
    "\n"
   ]
  },
  {
   "cell_type": "code",
   "execution_count": 26,
   "id": "bad5455f-24f4-491e-acb6-e8ddadbf922f",
   "metadata": {},
   "outputs": [
    {
     "name": "stdout",
     "output_type": "stream",
     "text": [
      "commit d60276d67d05e3b2dd552fbaa14c281e065c951d\n",
      "Author: John Kitchin <johndoe@example.com>\n",
      "Date:   Wed Mar 20 18:48:57 2024 +0000\n",
      "\n",
      "    Add the .gitignore file\n",
      "\n",
      "commit 33bfc388619ea6d316265bdf7f4ca2511de7aedb\n",
      "Author: John Kitchin <johndoe@example.com>\n",
      "Date:   Wed Mar 20 18:47:28 2024 +0000\n",
      "\n",
      "    First commit\n"
     ]
    }
   ],
   "source": [
    "%%bash\n",
    "cd package-root\n",
    "git log"
   ]
  },
  {
   "cell_type": "markdown",
   "id": "e7da3256-f1f3-42b8-9d81-41d9e9e0d761",
   "metadata": {},
   "source": [
    "In the log, you can see the two commits, and each one is identified by a long hash, e.g. commit 33a50e04b75c90b34a274aea287dd1e6c6c045de. This is a unique cryptographic hash of the content that we committed, and we can use it to see what happened or changed, to revert changes, etc. We will return to that later. Now, we are ready to safely make some changes to our package. By safely, I mean we will be able to undo changes, revert changes, see what changes were made, etc.\n",
    "\n"
   ]
  },
  {
   "cell_type": "code",
   "execution_count": 28,
   "id": "6c456295-e239-4b5a-9b82-de906c0d7bad",
   "metadata": {},
   "outputs": [
    {
     "name": "stdout",
     "output_type": "stream",
     "text": [
      "Defaulting to user installation because normal site-packages is not writeable\n",
      "Obtaining file:///home/jupyter-jkitchin%40andrew.cm-11dd7/s24-06643/sse/03-python-packaging/package-root\n",
      "  Preparing metadata (setup.py): started\n",
      "  Preparing metadata (setup.py): finished with status 'done'\n",
      "Installing collected packages: testpack\n",
      "  Running setup.py develop for testpack\n",
      "Successfully installed testpack-0.0.1\n"
     ]
    }
   ],
   "source": [
    "%%bash\n",
    "cd package-root\n",
    "pip install -e ."
   ]
  },
  {
   "cell_type": "code",
   "execution_count": 4,
   "id": "638d286b-0d1d-4019-b6fc-cab61e9fa5bf",
   "metadata": {},
   "outputs": [
    {
     "name": "stdout",
     "output_type": "stream",
     "text": [
      "Loading testpack! Version 1\n"
     ]
    }
   ],
   "source": [
    "import testpack"
   ]
  },
  {
   "cell_type": "code",
   "execution_count": 3,
   "id": "beab6e58-d2ab-4429-b015-12eb0fb13d56",
   "metadata": {},
   "outputs": [
    {
     "name": "stderr",
     "output_type": "stream",
     "text": [
      "Updated 1 path from the index\n"
     ]
    },
    {
     "name": "stdout",
     "output_type": "stream",
     "text": [
      "On branch main\n",
      "Untracked files:\n",
      "  (use \"git add <file>...\" to include in what will be committed)\n",
      "\ttestpack.egg-info/\n",
      "\n",
      "nothing added to commit but untracked files present (use \"git add\" to track)\n"
     ]
    }
   ],
   "source": [
    "%%bash\n",
    "cd package-root\n",
    "git checkout testpack/__init__.py\n",
    "git status"
   ]
  },
  {
   "cell_type": "markdown",
   "id": "f25873ee-a7bd-4c6a-90f4-dcc9cb1c956e",
   "metadata": {},
   "source": [
    "# First package modification\n",
    "\n",
    "There are lots of ways to use git. Here we explore the idea of using a `feature branch`. We have a working package, and we want to add a new feature in a way that minimizes the risk of messing up the current state. The strategy is that we make a new branch, do all our work there, and when we are satisfied with it, we merge it back on to main.\n",
    "\n",
    "Let's see what we have so far. Our commit history is linear, and the current position is at the HEAD commit on `main`.\n",
    "\n"
   ]
  },
  {
   "cell_type": "code",
   "execution_count": 5,
   "id": "dab2cbc3-45a5-4048-83d5-41a77b739139",
   "metadata": {},
   "outputs": [
    {
     "name": "stdout",
     "output_type": "stream",
     "text": [
      "* \u001b[33md60276d\u001b[m\u001b[33m (\u001b[m\u001b[1;36mHEAD -> \u001b[m\u001b[1;32mmain\u001b[m\u001b[33m)\u001b[m Add the .gitignore file\n",
      "* \u001b[33m33bfc38\u001b[m First commit\n"
     ]
    }
   ],
   "source": [
    "! cd package-root; git log --graph --oneline"
   ]
  },
  {
   "cell_type": "markdown",
   "id": "bce68617-bc21-41f4-9d8e-c213a280f098",
   "metadata": {},
   "source": [
    "## A feature branch\n",
    "We are going to checkout a new branch, let's call it `feature`.\n",
    "\n"
   ]
  },
  {
   "cell_type": "code",
   "execution_count": 7,
   "id": "a8327b18-67e2-4add-866c-4d42dc1d4598",
   "metadata": {},
   "outputs": [
    {
     "name": "stdout",
     "output_type": "stream",
     "text": [
      "/home/jupyter-jkitchin@andrew.cm-11dd7/s24-06643/sse/03-python-packaging\n"
     ]
    }
   ],
   "source": [
    "! pwd"
   ]
  },
  {
   "cell_type": "code",
   "execution_count": 6,
   "id": "f984d539-0e03-4d00-8273-b92d2f597134",
   "metadata": {},
   "outputs": [
    {
     "name": "stderr",
     "output_type": "stream",
     "text": [
      "Switched to a new branch 'feature'\n"
     ]
    },
    {
     "name": "stdout",
     "output_type": "stream",
     "text": [
      "On branch feature\n",
      "Untracked files:\n",
      "  (use \"git add <file>...\" to include in what will be committed)\n",
      "\ttestpack.egg-info/\n",
      "\n",
      "nothing added to commit but untracked files present (use \"git add\" to track)\n",
      "* d60276d Add the .gitignore file\n",
      "* 33bfc38 First commit\n"
     ]
    }
   ],
   "source": [
    "%%bash\n",
    "cd package-root\n",
    "git checkout -b feature\n",
    "git status\n",
    "git log --graph --oneline"
   ]
  },
  {
   "cell_type": "markdown",
   "id": "ad3f1e92-4fa4-465e-8978-e15ecf2ced97",
   "metadata": {},
   "source": [
    "Now we can add some new features. Let's add a new function to the `__init__.py` file:\n",
    "\n",
    "```"
   ]
  },
  {
   "cell_type": "code",
   "execution_count": 8,
   "id": "c7c990cf-aaf4-4e07-b3bd-ffc25a910578",
   "metadata": {},
   "outputs": [
    {
     "name": "stdout",
     "output_type": "stream",
     "text": [
      "Appending to package-root/testpack/__init__.py\n"
     ]
    }
   ],
   "source": [
    "%%writefile -a package-root/testpack/__init__.py\n",
    "\n",
    "def goodbye(name):\n",
    "    return f'Goodbye {name}'"
   ]
  },
  {
   "cell_type": "markdown",
   "id": "246baa94-d81c-4fd3-9aa4-1804b57bbe9b",
   "metadata": {},
   "source": [
    "After you add that, save the file, and check your git status:"
   ]
  },
  {
   "cell_type": "code",
   "execution_count": 11,
   "id": "336be33b-9cd8-4b89-b657-fe80637fe1ba",
   "metadata": {},
   "outputs": [
    {
     "name": "stdout",
     "output_type": "stream",
     "text": [
      "On branch feature\n",
      "Changes not staged for commit:\n",
      "  (use \"git add <file>...\" to update what will be committed)\n",
      "  (use \"git restore <file>...\" to discard changes in working directory)\n",
      "\tmodified:   .gitignore\n",
      "\tmodified:   testpack/__init__.py\n",
      "\n",
      "no changes added to commit (use \"git add\" and/or \"git commit -a\")\n"
     ]
    }
   ],
   "source": [
    "%%bash\n",
    "cd package-root\n",
    "git status"
   ]
  },
  {
   "cell_type": "markdown",
   "id": "4558283e-a106-46e9-a2c1-3c8b27cc43be",
   "metadata": {},
   "source": [
    "This is telling us two things:\n",
    "1. We are on the feature branch\n",
    "2. There is a modified file.\n",
    "\n",
    "Now, let's commit this change.\n",
    "\n"
   ]
  },
  {
   "cell_type": "code",
   "execution_count": 10,
   "id": "87226542-e16c-43d2-8911-37519a2066b7",
   "metadata": {},
   "outputs": [
    {
     "name": "stdout",
     "output_type": "stream",
     "text": [
      "Appending to package-root/.gitignore\n"
     ]
    }
   ],
   "source": [
    "%%writefile -a package-root/.gitignore\n",
    "*.egg-info"
   ]
  },
  {
   "cell_type": "code",
   "execution_count": 12,
   "id": "f7e0555e-01f3-4aaa-9934-6e0acc983d7a",
   "metadata": {},
   "outputs": [
    {
     "name": "stdout",
     "output_type": "stream",
     "text": [
      "[feature 79cf89b] Add a new function\n",
      " 1 file changed, 3 insertions(+)\n",
      "[feature db1b581] ignore the egg-info\n",
      " 1 file changed, 1 insertion(+)\n",
      "* db1b581 ignore the egg-info\n",
      "* 79cf89b Add a new function\n",
      "* d60276d Add the .gitignore file\n",
      "* 33bfc38 First commit\n"
     ]
    }
   ],
   "source": [
    "%%bash\n",
    "cd package-root\n",
    "git commit testpack/__init__.py -m \"Add a new function\"\n",
    "git commit .gitignore -m \"ignore the egg-info\"\n",
    "git log --graph --oneline"
   ]
  },
  {
   "cell_type": "markdown",
   "id": "220f27a6-c835-49ce-9422-4b4e0514a310",
   "metadata": {},
   "source": [
    "## Back and forth on branches\n",
    "\n",
    "Before we go further, let's see that we can go back to the main branch where that addition does not exist, and then come back. First, we see what is in the file right now.\n",
    "\n"
   ]
  },
  {
   "cell_type": "code",
   "execution_count": 13,
   "id": "0ffe09ee-80dd-452a-91d4-42f39896c35b",
   "metadata": {},
   "outputs": [
    {
     "name": "stdout",
     "output_type": "stream",
     "text": [
      "On branch feature\n",
      "nothing to commit, working tree clean\n",
      "print('Loading testpack! Version 1')\n",
      "\n",
      "def hello(name):\n",
      "    return f'Hello {name}'\n",
      "\n",
      "def goodbye(name):\n",
      "    return f'Goodbye {name}'\n"
     ]
    }
   ],
   "source": [
    "%%bash\n",
    "cd package-root\n",
    "git status\n",
    "cat testpack/__init__.py"
   ]
  },
  {
   "cell_type": "markdown",
   "id": "9de084a5-1cf0-446a-978d-120e09df5dfb",
   "metadata": {},
   "source": [
    "Now, we checkout the main branch. The change we made does not exist there.\n",
    "\n"
   ]
  },
  {
   "cell_type": "code",
   "execution_count": 15,
   "id": "042f0bff-bbc0-4f72-a144-7eba9f71829c",
   "metadata": {},
   "outputs": [
    {
     "name": "stderr",
     "output_type": "stream",
     "text": [
      "Already on 'main'\n"
     ]
    },
    {
     "name": "stdout",
     "output_type": "stream",
     "text": [
      "On branch main\n",
      "Untracked files:\n",
      "  (use \"git add <file>...\" to include in what will be committed)\n",
      "\ttestpack.egg-info/\n",
      "\n",
      "nothing added to commit but untracked files present (use \"git add\" to track)\n",
      "print('Loading testpack! Version 1')\n",
      "\n",
      "def hello(name):\n",
      "    return f'Hello {name}'\n",
      "__pycache__\n",
      ".ipynb_checkpoints\n"
     ]
    }
   ],
   "source": [
    "%%bash\n",
    "cd package-root\n",
    "git checkout main\n",
    "git status\n",
    "cat testpack/__init__.py\n",
    "cat .gitignore"
   ]
  },
  {
   "cell_type": "markdown",
   "id": "5632ac1a-f978-4c5e-af42-87dc5ca3f76b",
   "metadata": {},
   "source": [
    "And now back to our feature branch. Now you see the new feature is back.\n",
    "\n"
   ]
  },
  {
   "cell_type": "code",
   "execution_count": 16,
   "id": "be11adb3-a266-4f39-8cbe-52da0daefeab",
   "metadata": {},
   "outputs": [
    {
     "name": "stderr",
     "output_type": "stream",
     "text": [
      "Switched to branch 'feature'\n"
     ]
    },
    {
     "name": "stdout",
     "output_type": "stream",
     "text": [
      "On branch feature\n",
      "nothing to commit, working tree clean\n",
      "print('Loading testpack! Version 1')\n",
      "\n",
      "def hello(name):\n",
      "    return f'Hello {name}'\n",
      "\n",
      "def goodbye(name):\n",
      "    return f'Goodbye {name}'\n",
      "__pycache__\n",
      ".ipynb_checkpoints\n",
      "*.egg-info\n"
     ]
    }
   ],
   "source": [
    "%%bash\n",
    "cd package-root\n",
    "git checkout feature\n",
    "git status\n",
    "cat testpack/__init__.py\n",
    "cat .gitignore"
   ]
  },
  {
   "cell_type": "code",
   "execution_count": 18,
   "id": "8a8dfa27-03d5-45ce-b5ad-ae0c4ba8db96",
   "metadata": {},
   "outputs": [
    {
     "name": "stdout",
     "output_type": "stream",
     "text": [
      "* \u001b[33mdb1b581\u001b[m\u001b[33m (\u001b[m\u001b[1;36mHEAD -> \u001b[m\u001b[1;32mfeature\u001b[m\u001b[33m)\u001b[m ignore the egg-info\n",
      "* \u001b[33m79cf89b\u001b[m Add a new function\n",
      "* \u001b[33md60276d\u001b[m\u001b[33m (\u001b[m\u001b[1;32mmain\u001b[m\u001b[33m)\u001b[m Add the .gitignore file\n",
      "* \u001b[33m33bfc38\u001b[m First commit\n"
     ]
    }
   ],
   "source": [
    "! cd package-root; git log --graph --oneline"
   ]
  },
  {
   "cell_type": "markdown",
   "id": "c2eac30b-17b9-420a-912f-2ffa161cd842",
   "metadata": {},
   "source": [
    "## Add a commit on main\n",
    "\n",
    "git allows us to have many branches where we can add features, fix bugs, try new implementations, etc. You can make changes to all the branches simultaneously. For example, let's go back to the main branch to add some detail to the README.\n",
    "\n"
   ]
  },
  {
   "cell_type": "code",
   "execution_count": 19,
   "id": "efba58bb-a4e7-4903-9898-9d03110eaf45",
   "metadata": {},
   "outputs": [
    {
     "name": "stderr",
     "output_type": "stream",
     "text": [
      "Switched to branch 'main'\n"
     ]
    },
    {
     "name": "stdout",
     "output_type": "stream",
     "text": [
      "[main 2addc8c] document the function in the package\n",
      " 1 file changed, 3 insertions(+)\n",
      "* 2addc8c document the function in the package\n",
      "* d60276d Add the .gitignore file\n",
      "* 33bfc38 First commit\n"
     ]
    }
   ],
   "source": [
    "%%bash\n",
    "cd package-root\n",
    "git checkout main\n",
    "echo -e \"\\n\\nThere is one function: testpack.hello.\" >> README.md\n",
    "git commit README.md -m \"document the function in the package\"\n",
    "git log --graph --oneline"
   ]
  },
  {
   "cell_type": "markdown",
   "id": "3b63147e-9dc7-4929-b66b-22450f374ca4",
   "metadata": {},
   "source": [
    "If we switch back to our feature branch, you will see that this new change does not exist.\n",
    "\n"
   ]
  },
  {
   "cell_type": "code",
   "execution_count": 24,
   "id": "94c4306d-0581-45f7-896a-d61f2ebc6382",
   "metadata": {},
   "outputs": [
    {
     "name": "stderr",
     "output_type": "stream",
     "text": [
      "Switched to branch 'feature'\n"
     ]
    },
    {
     "name": "stdout",
     "output_type": "stream",
     "text": [
      "Example package\n",
      "===============\n",
      "\n",
      "There is one function: testpack.hello.\n",
      "* db1b581 ignore the egg-info\n",
      "* 79cf89b Add a new function\n",
      "* d60276d Add the .gitignore file\n",
      "* 33bfc38 First commit\n"
     ]
    }
   ],
   "source": [
    "%%bash\n",
    "cd package-root\n",
    "git checkout feature\n",
    "cat README.md\n",
    "git log --graph --oneline"
   ]
  },
  {
   "cell_type": "code",
   "execution_count": 26,
   "id": "42cfe2af-18b0-414f-8cf2-25166b9ad26b",
   "metadata": {},
   "outputs": [
    {
     "name": "stderr",
     "output_type": "stream",
     "text": [
      "Already on 'main'\n"
     ]
    },
    {
     "name": "stdout",
     "output_type": "stream",
     "text": [
      "Example package\n",
      "===============\n",
      "\n",
      "There is one function: testpack.hello.\n",
      "\n",
      "\n",
      "There is one function: testpack.hello.\n",
      "* 2addc8c document the function in the package\n",
      "* d60276d Add the .gitignore file\n",
      "* 33bfc38 First commit\n"
     ]
    }
   ],
   "source": [
    "%%bash\n",
    "cd package-root\n",
    "git checkout main\n",
    "cat README.md\n",
    " git log --graph --oneline"
   ]
  },
  {
   "cell_type": "markdown",
   "id": "2a2d3b2a-d18d-4dd1-929e-a5aa3e7e902a",
   "metadata": {},
   "source": [
    "## merge main onto feature branch\n",
    "\n",
    "Before we continue, we should merge the new change in main into our feature branch. \n",
    "\n"
   ]
  },
  {
   "cell_type": "code",
   "execution_count": 27,
   "id": "b391a60b-dcb5-47c6-87d6-8da243b95668",
   "metadata": {},
   "outputs": [
    {
     "name": "stderr",
     "output_type": "stream",
     "text": [
      "Switched to branch 'feature'\n"
     ]
    },
    {
     "name": "stdout",
     "output_type": "stream",
     "text": [
      "Merge made by the 'recursive' strategy.\n",
      " README.md | 3 +++\n",
      " 1 file changed, 3 insertions(+)\n",
      "*   c8c84e8 Merge branch 'main' into feature\n",
      "|\\  \n",
      "| * 2addc8c document the function in the package\n",
      "* | db1b581 ignore the egg-info\n",
      "* | 79cf89b Add a new function\n",
      "|/  \n",
      "* d60276d Add the .gitignore file\n",
      "* 33bfc38 First commit\n"
     ]
    }
   ],
   "source": [
    "%%bash\n",
    "cd package-root\n",
    "git checkout feature\n",
    "git merge main\n",
    "git log --graph --oneline"
   ]
  },
  {
   "cell_type": "markdown",
   "id": "3541b849-f8df-422e-80eb-88d9dd76ffd2",
   "metadata": {},
   "source": [
    "Now, we can finish up our feature branch. Let's add some documentation to the README.md. Add some text about the new function you added, then commit the change.\n",
    "\n"
   ]
  },
  {
   "cell_type": "code",
   "execution_count": 28,
   "id": "4ba68a5d-5409-481d-a047-87259a0d3582",
   "metadata": {},
   "outputs": [
    {
     "name": "stdout",
     "output_type": "stream",
     "text": [
      "On branch feature\n",
      "nothing to commit, working tree clean\n"
     ]
    }
   ],
   "source": [
    "%%bash\n",
    "cd package-root\n",
    "git status"
   ]
  },
  {
   "cell_type": "markdown",
   "id": "f53478fa-8b79-4d0b-8c5a-8d5a415c748e",
   "metadata": {},
   "source": [
    "Finally, when satisfied with your feature branch, we go back to our main branch, and merge the feature into it. If you are done with the branch, it is a good practice to delete it. \n",
    "\n"
   ]
  },
  {
   "cell_type": "code",
   "execution_count": 29,
   "id": "932ae981-f759-4a51-aa81-e50f1235e2a3",
   "metadata": {},
   "outputs": [
    {
     "name": "stderr",
     "output_type": "stream",
     "text": [
      "Switched to branch 'main'\n"
     ]
    },
    {
     "name": "stdout",
     "output_type": "stream",
     "text": [
      "Updating 2addc8c..aaa0dc0\n",
      "Fast-forward\n",
      " .gitignore           | 1 +\n",
      " README.md            | 2 +-\n",
      " testpack/__init__.py | 3 +++\n",
      " 3 files changed, 5 insertions(+), 1 deletion(-)\n",
      "Deleted branch feature (was aaa0dc0).\n",
      "* aaa0dc0 fixed documentation\n",
      "*   c8c84e8 Merge branch 'main' into feature\n",
      "|\\  \n",
      "| * 2addc8c document the function in the package\n",
      "* | db1b581 ignore the egg-info\n",
      "* | 79cf89b Add a new function\n",
      "|/  \n",
      "* d60276d Add the .gitignore file\n",
      "* 33bfc38 First commit\n"
     ]
    }
   ],
   "source": [
    "%%bash\n",
    "cd package-root\n",
    "git checkout main\n",
    "git merge feature\n",
    "git branch --delete feature\n",
    "git log --graph --oneline"
   ]
  },
  {
   "cell_type": "markdown",
   "id": "7c67500f-49cc-4985-a0e3-f985ef2980a4",
   "metadata": {},
   "source": [
    "Let's take some time to review what this git log shows. You can see there was some branching, with commits on different branches. You can see where the main branch was merged into the feature branch, and at the end where the feature branch was merged back into main.\n",
    "\n"
   ]
  },
  {
   "cell_type": "code",
   "execution_count": 30,
   "id": "197bc391-88b0-40cc-a431-6bd45bfea764",
   "metadata": {},
   "outputs": [
    {
     "name": "stdout",
     "output_type": "stream",
     "text": [
      "* \u001b[32mmain\u001b[m\n"
     ]
    }
   ],
   "source": [
    "# Check we don't have the branch anymore\n",
    "! cd package-root; git branch -a"
   ]
  },
  {
   "cell_type": "markdown",
   "id": "705752e9-6888-4dcb-9192-16dcbef3b262",
   "metadata": {},
   "source": [
    "# Try the new python function\n",
    "\n",
    "We might naively just try it, but it does not work.\n",
    "\n"
   ]
  },
  {
   "cell_type": "code",
   "execution_count": 31,
   "id": "585cd8fa-73c4-4485-8e1a-eb2084de3e27",
   "metadata": {},
   "outputs": [
    {
     "ename": "AttributeError",
     "evalue": "module 'testpack' has no attribute 'goodbye'",
     "output_type": "error",
     "traceback": [
      "\u001b[0;31m---------------------------------------------------------------------------\u001b[0m",
      "\u001b[0;31mAttributeError\u001b[0m                            Traceback (most recent call last)",
      "Input \u001b[0;32mIn [31]\u001b[0m, in \u001b[0;36m<cell line: 1>\u001b[0;34m()\u001b[0m\n\u001b[0;32m----> 1\u001b[0m \u001b[43mtestpack\u001b[49m\u001b[38;5;241;43m.\u001b[39;49m\u001b[43mgoodbye\u001b[49m(\u001b[38;5;124m'\u001b[39m\u001b[38;5;124mJohn\u001b[39m\u001b[38;5;124m'\u001b[39m)\n",
      "\u001b[0;31mAttributeError\u001b[0m: module 'testpack' has no attribute 'goodbye'"
     ]
    }
   ],
   "source": [
    "testpack.goodbye('John')"
   ]
  },
  {
   "cell_type": "markdown",
   "id": "8a36d5b8-b888-4b5b-8ffa-292b5a6abf40",
   "metadata": {},
   "source": [
    "It doesn't work though. It is necessary to reload this package (or you have to restart the kernel). This is a limitation of how Python (and in particular the persistent environment in Jupyter lab) loads packages. We simply have to reload it like this.\n",
    "\n"
   ]
  },
  {
   "cell_type": "code",
   "execution_count": 32,
   "id": "ece5b3a5-f36a-43c6-8985-7ff89eaf7600",
   "metadata": {},
   "outputs": [
    {
     "name": "stdout",
     "output_type": "stream",
     "text": [
      "Loading testpack! Version 1\n"
     ]
    },
    {
     "data": {
      "text/plain": [
       "'Goodbye John'"
      ]
     },
     "execution_count": 32,
     "metadata": {},
     "output_type": "execute_result"
    }
   ],
   "source": [
    "import importlib\n",
    "importlib.reload(testpack)\n",
    "testpack.goodbye('John')"
   ]
  },
  {
   "cell_type": "code",
   "execution_count": 34,
   "id": "e2609835-3799-48a8-9f44-066bee328bcd",
   "metadata": {},
   "outputs": [
    {
     "name": "stdout",
     "output_type": "stream",
     "text": [
      "* \u001b[33mcommit aaa0dc051abe98bb4959b794f7fe6dc84b396f5c\u001b[m\u001b[33m (\u001b[m\u001b[1;36mHEAD -> \u001b[m\u001b[1;32mmain\u001b[m\u001b[33m)\u001b[m\n",
      "\u001b[31m|\u001b[m Author: John Kitchin <johndoe@example.com>\n",
      "\u001b[31m|\u001b[m Date:   Wed Mar 20 19:17:57 2024 +0000\n",
      "\u001b[31m|\u001b[m \n",
      "\u001b[31m|\u001b[m     fixed documentation\n",
      "\u001b[31m|\u001b[m   \n",
      "*   \u001b[33mcommit c8c84e88eeb0ef3b34e47096441365a16779b4cf\u001b[m\n",
      "\u001b[32m|\u001b[m\u001b[33m\\\u001b[m  Merge: db1b581 2addc8c\n",
      "\u001b[32m|\u001b[m \u001b[33m|\u001b[m Author: John Kitchin <johndoe@example.com>\n",
      "\u001b[32m|\u001b[m \u001b[33m|\u001b[m Date:   Wed Mar 20 19:15:34 2024 +0000\n",
      "\u001b[32m|\u001b[m \u001b[33m|\u001b[m \n",
      "\u001b[32m|\u001b[m \u001b[33m|\u001b[m     Merge branch 'main' into feature\n",
      "\u001b[32m|\u001b[m \u001b[33m|\u001b[m \n",
      "\u001b[32m|\u001b[m * \u001b[33mcommit 2addc8cb2991f792b49aee778c036aacda7a2d7e\u001b[m\n",
      "\u001b[32m|\u001b[m \u001b[33m|\u001b[m Author: John Kitchin <johndoe@example.com>\n",
      "\u001b[32m|\u001b[m \u001b[33m|\u001b[m Date:   Wed Mar 20 19:13:02 2024 +0000\n",
      "\u001b[32m|\u001b[m \u001b[33m|\u001b[m \n",
      "\u001b[32m|\u001b[m \u001b[33m|\u001b[m     document the function in the package\n",
      "\u001b[32m|\u001b[m \u001b[33m|\u001b[m \n",
      "* \u001b[33m|\u001b[m \u001b[33mcommit db1b58107ad04c57d9edddaf76cfa02cc14089dc\u001b[m\n",
      "\u001b[33m|\u001b[m \u001b[33m|\u001b[m Author: John Kitchin <johndoe@example.com>\n",
      "\u001b[33m|\u001b[m \u001b[33m|\u001b[m Date:   Wed Mar 20 19:01:39 2024 +0000\n",
      "\u001b[33m|\u001b[m \u001b[33m|\u001b[m \n",
      "\u001b[33m|\u001b[m \u001b[33m|\u001b[m     ignore the egg-info\n",
      "\u001b[33m|\u001b[m \u001b[33m|\u001b[m \n",
      "* \u001b[33m|\u001b[m \u001b[33mcommit 79cf89bc5eba6a128af943ee653d12af831ff17a\u001b[m\n",
      "\u001b[33m|\u001b[m\u001b[33m/\u001b[m  Author: John Kitchin <johndoe@example.com>\n",
      "\u001b[33m|\u001b[m   Date:   Wed Mar 20 19:01:39 2024 +0000\n",
      "\u001b[33m|\u001b[m   \n",
      "\u001b[33m|\u001b[m       Add a new function\n",
      "\u001b[33m|\u001b[m \n",
      "* \u001b[33mcommit d60276d67d05e3b2dd552fbaa14c281e065c951d\u001b[m\n",
      "\u001b[33m|\u001b[m Author: John Kitchin <johndoe@example.com>\n",
      "\u001b[33m|\u001b[m Date:   Wed Mar 20 18:48:57 2024 +0000\n",
      "\u001b[33m|\u001b[m \n",
      "\u001b[33m|\u001b[m     Add the .gitignore file\n",
      "\u001b[33m|\u001b[m \n",
      "* \u001b[33mcommit 33bfc388619ea6d316265bdf7f4ca2511de7aedb\u001b[m\n",
      "  Author: John Kitchin <johndoe@example.com>\n",
      "  Date:   Wed Mar 20 18:47:28 2024 +0000\n",
      "  \n",
      "      First commit\n"
     ]
    }
   ],
   "source": [
    "! cd package-root; git log --graph"
   ]
  },
  {
   "cell_type": "code",
   "execution_count": 40,
   "id": "f0923f48-64e3-4c89-935d-c0b9a08d2245",
   "metadata": {},
   "outputs": [
    {
     "name": "stdout",
     "output_type": "stream",
     "text": [
      "__pycache__\n",
      ".ipynb_checkpoints\n"
     ]
    }
   ],
   "source": [
    "! cd package-root; git show d60276d6:.gitignore"
   ]
  },
  {
   "cell_type": "markdown",
   "id": "34d5ec7e-b3ce-4227-aa1c-c99c7593ec3d",
   "metadata": {},
   "source": [
    "# Summary\n",
    "\n",
    "We learned how to:\n",
    "\n",
    "1. initialize a git repo\n",
    "2. Add files and commit them to the repo\n",
    "3. edit files and commit changes.\n",
    "4. Create a feature branch\n",
    "5. make changes on the feature branch\n",
    "6. switch between branches\n",
    "7. merge changes in branches\n",
    "8. delete a feature branch.\n",
    "9. Look at the commit log\n",
    "\n",
    "git is an iceberg. You can learn a lot more from the [Pro Git book](https://git-scm.com/book/en/v2) and the [reference manual](https://git-scm.com/docs).\n",
    "\n",
    "You should also read [https://third-bit.com/py-rse/git-advanced.html](https://third-bit.com/py-rse/git-advanced.html).\n",
    "\n",
    "Today we learned about using branches to try making a change. The nice thing about branches is if you don't like the change, you can simply delete the branch, or go back to the main branch. If you do like it, then you just merge it in, and get on with your work.\n",
    "\n",
    "There is still quite a bit to learn about git. We will get in to some of these things next time, including dealing with merge conflicts, \n",
    "\n"
   ]
  }
 ],
 "metadata": {
  "kernelspec": {
   "display_name": "Python 3",
   "language": "python",
   "name": "python3"
  },
  "language_info": {
   "codemirror_mode": {
    "name": "ipython",
    "version": 3
   },
   "file_extension": ".py",
   "mimetype": "text/x-python",
   "name": "python",
   "nbconvert_exporter": "python",
   "pygments_lexer": "ipython3",
   "version": "3.9.7"
  },
  "widgets": {
   "application/vnd.jupyter.widget-state+json": {
    "state": {},
    "version_major": 2,
    "version_minor": 0
   }
  }
 },
 "nbformat": 4,
 "nbformat_minor": 5
}
