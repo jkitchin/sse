{
 "cells": [
  {
   "cell_type": "markdown",
   "id": "277bda9f-cbeb-4669-8fbd-c38969399a49",
   "metadata": {},
   "source": [
    "# Wrapping up"
   ]
  },
  {
   "cell_type": "markdown",
   "id": "a1a428e0-5616-43ac-998b-17d1f09d7243",
   "metadata": {},
   "source": [
    "![image](./cmu-sse.png)\n",
    "\n"
   ]
  },
  {
   "cell_type": "markdown",
   "id": "d7fbff86-a369-430f-8d01-491962f5e8d7",
   "metadata": {},
   "source": [
    "# There are some dangerous git commands!\n",
    "\n",
    "git is usually used to make sure you never lose data/code in your work, but there are some scenarios where it is possible to lose code. \n",
    "\n",
    "`git clean -f` will delete any files not committed to your repository!\n",
    "\n",
    "`git reset --hard` will delete any changes you have made that are not committed yet.\n",
    "\n",
    "`git checkout <file>` will undo any changes to the file not committed yet.\n",
    "\n",
    "Some other commands can mess up things for you:\n",
    "\n",
    "`git push -f` will remove/modify history on remotes. This will be problematic for users when they go to pull as the histories will no longer be related.\n",
    "\n",
    "`rm -fr .git` will delete the git history.\n",
    "\n",
    "See [this StackOverflow](https://stackoverflow.com/questions/21048765/what-can-cause-data-loss-in-git) for more examples. \n",
    "\n",
    "In general, it is helpful to have backup plans to recover things. For example, in many of the examples above, the effects are local (until you push them), so in the worst case scenario, you simply re-clone the remote repo and start over.\n",
    "\n",
    "If you are unsure of what you are doing, before you run these commands, you can make a copy of the repo locally, so that you can restore from it if needed. This is pretty extreme, and would be a case where starting from scratch, or the remote-repo is simply too expensive, or not possible to consider.\n",
    "\n"
   ]
  },
  {
   "cell_type": "markdown",
   "id": "5af60d61-d5cf-47ed-90f0-23b4e46d7d7e",
   "metadata": {},
   "source": [
    "# So many opportunities remain for your OpenAlex package!\n",
    "\n",
    "There are other end-points that you can create classes for including Institutions, Authors, etc. \n",
    "\n",
    "You could envision different kinds of graphical representations of papers, e.g. network graphs showing how papers and authors are connected through citation and collaboration networks.\n",
    "\n",
    "You might envision some kind of automated report on an Institution or Author that summarizes papers, citations, collaborations, etc.\n",
    "\n",
    "## Many other similar APIs exist\n",
    "\n",
    "You could develop packages to search PubMed, CrossRef, or arXiv for example.\n",
    "\n",
    "## Bibtex / RIS utilities\n",
    "\n",
    "There is still a need for tools to merge, find duplicates, sort, convert, etc. for bibliography entries.\n",
    "\n"
   ]
  },
  {
   "cell_type": "markdown",
   "id": "d2d68c9a-2c46-44e2-b039-3f8199a65bd2",
   "metadata": {},
   "source": [
    "Wrapping up what we have learned, and didn't learn\n",
    "==================================================\n",
    "\n",
    "We covered a lot of ground in this mini, but this is only the beginning in software development. I took a pretty opinionated path to get you to writing a Python package. I did not get into more complex tools and packaging methods because I vastly prefer a simple \"pip install\" approach to Python packages. Anything more complex is simply too hard to remember. Our primary jobs are not software engineering most of the time. \n",
    "\n",
    "The reality is in my career there have rarely been software engineers available to solve problems for me. There are several obstacles to that:\n",
    "\n",
    "1. They are expensive\n",
    "2. They don't understand my problem\n",
    "3. It is slow to develop software and projects end before the software is done\n",
    "\n",
    "Practically, this means I have had to solve my problems and learn enough about software engineering to do it. That is not with consequence though; I am not as skilled as a professional software engineer. There are perennial [complaints of scientific software quality](https://www.sciencedaily.com/releases/2021/05/210525113715.htm). We should strive to do better, but that will always be balanced by other demands on our time. The problem is simply solved with time and money, both of which are short in supply.\n",
    "\n",
    "Learning to create software packages will help you understand how other software packages (and your own computer) work. This will lead to better utilization of these tools.\n",
    "\n",
    "We did not spend a lot of time on Python programming. That is a necessary, but insufficient skill for software engineering! I introduced *just enough* of it to get to our package. People make whole careers around just Python programming. That is not practical for most of you; you also need domain specific knowledge. There is always a balance to choose, and a different balance applies to different people and their jobs and goals.\n",
    "\n"
   ]
  },
  {
   "cell_type": "markdown",
   "id": "7227a9e8-f40a-438c-a4e8-ec0731857888",
   "metadata": {},
   "source": [
    "# Command-line utilities\n",
    "\n",
    "We started out with command line utilities. These are commands that you run in a terminal by typing the command, options and arguments. These commands can be designed in a variety of ways, ranging from a one-off utility to a composable command that can consume output from another command, and whose output can in turn be consumed by other commands (also called piping commands together).\n",
    "\n",
    "Shell commands can be written in any language, and can even be compiled. All that really matters is the name of the command is the same as the executable file, and that file is on your executable path. The executable path is defined (usually) as a colon-delimited list of paths that are directories on your computer where command files live. \n",
    "\n",
    "```{note}\n",
    "Some commands are defined by the SHELL that runs in the terminal.\n",
    "```\n",
    "\n"
   ]
  },
  {
   "cell_type": "code",
   "execution_count": null,
   "id": "0371604c-4757-4ae4-842a-ea93f1151f51",
   "metadata": {},
   "outputs": [],
   "source": [
    "! echo $PATH\n",
    "\n"
   ]
  },
  {
   "cell_type": "markdown",
   "id": "e0db7092-aa87-40d8-ac50-0deb214028e7",
   "metadata": {},
   "source": [
    "It is possible to get some colorful output in a terminal, e.g. using [rich](https://github.com/Textualize/rich), but commands line utilities are usually not intended for interactive gui applications. \n",
    "\n",
    "We learned how to use shell commands to interact with web APIs in [lecture 01](../01-rest-api-openalex/01-rest-api-openalex.ipynb). Here we learned about how to get json from a url using `curl`, how to parse it with `jq`, and use those results to output something more readable. This lecture showed some limitations of shell-programming, and led to using Python as a more general command building utility.\n",
    "\n"
   ]
  },
  {
   "cell_type": "markdown",
   "id": "64b59354-9eb5-43ad-8320-77f44b5c7590",
   "metadata": {},
   "source": [
    "## Writing command utilities in Python\n",
    "\n",
    "Python is *much* more flexible and readable than shell programming. In [lecture 02](../02-python-requests/02-python-requests.ipynb) we learned how to use Python to make http requests instead of shell commands, and could then leverage the full programming capabilities for analysis and flexible output, and much more flexible command line options.\n",
    "\n",
    "Here we wrote a script, made it executable, and put it in our executable path so we could use it in a terminal.\n",
    "\n"
   ]
  },
  {
   "cell_type": "markdown",
   "id": "9f5aa510-7736-4c3e-8a1c-3a3caed7418c",
   "metadata": {},
   "source": [
    "# Packaging Python commands\n",
    "\n",
    "Today it is not common to download a script and manually install it. Instead, people expect there to be a \"package\" and a standard installation method. In Python, one standard installation method is to \"pip install\" a package. To do this, we had to learn how to put our script into a package that is installable. This process began in [lecture 03](03-python-packaging/03-python-packaging.ipynb).\n",
    "\n",
    "We learned about the PYTHONPATH, which analogous tp PATH is a list of directories where Python packages are found. We also learned that a Python package is just a directory of files that follow some conventions. There has to be a setup file, and directory of source files to define the package.\n",
    "\n",
    "We also began learning about version control using git here. This allowed us to start modifying the package files without worrying about making changes that would break it, or be hard to undo. [lecture 04](../04-more-python-packaging/04-more-python-packaging.ipynb) built on this to install and uninstall the package.\n",
    "\n"
   ]
  },
  {
   "cell_type": "markdown",
   "id": "98831288-83ce-425f-8b87-fb13d1e8c4ba",
   "metadata": {},
   "source": [
    "# Python packages\n",
    "\n",
    "We moved on from command line utilities in Python, which are great in the shell, but not great for interactive graphical use in Jupyter notebooks. Conceptually, we transitioned from using the terminal as the \"app\" to using a Notebook as an \"app\". A typical way to do this is to develop a Python class that encapsulates the data and functionality you want to use. In [lecture 05](../05-python-classes/05-python-classes.ipynb) we introduce the concepts of classes in Python.\n",
    "\n",
    "Here we learned about rich outputs in Jupyter notebooks where you can have formatted, functional text (e.g. hyperlinks), and graphical objects like figures that are used to represent Python objects.\n",
    "\n"
   ]
  },
  {
   "cell_type": "markdown",
   "id": "48e164b2-77ed-4a17-9f3b-b786b2e2806a",
   "metadata": {},
   "source": [
    "# Packaging classes and code quality\n",
    "\n",
    "The next step is to incorporate the class into a package. We learned how to do this in [lecture 06](../06-code-quality/06-code-quality.ipynb). Up to this point we focused on getting code written that actually works. In this lecture we introduced several ideas related to code quality, including automated formatting, code checking and testing. We also learned several ways to automate these tasks through shell scripts, makefiles, and integration with git. These tools make writing better code easier.\n",
    "\n",
    "- [black](https://github.com/psf/black)\n",
    "- [flake8](https://flake8.pycqa.org/en/latest/)\n",
    "- [pylint](https://github.com/pylint-dev/pylint)\n",
    "- [pre-commit](https://pre-commit.com/)\n",
    "\n",
    "\n",
    "Related packages\n",
    "- [pycodestyle](https://pycodestyle.pycqa.org/en/latest/]) a pep8 compliance checker\n",
    "- [autopep8](https://github.com/hhatto/autopep8) automatic pep8 code formatter\n",
    "- [blue](https://blue.readthedocs.io/en/latest/) a less opinionated formatter than black\n",
    "\n"
   ]
  },
  {
   "cell_type": "markdown",
   "id": "88aa48f9-cc89-4300-87b4-622aea411d92",
   "metadata": {},
   "source": [
    "# GitHUB\n",
    "\n",
    "Many software developers use cloud-based version control. We have learned how to use `git` locally, and in [lecture 07](../07-github-intro/07-github-intro.ipynb) we learned about GitHUB, which allows you to push your git repositories out to the cloud where others can see and use it. GitHUB provides many new features including the capability for editing code remotely, and access control to allow others to collaborate with you.\n",
    "\n",
    "GitHUB Codespaces are a powerful new way to develop code. You start a remote computer that provides an entire, customizable compute environment to develop and test your software in.\n",
    "\n",
    "In [lecture 08](../08-github-actions/08-github-actions.ipynb) we learned that it is possible to setup GitHUB Actions, which are like commands that get run after certain GitHUB events like when you push your repository. You can use these to automate testing, and you can setup a status badge to show if your repository is passing those tests.\n",
    "\n"
   ]
  },
  {
   "cell_type": "markdown",
   "id": "db272579-0f34-4953-a39f-79826beb5784",
   "metadata": {
    "tags": []
   },
   "source": [
    "# What haven't we covered?\n",
    "\n",
    "You can also write packages in other languages. These won't be the same as a Python package, but there will be similar conventions and requirements for them. For example, there are probably other kinds of configuration/setup files, and other required directory structures to identify the \"package\". \n",
    "\n"
   ]
  },
  {
   "cell_type": "markdown",
   "id": "3f7ba050-d378-4ae9-9d05-2c884a86f860",
   "metadata": {},
   "source": [
    "## Collaborative work on GitHUB\n",
    "\n",
    "We didn't have time to get into collaborative work on GitHUB. Each repo can add additional users with permission to push and pull. \n",
    "\n",
    "You can also collaborate by [pull requests](https://docs.github.com/en/pull-requests/collaborating-with-pull-requests/proposing-changes-to-your-work-with-pull-requests/about-pull-requests). In this model, you fork the repo, make changes and then submit a pull request. The original repo owner can review it, and if they find it acceptable, they can merge it into the original repo.\n",
    "\n"
   ]
  },
  {
   "cell_type": "markdown",
   "id": "061fbe90-1526-4ce7-9917-ae711c8db0c4",
   "metadata": {},
   "source": [
    "## Publishing and distributing your package on [PyPi](https://pypi.org/)\n",
    "\n",
    "One of the biggest things we haven't talked about is publishing your packages so you can simply `pip install <your-package>`. This is not crucial; once your package is on GitHUB, you can install it with pip easily:\n",
    "\n",
    "    pip install git+git://github.com/jkitchin/pycse\n",
    "    \n",
    "To get your package on PyPi you have to upload it there. See https://packaging.python.org/en/latest/tutorials/packaging-projects/ for all the details. You will have to create an account with PyPi, and follow some directions to test your package, and then upload it.  \n",
    "\n"
   ]
  },
  {
   "cell_type": "markdown",
   "id": "1e9c2675-8962-4559-808b-4f830585a1a4",
   "metadata": {},
   "source": [
    "## Resources on making Python packages\n",
    "\n",
    "There is *a lot* to writing Python packages, and it changes on a pretty regular basis.\n",
    "A book I have used a lot is [Publishing Python Packages](https://www.manning.com/books/publishing-python-packages) by Dane Hillard.  The book covers the most modern approaches to Python packages. In some ways I find it a little too modern; I don't use some of the tools recommended here on a regular basis.\n",
    "\n"
   ]
  },
  {
   "cell_type": "markdown",
   "id": "c48f4128-3e5c-4add-9897-8088647384b0",
   "metadata": {},
   "source": [
    "## Learning about GitHUB Actions\n",
    "\n",
    "There is so much that is possible with GitHUB Actions, basically anything you would do locally, e.g. build software, compile documentation, run tests, etc. You can use it to automatically build websites and push to [GitHUB pages](https://pages.github.com/).\n",
    "\n",
    "It is a sophisticated tool though, and it takes time to learn how to think about it and use it. You can start with GitHUB documentation on [GitHUB Actions](https://docs.github.com/en/actions/learn-github-actions). \n",
    "\n",
    "A book I used early on is [Building GitHUB Actions a step by step guide](https://mheap.gumroad.com/l/actionsbook). This books shows some example applications and covers Dockerfiles, actions and workflows.\n",
    "\n"
   ]
  },
  {
   "cell_type": "markdown",
   "id": "76ab7472-e72b-46f3-a25c-894c11d0ae7f",
   "metadata": {},
   "source": [
    "## Editors and integrated development environments\n",
    "\n",
    "We mostly used the editor in Jupyter HUB for this course. Although the notebook and editor support some features like code completion, tooltips, and syntax highlighting, it is overall pretty limited compared to something like VS Code or a dedicated IDE like [PyCharm](https://www.jetbrains.com/pycharm/). These environments are sophisticated tools that take significant time to configure and master. If you do a lot of software development, you may want to invest some time in getting skilled in one of these tools.\n",
    "\n"
   ]
  },
  {
   "cell_type": "markdown",
   "id": "531053bb-713c-44ff-8a9f-b3234bb6f615",
   "metadata": {},
   "source": [
    "# Other helpful resources\n",
    "\n",
    "One of the best ways to learn how to write packages is to mimic existing packages. Any open-source package should have the source code available for you to study and learn from. You can learn about package structure, Python programming, or algorithms and methods this way. So if there is a package you like, find its source and start reading it!\n",
    "\n",
    "In practice, I frequently use packages I have written before as templates for new projects.\n",
    "\n"
   ]
  },
  {
   "cell_type": "markdown",
   "id": "21f13452-0f98-470a-8edf-fc4237a78f55",
   "metadata": {},
   "source": [
    "## cookiecutter\n",
    "\n",
    "[cookiecutter](https://cookiecutter.readthedocs.io/en/stable/) can help you create python packages from templates. See [this example](https://cookiecutter.readthedocs.io/en/stable/tutorials/tutorial1.html#case-study-cookiecutter-pypackage) to see what is possible. I find the amount of configuration and volume of files a little overwhelming, but once you get more familiar with it it can be a time saver. You can also create your own templates that might be simpler for your needs.\n",
    "\n"
   ]
  },
  {
   "cell_type": "markdown",
   "id": "8bf303a1-3005-46ec-872b-206a3e832945",
   "metadata": {},
   "source": [
    "## virtual environments\n",
    "\n",
    "The idea of a virtual environment is a great one. You create an isolated environment to install packages in that doesn't interfere with any other environment. In theory they sound great. In practice, I have not found a tool for this that actually does this, or that doesn't add some additional complexity that isn't worth it eventually. It is easy to still do the wrong things with these; e.g. you have to remember to activate and deactivate the environments, so it is pretty easy to have the wrong one active when doing something. \n",
    "These days, if I need this kind of isolation, I usually go to Docker. That is a heavyweight solution though.\n",
    "\n",
    "Python provides [venv](https://docs.python.org/3/library/venv.html). This is a reasonable solution if you are just trying to isolate your Python environment. It does not solve the issue of isolating other things though, e.g. system libraries.\n",
    "\n",
    "[conda environments](https://conda.io/projects/conda/en/latest/user-guide/tasks/manage-environments.html) were one of the killer features of conda. conda is also an alternative package manager to pip, and it was built to solve some shortcomings of pip (especially when there is compiled code). These days though, conda feels slow in dependency resolution, and a faster tool called [mamba](https://mamba.readthedocs.io/en/latest/) is often used in its place for package management.\n",
    "\n",
    "[poetry](https://python-poetry.org/) is a software tool for managing python packaging and dependency management. It can also be used to augment or create virtual environments.\n",
    "\n"
   ]
  },
  {
   "cell_type": "markdown",
   "id": "1dd819f8-be30-47ab-8c2b-76d225a18f89",
   "metadata": {},
   "source": [
    "## pytest\n",
    "\n",
    "We looked at pretty simple tests with [pytest](https://docs.pytest.org/en/7.3.x/). There is much more that is possible. I learned alot about pytest in the book [Python Testing with pytest](https://pragprog.com/titles/bopytest2/python-testing-with-pytest-second-edition/).\n",
    "\n"
   ]
  },
  {
   "cell_type": "markdown",
   "id": "9df2a625-40a3-462e-86bd-3ebfed492793",
   "metadata": {},
   "source": [
    "## Docker\n",
    "\n",
    "We only briefly touched on [docker](https://www.docker.com/). This container technology is something you are likely to come across if you do much in the cloud. Docker is free for open-source projects, and more complicated for companies.\n",
    "\n",
    "Docker is remarkably complex, with performance and security concerns that need to be handled correctly. I learned a lot about these at https://pythonspeed.com/products/docker/. You can read a lot of the articles at https://pythonspeed.com/docker/. I also learned from https://dockerbook.com/.\n",
    "\n",
    "\n"
   ]
  },
  {
   "cell_type": "markdown",
   "id": "e632cc72-4306-4482-99c2-d71e1cf7a44c",
   "metadata": {},
   "source": [
    "## Software documentation\n",
    "\n",
    "We did not touch on \"proper\" documentation. Many projects have a dedicated directory of documentation files that are used to build web documentation. These pages are hosted at sites like [Read the Docs](https://readthedocs.org/), or GitHUB pages.\n",
    "\n",
    "For example, matplotlib has documentation files at https://github.com/matplotlib/matplotlib/tree/main/doc. This directory contains files in a [restructured text](https://devguide.python.org/documentation/markup/) format that [sphinx](https://www.sphinx-doc.org/en/master/) uses to render html pages that are hosted at https://matplotlib.org/stable/index.html.\n",
    "\n",
    "The [numpy-ml](https://github.com/ddbourgin/numpy-ml) project also uses rst files that are hosted at https://numpy-ml.readthedocs.io/en/latest/.\n",
    "\n",
    "Other projects are starting to use [jupyter-book](https://jupyterbook.org/en/stable/intro.html).\n",
    "\n",
    "What you use is less important than using something, but some of these tools make nicer looking, more functional (e.g. searchable) documentation with less work (although that is somewhat compensated for with the effort required to learn their ways).\n",
    "\n"
   ]
  },
  {
   "cell_type": "markdown",
   "id": "9c88ae52-c263-45e3-b384-f4f3f5ee1529",
   "metadata": {},
   "source": [
    "# Concluding thoughts\n",
    "\n",
    "Software engineering has been and remains one of the most quickly evolving fields. When I started in the 90s, Python was at version 1.5. During my career it spent many years as \"Python 2\" and then changed to a somewhat incompatible \"Python 3\". Today we are at Python 3.10/11. One of the biggest changes was the development of machine learning tools, and these have changed the fastest! When I was on sabbatical at Google, code I wrote in Tensorflow at the beginning of the year was incompatible with the version of Tensorflow released just 6 months later.\n",
    "\n",
    "The change in language, tools, approaches has been relentless, and the rate of change even increases with the creation of new languages and tools every day. \n",
    "\n",
    "In my experience, sometimes things that used to work, no longer work because of a change. It has been important to build a foundation of understanding of how computers work to troubleshoot and debug these issues. For example, understanding how computers find commands, or libraries, how Python finds libraries to import, etc. There are not enough classes in the world to provide you with this knowledge. You have to take every opportunity you can to learn things you don't know. You also have to invest time in keeping that knowledge up to date.\n",
    "\n"
   ]
  }
 ],
 "metadata": {
  "kernelspec": {
   "display_name": "Python 3",
   "language": "python",
   "name": "python3"
  },
  "language_info": {
   "codemirror_mode": {
    "name": "ipython",
    "version": 3
   },
   "file_extension": ".py",
   "mimetype": "text/x-python",
   "name": "python",
   "nbconvert_exporter": "python",
   "pygments_lexer": "ipython3",
   "version": "3.9.7"
  },
  "widgets": {
   "application/vnd.jupyter.widget-state+json": {
    "state": {},
    "version_major": 2,
    "version_minor": 0
   }
  }
 },
 "nbformat": 4,
 "nbformat_minor": 5
}
