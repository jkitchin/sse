{
 "cells": [
  {
   "cell_type": "markdown",
   "id": "cee80455-2aa3-441f-97d6-78c34003ce73",
   "metadata": {},
   "source": [
    "# Introduction Python Classes\n",
    "\n",
    "Today we will touch on programming with classes in Python and Jupyter. Classes allow you to \"encapsulate\" data and methods. We will also learn about rich outputs in Jupyter notebooks.\n",
    "\n",
    "If you are not familiar with classes in Python you should review them. Here are some reasonable introductions:\n",
    "\n",
    "- [](https://towardsdatascience.com/introduction-to-python-classes-da526ff745df)\n",
    "- [](https://python.plainenglish.io/python-classes-and-objects-a13edcd2bc1e)\n",
    "- [](https://docs.python.org/3/tutorial/classes.html)"
   ]
  },
  {
   "cell_type": "markdown",
   "id": "a367cf31-22da-465a-a35a-07b29ca8f506",
   "metadata": {},
   "source": [
    "I will assume you have some experience with classes, and only introduce what we need for this lecture as we go.  We are going to create a single class today to represent a `Works` object. The class will get data for a doi, and provide some representations and methods that are convenient.\n",
    "\n",
    "[](https://api.openalex.org/works/https://doi.org/10.1021/acscatal.5b00538)\n",
    "\n"
   ]
  },
  {
   "cell_type": "code",
   "execution_count": 1,
   "id": "441bbd5e-d143-4616-ba36-37d2b49d2a72",
   "metadata": {},
   "outputs": [],
   "source": [
    "import requests\n",
    "\n",
    "\n",
    "class Works:\n",
    "    def __init__(self, oaid):\n",
    "        self.oaid = oaid\n",
    "        self.req = requests.get(f\"https://api.openalex.org/works/{oaid}\")\n",
    "        self.data = self.req.json()\n",
    "\n",
    "\n",
    "w = Works(\"https://doi.org/10.1021/acscatal.5b00538\")"
   ]
  },
  {
   "cell_type": "markdown",
   "id": "c12ef7d7-353d-418e-92e9-e444c7c8da87",
   "metadata": {},
   "source": [
    "We can see that we saved attributes on our object, and we can access them.\n",
    "\n"
   ]
  },
  {
   "cell_type": "code",
   "execution_count": 2,
   "id": "f185161f-00a4-4a58-89c3-7bb01ca8133a",
   "metadata": {},
   "outputs": [
    {
     "data": {
      "text/plain": [
       "'https://doi.org/10.1021/acscatal.5b00538'"
      ]
     },
     "execution_count": 2,
     "metadata": {},
     "output_type": "execute_result"
    }
   ],
   "source": [
    "w.oaid"
   ]
  },
  {
   "cell_type": "code",
   "execution_count": 3,
   "id": "35495c6f-4ce7-4037-b107-4749306a59fb",
   "metadata": {},
   "outputs": [
    {
     "data": {
      "text/plain": [
       "<Response [200]>"
      ]
     },
     "execution_count": 3,
     "metadata": {},
     "output_type": "execute_result"
    }
   ],
   "source": [
    "w.req"
   ]
  },
  {
   "cell_type": "code",
   "execution_count": 4,
   "id": "b67e29d4-69af-49fd-bfda-c72b8784b7b2",
   "metadata": {},
   "outputs": [
    {
     "data": {
      "text/plain": [
       "{'id': 'https://openalex.org/W2288114809',\n",
       " 'doi': 'https://doi.org/10.1021/acscatal.5b00538',\n",
       " 'title': 'Examples of Effective Data Sharing in Scientific Publishing',\n",
       " 'display_name': 'Examples of Effective Data Sharing in Scientific Publishing',\n",
       " 'publication_year': 2015,\n",
       " 'publication_date': '2015-05-29',\n",
       " 'ids': {'openalex': 'https://openalex.org/W2288114809',\n",
       "  'doi': 'https://doi.org/10.1021/acscatal.5b00538',\n",
       "  'mag': '2288114809'},\n",
       " 'language': 'en',\n",
       " 'primary_location': {'is_oa': True,\n",
       "  'landing_page_url': 'https://doi.org/10.1021/acscatal.5b00538',\n",
       "  'pdf_url': 'https://pubs.acs.org/doi/pdf/10.1021/acscatal.5b00538',\n",
       "  'source': {'id': 'https://openalex.org/S37391459',\n",
       "   'display_name': 'ACS Catalysis',\n",
       "   'issn_l': '2155-5435',\n",
       "   'issn': ['2155-5435'],\n",
       "   'is_oa': False,\n",
       "   'is_in_doaj': False,\n",
       "   'host_organization': 'https://openalex.org/P4310320006',\n",
       "   'host_organization_name': 'American Chemical Society',\n",
       "   'host_organization_lineage': ['https://openalex.org/P4310320006'],\n",
       "   'host_organization_lineage_names': ['American Chemical Society'],\n",
       "   'type': 'journal'},\n",
       "  'license': 'publisher-specific-oa',\n",
       "  'version': 'publishedVersion',\n",
       "  'is_accepted': True,\n",
       "  'is_published': True},\n",
       " 'type': 'article',\n",
       " 'type_crossref': 'journal-article',\n",
       " 'indexed_in': ['crossref'],\n",
       " 'open_access': {'is_oa': True,\n",
       "  'oa_status': 'hybrid',\n",
       "  'oa_url': 'https://pubs.acs.org/doi/pdf/10.1021/acscatal.5b00538',\n",
       "  'any_repository_has_fulltext': False},\n",
       " 'authorships': [{'author_position': 'first',\n",
       "   'author': {'id': 'https://openalex.org/A5003442464',\n",
       "    'display_name': 'John R. Kitchin',\n",
       "    'orcid': 'https://orcid.org/0000-0003-2625-9232'},\n",
       "   'institutions': [{'id': 'https://openalex.org/I74973139',\n",
       "     'display_name': 'Carnegie Mellon University',\n",
       "     'ror': 'https://ror.org/05x2bcf33',\n",
       "     'country_code': 'US',\n",
       "     'type': 'education',\n",
       "     'lineage': ['https://openalex.org/I74973139']}],\n",
       "   'countries': ['US'],\n",
       "   'is_corresponding': True,\n",
       "   'raw_author_name': 'John R. Kitchin',\n",
       "   'raw_affiliation_string': 'Department#R#of Chemical Engineering Carnegie-Mellon University, 5000 Forbes#R#Avenue, Pittsburgh, Pennsylvania, 15213, United States',\n",
       "   'raw_affiliation_strings': ['Department#R#of Chemical Engineering Carnegie-Mellon University, 5000 Forbes#R#Avenue, Pittsburgh, Pennsylvania, 15213, United States']}],\n",
       " 'countries_distinct_count': 1,\n",
       " 'institutions_distinct_count': 1,\n",
       " 'corresponding_author_ids': ['https://openalex.org/A5003442464'],\n",
       " 'corresponding_institution_ids': ['https://openalex.org/I74973139'],\n",
       " 'apc_list': None,\n",
       " 'apc_paid': None,\n",
       " 'has_fulltext': True,\n",
       " 'fulltext_origin': 'ngrams',\n",
       " 'cited_by_count': 19,\n",
       " 'cited_by_percentile_year': {'min': 92, 'max': 93},\n",
       " 'biblio': {'volume': '5',\n",
       "  'issue': '6',\n",
       "  'first_page': '3894',\n",
       "  'last_page': '3899'},\n",
       " 'is_retracted': False,\n",
       " 'is_paratext': False,\n",
       " 'primary_topic': {'id': 'https://openalex.org/T11986',\n",
       "  'display_name': 'Management and Reproducibility of Scientific Workflows',\n",
       "  'score': 0.9998,\n",
       "  'subfield': {'id': 'https://openalex.org/subfields/1802',\n",
       "   'display_name': 'Information Systems and Management'},\n",
       "  'field': {'id': 'https://openalex.org/fields/18',\n",
       "   'display_name': 'Decision Sciences'},\n",
       "  'domain': {'id': 'https://openalex.org/domains/2',\n",
       "   'display_name': 'Social Sciences'}},\n",
       " 'topics': [{'id': 'https://openalex.org/T11986',\n",
       "   'display_name': 'Management and Reproducibility of Scientific Workflows',\n",
       "   'score': 0.9998,\n",
       "   'subfield': {'id': 'https://openalex.org/subfields/1802',\n",
       "    'display_name': 'Information Systems and Management'},\n",
       "   'field': {'id': 'https://openalex.org/fields/18',\n",
       "    'display_name': 'Decision Sciences'},\n",
       "   'domain': {'id': 'https://openalex.org/domains/2',\n",
       "    'display_name': 'Social Sciences'}},\n",
       "  {'id': 'https://openalex.org/T11937',\n",
       "   'display_name': 'Data Sharing and Stewardship in Science',\n",
       "   'score': 0.9987,\n",
       "   'subfield': {'id': 'https://openalex.org/subfields/1710',\n",
       "    'display_name': 'Information Systems'},\n",
       "   'field': {'id': 'https://openalex.org/fields/17',\n",
       "    'display_name': 'Computer Science'},\n",
       "   'domain': {'id': 'https://openalex.org/domains/3',\n",
       "    'display_name': 'Physical Sciences'}},\n",
       "  {'id': 'https://openalex.org/T10715',\n",
       "   'display_name': 'Distributed Grid Computing Systems',\n",
       "   'score': 0.9884,\n",
       "   'subfield': {'id': 'https://openalex.org/subfields/1705',\n",
       "    'display_name': 'Computer Networks and Communications'},\n",
       "   'field': {'id': 'https://openalex.org/fields/17',\n",
       "    'display_name': 'Computer Science'},\n",
       "   'domain': {'id': 'https://openalex.org/domains/3',\n",
       "    'display_name': 'Physical Sciences'}}],\n",
       " 'keywords': [{'keyword': 'effective data sharing', 'score': 0.7569}],\n",
       " 'concepts': [{'id': 'https://openalex.org/C2779965156',\n",
       "   'wikidata': 'https://www.wikidata.org/wiki/Q5227350',\n",
       "   'display_name': 'Data sharing',\n",
       "   'level': 3,\n",
       "   'score': 0.76668024},\n",
       "  {'id': 'https://openalex.org/C41008148',\n",
       "   'wikidata': 'https://www.wikidata.org/wiki/Q21198',\n",
       "   'display_name': 'Computer science',\n",
       "   'level': 0,\n",
       "   'score': 0.7374295},\n",
       "  {'id': 'https://openalex.org/C151719136',\n",
       "   'wikidata': 'https://www.wikidata.org/wiki/Q3972943',\n",
       "   'display_name': 'Publishing',\n",
       "   'level': 2,\n",
       "   'score': 0.6537832},\n",
       "  {'id': 'https://openalex.org/C2984423262',\n",
       "   'wikidata': 'https://www.wikidata.org/wiki/Q17327049',\n",
       "   'display_name': 'Scientific publishing',\n",
       "   'level': 3,\n",
       "   'score': 0.611992},\n",
       "  {'id': 'https://openalex.org/C2522767166',\n",
       "   'wikidata': 'https://www.wikidata.org/wiki/Q2374463',\n",
       "   'display_name': 'Data science',\n",
       "   'level': 1,\n",
       "   'score': 0.5780086},\n",
       "  {'id': 'https://openalex.org/C12713177',\n",
       "   'wikidata': 'https://www.wikidata.org/wiki/Q1900281',\n",
       "   'display_name': 'Perspective (graphical)',\n",
       "   'level': 2,\n",
       "   'score': 0.553444},\n",
       "  {'id': 'https://openalex.org/C2781396290',\n",
       "   'wikidata': 'https://www.wikidata.org/wiki/Q17051824',\n",
       "   'display_name': 'Data publishing',\n",
       "   'level': 3,\n",
       "   'score': 0.51038426},\n",
       "  {'id': 'https://openalex.org/C136764020',\n",
       "   'wikidata': 'https://www.wikidata.org/wiki/Q466',\n",
       "   'display_name': 'World Wide Web',\n",
       "   'level': 1,\n",
       "   'score': 0.34000608},\n",
       "  {'id': 'https://openalex.org/C154945302',\n",
       "   'wikidata': 'https://www.wikidata.org/wiki/Q11660',\n",
       "   'display_name': 'Artificial intelligence',\n",
       "   'level': 1,\n",
       "   'score': 0.08385676},\n",
       "  {'id': 'https://openalex.org/C17744445',\n",
       "   'wikidata': 'https://www.wikidata.org/wiki/Q36442',\n",
       "   'display_name': 'Political science',\n",
       "   'level': 0,\n",
       "   'score': 0.07468274},\n",
       "  {'id': 'https://openalex.org/C71924100',\n",
       "   'wikidata': 'https://www.wikidata.org/wiki/Q11190',\n",
       "   'display_name': 'Medicine',\n",
       "   'level': 0,\n",
       "   'score': 0.0},\n",
       "  {'id': 'https://openalex.org/C204787440',\n",
       "   'wikidata': 'https://www.wikidata.org/wiki/Q188504',\n",
       "   'display_name': 'Alternative medicine',\n",
       "   'level': 2,\n",
       "   'score': 0.0},\n",
       "  {'id': 'https://openalex.org/C142724271',\n",
       "   'wikidata': 'https://www.wikidata.org/wiki/Q7208',\n",
       "   'display_name': 'Pathology',\n",
       "   'level': 1,\n",
       "   'score': 0.0},\n",
       "  {'id': 'https://openalex.org/C199539241',\n",
       "   'wikidata': 'https://www.wikidata.org/wiki/Q7748',\n",
       "   'display_name': 'Law',\n",
       "   'level': 1,\n",
       "   'score': 0.0}],\n",
       " 'mesh': [],\n",
       " 'locations_count': 3,\n",
       " 'locations': [{'is_oa': True,\n",
       "   'landing_page_url': 'https://doi.org/10.1021/acscatal.5b00538',\n",
       "   'pdf_url': 'https://pubs.acs.org/doi/pdf/10.1021/acscatal.5b00538',\n",
       "   'source': {'id': 'https://openalex.org/S37391459',\n",
       "    'display_name': 'ACS Catalysis',\n",
       "    'issn_l': '2155-5435',\n",
       "    'issn': ['2155-5435'],\n",
       "    'is_oa': False,\n",
       "    'is_in_doaj': False,\n",
       "    'host_organization': 'https://openalex.org/P4310320006',\n",
       "    'host_organization_name': 'American Chemical Society',\n",
       "    'host_organization_lineage': ['https://openalex.org/P4310320006'],\n",
       "    'host_organization_lineage_names': ['American Chemical Society'],\n",
       "    'type': 'journal'},\n",
       "   'license': 'publisher-specific-oa',\n",
       "   'version': 'publishedVersion',\n",
       "   'is_accepted': True,\n",
       "   'is_published': True},\n",
       "  {'is_oa': False,\n",
       "   'landing_page_url': 'https://www.osti.gov/biblio/1455204',\n",
       "   'pdf_url': None,\n",
       "   'source': {'id': 'https://openalex.org/S4306402487',\n",
       "    'display_name': 'OSTI OAI (U.S. Department of Energy Office of Scientific and Technical Information)',\n",
       "    'issn_l': None,\n",
       "    'issn': None,\n",
       "    'is_oa': True,\n",
       "    'is_in_doaj': False,\n",
       "    'host_organization': 'https://openalex.org/I139351228',\n",
       "    'host_organization_name': 'Office of Scientific and Technical Information',\n",
       "    'host_organization_lineage': ['https://openalex.org/I139351228'],\n",
       "    'host_organization_lineage_names': ['Office of Scientific and Technical Information'],\n",
       "    'type': 'repository'},\n",
       "   'license': None,\n",
       "   'version': None,\n",
       "   'is_accepted': False,\n",
       "   'is_published': False},\n",
       "  {'is_oa': False,\n",
       "   'landing_page_url': 'https://www.osti.gov/biblio/1183810',\n",
       "   'pdf_url': None,\n",
       "   'source': {'id': 'https://openalex.org/S4306402487',\n",
       "    'display_name': 'OSTI OAI (U.S. Department of Energy Office of Scientific and Technical Information)',\n",
       "    'issn_l': None,\n",
       "    'issn': None,\n",
       "    'is_oa': True,\n",
       "    'is_in_doaj': False,\n",
       "    'host_organization': 'https://openalex.org/I139351228',\n",
       "    'host_organization_name': 'Office of Scientific and Technical Information',\n",
       "    'host_organization_lineage': ['https://openalex.org/I139351228'],\n",
       "    'host_organization_lineage_names': ['Office of Scientific and Technical Information'],\n",
       "    'type': 'repository'},\n",
       "   'license': None,\n",
       "   'version': None,\n",
       "   'is_accepted': False,\n",
       "   'is_published': False}],\n",
       " 'best_oa_location': {'is_oa': True,\n",
       "  'landing_page_url': 'https://doi.org/10.1021/acscatal.5b00538',\n",
       "  'pdf_url': 'https://pubs.acs.org/doi/pdf/10.1021/acscatal.5b00538',\n",
       "  'source': {'id': 'https://openalex.org/S37391459',\n",
       "   'display_name': 'ACS Catalysis',\n",
       "   'issn_l': '2155-5435',\n",
       "   'issn': ['2155-5435'],\n",
       "   'is_oa': False,\n",
       "   'is_in_doaj': False,\n",
       "   'host_organization': 'https://openalex.org/P4310320006',\n",
       "   'host_organization_name': 'American Chemical Society',\n",
       "   'host_organization_lineage': ['https://openalex.org/P4310320006'],\n",
       "   'host_organization_lineage_names': ['American Chemical Society'],\n",
       "   'type': 'journal'},\n",
       "  'license': 'publisher-specific-oa',\n",
       "  'version': 'publishedVersion',\n",
       "  'is_accepted': True,\n",
       "  'is_published': True},\n",
       " 'sustainable_development_goals': [{'display_name': 'Industry, innovation and infrastructure',\n",
       "   'score': 0.47,\n",
       "   'id': 'https://metadata.un.org/sdg/9'}],\n",
       " 'grants': [{'funder': 'https://openalex.org/F4320310207',\n",
       "   'funder_display_name': 'Carnegie Mellon University',\n",
       "   'award_id': None},\n",
       "  {'funder': 'https://openalex.org/F4320337480',\n",
       "   'funder_display_name': 'Basic Energy Sciences',\n",
       "   'award_id': 'DE-SC0004031'}],\n",
       " 'referenced_works_count': 18,\n",
       " 'referenced_works': ['https://openalex.org/W902952202',\n",
       "  'https://openalex.org/W1526025733',\n",
       "  'https://openalex.org/W1879090356',\n",
       "  'https://openalex.org/W1981491642',\n",
       "  'https://openalex.org/W1988054515',\n",
       "  'https://openalex.org/W2024342942',\n",
       "  'https://openalex.org/W2024769307',\n",
       "  'https://openalex.org/W2036912748',\n",
       "  'https://openalex.org/W2037100030',\n",
       "  'https://openalex.org/W2038722478',\n",
       "  'https://openalex.org/W2052942032',\n",
       "  'https://openalex.org/W2061939373',\n",
       "  'https://openalex.org/W2257333152',\n",
       "  'https://openalex.org/W2321716361',\n",
       "  'https://openalex.org/W2326319594',\n",
       "  'https://openalex.org/W2333048302',\n",
       "  'https://openalex.org/W2537005472',\n",
       "  'https://openalex.org/W3125261728'],\n",
       " 'related_works': ['https://openalex.org/W3093842987',\n",
       "  'https://openalex.org/W2296657372',\n",
       "  'https://openalex.org/W2125183513',\n",
       "  'https://openalex.org/W2294677930',\n",
       "  'https://openalex.org/W2801905285',\n",
       "  'https://openalex.org/W2028846973',\n",
       "  'https://openalex.org/W2698935035',\n",
       "  'https://openalex.org/W2626564437',\n",
       "  'https://openalex.org/W4293238240',\n",
       "  'https://openalex.org/W2750416796'],\n",
       " 'ngrams_url': 'https://api.openalex.org/works/W2288114809/ngrams',\n",
       " 'abstract_inverted_index': {'We': [0, 42, 53],\n",
       "  'present': [1],\n",
       "  'a': [2, 32, 55],\n",
       "  'perspective': [3],\n",
       "  'on': [4],\n",
       "  'an': [5],\n",
       "  'approach': [6, 24],\n",
       "  'to': [7, 61],\n",
       "  'data': [8, 27, 63, 80, 95],\n",
       "  'sharing': [9, 96],\n",
       "  'in': [10, 17, 31, 91, 97],\n",
       "  'scientific': [11, 98],\n",
       "  'publications': [12],\n",
       "  'we': [13, 66, 70],\n",
       "  'have': [14, 71],\n",
       "  'been': [15, 72],\n",
       "  'developing': [16, 73],\n",
       "  'our': [18],\n",
       "  'group.': [19],\n",
       "  'The': [20],\n",
       "  'essence': [21],\n",
       "  'of': [22],\n",
       "  'the': [23, 38, 68],\n",
       "  'is': [25],\n",
       "  'that': [26],\n",
       "  'can': [28, 86],\n",
       "  'be': [29, 87],\n",
       "  'embedded': [30],\n",
       "  'human-readable': [33],\n",
       "  'and': [34, 50, 65, 83, 93],\n",
       "  'machine-addressable': [35],\n",
       "  'way': [36],\n",
       "  'within': [37],\n",
       "  'traditional': [39],\n",
       "  'publishing': [40],\n",
       "  'environment.': [41],\n",
       "  'show': [43],\n",
       "  'this': [44, 75],\n",
       "  'by': [45],\n",
       "  'example': [46],\n",
       "  'for': [47, 57, 74],\n",
       "  'both': [48],\n",
       "  'computational': [49],\n",
       "  'experimental': [51],\n",
       "  'data.': [52],\n",
       "  'articulate': [54],\n",
       "  'need': [56],\n",
       "  'new': [58],\n",
       "  'authoring': [59],\n",
       "  'tools': [60, 69],\n",
       "  'facilitate': [62],\n",
       "  'sharing,': [64],\n",
       "  'discuss': [67],\n",
       "  'purpose.': [76],\n",
       "  'With': [77],\n",
       "  'these': [78],\n",
       "  'tools,': [79],\n",
       "  'generation,': [81],\n",
       "  'analysis,': [82],\n",
       "  'manuscript': [84],\n",
       "  'preparation': [85],\n",
       "  'deeply': [88],\n",
       "  'integrated,': [89],\n",
       "  'resulting': [90],\n",
       "  'easier': [92],\n",
       "  'better': [94],\n",
       "  'publications.': [99]},\n",
       " 'cited_by_api_url': 'https://api.openalex.org/works?filter=cites:W2288114809',\n",
       " 'counts_by_year': [{'year': 2023, 'cited_by_count': 1},\n",
       "  {'year': 2022, 'cited_by_count': 3},\n",
       "  {'year': 2021, 'cited_by_count': 2},\n",
       "  {'year': 2020, 'cited_by_count': 2},\n",
       "  {'year': 2019, 'cited_by_count': 3},\n",
       "  {'year': 2018, 'cited_by_count': 3},\n",
       "  {'year': 2017, 'cited_by_count': 1},\n",
       "  {'year': 2016, 'cited_by_count': 4}],\n",
       " 'updated_date': '2024-02-25T07:54:29.423000',\n",
       " 'created_date': '2016-06-24'}"
      ]
     },
     "execution_count": 4,
     "metadata": {},
     "output_type": "execute_result"
    }
   ],
   "source": [
    "w.data"
   ]
  },
  {
   "cell_type": "markdown",
   "id": "8f046c9f-872b-445f-9634-a836bc5d2003",
   "metadata": {},
   "source": [
    "The object itself doesn't show us anything especially useful though:\n",
    "\n"
   ]
  },
  {
   "cell_type": "code",
   "execution_count": 5,
   "id": "ef050fbf-c0a9-4c81-8a49-9fc97dff44e3",
   "metadata": {},
   "outputs": [
    {
     "data": {
      "text/plain": [
       "<__main__.Works at 0x7fdfb9f10040>"
      ]
     },
     "execution_count": 5,
     "metadata": {},
     "output_type": "execute_result"
    }
   ],
   "source": [
    "w"
   ]
  },
  {
   "cell_type": "markdown",
   "id": "edade514-a0bb-45bf-8d0d-c6441133368b",
   "metadata": {},
   "source": [
    "## Python class representations\n",
    "\n",
    "That is not a particularly helpful output. Let's see what we can do about it. There are two dunder methods that \"present\" an object: `__str__` and `__repr__`. The first is called when you print an object, and the second is the \"representation\" of the object.\n",
    "\n"
   ]
  },
  {
   "cell_type": "code",
   "execution_count": 6,
   "id": "9a72ddb4-4bd8-4b0c-baa7-d04d345f6ecd",
   "metadata": {},
   "outputs": [
    {
     "name": "stdout",
     "output_type": "stream",
     "text": [
      "print:  str\n"
     ]
    },
    {
     "data": {
      "text/plain": [
       "repr"
      ]
     },
     "execution_count": 6,
     "metadata": {},
     "output_type": "execute_result"
    }
   ],
   "source": [
    "class Works:\n",
    "    def __init__(self, oaid):\n",
    "        self.oaid = oaid\n",
    "        self.req = requests.get(f\"https://api.openalex.org/works/{oaid}\")\n",
    "        self.data = self.req.json()\n",
    "\n",
    "    def __str__(self):\n",
    "        return \"str\"\n",
    "\n",
    "    def __repr__(self):\n",
    "        return \"repr\"\n",
    "\n",
    "\n",
    "w = Works(\"https://doi.org/10.1021/acscatal.5b00538\")\n",
    "print(\"print: \", w)\n",
    "w"
   ]
  },
  {
   "cell_type": "markdown",
   "id": "970e3837-7b58-4cc6-9c67-111ce99d10e6",
   "metadata": {},
   "source": [
    "We probably want some basic information about the work. Let's construct a function that prints basic bibliographic information. We want a string in the form of:\n",
    "\n",
    "authors, title, journal, volume/issue, pages, year, doi. cited by: count. open alex url\n",
    "\n",
    "We can get all that from the json data.\n",
    "\n"
   ]
  },
  {
   "cell_type": "code",
   "execution_count": 11,
   "id": "b41984cc-2254-4c6d-ad2a-51e5c9155b24",
   "metadata": {},
   "outputs": [
    {
     "data": {
      "text/plain": [
       "John R. Kitchin, Examples of Effective Data Sharing in Scientific Publishing, ACS Catalysis, 5, 6, 3894-3899, (2015), https://doi.org/10.1021/acscatal.5b00538. cited by: 19. https://openalex.org/W2288114809"
      ]
     },
     "execution_count": 11,
     "metadata": {},
     "output_type": "execute_result"
    }
   ],
   "source": [
    "class Works:\n",
    "    def __init__(self, oaid):\n",
    "        self.oaid = oaid\n",
    "        self.req = requests.get(f\"https://api.openalex.org/works/{oaid}\")\n",
    "        self.data = self.req.json()\n",
    "\n",
    "    def __str__(self):\n",
    "        return self.__repr__()\n",
    "\n",
    "    def __repr__(self):\n",
    "        _authors = [au[\"author\"][\"display_name\"] for au in self.data[\"authorships\"]]\n",
    "        if len(_authors) == 1:\n",
    "            authors = _authors[0]\n",
    "        else:\n",
    "            authors = \", \".join(_authors[0:-1]) + \" and \" + _authors[-1]\n",
    "\n",
    "        title = self.data[\"title\"]\n",
    "\n",
    "        journal = self.data[\"primary_location\"][\"source\"][\"display_name\"]\n",
    "        volume = self.data[\"biblio\"][\"volume\"]\n",
    "\n",
    "        issue = self.data[\"biblio\"][\"issue\"]\n",
    "\n",
    "        pages = \"-\".join(\n",
    "            [self.data[\"biblio\"][\"first_page\"], self.data[\"biblio\"][\"last_page\"]]\n",
    "        )\n",
    "        year = self.data[\"publication_year\"]\n",
    "        citedby = self.data[\"cited_by_count\"]\n",
    "\n",
    "        oa = self.data[\"id\"]\n",
    "        s = f'{authors}, {title}, {journal}, {volume}, {issue}, {pages}, ({year}), {self.data[\"doi\"]}. cited by: {citedby}. {oa}'\n",
    "        return s\n",
    "\n",
    "\n",
    "w = Works(\"https://doi.org/10.1021/acscatal.5b00538\")\n",
    "w"
   ]
  },
  {
   "cell_type": "markdown",
   "id": "06c36d16-e208-4f67-86d7-8f40ae5791c2",
   "metadata": {},
   "source": [
    "## Fancier representation in Markdown\n",
    "That is pretty good but let's make it a little prettier. We can use markdown (or html) in this output. We simply define a new special function `_repr_markdown_`, which has precedence over `__repr__`, so it will be called by default here. Let's also add some functionality to the display. We can link each author to their OpenAlex page. Finally, we will provide a graph of citations by year.\n",
    "\n",
    "We do this via markdown.\n",
    "\n"
   ]
  },
  {
   "cell_type": "code",
   "execution_count": 16,
   "id": "f44eac74-e581-415b-8e90-30340d31db37",
   "metadata": {},
   "outputs": [
    {
     "data": {
      "text/markdown": [
       "[John R. Kitchin](https://openalex.org/A5003442464), *Examples of Effective Data Sharing in Scientific Publishing*, [ACS Catalysis](https://openalex.org/S37391459), **5, 6**, 3894-3899, (2015), [https://doi.org/10.1021/acscatal.5b00538](https://doi.org/10.1021/acscatal.5b00538). cited by: 19. [Open Alex](https://openalex.org/W2288114809)<br>![img](data:image/png;base64,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)"
      ],
      "text/plain": [
       "John R. Kitchin, Examples of Effective Data Sharing in Scientific Publishing, 5, 63894-3899, (2015), https://doi.org/10.1021/acscatal.5b00538. cited by: 19. https://openalex.org/W2288114809"
      ]
     },
     "execution_count": 16,
     "metadata": {},
     "output_type": "execute_result"
    }
   ],
   "source": [
    "import base64\n",
    "\n",
    "import matplotlib.pyplot as plt\n",
    "from IPython.core.pylabtools import print_figure\n",
    "\n",
    "\n",
    "class Works:\n",
    "    def __init__(self, oaid):\n",
    "        self.oaid = oaid\n",
    "        self.req = requests.get(f\"https://api.openalex.org/works/{oaid}\")\n",
    "        self.data = self.req.json()\n",
    "\n",
    "    def __str__(self):\n",
    "        return self.__repr__()\n",
    "\n",
    "    def __repr__(self):\n",
    "        _authors = [au[\"author\"][\"display_name\"] for au in self.data[\"authorships\"]]\n",
    "        if len(_authors) == 1:\n",
    "            authors = _authors[0]\n",
    "        else:\n",
    "            authors = \", \".join(_authors[0:-1]) + \" and\" + _authors[-1]\n",
    "\n",
    "        title = self.data[\"title\"]\n",
    "\n",
    "        journal = self.data[\"primary_location\"][\"source\"][\"display_name\"]\n",
    "        volume = self.data[\"biblio\"][\"volume\"]\n",
    "\n",
    "        issue = self.data[\"biblio\"][\"issue\"]\n",
    "        if issue is None:\n",
    "            issue = \", \"\n",
    "        else:\n",
    "            issue = \", \" + issue\n",
    "\n",
    "        pages = \"-\".join(\n",
    "            [self.data[\"biblio\"][\"first_page\"], self.data[\"biblio\"][\"last_page\"]]\n",
    "        )\n",
    "        year = self.data[\"publication_year\"]\n",
    "        citedby = self.data[\"cited_by_count\"]\n",
    "\n",
    "        oa = self.data[\"id\"]\n",
    "        s = f'{authors}, {title}, {volume}{issue}{pages}, ({year}), {self.data[\"doi\"]}. cited by: {citedby}. {oa}'\n",
    "        return s\n",
    "\n",
    "    def _repr_markdown_(self):\n",
    "        _authors = [\n",
    "            f'[{au[\"author\"][\"display_name\"]}]({au[\"author\"][\"id\"]})'\n",
    "            for au in self.data[\"authorships\"]\n",
    "        ]\n",
    "        if len(_authors) == 1:\n",
    "            authors = _authors[0]\n",
    "        else:\n",
    "            authors = \", \".join(_authors[0:-1]) + \" and \" + _authors[-1]\n",
    "\n",
    "        title = self.data[\"title\"]\n",
    "\n",
    "        jname = self.data[\"primary_location\"][\"source\"][\"display_name\"]\n",
    "        jurl = self.data[\"primary_location\"][\"source\"][\"id\"]\n",
    "        journal = f\"[{jname}]({jurl})\"\n",
    "        volume = self.data[\"biblio\"][\"volume\"]\n",
    "\n",
    "        issue = self.data[\"biblio\"][\"issue\"]\n",
    "        if issue is None:\n",
    "            issue = \", \"\n",
    "        else:\n",
    "            issue = \", \" + issue\n",
    "\n",
    "        pages = \"-\".join(\n",
    "            [self.data[\"biblio\"][\"first_page\"], self.data[\"biblio\"][\"last_page\"]]\n",
    "        )\n",
    "        year = self.data[\"publication_year\"]\n",
    "        citedby = self.data[\"cited_by_count\"]\n",
    "\n",
    "        oa = self.data[\"id\"]\n",
    "\n",
    "        # Citation counts by year\n",
    "        years = [e[\"year\"] for e in self.data[\"counts_by_year\"]]\n",
    "        counts = [e[\"cited_by_count\"] for e in self.data[\"counts_by_year\"]]\n",
    "\n",
    "        fig, ax = plt.subplots()\n",
    "        ax.bar(years, counts)\n",
    "        ax.set_xlabel(\"year\")\n",
    "        ax.set_ylabel(\"citation count\")\n",
    "        data = print_figure(fig, \"png\")  # save figure in string\n",
    "        plt.close(fig)\n",
    "\n",
    "        b64 = base64.b64encode(data).decode(\"utf8\")\n",
    "        citefig = f\"![img](data:image/png;base64,{b64})\"\n",
    "\n",
    "        s = f'{authors}, *{title}*, {journal}, **{volume}{issue}**, {pages}, ({year}), [{self.data[\"doi\"]}]({self.data[\"doi\"]}). cited by: {citedby}. [Open Alex]({oa})'\n",
    "\n",
    "        s += \"<br>\" + citefig\n",
    "        return s\n",
    "\n",
    "\n",
    "w = Works(\"https://doi.org/10.1021/acscatal.5b00538\")\n",
    "w"
   ]
  },
  {
   "cell_type": "markdown",
   "id": "50af7c57-c9c2-42cf-8d11-108961283866",
   "metadata": {},
   "source": [
    "## A Class property to get an RIS entry\n",
    "\n",
    "That looks pretty reasonable. Next, we might like to generate a bibliography entry, e.g. in bibtex or RIS form. bibtex can be used with LaTeX, and both can be imported into your favorite bibliographic tool, e.g. Zotero. Let's do [RIS](https://en.wikipedia.org/wiki/RIS_(file_format)).\n",
    "\n",
    "The code here is not complete, and is only lightly tested so far. It isn't possible to know in advance all the variations of data we might come across, and we do not make the code too defensive at this stage.\n",
    "\n"
   ]
  },
  {
   "cell_type": "code",
   "execution_count": 21,
   "id": "7a7a4ba8-732a-44fc-93ea-6f3426c71036",
   "metadata": {},
   "outputs": [
    {
     "data": {
      "text/html": [
       "<pre>TY  - JOUR\n",
       "AU  - John R. Kitchin\n",
       "PY  - 2015\n",
       "TI  - Examples of Effective Data Sharing in Scientific Publishing\n",
       "JO  - ACS Catalysis\n",
       "VL  - 5\n",
       "IS  - 6\n",
       "SP  - 3894\n",
       "EP  - 3899\n",
       "DO  - https://doi.org/10.1021/acscatal.5b00538\n",
       "ER  -</pre><br><a href=\"data:text/plain;base64,VFkgIC0gSk9VUgpBVSAgLSBKb2huIFIuIEtpdGNoaW4KUFkgIC0gMjAxNQpUSSAgLSBFeGFtcGxlcyBvZiBFZmZlY3RpdmUgRGF0YSBTaGFyaW5nIGluIFNjaWVudGlmaWMgUHVibGlzaGluZwpKTyAgLSBBQ1MgQ2F0YWx5c2lzClZMICAtIDUKSVMgIC0gNgpTUCAgLSAzODk0CkVQICAtIDM4OTkKRE8gIC0gaHR0cHM6Ly9kb2kub3JnLzEwLjEwMjEvYWNzY2F0YWwuNWIwMDUzOApFUiAgLQ==\" download=\"ris\">Download RIS</a>"
      ],
      "text/plain": [
       "<IPython.core.display.HTML object>"
      ]
     },
     "execution_count": 21,
     "metadata": {},
     "output_type": "execute_result"
    }
   ],
   "source": [
    "class Works:\n",
    "    def __init__(self, oaid):\n",
    "        self.oaid = oaid\n",
    "        self.req = requests.get(f\"https://api.openalex.org/works/{oaid}\")\n",
    "        self.data = self.req.json()\n",
    "\n",
    "    def __repr__(self):\n",
    "        _authors = [au[\"author\"][\"display_name\"] for au in self.data[\"authorships\"]]\n",
    "        if len(_authors) == 1:\n",
    "            authors = _authors[0]\n",
    "        else:\n",
    "            authors = \", \".join(_authors[0:-1]) + \" and\" + _authors[-1]\n",
    "\n",
    "        title = self.data[\"title\"]\n",
    "\n",
    "        journal = self.data[\"primary_location\"][\"source\"][\"display_name\"]\n",
    "        volume = self.data[\"biblio\"][\"volume\"]\n",
    "\n",
    "        issue = self.data[\"biblio\"][\"issue\"]\n",
    "        if issue is None:\n",
    "            issue = \", \"\n",
    "        else:\n",
    "            issue = \", \" + issue\n",
    "\n",
    "        pages = \"-\".join(\n",
    "            [self.data[\"biblio\"][\"first_page\"], self.data[\"biblio\"][\"last_page\"]]\n",
    "        )\n",
    "        year = self.data[\"publication_year\"]\n",
    "        citedby = self.data[\"cited_by_count\"]\n",
    "\n",
    "        oa = self.data[\"id\"]\n",
    "        s = f'{authors}, {title}, {journal}, {volume}{issue}{pages}, ({year}), {self.data[\"doi\"]}. cited by: {citedby}. {oa}'\n",
    "        return s\n",
    "\n",
    "    def _repr_markdown_(self):\n",
    "        _authors = [\n",
    "            f'[{au[\"author\"][\"display_name\"]}]({au[\"author\"][\"id\"]})'\n",
    "            for au in self.data[\"authorships\"]\n",
    "        ]\n",
    "        if len(_authors) == 1:\n",
    "            authors = _authors[0]\n",
    "        else:\n",
    "            authors = \", \".join(_authors[0:-1]) + \" and \" + _authors[-1]\n",
    "\n",
    "        title = self.data[\"title\"]\n",
    "\n",
    "        jname = self.data[\"primary_location\"][\"source\"][\"display_name\"]\n",
    "        jurl = self.data[\"primary_location\"][\"source\"][\"id\"]\n",
    "        journal = f\"[{jname}]({jurl})\"\n",
    "\n",
    "        volume = self.data[\"biblio\"][\"volume\"]\n",
    "\n",
    "        issue = self.data[\"biblio\"][\"issue\"]\n",
    "        if issue is None:\n",
    "            issue = \", \"\n",
    "        else:\n",
    "            issue = \", \" + issue\n",
    "\n",
    "        pages = \"-\".join(\n",
    "            [self.data[\"biblio\"][\"first_page\"], self.data[\"biblio\"][\"last_page\"]]\n",
    "        )\n",
    "        year = self.data[\"publication_year\"]\n",
    "        citedby = self.data[\"cited_by_count\"]\n",
    "\n",
    "        oa = self.data[\"id\"]\n",
    "\n",
    "        # Citation counts by year\n",
    "        years = [e[\"year\"] for e in self.data[\"counts_by_year\"]]\n",
    "        counts = [e[\"cited_by_count\"] for e in self.data[\"counts_by_year\"]]\n",
    "\n",
    "        fig, ax = plt.subplots()\n",
    "        ax.bar(years, counts)\n",
    "        ax.set_xlabel(\"year\")\n",
    "        ax.set_ylabel(\"citation count\")\n",
    "        data = print_figure(fig, \"png\")  # save figure in string\n",
    "        plt.close(fig)\n",
    "\n",
    "        b64 = base64.b64encode(data).decode(\"utf8\")\n",
    "        citefig = f\"![img](data:image/png;base64,{b64})\"\n",
    "\n",
    "        s = f'{authors}, *{title}*, **{journal}**, {volume}{issue}, {pages}, ({year}), {self.data[\"doi\"]}. cited by: {citedby}. [Open Alex]({oa})'\n",
    "\n",
    "        s += \"<br>\" + citefig\n",
    "        return s\n",
    "\n",
    "    @property\n",
    "    def ris(self):\n",
    "        fields = []\n",
    "        if self.data[\"type_crossref\"] == \"journal-article\":\n",
    "            fields += [\"TY  - JOUR\"]\n",
    "        else:\n",
    "            raise Exception(f\"Unsupported type {self.data['type']}\")\n",
    "\n",
    "        for author in self.data[\"authorships\"]:\n",
    "            fields += [f'AU  - {author[\"author\"][\"display_name\"]}']\n",
    "\n",
    "        fields += [f'PY  - {self.data[\"publication_year\"]}']\n",
    "        fields += [f'TI  - {self.data[\"title\"]}']\n",
    "        jname = self.data[\"primary_location\"][\"source\"][\"display_name\"]\n",
    "\n",
    "        fields += [f\"JO  - {jname}\"]\n",
    "        fields += [f'VL  - {self.data[\"biblio\"][\"volume\"]}']\n",
    "\n",
    "        if self.data[\"biblio\"][\"issue\"]:\n",
    "            fields += [f'IS  - {self.data[\"biblio\"][\"issue\"]}']\n",
    "\n",
    "        fields += [f'SP  - {self.data[\"biblio\"][\"first_page\"]}']\n",
    "        fields += [f'EP  - {self.data[\"biblio\"][\"last_page\"]}']\n",
    "        fields += [f'DO  - {self.data[\"doi\"]}']\n",
    "        fields += [\"ER  -\"]\n",
    "\n",
    "        ris = \"\\n\".join(fields)\n",
    "        ris64 = base64.b64encode(ris.encode(\"utf-8\")).decode(\"utf8\")\n",
    "        uri = f'<pre>{ris}</pre><br><a href=\"data:text/plain;base64,{ris64}\" download=\"ris\">Download RIS</a>'\n",
    "        from IPython.display import HTML\n",
    "\n",
    "        return HTML(uri)\n",
    "\n",
    "\n",
    "w = Works(\"https://doi.org/10.1021/acscatal.5b00538\")\n",
    "w.ris"
   ]
  },
  {
   "cell_type": "code",
   "execution_count": 22,
   "id": "0cc62d24-9c27-49a3-ba0a-25f031cfa7a1",
   "metadata": {},
   "outputs": [
    {
     "data": {
      "text/markdown": [
       "[John R. Kitchin](https://openalex.org/A5003442464), *Examples of Effective Data Sharing in Scientific Publishing*, **[ACS Catalysis](https://openalex.org/S37391459)**, 5, 6, 3894-3899, (2015), https://doi.org/10.1021/acscatal.5b00538. cited by: 19. [Open Alex](https://openalex.org/W2288114809)<br>![img](data:image/png;base64,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)"
      ],
      "text/plain": [
       "John R. Kitchin, Examples of Effective Data Sharing in Scientific Publishing, ACS Catalysis, 5, 63894-3899, (2015), https://doi.org/10.1021/acscatal.5b00538. cited by: 19. https://openalex.org/W2288114809"
      ]
     },
     "execution_count": 22,
     "metadata": {},
     "output_type": "execute_result"
    }
   ],
   "source": [
    "w"
   ]
  },
  {
   "cell_type": "markdown",
   "id": "67c00aa0-cdbe-46b0-9067-08d2841d7b39",
   "metadata": {},
   "source": [
    "You can copy that text to your clipboard, and import it to Zotero now. Or click on the link to download a file to your computer. Pretty sweet.\n",
    "\n"
   ]
  },
  {
   "cell_type": "markdown",
   "id": "4480a33f-955c-4377-82f0-b07876762c16",
   "metadata": {},
   "source": [
    "# Further enhancements\n",
    "\n",
    "There are three additional things we might like for our Works class:\n",
    "\n",
    "1. Get the references\n",
    "2. Get citing works\n",
    "3. Get related works\n",
    "\n",
    "For each one of these, print out something useful. We start with related works. There is a limit of 10 requests per second, so we import time so we can add a short delay.\n",
    "\n"
   ]
  },
  {
   "cell_type": "code",
   "execution_count": 23,
   "id": "fc2c887b-7060-41d4-9fd9-a99508b0e866",
   "metadata": {},
   "outputs": [
    {
     "name": "stdout",
     "output_type": "stream",
     "text": [
      " 1. Datong Wu, Xiaotong Wu, Jiaquan Gao, Genlin Ji, Taotao Wu, Xuyun Zhang and Wanchun Dou, A Survey of Game Theoretical Privacy Preservation for Data Sharing and Publishing, None, 205-216, (2020), https://doi.org/10.1007/978-981-15-9129-7_15. cited by: 2. https://openalex.org/W3093842987\n",
      "\n",
      "\n",
      " 2. Andias Wira Alam, Stefan Müller and Natascha Schumann, datorium: Sharing Platform for Social Science Data - Deposit and Publish Research Data for Better Visibility, None, 244-249, (2015), https://doi.org/10.5281/zenodo.17967. cited by: 0. https://openalex.org/W2296657372\n",
      "\n",
      "\n",
      " 3. Krzysztof J. Gorgolewski, Daniel S. Margulies and Michael P. Milham, Making Data Sharing Count: A Publication-Based Solution, 7, -, (2013), https://doi.org/10.3389/fnins.2013.00009. cited by: 78. https://openalex.org/W2125183513\n",
      "\n",
      "\n",
      " 4. Andrew Fabinyi, On Australian Publishing, 28, 3398-, (1969), None. cited by: 0. https://openalex.org/W2294677930\n",
      "\n",
      "\n",
      " 5. Erinn Huebner, A History of Christian Publishing, 61, 1-, (2018), https://doi.org/10.55221/2572-7478.1905. cited by: 0. https://openalex.org/W2801905285\n",
      "\n",
      "\n",
      " 6. Eric Glasgow, Alexander Strahan, publisher, 48, 291-96, (1999), https://doi.org/10.1108/00242539910259504. cited by: 0. https://openalex.org/W2028846973\n",
      "\n",
      "\n",
      " 7. Chinyere C. Emenyonu, Establishing a publishing outfit in Nigeria, 12, 1168-177, (2017), None. cited by: 0. https://openalex.org/W2698935035\n",
      "\n",
      "\n",
      " 8. Vittorio Bo, Scientific publishing: some food for thought, 06, 01C04-C04, (2007), https://doi.org/10.22323/2.06010304. cited by: 0. https://openalex.org/W2626564437\n",
      "\n",
      "\n",
      " 9. Beatriz Juárez Santamaría and María Elena Jiménez Fragozo, Open Access and Publication Preferences of the Academic Community of the Instituto de Astronomía of the Universidad Nacional Autónoma de México, None, -, (2022), https://doi.org/10.3847/25c2cfeb.abc96a90. cited by: 0. https://openalex.org/W4293238240\n",
      "\n",
      "\n",
      "10. Ооржак Марина Сергеевна, Book publishing activity of scientific and educational institutions in the Republic of Tyva: modern problems, None, 126-31, (2016), https://doi.org/10.20913/1815-3186-2016-1-26-31. cited by: 0. https://openalex.org/W2750416796\n",
      "\n",
      "\n"
     ]
    }
   ],
   "source": [
    "import time\n",
    "\n",
    "\n",
    "class Works:\n",
    "    def __init__(self, oaid):\n",
    "        self.oaid = oaid\n",
    "        self.req = requests.get(f\"https://api.openalex.org/works/{oaid}\")\n",
    "        self.data = self.req.json()\n",
    "\n",
    "\n",
    "    def __repr__(self):\n",
    "        _authors = [au[\"author\"][\"display_name\"] for au in self.data[\"authorships\"]]\n",
    "        if len(_authors) == 1:\n",
    "            authors = _authors[0]\n",
    "        else:\n",
    "            authors = \", \".join(_authors[0:-1]) + \" and \" + _authors[-1]\n",
    "\n",
    "        title = self.data[\"title\"]\n",
    "\n",
    "        journal = self.data[\"primary_location\"][\"source\"][\"display_name\"]\n",
    "        volume = self.data[\"biblio\"][\"volume\"]\n",
    "\n",
    "        issue = self.data[\"biblio\"][\"issue\"]\n",
    "        if issue is None:\n",
    "            issue = \", \"\n",
    "        else:\n",
    "            issue = \", \" + issue\n",
    "\n",
    "        pages = \"-\".join(\n",
    "            [\n",
    "                self.data[\"biblio\"].get(\"first_page\", \"\") or \"\",\n",
    "                self.data[\"biblio\"].get(\"last_page\", \"\") or \"\",\n",
    "            ]\n",
    "        )\n",
    "        year = self.data[\"publication_year\"]\n",
    "        citedby = self.data[\"cited_by_count\"]\n",
    "\n",
    "        oa = self.data[\"id\"]\n",
    "        s = f'{authors}, {title}, {volume}{issue}{pages}, ({year}), {self.data[\"doi\"]}. cited by: {citedby}. {oa}'\n",
    "        return s\n",
    "\n",
    "\n",
    "    def related_works(self):\n",
    "        rworks = []\n",
    "        for rw_url in self.data[\"related_works\"]:\n",
    "            rw = Works(rw_url)\n",
    "            rworks += [rw]\n",
    "            time.sleep(0.101)\n",
    "        return rworks\n",
    "\n",
    "\n",
    "w = Works(\"https://doi.org/10.1021/acscatal.5b00538\")\n",
    "rw = w.related_works()\n",
    "for i, _rw in enumerate(rw):\n",
    "    try:\n",
    "        a = repr(_rw)\n",
    "        print(f\"{i + 1:2d}. {a}\\n\\n\")\n",
    "    except:\n",
    "        print(f'Caught exception for {_rw.oaid}.')"
   ]
  },
  {
   "cell_type": "code",
   "execution_count": 27,
   "id": "1b786ae8-5c97-45d9-88ba-a1d7fff4d656",
   "metadata": {},
   "outputs": [
    {
     "data": {
      "text/plain": [
       "Datong Wu, Xiaotong Wu, Jiaquan Gao, Genlin Ji, Taotao Wu, Xuyun Zhang and Wanchun Dou, A Survey of Game Theoretical Privacy Preservation for Data Sharing and Publishing, None, 205-216, (2020), https://doi.org/10.1007/978-981-15-9129-7_15. cited by: 2. https://openalex.org/W3093842987"
      ]
     },
     "metadata": {},
     "output_type": "display_data"
    },
    {
     "data": {
      "text/plain": [
       "Andias Wira Alam, Stefan Müller and Natascha Schumann, datorium: Sharing Platform for Social Science Data - Deposit and Publish Research Data for Better Visibility, None, 244-249, (2015), https://doi.org/10.5281/zenodo.17967. cited by: 0. https://openalex.org/W2296657372"
      ]
     },
     "metadata": {},
     "output_type": "display_data"
    },
    {
     "data": {
      "text/plain": [
       "Krzysztof J. Gorgolewski, Daniel S. Margulies and Michael P. Milham, Making Data Sharing Count: A Publication-Based Solution, 7, -, (2013), https://doi.org/10.3389/fnins.2013.00009. cited by: 78. https://openalex.org/W2125183513"
      ]
     },
     "metadata": {},
     "output_type": "display_data"
    },
    {
     "data": {
      "text/plain": [
       "Andrew Fabinyi, On Australian Publishing, 28, 3398-, (1969), None. cited by: 0. https://openalex.org/W2294677930"
      ]
     },
     "metadata": {},
     "output_type": "display_data"
    },
    {
     "data": {
      "text/plain": [
       "Erinn Huebner, A History of Christian Publishing, 61, 1-, (2018), https://doi.org/10.55221/2572-7478.1905. cited by: 0. https://openalex.org/W2801905285"
      ]
     },
     "metadata": {},
     "output_type": "display_data"
    },
    {
     "data": {
      "text/plain": [
       "Eric Glasgow, Alexander Strahan, publisher, 48, 291-96, (1999), https://doi.org/10.1108/00242539910259504. cited by: 0. https://openalex.org/W2028846973"
      ]
     },
     "metadata": {},
     "output_type": "display_data"
    },
    {
     "data": {
      "text/plain": [
       "Chinyere C. Emenyonu, Establishing a publishing outfit in Nigeria, 12, 1168-177, (2017), None. cited by: 0. https://openalex.org/W2698935035"
      ]
     },
     "metadata": {},
     "output_type": "display_data"
    },
    {
     "data": {
      "text/plain": [
       "Vittorio Bo, Scientific publishing: some food for thought, 06, 01C04-C04, (2007), https://doi.org/10.22323/2.06010304. cited by: 0. https://openalex.org/W2626564437"
      ]
     },
     "metadata": {},
     "output_type": "display_data"
    },
    {
     "data": {
      "text/plain": [
       "Beatriz Juárez Santamaría and María Elena Jiménez Fragozo, Open Access and Publication Preferences of the Academic Community of the Instituto de Astronomía of the Universidad Nacional Autónoma de México, None, -, (2022), https://doi.org/10.3847/25c2cfeb.abc96a90. cited by: 0. https://openalex.org/W4293238240"
      ]
     },
     "metadata": {},
     "output_type": "display_data"
    },
    {
     "data": {
      "text/plain": [
       "Ооржак Марина Сергеевна, Book publishing activity of scientific and educational institutions in the Republic of Tyva: modern problems, None, 126-31, (2016), https://doi.org/10.20913/1815-3186-2016-1-26-31. cited by: 0. https://openalex.org/W2750416796"
      ]
     },
     "metadata": {},
     "output_type": "display_data"
    }
   ],
   "source": [
    "for _rw in rw:\n",
    "    display(_rw)"
   ]
  },
  {
   "cell_type": "markdown",
   "id": "92c02319-704d-40c8-8be3-90f837fa803f",
   "metadata": {},
   "source": [
    "There are some exceptions caught because some entries do not have the data we try to access in the returned results. For example, [](https://openalex.org/W2748952813) does not seem to have a primary_location."
   ]
  },
  {
   "cell_type": "code",
   "execution_count": 24,
   "id": "7ec7be11-0003-45de-871b-8420db5923ed",
   "metadata": {},
   "outputs": [
    {
     "ename": "TypeError",
     "evalue": "'NoneType' object is not subscriptable",
     "output_type": "error",
     "traceback": [
      "\u001b[0;31m---------------------------------------------------------------------------\u001b[0m",
      "\u001b[0;31mTypeError\u001b[0m                                 Traceback (most recent call last)",
      "File \u001b[0;32m/opt/tljh/user/lib/python3.9/site-packages/IPython/core/formatters.py:707\u001b[0m, in \u001b[0;36mPlainTextFormatter.__call__\u001b[0;34m(self, obj)\u001b[0m\n\u001b[1;32m    700\u001b[0m stream \u001b[38;5;241m=\u001b[39m StringIO()\n\u001b[1;32m    701\u001b[0m printer \u001b[38;5;241m=\u001b[39m pretty\u001b[38;5;241m.\u001b[39mRepresentationPrinter(stream, \u001b[38;5;28mself\u001b[39m\u001b[38;5;241m.\u001b[39mverbose,\n\u001b[1;32m    702\u001b[0m     \u001b[38;5;28mself\u001b[39m\u001b[38;5;241m.\u001b[39mmax_width, \u001b[38;5;28mself\u001b[39m\u001b[38;5;241m.\u001b[39mnewline,\n\u001b[1;32m    703\u001b[0m     max_seq_length\u001b[38;5;241m=\u001b[39m\u001b[38;5;28mself\u001b[39m\u001b[38;5;241m.\u001b[39mmax_seq_length,\n\u001b[1;32m    704\u001b[0m     singleton_pprinters\u001b[38;5;241m=\u001b[39m\u001b[38;5;28mself\u001b[39m\u001b[38;5;241m.\u001b[39msingleton_printers,\n\u001b[1;32m    705\u001b[0m     type_pprinters\u001b[38;5;241m=\u001b[39m\u001b[38;5;28mself\u001b[39m\u001b[38;5;241m.\u001b[39mtype_printers,\n\u001b[1;32m    706\u001b[0m     deferred_pprinters\u001b[38;5;241m=\u001b[39m\u001b[38;5;28mself\u001b[39m\u001b[38;5;241m.\u001b[39mdeferred_printers)\n\u001b[0;32m--> 707\u001b[0m \u001b[43mprinter\u001b[49m\u001b[38;5;241;43m.\u001b[39;49m\u001b[43mpretty\u001b[49m\u001b[43m(\u001b[49m\u001b[43mobj\u001b[49m\u001b[43m)\u001b[49m\n\u001b[1;32m    708\u001b[0m printer\u001b[38;5;241m.\u001b[39mflush()\n\u001b[1;32m    709\u001b[0m \u001b[38;5;28;01mreturn\u001b[39;00m stream\u001b[38;5;241m.\u001b[39mgetvalue()\n",
      "File \u001b[0;32m/opt/tljh/user/lib/python3.9/site-packages/IPython/lib/pretty.py:410\u001b[0m, in \u001b[0;36mRepresentationPrinter.pretty\u001b[0;34m(self, obj)\u001b[0m\n\u001b[1;32m    407\u001b[0m                         \u001b[38;5;28;01mreturn\u001b[39;00m meth(obj, \u001b[38;5;28mself\u001b[39m, cycle)\n\u001b[1;32m    408\u001b[0m                 \u001b[38;5;28;01mif\u001b[39;00m \u001b[38;5;28mcls\u001b[39m \u001b[38;5;129;01mis\u001b[39;00m \u001b[38;5;129;01mnot\u001b[39;00m \u001b[38;5;28mobject\u001b[39m \\\n\u001b[1;32m    409\u001b[0m                         \u001b[38;5;129;01mand\u001b[39;00m callable(\u001b[38;5;28mcls\u001b[39m\u001b[38;5;241m.\u001b[39m\u001b[38;5;18m__dict__\u001b[39m\u001b[38;5;241m.\u001b[39mget(\u001b[38;5;124m'\u001b[39m\u001b[38;5;124m__repr__\u001b[39m\u001b[38;5;124m'\u001b[39m)):\n\u001b[0;32m--> 410\u001b[0m                     \u001b[38;5;28;01mreturn\u001b[39;00m \u001b[43m_repr_pprint\u001b[49m\u001b[43m(\u001b[49m\u001b[43mobj\u001b[49m\u001b[43m,\u001b[49m\u001b[43m \u001b[49m\u001b[38;5;28;43mself\u001b[39;49m\u001b[43m,\u001b[49m\u001b[43m \u001b[49m\u001b[43mcycle\u001b[49m\u001b[43m)\u001b[49m\n\u001b[1;32m    412\u001b[0m     \u001b[38;5;28;01mreturn\u001b[39;00m _default_pprint(obj, \u001b[38;5;28mself\u001b[39m, cycle)\n\u001b[1;32m    413\u001b[0m \u001b[38;5;28;01mfinally\u001b[39;00m:\n",
      "File \u001b[0;32m/opt/tljh/user/lib/python3.9/site-packages/IPython/lib/pretty.py:778\u001b[0m, in \u001b[0;36m_repr_pprint\u001b[0;34m(obj, p, cycle)\u001b[0m\n\u001b[1;32m    776\u001b[0m \u001b[38;5;124;03m\"\"\"A pprint that just redirects to the normal repr function.\"\"\"\u001b[39;00m\n\u001b[1;32m    777\u001b[0m \u001b[38;5;66;03m# Find newlines and replace them with p.break_()\u001b[39;00m\n\u001b[0;32m--> 778\u001b[0m output \u001b[38;5;241m=\u001b[39m \u001b[38;5;28;43mrepr\u001b[39;49m\u001b[43m(\u001b[49m\u001b[43mobj\u001b[49m\u001b[43m)\u001b[49m\n\u001b[1;32m    779\u001b[0m lines \u001b[38;5;241m=\u001b[39m output\u001b[38;5;241m.\u001b[39msplitlines()\n\u001b[1;32m    780\u001b[0m \u001b[38;5;28;01mwith\u001b[39;00m p\u001b[38;5;241m.\u001b[39mgroup():\n",
      "Input \u001b[0;32mIn [23]\u001b[0m, in \u001b[0;36mWorks.__repr__\u001b[0;34m(self)\u001b[0m\n\u001b[1;32m     16\u001b[0m     authors \u001b[38;5;241m=\u001b[39m \u001b[38;5;124m\"\u001b[39m\u001b[38;5;124m, \u001b[39m\u001b[38;5;124m\"\u001b[39m\u001b[38;5;241m.\u001b[39mjoin(_authors[\u001b[38;5;241m0\u001b[39m:\u001b[38;5;241m-\u001b[39m\u001b[38;5;241m1\u001b[39m]) \u001b[38;5;241m+\u001b[39m \u001b[38;5;124m\"\u001b[39m\u001b[38;5;124m and \u001b[39m\u001b[38;5;124m\"\u001b[39m \u001b[38;5;241m+\u001b[39m _authors[\u001b[38;5;241m-\u001b[39m\u001b[38;5;241m1\u001b[39m]\n\u001b[1;32m     18\u001b[0m title \u001b[38;5;241m=\u001b[39m \u001b[38;5;28mself\u001b[39m\u001b[38;5;241m.\u001b[39mdata[\u001b[38;5;124m\"\u001b[39m\u001b[38;5;124mtitle\u001b[39m\u001b[38;5;124m\"\u001b[39m]\n\u001b[0;32m---> 20\u001b[0m journal \u001b[38;5;241m=\u001b[39m \u001b[38;5;28;43mself\u001b[39;49m\u001b[38;5;241;43m.\u001b[39;49m\u001b[43mdata\u001b[49m\u001b[43m[\u001b[49m\u001b[38;5;124;43m\"\u001b[39;49m\u001b[38;5;124;43mprimary_location\u001b[39;49m\u001b[38;5;124;43m\"\u001b[39;49m\u001b[43m]\u001b[49m\u001b[43m[\u001b[49m\u001b[38;5;124;43m\"\u001b[39;49m\u001b[38;5;124;43msource\u001b[39;49m\u001b[38;5;124;43m\"\u001b[39;49m\u001b[43m]\u001b[49m\u001b[43m[\u001b[49m\u001b[38;5;124;43m\"\u001b[39;49m\u001b[38;5;124;43mdisplay_name\u001b[39;49m\u001b[38;5;124;43m\"\u001b[39;49m\u001b[43m]\u001b[49m\n\u001b[1;32m     21\u001b[0m volume \u001b[38;5;241m=\u001b[39m \u001b[38;5;28mself\u001b[39m\u001b[38;5;241m.\u001b[39mdata[\u001b[38;5;124m\"\u001b[39m\u001b[38;5;124mbiblio\u001b[39m\u001b[38;5;124m\"\u001b[39m][\u001b[38;5;124m\"\u001b[39m\u001b[38;5;124mvolume\u001b[39m\u001b[38;5;124m\"\u001b[39m]\n\u001b[1;32m     23\u001b[0m issue \u001b[38;5;241m=\u001b[39m \u001b[38;5;28mself\u001b[39m\u001b[38;5;241m.\u001b[39mdata[\u001b[38;5;124m\"\u001b[39m\u001b[38;5;124mbiblio\u001b[39m\u001b[38;5;124m\"\u001b[39m][\u001b[38;5;124m\"\u001b[39m\u001b[38;5;124missue\u001b[39m\u001b[38;5;124m\"\u001b[39m]\n",
      "\u001b[0;31mTypeError\u001b[0m: 'NoneType' object is not subscriptable"
     ]
    }
   ],
   "source": [
    "Works(\"https://openalex.org/W2748952813\")"
   ]
  },
  {
   "cell_type": "markdown",
   "id": "d6f39c34-22db-4305-b2b7-149bd8672ea0",
   "metadata": {},
   "source": [
    "# Summary\n",
    "\n",
    "Today we only reviewed Python classes, and worked out some ways to use a class to encapsulate information about a Works. The class is still incomplete in many ways.\n",
    "\n",
    "1. It only exists in this notebook. Eventually, we will have to extract it into a file, and in a package.\n",
    "2. It is not very fault tolerant. For example, it will give errors if any retrieved entry is not a journal article.\n",
    "3. We did not implement all the features we desired.\n",
    "\n"
   ]
  },
  {
   "cell_type": "markdown",
   "id": "f0e97b61-63ae-4382-9b45-042efc178c0d",
   "metadata": {},
   "source": [
    "# Exercise\n",
    "\n",
    "Implement the other features we described above."
   ]
  }
 ],
 "metadata": {
  "kernelspec": {
   "display_name": "Python 3",
   "language": "python",
   "name": "python3"
  },
  "language_info": {
   "codemirror_mode": {
    "name": "ipython",
    "version": 3
   },
   "file_extension": ".py",
   "mimetype": "text/x-python",
   "name": "python",
   "nbconvert_exporter": "python",
   "pygments_lexer": "ipython3",
   "version": "3.9.7"
  },
  "widgets": {
   "application/vnd.jupyter.widget-state+json": {
    "state": {},
    "version_major": 2,
    "version_minor": 0
   }
  }
 },
 "nbformat": 4,
 "nbformat_minor": 5
}
