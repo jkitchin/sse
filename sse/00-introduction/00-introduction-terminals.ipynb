{
 "cells": [
  {
   "cell_type": "markdown",
   "id": "f32e84c5-7dbd-4242-8c66-bd66b8ebff4d",
   "metadata": {},
   "source": [
    "Introduction\n",
    "============\n",
    "\n",
    "You should read most of https://merely-useful.tech/py-rse/index.html in parallel with this course. We will not follow it exactly, but it contains many useful things we won't have time to fully cover.\n",
    "\n",
    "Course structure:\n",
    "\n",
    "We will start with the shell, and use it to get some information from https://openalex.org/. This will introduce us to some basic concepts in how software works on a computer. Then, we will transition to using Python, which is more flexible, to create shell commands. Finally, we will transition that into a Jupyter notebook app of sorts, with reusable packaged code.\n",
    "\n",
    "We need a little bit of setup for using Jupyter lab. These notes are written in a Jupyter notebook. Some cells will run Python code. Other cells will start with a `shell magic` \"%%bash\". These cells will execute shell commands, similar to running those commands in a terminal."
   ]
  },
  {
   "cell_type": "markdown",
   "id": "12ed4373-811e-437d-9b57-715aa88b9c4f",
   "metadata": {},
   "source": [
    "# Terminals and shells\n",
    "\n",
    "A terminal is a command-line interface to your computer. In it you type commands to do things. In Windows it might be called the DOS prompt, or Powershell, or if you have the Linux Subsystem installed, it is just a terminal. On a Mac/Linux system it is also often called a terminal. Terminals usually do not have a lot of functionality compared to a \"Window/GUI\" system. In fact, you can run a terminal in systems where there is in GUI present.\n",
    "\n",
    "In the terminal, a *shell* runs. The shell provides some commands and functionality to the terminal. Some typical shells include:\n",
    "\n",
    "- bash\n",
    "- csh/tcsh\n",
    "- zsh\n",
    "\n",
    "Others exist too, but these are the most common ones.\n",
    "\n",
    "You can find out what shell you are using by running this command:\n",
    "\n",
    "    "
   ]
  },
  {
   "cell_type": "code",
   "execution_count": 1,
   "id": "031d5d68-d364-4790-a85e-4e28fe416933",
   "metadata": {},
   "outputs": [
    {
     "name": "stdout",
     "output_type": "stream",
     "text": [
      "/bin/bash\n"
     ]
    }
   ],
   "source": [
    "%%bash\n",
    "echo $SHELL"
   ]
  },
  {
   "cell_type": "markdown",
   "id": "2014407d-39d4-4d9a-b05a-a24cd881596d",
   "metadata": {},
   "source": [
    "Here, echo is a command, and $SHELL is called an environment variable. We will learn more about those later.    "
   ]
  },
  {
   "cell_type": "markdown",
   "id": "07b64902-fbbf-42d4-9546-b864ccc2e498",
   "metadata": {},
   "source": [
    "# Paths and the working directory\n",
    "\n",
    "We need to talk about the concept of *where are we in the computer*? A computer has a file system, and all files live at a path in that system\n",
    "\n",
    "All files live at a path. The root of the file system (on Linux) starts at /. We use the `ls` command to list files at a path.  "
   ]
  },
  {
   "cell_type": "code",
   "execution_count": 2,
   "id": "aa10c8ab-2e8b-4c1c-b5b6-718838878277",
   "metadata": {},
   "outputs": [
    {
     "name": "stdout",
     "output_type": "stream",
     "text": [
      "bin\n",
      "boot\n",
      "dev\n",
      "etc\n",
      "home\n",
      "lib\n",
      "lib32\n",
      "lib64\n",
      "libx32\n",
      "media\n",
      "mnt\n",
      "opt\n",
      "proc\n",
      "root\n",
      "run\n",
      "sbin\n",
      "srv\n",
      "sys\n",
      "tmp\n",
      "usr\n",
      "var\n"
     ]
    }
   ],
   "source": [
    "%%bash\n",
    "ls /"
   ]
  },
  {
   "cell_type": "markdown",
   "id": "4247c84a-0231-4abc-9e5f-b170d5ea0c94",
   "metadata": {},
   "source": [
    "You do not always have permission to list any directory. You can run `ls /home`, but you probably cannot list the contents of most directories in /home; they belong to other people and are private. That can be changed, but not today. \n",
    "\n",
    "The shell is always somewhere in it. It is often important to know where that is. Let's start with the `pwd` command, or path to working directory."
   ]
  },
  {
   "cell_type": "code",
   "execution_count": 3,
   "id": "3bcfe9a3-7244-44a4-a272-20341f9cef4f",
   "metadata": {},
   "outputs": [
    {
     "name": "stdout",
     "output_type": "stream",
     "text": [
      "/home/jovyan/work/00-introduction\n"
     ]
    }
   ],
   "source": [
    "%%bash\n",
    "pwd"
   ]
  },
  {
   "cell_type": "markdown",
   "id": "459d1c23-09e7-4768-8c5f-5689ed18f5e6",
   "metadata": {},
   "source": [
    "    \n",
    "    \n",
    "To get the contents of this directory, simply type `ls`. \n",
    "\n",
    "## Absolute and relative paths\n",
    "\n",
    "An absolute path starts with /, i.e. at the root of the file system.\n",
    "\n",
    "A relative path does not. A relative path assumes the current working directory is the root, and the path is relative to that. There are two special paths you can use:\n",
    "\n",
    "    .   this means the current directory\n",
    "    ..  this means one directory \"up\"\n",
    "    \n",
    "So `ls ..` lists the contents one directory up, and `ls ../..` lists the contents two directories up.    "
   ]
  },
  {
   "cell_type": "code",
   "execution_count": 4,
   "id": "9ce79d2c-3e4d-4fd5-93a9-a92c15cbd14b",
   "metadata": {},
   "outputs": [
    {
     "name": "stdout",
     "output_type": "stream",
     "text": [
      "00-introduction\n",
      "01-rest-api-openalex\n",
      "02-python-requests\n",
      "03-python-packaging\n",
      "04-more-python-packaging\n",
      "05-python-classes\n",
      "06-code-quality\n",
      "07-github-intro\n",
      "08-github-actions\n",
      "09-wrapup\n",
      "_build\n",
      "_config.yml\n",
      "content.md\n",
      "intro.md\n",
      "logo.png\n",
      "markdown.md\n",
      "markdown-notebooks.md\n",
      "notebooks.ipynb\n",
      "references.bib\n",
      "_toc.yml\n"
     ]
    }
   ],
   "source": [
    "%%bash\n",
    "ls .."
   ]
  },
  {
   "cell_type": "markdown",
   "id": "987661f3-6d46-4f98-9223-f76912064ca0",
   "metadata": {},
   "source": [
    "# Commands\n",
    "\n",
    "Commands are typed at the shell prompt. There are several kinds of commands. Some are built into the shell. Some are called system commands. Finally, there are user-defined commands. We have already seen several commands:\n",
    "\n",
    "- echo\n",
    "- ls\n",
    "- pwd\n",
    "\n",
    "We can use the `type` command to tell what kind of command something is. Try it:\n",
    "\n",
    "    "
   ]
  },
  {
   "cell_type": "code",
   "execution_count": 5,
   "id": "ed3d2a30-eca9-4a02-83eb-00e27a81b251",
   "metadata": {},
   "outputs": [
    {
     "name": "stdout",
     "output_type": "stream",
     "text": [
      "echo is a shell builtin\n"
     ]
    }
   ],
   "source": [
    "%%bash\n",
    "type echo"
   ]
  },
  {
   "cell_type": "markdown",
   "id": "baab05a1-6bc6-4e86-a30a-6a143eac77a7",
   "metadata": {},
   "source": [
    "You use commands to make the computer do something. That could include:\n",
    "\n",
    "- change directory\n",
    "- see contents of a file\n",
    "- make a file or directory\n",
    "- delete a file or directory\n",
    "- run a python shell\n",
    "- and many more things"
   ]
  },
  {
   "cell_type": "markdown",
   "id": "64ed3e1a-919d-4384-b62c-9021e387a1da",
   "metadata": {},
   "source": [
    "Many commands have additional options. These are often documented in \"manual\" pages. You access this documentation with the `man` command. First see what kind of command `ls` is:\n",
    "\n",
    "    "
   ]
  },
  {
   "cell_type": "code",
   "execution_count": 6,
   "id": "b29d20fe-9687-4ab9-98c9-92436f9de71b",
   "metadata": {},
   "outputs": [
    {
     "name": "stdout",
     "output_type": "stream",
     "text": [
      "ls is /usr/bin/ls\n"
     ]
    }
   ],
   "source": [
    "%%bash\n",
    "type ls"
   ]
  },
  {
   "cell_type": "markdown",
   "id": "58f2427b-3da0-470f-96d5-9671b013065a",
   "metadata": {},
   "source": [
    "    \n",
    "On the JupyterHUB, you will find it is aliased to provide some default options. We will see how that is done later. Next run:\n",
    "\n",
    "    man ls\n",
    "    \n",
    "to see the options that are available. Try using the -a option for showing all files. This shows a lot more files! It is a convention that files and directories that start with \".\" are *hidden* files. These files and directories often contain configuration information, or other kinds of information like a history. Let's look at some of these. We can use the `cat` command (from concatenate) to display the contents of a file. Try this:"
   ]
  },
  {
   "cell_type": "code",
   "execution_count": 1,
   "id": "3157ea55-a9ea-4bfc-9ddf-a5a19199ef93",
   "metadata": {},
   "outputs": [
    {
     "name": "stdout",
     "output_type": "stream",
     "text": [
      "This system has been minimized by removing packages and content that are\n",
      "not required on a system that users do not log into.\n",
      "\n",
      "To restore this content, including manpages, you can run the 'unminimize'\n",
      "command. You will still need to ensure the 'man-db' package is installed.\n"
     ]
    }
   ],
   "source": [
    "%%bash\n",
    "man ls"
   ]
  },
  {
   "cell_type": "code",
   "execution_count": 3,
   "id": "dcbad0c7-10b1-4d02-b467-774bac641419",
   "metadata": {},
   "outputs": [
    {
     "name": "stdout",
     "output_type": "stream",
     "text": [
      ".\n",
      "..\n",
      ".bash_logout\n",
      ".bashrc\n",
      ".cache\n",
      ".conda\n",
      ".config\n",
      ".ipython\n",
      ".jupyter\n",
      ".local\n",
      ".lsp_symlink\n",
      ".npm\n",
      ".profile\n",
      ".wget-hsts\n",
      "work\n",
      ".yarn\n"
     ]
    }
   ],
   "source": [
    "%%bash\n",
    "\n",
    "ls -a ~/"
   ]
  },
  {
   "cell_type": "code",
   "execution_count": 5,
   "id": "e8515eef-d7cd-48fd-bfc8-c4d81a3529c3",
   "metadata": {},
   "outputs": [
    {
     "name": "stdout",
     "output_type": "stream",
     "text": [
      "# ~/.bashrc: executed by bash(1) for non-login shells.\n",
      "# see /usr/share/doc/bash/examples/startup-files (in the package bash-doc)\n",
      "# for examples\n",
      "\n",
      "# If not running interactively, don't do anything\n",
      "case $- in\n",
      "    *i*) ;;\n",
      "      *) return;;\n",
      "esac\n",
      "\n",
      "# don't put duplicate lines or lines starting with space in the history.\n",
      "# See bash(1) for more options\n",
      "HISTCONTROL=ignoreboth\n",
      "\n",
      "# append to the history file, don't overwrite it\n",
      "shopt -s histappend\n",
      "\n",
      "# for setting history length see HISTSIZE and HISTFILESIZE in bash(1)\n",
      "HISTSIZE=1000\n",
      "HISTFILESIZE=2000\n",
      "\n",
      "# check the window size after each command and, if necessary,\n",
      "# update the values of LINES and COLUMNS.\n",
      "shopt -s checkwinsize\n",
      "\n",
      "# If set, the pattern \"**\" used in a pathname expansion context will\n",
      "# match all files and zero or more directories and subdirectories.\n",
      "#shopt -s globstar\n",
      "\n",
      "# make less more friendly for non-text input files, see lesspipe(1)\n",
      "[ -x /usr/bin/lesspipe ] && eval \"$(SHELL=/bin/sh lesspipe)\"\n",
      "\n",
      "# set variable identifying the chroot you work in (used in the prompt below)\n",
      "if [ -z \"${debian_chroot:-}\" ] && [ -r /etc/debian_chroot ]; then\n",
      "    debian_chroot=$(cat /etc/debian_chroot)\n",
      "fi\n",
      "\n",
      "# set a fancy prompt (non-color, unless we know we \"want\" color)\n",
      "case \"$TERM\" in\n",
      "    xterm-color|*-256color) color_prompt=yes;;\n",
      "esac\n",
      "\n",
      "# uncomment for a colored prompt, if the terminal has the capability; turned\n",
      "# off by default to not distract the user: the focus in a terminal window\n",
      "# should be on the output of commands, not on the prompt\n",
      "force_color_prompt=yes\n",
      "\n",
      "if [ -n \"$force_color_prompt\" ]; then\n",
      "    if [ -x /usr/bin/tput ] && tput setaf 1 >&/dev/null; then\n",
      "\t# We have color support; assume it's compliant with Ecma-48\n",
      "\t# (ISO/IEC-6429). (Lack of such support is extremely rare, and such\n",
      "\t# a case would tend to support setf rather than setaf.)\n",
      "\tcolor_prompt=yes\n",
      "    else\n",
      "\tcolor_prompt=\n",
      "    fi\n",
      "fi\n",
      "\n",
      "if [ \"$color_prompt\" = yes ]; then\n",
      "    PS1='${debian_chroot:+($debian_chroot)}\\[\\033[01;32m\\]\\u@\\h\\[\\033[00m\\]:\\[\\033[01;34m\\]\\w\\[\\033[00m\\]\\$ '\n",
      "else\n",
      "    PS1='${debian_chroot:+($debian_chroot)}\\u@\\h:\\w\\$ '\n",
      "fi\n",
      "unset color_prompt force_color_prompt\n",
      "\n",
      "# If this is an xterm set the title to user@host:dir\n",
      "case \"$TERM\" in\n",
      "xterm*|rxvt*)\n",
      "    PS1=\"\\[\\e]0;${debian_chroot:+($debian_chroot)}\\u@\\h: \\w\\a\\]$PS1\"\n",
      "    ;;\n",
      "*)\n",
      "    ;;\n",
      "esac\n",
      "\n",
      "# enable color support of ls and also add handy aliases\n",
      "if [ -x /usr/bin/dircolors ]; then\n",
      "    test -r ~/.dircolors && eval \"$(dircolors -b ~/.dircolors)\" || eval \"$(dircolors -b)\"\n",
      "    alias ls='ls --color=auto'\n",
      "    #alias dir='dir --color=auto'\n",
      "    #alias vdir='vdir --color=auto'\n",
      "\n",
      "    alias grep='grep --color=auto'\n",
      "    alias fgrep='fgrep --color=auto'\n",
      "    alias egrep='egrep --color=auto'\n",
      "fi\n",
      "\n",
      "# colored GCC warnings and errors\n",
      "#export GCC_COLORS='error=01;31:warning=01;35:note=01;36:caret=01;32:locus=01:quote=01'\n",
      "\n",
      "# some more ls aliases\n",
      "alias ll='ls -alF'\n",
      "alias la='ls -A'\n",
      "alias l='ls -CF'\n",
      "\n",
      "# Add an \"alert\" alias for long running commands.  Use like so:\n",
      "#   sleep 10; alert\n",
      "alias alert='notify-send --urgency=low -i \"$([ $? = 0 ] && echo terminal || echo error)\" \"$(history|tail -n1|sed -e '\\''s/^\\s*[0-9]\\+\\s*//;s/[;&|]\\s*alert$//'\\'')\"'\n",
      "\n",
      "# Alias definitions.\n",
      "# You may want to put all your additions into a separate file like\n",
      "# ~/.bash_aliases, instead of adding them here directly.\n",
      "# See /usr/share/doc/bash-doc/examples in the bash-doc package.\n",
      "\n",
      "if [ -f ~/.bash_aliases ]; then\n",
      "    . ~/.bash_aliases\n",
      "fi\n",
      "\n",
      "# enable programmable completion features (you don't need to enable\n",
      "# this, if it's already enabled in /etc/bash.bashrc and /etc/profile\n",
      "# sources /etc/bash.bashrc).\n",
      "if ! shopt -oq posix; then\n",
      "  if [ -f /usr/share/bash-completion/bash_completion ]; then\n",
      "    . /usr/share/bash-completion/bash_completion\n",
      "  elif [ -f /etc/bash_completion ]; then\n",
      "    . /etc/bash_completion\n",
      "  fi\n",
      "fi\n",
      "eval \"$(command conda shell.bash hook 2> /dev/null)\"\n"
     ]
    }
   ],
   "source": [
    "%%bash\n",
    "cat ~/.bashrc\n",
    "\n",
    "\n",
    "    "
   ]
  },
  {
   "cell_type": "markdown",
   "id": "45761b83-20f7-4b73-bfec-e5c50f6b57cb",
   "metadata": {},
   "source": [
    "## Where are the commands?\n",
    "\n",
    "The answer is it depends. Commands that are built into the shell simply exist. For example:\n",
    "\n",
    "    type pwd\n",
    "    \n",
    "shows that `pwd is a shell builtin`. In contrast, `type cat` tells you `cat is hashed (/usr/bin/cat)`. That means the shell knows that `cat` is defined in a file at the path /usr/bin/cat. The `/usr/bin` directory contains hundreds of commands that do different things. \n",
    "\n",
    "We can tell what kind of file it is with the `file` command.\n",
    "\n",
    "    file /usr/bin/cat\n",
    "    \n",
    "indicates it is a compiled program. A command can be a compiled program, or it can be another kind of script written in some language, e.g. in the shell language, or in Python.\n",
    "\n",
    "Here is a shell script:\n",
    "\n",
    "> less /usr/bin/gunzip\n",
    "\n",
    "And here is a Python script\n",
    "\n",
    "> less /usr/bin/pip\n",
    "\n"
   ]
  },
  {
   "cell_type": "markdown",
   "id": "70f8b6dd-06aa-4d69-a532-1f37b3cde975",
   "metadata": {},
   "source": [
    "## What makes them a command?\n",
    "\n",
    "There are a few things that make the files in /usr/bin available as a command. First, the files are *executable*. Every file is owned by a user and group. On every file there are read, write and execute permissions. For each of those categories, there are user, group and other permissions. To see who owns a file, and the permissions it grants, use the `-l` option of ls.\n",
    "\n",
    "> ls -l /usr/bin/pip\n",
    "\n",
    "This yields\n",
    "\n",
    "    -rwxr-xr-x 1 root root 365 Feb 28 09:41 /usr/bin/pip\n",
    "\n",
    "First, this means the file is owned by the root user, and is in the root group. The permissions are broken up into four groups:\n",
    "\n",
    "    - ignore this for now (it is for directories)\n",
    "    rwx  means that the root user can read/write and execute\n",
    "    r-x  means users in the root group can read and execute but not write.\n",
    "    r-x  means others can read and execute, but not write\n",
    "    \n",
    "To work as a command, a file must be executable for you.\n",
    "\n",
    "Second, to work as a command by name, the command must exist in a file by that name in one of several special places defined by the $PATH environment variable. This variable holds a colon separated list of directories to look for commands in:\n",
    "\n",
    "    echo $PATH\n",
    "    \n",
    "Finally, to work as a command the shell must know how to run the file found with that name. This is done in the first line of the file. You can see the first line like this:\n",
    "\n",
    "    head -n 1 /usr/bin/pip\n",
    "    \n",
    "This shows the path to the executable that is supposed to run this file: `#!/usr/bin/python3`. \n",
    "    \n",
    "Note if you run this on a binary, or compiled file, you will see gobbleygook characters. These files are not meant to be viewed by you.    \n",
    "\n",
    "If a file is executable, and the first line shows how to run, you can always call it using an absolute path, even when it is not in one of the $PATH directories.\n",
    "\n"
   ]
  },
  {
   "cell_type": "markdown",
   "id": "df9b525c-5090-4ebe-ad43-7906582f3e2e",
   "metadata": {},
   "source": [
    "# Combining commands\n",
    "\n",
    "So far we have looked at using commands one at at time. The shell commands are much more powerful when they are combined. Many commands are designed so they can take the output of another command is input. Suppose we want the list of files in a directory, but sorted. We use a *pipe* to take the output of `ls` and feed it to `sort`. The pipe operator is \"|\".\n",
    "\n",
    "    ls | sort\n",
    "    \n",
    "Want them in reverse order? Check the sort man page to find the option for reversing the sort. \n",
    "\n",
    "Want to know how many entries there are? You can pipe the output to `wc -l` which is a command for word count with an option to count the number of lines.  It is not necessary to sort here, but I show it to indicate you can use multiple pipes\n",
    "\n",
    "    ls | sort | wc -l\n",
    "    \n",
    "\n"
   ]
  },
  {
   "cell_type": "markdown",
   "id": "b7715c4b-3123-44e9-a483-6b8aab91480d",
   "metadata": {},
   "source": [
    "# Redirecting output\n",
    "\n",
    "So far we have been seeing output on the *standard output*, or stdout of the shell. That output is transient, and ephemeral; if you close the terminal it may disappear forever. You can often look back in the .bash_history file to see what commands were run, but it may be undesireable to run them again. In the shell, we can use redirect operators to put the output into files. the \">\" operator will redirect the output from stdout to a file. Here is an example where we create a file, and then run some additional commands on the saved file.\n",
    "\n",
    "    ls | sort > sorted-list.dat\n",
    "    wc -l sorted-list.dat\n",
    "    head -n3 sorted-list.dat\n",
    "    \n",
    "When you are done with the file, you can delete it with:\n",
    "\n",
    "    rm sorted-list.dat\n",
    "\n"
   ]
  },
  {
   "cell_type": "markdown",
   "id": "56b8a4b3-5326-4793-9dc0-c8a99e8e6fe6",
   "metadata": {},
   "source": [
    "# Make your own shell command!\n",
    "\n",
    "Create a new file in this directory called hello.sh. You can do that in Jupyter lab. Add these lines:\n",
    "\n",
    "    #!/bin/bash\n",
    "    echo \"Hello world!\"\n",
    "    \n",
    "Now try to run it. This directory is not in your $PATH, so we specify the path to it: \n",
    "\n",
    "    ./hello.sh\n",
    "    \n",
    "You should see\n",
    "\n",
    "    bash: ./hello.sh: Permission denied\n",
    "    \n",
    "Let's check the permissions:\n",
    "\n",
    "    ls -l hello.sh\n",
    "    \n",
    "Sure enough, you don't see any \"x\" bits indicating it is executable, and if you list the file, it is not colored green. We can make the file executable like this:\n",
    "\n",
    "    chmod +x hello.sh \n",
    "    \n",
    "now you can see the \"x\" bits for everyone, and you can run it with `./hello.sh`.    \n",
    "\n"
   ]
  },
  {
   "cell_type": "markdown",
   "id": "619cd2ed-b668-4333-80ab-7a1bf75bec9d",
   "metadata": {},
   "source": [
    "## Make your own bin directory and add it to the path\n",
    "\n",
    "We can make our own bin directory with the `mkdir` command.\n",
    "\n",
    "    mkdir ~/bin\n",
    "    \n",
    "next, we can add that directory to our $PATH. This is done temporarily for now. That means if you close the terminal and reopen it, you will have to run this command again.\n",
    "\n",
    "    export PATH=$PATH:~/bin\n",
    "    \n",
    "Next, we move our command to ~/bin\n",
    "\n",
    "    mv hello.sh ~/bin\n",
    "    \n",
    "Now in a shell, from any directory you can simply type \n",
    "\n",
    "    hello.sh\n",
    "    \n",
    "to run your command. You can also use the `which` and `type` commands to find it.\n",
    "\n",
    "When naming commands you have to be careful to give them different names from other commands. If you don't use an absolute path to your command, whatever the first one that is found will be run!\n",
    "\n"
   ]
  },
  {
   "cell_type": "markdown",
   "id": "eaa30a9d-d7aa-4228-921c-837c61d40d31",
   "metadata": {},
   "source": [
    "## Making the PATH modification permanent\n",
    "\n",
    "We have to go back a little to understand how to make modifications to the shell, e.g. to add something to the path. When you start/open your shell it reads the contents of some \"dotfiles\". Specifically, here the .bashrc file is read. Check out the contents now:\n",
    "\n",
    "    cat ~/.bashrc\n",
    "    \n",
    "There is already a lot being set for you by default. We can add a line to this file so that our $PATH will be set each time we open a terminal. It is a little tricky editing dotfiles in JupyterLab. The dotfiles are not shown in the File manager. Instead, we have to edit them in the terminal. You can use many editors for this: vim, emacs, etc. We will use `nano`. It is pretty simple.\n",
    "\n",
    "    nano ~/.bashrc\n",
    "    \n",
    "This will open the .bashrc file in your terminal. Use the arrows or page down to get to the end of the file. Add exactly this text (no leading spaces):\n",
    "\n",
    "    export PATH=$PATH:~/bin\n",
    "    # END\n",
    "    \n",
    "Then type C-o RET to save and write the file, then C-x to exit.\n",
    "    \n",
    "Run this command to check that the text you added is there.\n",
    "    \n",
    "    cat ~/.bashrc\n",
    "    \n",
    "We still have to load the file in this terminal session. Do that here to check for errors. If you get no output, there is no error.\n",
    "    \n",
    "    source ~/.bashrc\n",
    "    \n",
    "Finally, echo the $PATH to see if your directory got added. Now, any executable files you add to ~/bin will be on your path, and available as commands.   \n",
    "    \n",
    "\n"
   ]
  },
  {
   "cell_type": "markdown",
   "id": "627ca930-c50a-4422-a15a-900cf4a54350",
   "metadata": {},
   "source": [
    "# Do I have to learn the shell?\n",
    "\n",
    "Sort of. Eventually you land in it when developing software. It is eventually where you install and uninstall software, and every software package runs in a shell somewhere. So you have to understand some things about the shell to know how software works.\n",
    "\n",
    "Personally, I limit the way I use shell commands. Where practical, I write short shell scripts to document\n",
    "\n"
   ]
  },
  {
   "cell_type": "code",
   "execution_count": 1,
   "id": "b3ed8735-5e7c-4de5-859b-f937c273b1ef",
   "metadata": {},
   "outputs": [
    {
     "name": "stdout",
     "output_type": "stream",
     "text": [
      "00-introduction-terminals.ipynb\n"
     ]
    }
   ],
   "source": [
    "! ls \n"
   ]
  }
 ],
 "metadata": {
  "kernelspec": {
   "display_name": "Python 3 (ipykernel)",
   "language": "python",
   "name": "python3"
  },
  "language_info": {
   "codemirror_mode": {
    "name": "ipython",
    "version": 3
   },
   "file_extension": ".py",
   "mimetype": "text/x-python",
   "name": "python",
   "nbconvert_exporter": "python",
   "pygments_lexer": "ipython3",
   "version": "3.9.13"
  },
  "widgets": {
   "application/vnd.jupyter.widget-state+json": {
    "state": {},
    "version_major": 2,
    "version_minor": 0
   }
  }
 },
 "nbformat": 4,
 "nbformat_minor": 5
}
