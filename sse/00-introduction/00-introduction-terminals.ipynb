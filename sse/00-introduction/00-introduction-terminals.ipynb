{
 "cells": [
  {
   "cell_type": "markdown",
   "id": "f32e84c5-7dbd-4242-8c66-bd66b8ebff4d",
   "metadata": {},
   "source": [
    "Introduction\n",
    "============\n",
    "\n",
    "You should read most of [https://third-bit.com/py-rse/](https://third-bit.com/py-rse/) in parallel with this course. We will not follow it exactly, but it contains many useful things we won't have time to fully cover.\n",
    "\n",
    "Course structure:\n",
    "\n",
    "We will start with the shell, and use it to get some information from [https://openalex.org/](). This will introduce us to some basic concepts in how software works on a computer. Then, we will transition to using Python, which is more flexible, to create shell commands. Finally, we will transition that into a Jupyter notebook app of sorts, with reusable packaged code.\n",
    "\n",
    "We need a little bit of setup for using Jupyter lab. These notes are written in a Jupyter notebook. Some cells will run Python code. Other cells will start with a `shell magic` \"%%bash\". These cells will execute shell commands, similar to running those commands in a terminal."
   ]
  },
  {
   "cell_type": "markdown",
   "id": "65c34338-64cb-4234-a5f9-d5adbef6b535",
   "metadata": {},
   "source": [
    "```{index} terminal\n",
    "```"
   ]
  },
  {
   "cell_type": "markdown",
   "id": "12ed4373-811e-437d-9b57-715aa88b9c4f",
   "metadata": {},
   "source": [
    "# Terminals and shells\n",
    "\n",
    "A terminal is a command-line interface to your computer. In it you type commands to do things. In Windows it might be called the DOS prompt, or Powershell, or if you have the Linux Subsystem installed, it is just a terminal. On a Mac/Linux system it is also often called a terminal. Terminals usually do not have a lot of functionality compared to a \"Window/GUI\" system. In fact, you can run a terminal in systems where there is in GUI present.\n",
    "\n",
    "In the terminal, a *shell* runs. The shell provides some commands and functionality to the terminal. Some typical shells include:\n",
    "\n",
    "- bash\n",
    "- csh/tcsh\n",
    "- zsh\n",
    "\n",
    "Others exist too, but these are the most common ones.\n",
    "\n",
    "You can find out what shell you are using by running this command:\n",
    "\n",
    "    "
   ]
  },
  {
   "cell_type": "code",
   "execution_count": 2,
   "id": "889b48d9-c892-47d9-b886-613732fea263",
   "metadata": {},
   "outputs": [
    {
     "name": "stdout",
     "output_type": "stream",
     "text": [
      "/bin/bash\n"
     ]
    },
    {
     "data": {
      "text/plain": [
       "4"
      ]
     },
     "execution_count": 2,
     "metadata": {},
     "output_type": "execute_result"
    }
   ],
   "source": [
    "! echo $SHELL  # shell command\n",
    "1 + 3          # Python"
   ]
  },
  {
   "cell_type": "code",
   "execution_count": 5,
   "id": "031d5d68-d364-4790-a85e-4e28fe416933",
   "metadata": {},
   "outputs": [
    {
     "name": "stdout",
     "output_type": "stream",
     "text": [
      "/bin/bash\n",
      "Mon 11 Mar 2024 06:39:42 PM UTC\n",
      "/home/jupyter-jkitchin@andrew.cm-11dd7/s24-06643/sse/00-introduction\n",
      "00-introduction-terminals.ipynb\n"
     ]
    }
   ],
   "source": [
    "%%bash\n",
    "echo $SHELL\n",
    "date\n",
    "pwd\n",
    "ls"
   ]
  },
  {
   "cell_type": "markdown",
   "id": "2014407d-39d4-4d9a-b05a-a24cd881596d",
   "metadata": {},
   "source": [
    "Here, echo is a command, and $SHELL is called an environment variable. We will learn more about those later.    "
   ]
  },
  {
   "cell_type": "markdown",
   "id": "07b64902-fbbf-42d4-9546-b864ccc2e498",
   "metadata": {},
   "source": [
    "# Paths and the working directory\n",
    "\n",
    "We need to talk about the concept of *where are we in the computer*? A computer has a file system, and all files live at a path in that system\n",
    "\n",
    "All files live at a path. The root of the file system (on Linux) starts at /. We use the `ls` command to list files at a path.  "
   ]
  },
  {
   "cell_type": "code",
   "execution_count": 9,
   "id": "aa10c8ab-2e8b-4c1c-b5b6-718838878277",
   "metadata": {},
   "outputs": [
    {
     "name": "stdout",
     "output_type": "stream",
     "text": [
      "total 8388744\n",
      "lrwxrwxrwx   1 root root          7 Aug 24  2021 bin -> usr/bin\n",
      "drwxr-xr-x   3 root root       4096 Mar  8 06:54 boot\n",
      "drwxr-xr-x  17 root root       4380 Oct 10 16:35 dev\n",
      "drwxr-xr-x 138 root root      12288 Mar 11 18:23 etc\n",
      "drwxr-xr-x  59 root root       4096 Mar 11 18:23 home\n",
      "lrwxrwxrwx   1 root root          7 Aug 24  2021 lib -> usr/lib\n",
      "lrwxrwxrwx   1 root root          9 Aug 24  2021 lib32 -> usr/lib32\n",
      "lrwxrwxrwx   1 root root          9 Aug 24  2021 lib64 -> usr/lib64\n",
      "lrwxrwxrwx   1 root root         10 Aug 24  2021 libx32 -> usr/libx32\n",
      "drwx------   2 root root      16384 Aug 18  2022 lost+found\n",
      "drwxr-xr-x   2 root root       4096 Aug 24  2021 media\n",
      "drwxr-xr-x   2 root root       4096 Aug 24  2021 mnt\n",
      "drwxr-xr-x   5 root root       4096 Sep 27 14:08 opt\n",
      "dr-xr-xr-x 756 root root          0 Nov  4  2022 proc\n",
      "drwx------  13 root root       4096 Sep  1  2022 root\n",
      "drwxr-xr-x  57 root root       1620 Mar 11 18:43 run\n",
      "lrwxrwxrwx   1 root root          8 Aug 24  2021 sbin -> usr/sbin\n",
      "drwxr-xr-x  14 root root       4096 Jul  4  2023 snap\n",
      "drwxr-xr-x   3 root root       4096 Aug 18  2022 srv\n",
      "-rw-------   1 root root 8589934592 Aug 18  2022 swap.img\n",
      "dr-xr-xr-x  13 root root          0 Nov  4  2022 sys\n",
      "drwxrwxrwt 937 root root      61440 Mar 11 14:49 tmp\n",
      "drwxr-xr-x  14 root root       4096 Aug 18  2022 usr\n",
      "drwxr-xr-x  13 root root       4096 Aug 24  2021 var\n"
     ]
    }
   ],
   "source": [
    "%%bash\n",
    "ls -l /"
   ]
  },
  {
   "cell_type": "markdown",
   "id": "4247c84a-0231-4abc-9e5f-b170d5ea0c94",
   "metadata": {},
   "source": [
    "You do not always have permission to list any directory. You can run `ls /home`, but you probably cannot list the contents of most directories in /home; they belong to other people and are private. That can be changed, but not today. \n",
    "\n",
    "The shell is always somewhere in it. It is often important to know where that is. Let's start with the `pwd` command, or path to working directory."
   ]
  },
  {
   "cell_type": "code",
   "execution_count": 13,
   "id": "7fb9d59a-864f-4c88-b116-dfaba56e53c0",
   "metadata": {},
   "outputs": [
    {
     "name": "stdout",
     "output_type": "stream",
     "text": [
      "total 228\n",
      "drwxr-xr-x  6 csadmin                          csadmin                          4096 Sep 27 14:08 csadmin\n",
      "drwxr-xr-x  9 jkitchin                         jkitchin                         4096 Dec 23  2022 jkitchin\n",
      "drwxr-x---  8 jupyter-aasger@andrew.cmu.-b8886 jupyter-aasger@andrew.cmu.-b8886 4096 Mar 11 18:23 jupyter-aasger@andrew.cmu.-b8886\n",
      "drwxr-x--- 10 jupyter-abdulhak@andrew.cm-87647 jupyter-abdulhak@andrew.cm-87647 4096 Mar 10 21:56 jupyter-abdulhak@andrew.cm-87647\n",
      "drwxr-x--- 10 jupyter-adwaitjo@andrew.cm-c4ab9 jupyter-adwaitjo@andrew.cm-c4ab9 4096 Mar 11 18:44 jupyter-adwaitjo@andrew.cm-c4ab9\n",
      "drwxr-x---  7 jupyter-amjohn@andrew.cmu.-17a7b jupyter-amjohn@andrew.cmu.-17a7b 4096 Mar 11 18:45 jupyter-amjohn@andrew.cmu.-17a7b\n",
      "drwxr-x---  8 jupyter-ccolomb2@andrew.cm-7277f jupyter-ccolomb2@andrew.cm-7277f 4096 Mar 11 15:31 jupyter-ccolomb2@andrew.cm-7277f\n",
      "drwxr-x--- 10 jupyter-claliwal@andrew.cm-fc150 jupyter-claliwal@andrew.cm-fc150 4096 Mar 11 16:11 jupyter-claliwal@andrew.cm-fc150\n",
      "drwxr-x---  7 jupyter-csadmin                  jupyter-csadmin                  4096 Aug 30  2023 jupyter-csadmin\n",
      "drwxr-x--- 10 jupyter-dfilonow@andrew.cm-51df0 jupyter-dfilonow@andrew.cm-51df0 4096 Mar 11 15:05 jupyter-dfilonow@andrew.cm-51df0\n",
      "drwxr-x--- 13 jupyter-djahania@andrew.cm-476a5 jupyter-djahania@andrew.cm-476a5 4096 Mar 11 18:27 jupyter-djahania@andrew.cm-476a5\n",
      "drwxr-x---  8 jupyter-dmontesl@andrew.cm-b9506 jupyter-dmontesl@andrew.cm-b9506 4096 Feb 23 18:58 jupyter-dmontesl@andrew.cm-b9506\n",
      "drwxr-x--- 10 jupyter-dsadasiv@andrew.cm-a3ef3 jupyter-dsadasiv@andrew.cm-a3ef3 4096 Mar 11 18:01 jupyter-dsadasiv@andrew.cm-a3ef3\n",
      "drwxr-x---  7 jupyter-ebarbour@andrew.cm-66d29 jupyter-ebarbour@andrew.cm-66d29 4096 Mar 11 15:51 jupyter-ebarbour@andrew.cm-66d29\n",
      "drwxr-x--- 10 jupyter-esunshin@andrew.cm-46554 jupyter-esunshin@andrew.cm-46554 4096 Mar 11 13:18 jupyter-esunshin@andrew.cm-46554\n",
      "drwxr-x--- 11 jupyter-gchib@andrew.cmu.e-9931f jupyter-gchib@andrew.cmu.e-9931f 4096 Mar 10 21:28 jupyter-gchib@andrew.cmu.e-9931f\n",
      "drwxr-x--- 10 jupyter-gjoe@andrew.cmu.ed-aa288 jupyter-gjoe@andrew.cmu.ed-aa288 4096 Mar 11 18:06 jupyter-gjoe@andrew.cmu.ed-aa288\n",
      "drwxr-x---  7 jupyter-gvargasr@andrew.cm-db77e jupyter-gvargasr@andrew.cm-db77e 4096 Mar 11 18:23 jupyter-gvargasr@andrew.cm-db77e\n",
      "drwxr-x---  9 jupyter-hsinyac@andrew.cmu-fef48 jupyter-hsinyac@andrew.cmu-fef48 4096 Jan 25 01:47 jupyter-hsinyac@andrew.cmu-fef48\n",
      "drwxr-x--- 10 jupyter-jfahrenk@andrew.cm-4cd3f jupyter-jfahrenk@andrew.cm-4cd3f 4096 Sep 13 22:38 jupyter-jfahrenk@andrew.cm-4cd3f\n",
      "drwxr-x---  9 jupyter-jinyuanr@andrew.cm-1bd59 jupyter-jinyuanr@andrew.cm-1bd59 4096 Jan 21 00:02 jupyter-jinyuanr@andrew.cm-1bd59\n",
      "drwxr-x--- 14 jupyter-jkitchin                 jupyter-jkitchin                 4096 Aug 30  2023 jupyter-jkitchin\n",
      "drwxr-x--- 19 jupyter-jkitchin@andrew.cm-11dd7 jupyter-jkitchin@andrew.cm-11dd7 4096 Mar 10 20:24 jupyter-jkitchin@andrew.cm-11dd7\n",
      "drwxr-x--- 12 jupyter-jmedley@andrew.cmu-8f13a jupyter-jmedley@andrew.cmu-8f13a 4096 Mar 11 18:24 jupyter-jmedley@andrew.cmu-8f13a\n",
      "drwxr-x---  7 jupyter-kabdelma@andrew.cm-f2850 jupyter-kabdelma@andrew.cm-f2850 4096 Feb  5 00:55 jupyter-kabdelma@andrew.cm-f2850\n",
      "drwxr-x--- 10 jupyter-kaixuanx@andrew.cm-f79e0 jupyter-kaixuanx@andrew.cm-f79e0 4096 Mar 11 18:05 jupyter-kaixuanx@andrew.cm-f79e0\n",
      "drwxr-x---  9 jupyter-kaiyug@andrew.cmu.-6d764 jupyter-kaiyug@andrew.cmu.-6d764 4096 Jan 23 22:05 jupyter-kaiyug@andrew.cmu.-6d764\n",
      "drwxr-x---  9 jupyter-kjamunap@andrew.cm-10011 jupyter-kjamunap@andrew.cm-10011 4096 Jan 25 02:16 jupyter-kjamunap@andrew.cm-10011\n",
      "drwxr-x--- 11 jupyter-kpfau@andrew.cmu.e-6440d jupyter-kpfau@andrew.cmu.e-6440d 4096 Mar 11 17:07 jupyter-kpfau@andrew.cmu.e-6440d\n",
      "drwxr-x---  7 jupyter-lancem@andrew.cmu.-fcf63 jupyter-lancem@andrew.cmu.-fcf63 4096 Jan 16 20:50 jupyter-lancem@andrew.cmu.-fcf63\n",
      "drwxr-x--- 10 jupyter-miabdulr@andrew.cm-8c6c7 jupyter-miabdulr@andrew.cm-8c6c7 4096 Mar 11 02:49 jupyter-miabdulr@andrew.cm-8c6c7\n",
      "drwxr-x--- 12 jupyter-mnandwan@andrew.cm-7ae9c jupyter-mnandwan@andrew.cm-7ae9c 4096 Mar 11 11:36 jupyter-mnandwan@andrew.cm-7ae9c\n",
      "drwxr-x---  9 jupyter-mujungl@andrew.cmu-5b10a jupyter-mujungl@andrew.cmu-5b10a 4096 Jan 24 23:00 jupyter-mujungl@andrew.cmu-5b10a\n",
      "drwxr-x--- 11 jupyter-nvaidya@andrew.cmu-3c2c0 jupyter-nvaidya@andrew.cmu-3c2c0 4096 Mar 11 16:38 jupyter-nvaidya@andrew.cmu-3c2c0\n",
      "drwxr-x---  9 jupyter-rishabhm@andrew.cm-a0093 jupyter-rishabhm@andrew.cm-a0093 4096 Feb 25 23:08 jupyter-rishabhm@andrew.cm-a0093\n",
      "drwxr-x--- 10 jupyter-rmeda@andrew.cmu.e-b96d7 jupyter-rmeda@andrew.cmu.e-b96d7 4096 Mar 11 18:42 jupyter-rmeda@andrew.cmu.e-b96d7\n",
      "drwxr-x--- 10 jupyter-rmgonzal@andrew.cm-c3f69 jupyter-rmgonzal@andrew.cm-c3f69 4096 Feb 21 16:22 jupyter-rmgonzal@andrew.cm-c3f69\n",
      "drwxr-x---  7 jupyter-rsanspeu@andrew.cm-c93bf jupyter-rsanspeu@andrew.cm-c93bf 4096 Feb  4 19:52 jupyter-rsanspeu@andrew.cm-c93bf\n",
      "drwxr-x--- 11 jupyter-saketram@andrew.cm-21bcf jupyter-saketram@andrew.cm-21bcf 4096 Mar 11 18:42 jupyter-saketram@andrew.cm-21bcf\n",
      "drwxr-x--- 11 jupyter-sampritc@andrew.cm-8d2d4 jupyter-sampritc@andrew.cm-8d2d4 4096 Mar 11 18:19 jupyter-sampritc@andrew.cm-8d2d4\n",
      "drwxr-x--- 10 jupyter-sechai@andrew.cmu.-9c08d jupyter-sechai@andrew.cmu.-9c08d 4096 Mar 11 18:06 jupyter-sechai@andrew.cmu.-9c08d\n",
      "drwxr-x--- 10 jupyter-shakiram@andrew.cm-1f6a4 jupyter-shakiram@andrew.cm-1f6a4 4096 Mar 11 18:00 jupyter-shakiram@andrew.cm-1f6a4\n",
      "drwxr-x---  7 jupyter-songyuel@andrew.cm-85a10 jupyter-songyuel@andrew.cm-85a10 4096 Jan 16 10:46 jupyter-songyuel@andrew.cm-85a10\n",
      "drwxr-x--- 10 jupyter-sriramna@andrew.cm-9f365 jupyter-sriramna@andrew.cm-9f365 4096 Mar 11 18:34 jupyter-sriramna@andrew.cm-9f365\n",
      "drwxr-x--- 10 jupyter-srivathb@andrew.cm-40834 jupyter-srivathb@andrew.cm-40834 4096 Mar 11 18:21 jupyter-srivathb@andrew.cm-40834\n",
      "drwxr-x---  9 jupyter-ssomani@andrew.cmu-36ed4 jupyter-ssomani@andrew.cmu-36ed4 4096 Jan 24 22:41 jupyter-ssomani@andrew.cmu-36ed4\n",
      "drwxr-x---  9 jupyter-suryanab@andrew.cm-e5087 jupyter-suryanab@andrew.cm-e5087 4096 Feb  7 19:57 jupyter-suryanab@andrew.cm-e5087\n",
      "drwxr-x---  7 jupyter-thou@andrew.cmu.ed-898d9 jupyter-thou@andrew.cmu.ed-898d9 4096 Jan 18 23:24 jupyter-thou@andrew.cmu.ed-898d9\n",
      "drwxr-x---  7 jupyter-tjgarcia@andrew.cm-0a7e5 jupyter-tjgarcia@andrew.cm-0a7e5 4096 Jan 25 02:14 jupyter-tjgarcia@andrew.cm-0a7e5\n",
      "drwxr-x---  9 jupyter-tungyuh@andrew.cmu-6de39 jupyter-tungyuh@andrew.cmu-6de39 4096 Jan 24 00:10 jupyter-tungyuh@andrew.cmu-6de39\n",
      "drwxr-x---  9 jupyter-tvinchur@andrew.cm-b3e1a jupyter-tvinchur@andrew.cm-b3e1a 4096 Jan 25 04:37 jupyter-tvinchur@andrew.cm-b3e1a\n",
      "drwxr-x--- 11 jupyter-wferguso@andrew.cm-74b57 jupyter-wferguso@andrew.cm-74b57 4096 Feb 14 15:20 jupyter-wferguso@andrew.cm-74b57\n",
      "drwxr-x--- 12 jupyter-yingtiny@andrew.cm-5bfa7 jupyter-yingtiny@andrew.cm-5bfa7 4096 Mar 11 17:11 jupyter-yingtiny@andrew.cm-5bfa7\n",
      "drwxr-x--- 14 jupyter-yudiandx@andrew.cm-b7801 jupyter-yudiandx@andrew.cm-b7801 4096 Feb 28 00:05 jupyter-yudiandx@andrew.cm-b7801\n",
      "drwxr-x---  6 jupyter-yumings@andrew.cmu-9a97a jupyter-yumings@andrew.cmu-9a97a 4096 Jan 17 02:08 jupyter-yumings@andrew.cmu-9a97a\n",
      "drwxr-x---  7 jupyter-yushanc2@andrew.cm-83224 jupyter-yushanc2@andrew.cm-83224 4096 Jan 23 20:20 jupyter-yushanc2@andrew.cm-83224\n",
      "drwxr-x--- 12 jupyter-zpt@andrew.cmu.edu-4d0bb jupyter-zpt@andrew.cmu.edu-4d0bb 4096 Mar 11 17:58 jupyter-zpt@andrew.cmu.edu-4d0bb\n"
     ]
    }
   ],
   "source": [
    "! ls -l /home"
   ]
  },
  {
   "cell_type": "code",
   "execution_count": 15,
   "id": "3bcfe9a3-7244-44a4-a272-20341f9cef4f",
   "metadata": {},
   "outputs": [
    {
     "name": "stdout",
     "output_type": "stream",
     "text": [
      "/home/jupyter-jkitchin@andrew.cm-11dd7/s24-06643/sse/00-introduction\n",
      "00-introduction-terminals.ipynb\n"
     ]
    }
   ],
   "source": [
    "%%bash\n",
    "pwd\n",
    "ls"
   ]
  },
  {
   "cell_type": "markdown",
   "id": "459d1c23-09e7-4768-8c5f-5689ed18f5e6",
   "metadata": {},
   "source": [
    "    \n",
    "    \n",
    "To get the contents of this directory, simply type `ls`. \n",
    "\n",
    "## Absolute and relative paths\n",
    "\n",
    "An absolute path starts with /, i.e. at the root of the file system.\n",
    "\n",
    "A relative path does not. A relative path assumes the current working directory is the root, and the path is relative to that. There are two special paths you can use:\n",
    "\n",
    "    .   this means the current directory\n",
    "    ..  this means one directory \"up\"\n",
    "    \n",
    "So `ls ..` lists the contents one directory up, and `ls ../..` lists the contents two directories up.    "
   ]
  },
  {
   "cell_type": "code",
   "execution_count": 20,
   "id": "9ce79d2c-3e4d-4fd5-93a9-a92c15cbd14b",
   "metadata": {},
   "outputs": [
    {
     "name": "stdout",
     "output_type": "stream",
     "text": [
      "/home/jupyter-jkitchin@andrew.cm-11dd7/s24-06643/sse/00-introduction\n",
      "09-wrapup.ipynb\n",
      "cmu-sse.png\n"
     ]
    }
   ],
   "source": [
    "%%bash\n",
    "pwd\n",
    "ls ../09-wrapup"
   ]
  },
  {
   "cell_type": "markdown",
   "id": "987661f3-6d46-4f98-9223-f76912064ca0",
   "metadata": {},
   "source": [
    "# Commands\n",
    "\n",
    "Commands are typed at the shell prompt. There are several kinds of commands. Some are built into the shell. Some are called system commands. Finally, there are user-defined commands. We have already seen several commands:\n",
    "\n",
    "- echo\n",
    "- ls\n",
    "- pwd\n",
    "\n",
    "We can use the `type` command to tell what kind of command something is. Try it:\n",
    "\n",
    "    "
   ]
  },
  {
   "cell_type": "code",
   "execution_count": 21,
   "id": "ed3d2a30-eca9-4a02-83eb-00e27a81b251",
   "metadata": {},
   "outputs": [
    {
     "name": "stdout",
     "output_type": "stream",
     "text": [
      "echo is a shell builtin\n"
     ]
    }
   ],
   "source": [
    "%%bash\n",
    "type echo"
   ]
  },
  {
   "cell_type": "markdown",
   "id": "baab05a1-6bc6-4e86-a30a-6a143eac77a7",
   "metadata": {},
   "source": [
    "You use commands to make the computer do something. That could include:\n",
    "\n",
    "- change directory\n",
    "- see contents of a file\n",
    "- make a file or directory\n",
    "- delete a file or directory\n",
    "- run a python shell\n",
    "- and many more things"
   ]
  },
  {
   "cell_type": "markdown",
   "id": "64ed3e1a-919d-4384-b62c-9021e387a1da",
   "metadata": {},
   "source": [
    "Many commands have additional options. These are often documented in \"manual\" pages. You access this documentation with the `man` command. First see what kind of command `ls` is:\n",
    "\n",
    "    "
   ]
  },
  {
   "cell_type": "code",
   "execution_count": 22,
   "id": "b29d20fe-9687-4ab9-98c9-92436f9de71b",
   "metadata": {},
   "outputs": [
    {
     "name": "stdout",
     "output_type": "stream",
     "text": [
      "ls is /usr/bin/ls\n"
     ]
    }
   ],
   "source": [
    "%%bash\n",
    "type ls"
   ]
  },
  {
   "cell_type": "markdown",
   "id": "58f2427b-3da0-470f-96d5-9671b013065a",
   "metadata": {},
   "source": [
    "    \n",
    "On the JupyterHUB, you will find it is aliased to provide some default options. We will see how that is done later. Next run:\n",
    "\n",
    "    man ls\n",
    "    \n",
    "to see the options that are available. Try using the -a option for showing all files. This shows a lot more files! It is a convention that files and directories that start with \".\" are *hidden* files. These files and directories often contain configuration information, or other kinds of information like a history. Let's look at some of these. We can use the `cat` command (from concatenate) to display the contents of a file. Try this:"
   ]
  },
  {
   "cell_type": "code",
   "execution_count": 23,
   "id": "3157ea55-a9ea-4bfc-9ddf-a5a19199ef93",
   "metadata": {},
   "outputs": [
    {
     "name": "stdout",
     "output_type": "stream",
     "text": [
      "LS(1)                            User Commands                           LS(1)\n",
      "\n",
      "NAME\n",
      "       ls - list directory contents\n",
      "\n",
      "SYNOPSIS\n",
      "       ls [OPTION]... [FILE]...\n",
      "\n",
      "DESCRIPTION\n",
      "       List  information  about  the FILEs (the current directory by default).\n",
      "       Sort entries alphabetically if none of -cftuvSUX nor --sort  is  speci‐\n",
      "       fied.\n",
      "\n",
      "       Mandatory  arguments  to  long  options are mandatory for short options\n",
      "       too.\n",
      "\n",
      "       -a, --all\n",
      "              do not ignore entries starting with .\n",
      "\n",
      "       -A, --almost-all\n",
      "              do not list implied . and ..\n",
      "\n",
      "       --author\n",
      "              with -l, print the author of each file\n",
      "\n",
      "       -b, --escape\n",
      "              print C-style escapes for nongraphic characters\n",
      "\n",
      "       --block-size=SIZE\n",
      "              with  -l,  scale  sizes  by  SIZE  when  printing  them;   e.g.,\n",
      "              '--block-size=M'; see SIZE format below\n",
      "\n",
      "       -B, --ignore-backups\n",
      "              do not list implied entries ending with ~\n",
      "\n",
      "       -c     with -lt: sort by, and show, ctime (time of last modification of\n",
      "              file status information); with -l: show ctime and sort by  name;\n",
      "              otherwise: sort by ctime, newest first\n",
      "\n",
      "       -C     list entries by columns\n",
      "\n",
      "       --color[=WHEN]\n",
      "              colorize  the output; WHEN can be 'always' (default if omitted),\n",
      "              'auto', or 'never'; more info below\n",
      "\n",
      "       -d, --directory\n",
      "              list directories themselves, not their contents\n",
      "\n",
      "       -D, --dired\n",
      "              generate output designed for Emacs' dired mode\n",
      "\n",
      "       -f     do not sort, enable -aU, disable -ls --color\n",
      "\n",
      "       -F, --classify\n",
      "              append indicator (one of */=>@|) to entries\n",
      "\n",
      "       --file-type\n",
      "              likewise, except do not append '*'\n",
      "\n",
      "       --format=WORD\n",
      "              across -x, commas -m, horizontal -x, long -l, single-column  -1,\n",
      "              verbose -l, vertical -C\n",
      "\n",
      "       --full-time\n",
      "              like -l --time-style=full-iso\n",
      "\n",
      "       -g     like -l, but do not list owner\n",
      "\n",
      "       --group-directories-first\n",
      "              group directories before files;\n",
      "\n",
      "              can   be  augmented  with  a  --sort  option,  but  any  use  of\n",
      "              --sort=none (-U) disables grouping\n",
      "\n",
      "       -G, --no-group\n",
      "              in a long listing, don't print group names\n",
      "\n",
      "       -h, --human-readable\n",
      "              with -l and -s, print sizes like 1K 234M 2G etc.\n",
      "\n",
      "       --si   likewise, but use powers of 1000 not 1024\n",
      "\n",
      "       -H, --dereference-command-line\n",
      "              follow symbolic links listed on the command line\n",
      "\n",
      "       --dereference-command-line-symlink-to-dir\n",
      "              follow each command line symbolic link\n",
      "\n",
      "              that points to a directory\n",
      "\n",
      "       --hide=PATTERN\n",
      "              do not list implied entries matching shell  PATTERN  (overridden\n",
      "              by -a or -A)\n",
      "\n",
      "       --hyperlink[=WHEN]\n",
      "              hyperlink file names; WHEN can be 'always' (default if omitted),\n",
      "              'auto', or 'never'\n",
      "\n",
      "       --indicator-style=WORD\n",
      "              append indicator with style WORD to entry names: none (default),\n",
      "              slash (-p), file-type (--file-type), classify (-F)\n",
      "\n",
      "       -i, --inode\n",
      "              print the index number of each file\n",
      "\n",
      "       -I, --ignore=PATTERN\n",
      "              do not list implied entries matching shell PATTERN\n",
      "\n",
      "       -k, --kibibytes\n",
      "              default  to  1024-byte  blocks for disk usage; used only with -s\n",
      "              and per directory totals\n",
      "\n",
      "       -l     use a long listing format\n",
      "\n",
      "       -L, --dereference\n",
      "              when showing file information for a symbolic link, show informa‐\n",
      "              tion  for  the file the link references rather than for the link\n",
      "              itself\n",
      "\n",
      "       -m     fill width with a comma separated list of entries\n",
      "\n",
      "       -n, --numeric-uid-gid\n",
      "              like -l, but list numeric user and group IDs\n",
      "\n",
      "       -N, --literal\n",
      "              print entry names without quoting\n",
      "\n",
      "       -o     like -l, but do not list group information\n",
      "\n",
      "       -p, --indicator-style=slash\n",
      "              append / indicator to directories\n",
      "\n",
      "       -q, --hide-control-chars\n",
      "              print ? instead of nongraphic characters\n",
      "\n",
      "       --show-control-chars\n",
      "              show nongraphic characters as-is (the default, unless program is\n",
      "              'ls' and output is a terminal)\n",
      "\n",
      "       -Q, --quote-name\n",
      "              enclose entry names in double quotes\n",
      "\n",
      "       --quoting-style=WORD\n",
      "              use  quoting style WORD for entry names: literal, locale, shell,\n",
      "              shell-always,  shell-escape,  shell-escape-always,   c,   escape\n",
      "              (overrides QUOTING_STYLE environment variable)\n",
      "\n",
      "       -r, --reverse\n",
      "              reverse order while sorting\n",
      "\n",
      "       -R, --recursive\n",
      "              list subdirectories recursively\n",
      "\n",
      "       -s, --size\n",
      "              print the allocated size of each file, in blocks\n",
      "\n",
      "       -S     sort by file size, largest first\n",
      "\n",
      "       --sort=WORD\n",
      "              sort  by  WORD instead of name: none (-U), size (-S), time (-t),\n",
      "              version (-v), extension (-X)\n",
      "\n",
      "       --time=WORD\n",
      "              with -l, show time as WORD instead of default modification time:\n",
      "              atime  or  access  or  use  (-u); ctime or status (-c); also use\n",
      "              specified time as sort key if --sort=time (newest first)\n",
      "\n",
      "       --time-style=TIME_STYLE\n",
      "              time/date format with -l; see TIME_STYLE below\n",
      "\n",
      "       -t     sort by modification time, newest first\n",
      "\n",
      "       -T, --tabsize=COLS\n",
      "              assume tab stops at each COLS instead of 8\n",
      "\n",
      "       -u     with -lt: sort by, and show, access time; with -l:  show  access\n",
      "              time  and  sort  by name; otherwise: sort by access time, newest\n",
      "              first\n",
      "\n",
      "       -U     do not sort; list entries in directory order\n",
      "\n",
      "       -v     natural sort of (version) numbers within text\n",
      "\n",
      "       -w, --width=COLS\n",
      "              set output width to COLS.  0 means no limit\n",
      "\n",
      "       -x     list entries by lines instead of by columns\n",
      "\n",
      "       -X     sort alphabetically by entry extension\n",
      "\n",
      "       -Z, --context\n",
      "              print any security context of each file\n",
      "\n",
      "       -1     list one file per line.  Avoid '\\n' with -q or -b\n",
      "\n",
      "       --help display this help and exit\n",
      "\n",
      "       --version\n",
      "              output version information and exit\n",
      "\n",
      "       The SIZE argument is an integer and  optional  unit  (example:  10K  is\n",
      "       10*1024).   Units  are  K,M,G,T,P,E,Z,Y  (powers  of 1024) or KB,MB,...\n",
      "       (powers of 1000).\n",
      "\n",
      "       The TIME_STYLE argument can be  full-iso,  long-iso,  iso,  locale,  or\n",
      "       +FORMAT.   FORMAT  is  interpreted  like in date(1).  If FORMAT is FOR‐\n",
      "       MAT1<newline>FORMAT2, then FORMAT1 applies to non-recent files and FOR‐\n",
      "       MAT2  to  recent files.  TIME_STYLE prefixed with 'posix-' takes effect\n",
      "       only outside the POSIX locale.  Also the TIME_STYLE  environment  vari‐\n",
      "       able sets the default style to use.\n",
      "\n",
      "       Using  color  to distinguish file types is disabled both by default and\n",
      "       with --color=never.  With --color=auto, ls emits color codes only  when\n",
      "       standard  output is connected to a terminal.  The LS_COLORS environment\n",
      "       variable can change the settings.  Use the dircolors command to set it.\n",
      "\n",
      "   Exit status:\n",
      "       0      if OK,\n",
      "\n",
      "       1      if minor problems (e.g., cannot access subdirectory),\n",
      "\n",
      "       2      if serious trouble (e.g., cannot access command-line argument).\n",
      "\n",
      "AUTHOR\n",
      "       Written by Richard M. Stallman and David MacKenzie.\n",
      "\n",
      "REPORTING BUGS\n",
      "       GNU coreutils online help: <https://www.gnu.org/software/coreutils/>\n",
      "       Report ls translation bugs to <https://translationproject.org/team/>\n",
      "\n",
      "COPYRIGHT\n",
      "       Copyright © 2018 Free Software Foundation, Inc.   License  GPLv3+:  GNU\n",
      "       GPL version 3 or later <https://gnu.org/licenses/gpl.html>.\n",
      "       This  is  free  software:  you  are free to change and redistribute it.\n",
      "       There is NO WARRANTY, to the extent permitted by law.\n",
      "\n",
      "SEE ALSO\n",
      "       Full documentation at: <https://www.gnu.org/software/coreutils/ls>\n",
      "       or available locally via: info '(coreutils) ls invocation'\n",
      "\n",
      "GNU coreutils 8.30              September 2019                           LS(1)\n"
     ]
    }
   ],
   "source": [
    "%%bash\n",
    "man ls"
   ]
  },
  {
   "cell_type": "code",
   "execution_count": 24,
   "id": "dcbad0c7-10b1-4d02-b467-774bac641419",
   "metadata": {},
   "outputs": [
    {
     "name": "stdout",
     "output_type": "stream",
     "text": [
      ".\n",
      "..\n",
      "archive\n",
      ".bash_history\n",
      ".bash_logout\n",
      ".bashrc\n",
      ".bashrc~\n",
      ".cache\n",
      ".config\n",
      ".cookiecutter_replay\n",
      ".cookiecutters\n",
      ".emacs.d\n",
      ".gitconfig\n",
      ".git-credentials\n",
      ".ipynb_checkpoints\n",
      ".ipython\n",
      ".jupyter\n",
      ".keras\n",
      ".lesshst\n",
      ".local\n",
      ".pki\n",
      ".profile\n",
      ".python_history\n",
      "s24-06643\n",
      "share\n",
      "src\n",
      ".ssh\n",
      "trash\n",
      ".viminfo\n",
      ".virtual_documents\n",
      ".wget-hsts\n"
     ]
    }
   ],
   "source": [
    "%%bash\n",
    "\n",
    "ls -a ~/"
   ]
  },
  {
   "cell_type": "code",
   "execution_count": 25,
   "id": "e8515eef-d7cd-48fd-bfc8-c4d81a3529c3",
   "metadata": {},
   "outputs": [
    {
     "name": "stdout",
     "output_type": "stream",
     "text": [
      "# ~/.bashrc: executed by bash(1) for non-login shells.\n",
      "# see /usr/share/doc/bash/examples/startup-files (in the package bash-doc)\n",
      "# for examples\n",
      "\n",
      "# If not running interactively, don't do anything\n",
      "case $- in\n",
      "    *i*) ;;\n",
      "      *) return;;\n",
      "esac\n",
      "\n",
      "# don't put duplicate lines or lines starting with space in the history.\n",
      "# See bash(1) for more options\n",
      "HISTCONTROL=ignoreboth\n",
      "\n",
      "# append to the history file, don't overwrite it\n",
      "shopt -s histappend\n",
      "\n",
      "# for setting history length see HISTSIZE and HISTFILESIZE in bash(1)\n",
      "HISTSIZE=1000\n",
      "HISTFILESIZE=2000\n",
      "\n",
      "# check the window size after each command and, if necessary,\n",
      "# update the values of LINES and COLUMNS.\n",
      "shopt -s checkwinsize\n",
      "\n",
      "# If set, the pattern \"**\" used in a pathname expansion context will\n",
      "# match all files and zero or more directories and subdirectories.\n",
      "#shopt -s globstar\n",
      "\n",
      "# make less more friendly for non-text input files, see lesspipe(1)\n",
      "[ -x /usr/bin/lesspipe ] && eval \"$(SHELL=/bin/sh lesspipe)\"\n",
      "\n",
      "# set variable identifying the chroot you work in (used in the prompt below)\n",
      "if [ -z \"${debian_chroot:-}\" ] && [ -r /etc/debian_chroot ]; then\n",
      "    debian_chroot=$(cat /etc/debian_chroot)\n",
      "fi\n",
      "\n",
      "# set a fancy prompt (non-color, unless we know we \"want\" color)\n",
      "case \"$TERM\" in\n",
      "    xterm-color|*-256color) color_prompt=yes;;\n",
      "esac\n",
      "\n",
      "# uncomment for a colored prompt, if the terminal has the capability; turned\n",
      "# off by default to not distract the user: the focus in a terminal window\n",
      "# should be on the output of commands, not on the prompt\n",
      "#force_color_prompt=yes\n",
      "\n",
      "if [ -n \"$force_color_prompt\" ]; then\n",
      "    if [ -x /usr/bin/tput ] && tput setaf 1 >&/dev/null; then\n",
      "\t# We have color support; assume it's compliant with Ecma-48\n",
      "\t# (ISO/IEC-6429). (Lack of such support is extremely rare, and such\n",
      "\t# a case would tend to support setf rather than setaf.)\n",
      "\tcolor_prompt=yes\n",
      "    else\n",
      "\tcolor_prompt=\n",
      "    fi\n",
      "fi\n",
      "\n",
      "if [ \"$color_prompt\" = yes ]; then\n",
      "    PS1='${debian_chroot:+($debian_chroot)}\\[\\033[01;32m\\]\\u@\\h\\[\\033[00m\\]:\\[\\033[01;34m\\]\\w\\[\\033[00m\\]\\$ '\n",
      "else\n",
      "    PS1='${debian_chroot:+($debian_chroot)}\\u@\\h:\\w\\$ '\n",
      "fi\n",
      "unset color_prompt force_color_prompt\n",
      "\n",
      "# If this is an xterm set the title to user@host:dir\n",
      "case \"$TERM\" in\n",
      "xterm*|rxvt*)\n",
      "    PS1=\"\\[\\e]0;${debian_chroot:+($debian_chroot)}\\u@\\h: \\w\\a\\]$PS1\"\n",
      "    ;;\n",
      "*)\n",
      "    ;;\n",
      "esac\n",
      "\n",
      "# enable color support of ls and also add handy aliases\n",
      "if [ -x /usr/bin/dircolors ]; then\n",
      "    test -r ~/.dircolors && eval \"$(dircolors -b ~/.dircolors)\" || eval \"$(dircolors -b)\"\n",
      "    alias ls='ls --color=auto'\n",
      "    #alias dir='dir --color=auto'\n",
      "    #alias vdir='vdir --color=auto'\n",
      "\n",
      "    alias grep='grep --color=auto'\n",
      "    alias fgrep='fgrep --color=auto'\n",
      "    alias egrep='egrep --color=auto'\n",
      "fi\n",
      "\n",
      "# colored GCC warnings and errors\n",
      "#export GCC_COLORS='error=01;31:warning=01;35:note=01;36:caret=01;32:locus=01:quote=01'\n",
      "\n",
      "# some more ls aliases\n",
      "alias ll='ls -alF'\n",
      "alias la='ls -A'\n",
      "alias l='ls -CF'\n",
      "\n",
      "# Add an \"alert\" alias for long running commands.  Use like so:\n",
      "#   sleep 10; alert\n",
      "alias alert='notify-send --urgency=low -i \"$([ $? = 0 ] && echo terminal || echo error)\" \"$(history|tail -n1|sed -e '\\''s/^\\s*[0-9]\\+\\s*//;s/[;&|]\\s*alert$//'\\'')\"'\n",
      "\n",
      "# Alias definitions.\n",
      "# You may want to put all your additions into a separate file like\n",
      "# ~/.bash_aliases, instead of adding them here directly.\n",
      "# See /usr/share/doc/bash-doc/examples in the bash-doc package.\n",
      "\n",
      "if [ -f ~/.bash_aliases ]; then\n",
      "    . ~/.bash_aliases\n",
      "fi\n",
      "\n",
      "# enable programmable completion features (you don't need to enable\n",
      "# this, if it's already enabled in /etc/bash.bashrc and /etc/profile\n",
      "# sources /etc/bash.bashrc).\n",
      "if ! shopt -oq posix; then\n",
      "  if [ -f /usr/share/bash-completion/bash_completion ]; then\n",
      "    . /usr/share/bash-completion/bash_completion\n",
      "  elif [ -f /etc/bash_completion ]; then\n",
      "    . /etc/bash_completion\n",
      "  fi\n",
      "fi\n",
      "\n",
      "\n",
      "export PATH=$PATH:~/bin\n",
      "# END\n"
     ]
    }
   ],
   "source": [
    "%%bash\n",
    "cat ~/.bashrc  "
   ]
  },
  {
   "cell_type": "code",
   "execution_count": 26,
   "id": "33a539ed-a083-4840-b8f0-7715aa801251",
   "metadata": {},
   "outputs": [
    {
     "name": "stdout",
     "output_type": "stream",
     "text": [
      "pwd is a shell builtin\n"
     ]
    }
   ],
   "source": [
    "! type pwd"
   ]
  },
  {
   "cell_type": "code",
   "execution_count": 27,
   "id": "87400b73-01b2-423e-8d91-0628952fac8d",
   "metadata": {},
   "outputs": [
    {
     "name": "stdout",
     "output_type": "stream",
     "text": [
      "cat is /usr/bin/cat\n"
     ]
    }
   ],
   "source": [
    "! type cat"
   ]
  },
  {
   "cell_type": "code",
   "execution_count": 30,
   "id": "ec161b51-73d4-4078-a0f9-bf4625894a0f",
   "metadata": {},
   "outputs": [
    {
     "name": "stdout",
     "output_type": "stream",
     "text": [
      "/usr/bin/gunzip: POSIX shell script, ASCII text executable\n"
     ]
    }
   ],
   "source": [
    "! file /usr/bin/gunzip"
   ]
  },
  {
   "cell_type": "code",
   "execution_count": 34,
   "id": "da519b26-cc20-4f78-a79f-8b57b806eb85",
   "metadata": {},
   "outputs": [
    {
     "name": "stdout",
     "output_type": "stream",
     "text": [
      "#!/bin/sh\n",
      "# Uncompress files.  This is the inverse of gzip.\n",
      "\n",
      "# Copyright (C) 2007, 2010-2018 Free Software Foundation, Inc.\n",
      "\n",
      "# This program is free software; you can redistribute it and/or modify\n",
      "# it under the terms of the GNU General Public License as published by\n",
      "# the Free Software Foundation; either version 3 of the License, or\n",
      "# (at your option) any later version.\n",
      "\n",
      "# This program is distributed in the hope that it will be useful,\n",
      "# but WITHOUT ANY WARRANTY; without even the implied warranty of\n",
      "# MERCHANTABILITY or FITNESS FOR A PARTICULAR PURPOSE.  See the\n",
      "# GNU General Public License for more details.\n",
      "\n",
      "# You should have received a copy of the GNU General Public License along\n",
      "# with this program; if not, write to the Free Software Foundation, Inc.,\n",
      "# 51 Franklin Street, Fifth Floor, Boston, MA 02110-1301 USA.\n",
      "\n",
      "version=\"gunzip (gzip) 1.10\n",
      "Copyright (C) 2007, 2011-2018 Free Software Foundation, Inc.\n",
      "This is free software.  You may redistribute copies of it under the terms of\n",
      "the GNU General Public License <https://www.gnu.org/licenses/gpl.html>.\n",
      "There is NO WARRANTY, to the extent permitted by law.\n",
      "\n",
      "Written by Paul Eggert.\"\n",
      "\n",
      "usage=\"Usage: $0 [OPTION]... [FILE]...\n",
      "Uncompress FILEs (by default, in-place).\n",
      "\n",
      "Mandatory arguments to long options are mandatory for short options too.\n",
      "\n",
      "  -c, --stdout      write on standard output, keep original files unchanged\n",
      "  -f, --force       force overwrite of output file and compress links\n",
      "  -k, --keep        keep (don't delete) input files\n",
      "  -l, --list        list compressed file contents\n",
      "  -n, --no-name     do not save or restore the original name and timestamp\n",
      "  -N, --name        save or restore the original name and timestamp\n",
      "  -q, --quiet       suppress all warnings\n",
      "  -r, --recursive   operate recursively on directories\n",
      "  -S, --suffix=SUF  use suffix SUF on compressed files\n",
      "      --synchronous synchronous output (safer if system crashes, but slower)\n",
      "  -t, --test        test compressed file integrity\n",
      "  -v, --verbose     verbose mode\n",
      "      --help        display this help and exit\n",
      "      --version     display version information and exit\n",
      "\n",
      "With no FILE, or when FILE is -, read standard input.\n",
      "\n",
      "Report bugs to <bug-gzip@gnu.org>.\"\n",
      "\n",
      "case $1 in\n",
      "--help)    printf '%s\\n' \"$usage\"   || exit 1; exit;;\n",
      "--version) printf '%s\\n' \"$version\" || exit 1; exit;;\n",
      "esac\n",
      "\n",
      "exec gzip -d \"$@\"\n"
     ]
    }
   ],
   "source": [
    "! cat /usr/bin/gunzip"
   ]
  },
  {
   "cell_type": "markdown",
   "id": "45761b83-20f7-4b73-bfec-e5c50f6b57cb",
   "metadata": {},
   "source": [
    "## Where are the commands?\n",
    "\n",
    "The answer is it depends. Commands that are built into the shell simply exist. For example:\n",
    "\n",
    "    type pwd\n",
    "    \n",
    "shows that `pwd is a shell builtin`. In contrast, `type cat` tells you `cat is hashed (/usr/bin/cat)`. That means the shell knows that `cat` is defined in a file at the path /usr/bin/cat. The `/usr/bin` directory contains hundreds of commands that do different things. \n",
    "\n",
    "We can tell what kind of file it is with the `file` command.\n",
    "\n",
    "    file /usr/bin/cat\n",
    "    \n",
    "indicates it is a compiled program. A command can be a compiled program, or it can be another kind of script written in some language, e.g. in the shell language, or in Python.\n",
    "\n",
    "Here is a shell script:\n",
    "\n",
    "> less /usr/bin/gunzip\n",
    "\n",
    "And here is a Python script\n",
    "\n",
    "> less /usr/bin/pip\n",
    "\n"
   ]
  },
  {
   "cell_type": "markdown",
   "id": "d60f1647-3eaa-41a7-b818-830089f90a9b",
   "metadata": {},
   "source": []
  },
  {
   "cell_type": "markdown",
   "id": "d67b417f-f001-4db4-a832-b1b5f8b67388",
   "metadata": {},
   "source": []
  },
  {
   "cell_type": "markdown",
   "id": "7825f7a2-f574-4ea7-8358-9576da9291de",
   "metadata": {},
   "source": [
    "## What makes them a command?\n",
    "\n",
    "There are a few things that make the files in /usr/bin available as a command. First, the files are *executable*. Every file is owned by a user and group. On every file there are read, write and execute permissions. For each of those categories, there are user, group and other permissions. To see who owns a file, and the permissions it grants, use the `-l` option of ls.\n",
    "\n",
    "> ls -l /usr/bin/pip\n",
    "\n",
    "This yields\n",
    "\n",
    "    -rwxr-xr-x 1 root root 365 Feb 28 09:41 /usr/bin/pip\n",
    "\n",
    "First, this means the file is owned by the root user, and is in the root group. The permissions are broken up into four groups:\n",
    "\n",
    "    - ignore this for now (it is for directories)\n",
    "    rwx  means that the root user can read/write and execute\n",
    "    r-x  means users in the root group can read and execute but not write.\n",
    "    r-x  means others can read and execute, but not write\n",
    "    \n",
    "To work as a command, a file must be executable for you.\n",
    "\n",
    "Second, to work as a command by name, the command must exist in a file by that name in one of several special places defined by the $PATH environment variable. This variable holds a colon separated list of directories to look for commands in:\n",
    "\n",
    "    echo $PATH\n",
    "    \n",
    "Finally, to work as a command the shell must know how to run the file found with that name. This is done in the first line of the file. You can see the first line like this:\n",
    "\n",
    "    head -n 1 /usr/bin/pip\n",
    "    \n",
    "This shows the path to the executable that is supposed to run this file: `#!/usr/bin/python3`. \n",
    "    \n",
    "Note if you run this on a binary, or compiled file, you will see gobbleygook characters. These files are not meant to be viewed by you.    \n",
    "\n",
    "If a file is executable, and the first line shows how to run, you can always call it using an absolute path, even when it is not in one of the $PATH directories."
   ]
  },
  {
   "cell_type": "code",
   "execution_count": 35,
   "id": "e7baf13f-b3e7-4255-b70a-272e23e9d536",
   "metadata": {},
   "outputs": [
    {
     "name": "stdout",
     "output_type": "stream",
     "text": [
      "/opt/tljh/user/bin:/usr/local/sbin:/usr/local/bin:/usr/sbin:/usr/bin:/sbin:/bin:/snap/bin\n"
     ]
    }
   ],
   "source": [
    "! echo $PATH"
   ]
  },
  {
   "cell_type": "code",
   "execution_count": 36,
   "id": "dc248630-4e4b-4a8b-863a-e32112859c70",
   "metadata": {},
   "outputs": [
    {
     "name": "stdout",
     "output_type": "stream",
     "text": [
      "/usr/bin/ls\n"
     ]
    }
   ],
   "source": [
    "! which ls"
   ]
  },
  {
   "cell_type": "code",
   "execution_count": 40,
   "id": "0d2030b1-0dcf-43e2-bfd1-61e2d5569096",
   "metadata": {},
   "outputs": [
    {
     "name": "stdout",
     "output_type": "stream",
     "text": [
      "/usr/bin/ls\n"
     ]
    }
   ],
   "source": [
    "import os\n",
    "PATH = os.environ['PATH']\n",
    "\n",
    "for path in PATH.split(':'):\n",
    "    p = os.path.join(path, 'ls')\n",
    "    if os.path.exists(p):\n",
    "        print(p)\n",
    "        break"
   ]
  },
  {
   "cell_type": "code",
   "execution_count": 41,
   "id": "b8bc9803-d538-4caf-ac7f-c2e98dac4759",
   "metadata": {},
   "outputs": [
    {
     "data": {
      "text/plain": [
       "'/usr/bin/ls'"
      ]
     },
     "execution_count": 41,
     "metadata": {},
     "output_type": "execute_result"
    }
   ],
   "source": [
    "import shutil\n",
    "shutil.which('ls')"
   ]
  },
  {
   "cell_type": "markdown",
   "id": "df9b525c-5090-4ebe-ad43-7906582f3e2e",
   "metadata": {},
   "source": [
    "# Combining commands\n",
    "\n",
    "So far we have looked at using commands one at at time. The shell commands are much more powerful when they are combined. Many commands are designed so they can take the output of another command is input. Suppose we want the list of files in a directory, but sorted. We use a *pipe* to take the output of `ls` and feed it to `sort`. The pipe operator is \"|\".\n",
    "\n",
    "    ls | sort\n",
    "    \n",
    "\n",
    "    \n",
    "\n"
   ]
  },
  {
   "cell_type": "code",
   "execution_count": 48,
   "id": "7223af1d-05ec-4532-8b06-f90970a0738a",
   "metadata": {},
   "outputs": [
    {
     "name": "stdout",
     "output_type": "stream",
     "text": [
      "16\n"
     ]
    }
   ],
   "source": [
    "! ls .. | sort -r | wc -l"
   ]
  },
  {
   "cell_type": "markdown",
   "id": "408df5b3-03ef-4afa-bb2b-5633c5dc7e1a",
   "metadata": {},
   "source": [
    "Want them in reverse order? Check the sort man page to find the option for reversing the sort. \n",
    "\n",
    "Want to know how many entries there are? You can pipe the output to `wc -l` which is a command for word count with an option to count the number of lines.  It is not necessary to sort here, but I show it to indicate you can use multiple pipes\n",
    "\n",
    "    ls | sort | wc -l"
   ]
  },
  {
   "cell_type": "code",
   "execution_count": 50,
   "id": "85397b2d-372a-4d39-b15f-b70be41c2dc1",
   "metadata": {},
   "outputs": [
    {
     "name": "stdout",
     "output_type": "stream",
     "text": [
      "mv s23-06682/terminals-and-shells.ipynb src\n",
      "ls\n",
      "curl https://api.openalex.org/institutions?search=carnegie+mellon+university\n",
      "curl https://api.openalex.org/institutions?search=carnegie+mellon+university | python -m json.tool\n",
      "cd\n",
      "pwd\n",
      "ls\n",
      "cd src/lectures/01-rest-api-openalex/\n",
      "ls\n",
      "curl https://api.openalex.org/institutions?search=carnegie+mellon+university > cmu.json\n"
     ]
    }
   ],
   "source": [
    "! head ~/.bash_history"
   ]
  },
  {
   "cell_type": "markdown",
   "id": "b7715c4b-3123-44e9-a483-6b8aab91480d",
   "metadata": {},
   "source": [
    "# Redirecting output\n",
    "\n",
    "So far we have been seeing output on the *standard output*, or stdout of the shell. That output is transient, and ephemeral; if you close the terminal it may disappear forever. You can often look back in the .bash_history file to see what commands were run, but it may be undesireable to run them again. In the shell, we can use redirect operators to put the output into files. the \">\" operator will redirect the output from stdout to a file. Here is an example where we create a file, and then run some additional commands on the saved file.\n",
    "\n",
    "    ls | sort > sorted-list.dat\n",
    "    wc -l sorted-list.dat\n",
    "    head -n3 sorted-list.dat\n",
    "    \n",
    "When you are done with the file, you can delete it with:\n",
    "\n",
    "    rm sorted-list.dat\n",
    "\n"
   ]
  },
  {
   "cell_type": "code",
   "execution_count": 53,
   "id": "7d4706c8-b890-4ee0-be32-60edb328fb19",
   "metadata": {},
   "outputs": [],
   "source": [
    "! ls .. | sort > sorted-list.dat"
   ]
  },
  {
   "cell_type": "code",
   "execution_count": 56,
   "id": "b7727282-be5e-4505-90cd-6a0dabfdb9eb",
   "metadata": {},
   "outputs": [
    {
     "name": "stdout",
     "output_type": "stream",
     "text": [
      "16 sorted-list.dat\n",
      "00-introduction\n",
      "01-rest-api-openalex\n",
      "02-python-requests\n"
     ]
    }
   ],
   "source": [
    "! wc -l sorted-list.dat\n",
    "! head -n3 sorted-list.dat "
   ]
  },
  {
   "cell_type": "markdown",
   "id": "56b8a4b3-5326-4793-9dc0-c8a99e8e6fe6",
   "metadata": {},
   "source": [
    "# Make your own shell command!\n",
    "\n",
    "Create a new file in this directory called hello.sh. You can do that in Jupyter lab. Add these lines:\n",
    "\n",
    "    #!/bin/bash\n",
    "    echo \"Hello world!\"\n",
    "    \n",
    "Now try to run it. This directory is not in your $PATH, so we specify the path to it: \n",
    "\n",
    "    ./hello.sh\n",
    "    \n",
    "You should see\n",
    "\n",
    "    bash: ./hello.sh: Permission denied\n",
    "    \n",
    "Let's check the permissions:\n",
    "\n",
    "    ls -l hello.sh\n",
    "    \n",
    "Sure enough, you don't see any \"x\" bits indicating it is executable, and if you list the file, it is not colored green. We can make the file executable like this:\n",
    "\n",
    "    chmod +x hello.sh \n",
    "    \n",
    "now you can see the \"x\" bits for everyone, and you can run it with `./hello.sh`.    \n",
    "\n"
   ]
  },
  {
   "cell_type": "markdown",
   "id": "619cd2ed-b668-4333-80ab-7a1bf75bec9d",
   "metadata": {},
   "source": [
    "## Make your own bin directory and add it to the path\n",
    "\n",
    "We can make our own bin directory with the `mkdir` command.\n",
    "\n",
    "    mkdir ~/bin\n",
    "    \n",
    "next, we can add that directory to our $PATH. This is done temporarily for now. That means if you close the terminal and reopen it, you will have to run this command again.\n",
    "\n",
    "    export PATH=$PATH:~/bin\n",
    "    \n",
    "Next, we move our command to ~/bin\n",
    "\n",
    "    mv hello.sh ~/bin\n",
    "    \n",
    "Now in a shell, from any directory you can simply type \n",
    "\n",
    "    hello.sh\n",
    "    \n",
    "to run your command. You can also use the `which` and `type` commands to find it.\n",
    "\n",
    "When naming commands you have to be careful to give them different names from other commands. If you don't use an absolute path to your command, whatever the first one that is found will be run!\n",
    "\n"
   ]
  },
  {
   "cell_type": "markdown",
   "id": "eaa30a9d-d7aa-4228-921c-837c61d40d31",
   "metadata": {},
   "source": [
    "## Making the PATH modification permanent\n",
    "\n",
    "We have to go back a little to understand how to make modifications to the shell, e.g. to add something to the path. When you start/open your shell it reads the contents of some \"dotfiles\". Specifically, here the .bashrc file is read. Check out the contents now:\n",
    "\n",
    "    cat ~/.bashrc\n",
    "    \n",
    "There is already a lot being set for you by default. We can add a line to this file so that our $PATH will be set each time we open a terminal. It is a little tricky editing dotfiles in JupyterLab. The dotfiles are not shown in the File manager. Instead, we have to edit them in the terminal. You can use many editors for this: vim, emacs, etc. We will use `nano`. It is pretty simple.\n",
    "\n",
    "    nano ~/.bashrc\n",
    "    \n",
    "This will open the .bashrc file in your terminal. Use the arrows or page down to get to the end of the file. Add exactly this text (no leading spaces):\n",
    "\n",
    "    export PATH=$PATH:~/bin\n",
    "    # END\n",
    "    \n",
    "Then type C-o RET to save and write the file, then C-x to exit.\n",
    "    \n",
    "Run this command to check that the text you added is there.\n",
    "    \n",
    "    cat ~/.bashrc\n",
    "    \n",
    "We still have to load the file in this terminal session. Do that here to check for errors. If you get no output, there is no error.\n",
    "    \n",
    "    source ~/.bashrc\n",
    "    \n",
    "Finally, echo the $PATH to see if your directory got added. Now, any executable files you add to ~/bin will be on your path, and available as commands.   \n",
    "    \n",
    "\n"
   ]
  },
  {
   "cell_type": "markdown",
   "id": "627ca930-c50a-4422-a15a-900cf4a54350",
   "metadata": {},
   "source": [
    "# Do I have to learn the shell?\n",
    "\n",
    "Sort of. Eventually you land in it when developing software. It is eventually where you install and uninstall software, and every software package runs in a shell somewhere. So you have to understand some things about the shell to know how software works.\n",
    "\n",
    "Personally, I limit the way I use shell commands. Where practical, I write short shell scripts to document\n",
    "\n"
   ]
  },
  {
   "cell_type": "code",
   "execution_count": 10,
   "id": "b3ed8735-5e7c-4de5-859b-f937c273b1ef",
   "metadata": {},
   "outputs": [
    {
     "name": "stdout",
     "output_type": "stream",
     "text": [
      "00-introduction-terminals.ipynb\n"
     ]
    }
   ],
   "source": [
    "! ls \n"
   ]
  }
 ],
 "metadata": {
  "kernelspec": {
   "display_name": "Python 3",
   "language": "python",
   "name": "python3"
  },
  "language_info": {
   "codemirror_mode": {
    "name": "ipython",
    "version": 3
   },
   "file_extension": ".py",
   "mimetype": "text/x-python",
   "name": "python",
   "nbconvert_exporter": "python",
   "pygments_lexer": "ipython3",
   "version": "3.9.7"
  },
  "widgets": {
   "application/vnd.jupyter.widget-state+json": {
    "state": {},
    "version_major": 2,
    "version_minor": 0
   }
  }
 },
 "nbformat": 4,
 "nbformat_minor": 5
}
